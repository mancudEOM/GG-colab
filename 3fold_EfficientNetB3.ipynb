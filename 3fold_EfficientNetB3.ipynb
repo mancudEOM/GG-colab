{
  "nbformat": 4,
  "nbformat_minor": 0,
  "metadata": {
    "colab": {
      "provenance": [],
      "toc_visible": true,
      "mount_file_id": "1dgz0pDnuhyZ-piIp1X72Xi4zwPvBkb2h",
      "authorship_tag": "ABX9TyPIHNzan+tn9MP6h78clhGg",
      "include_colab_link": true
    },
    "kernelspec": {
      "name": "python3",
      "display_name": "Python 3"
    },
    "language_info": {
      "name": "python"
    },
    "accelerator": "GPU",
    "gpuClass": "standard"
  },
  "cells": [
    {
      "cell_type": "markdown",
      "metadata": {
        "id": "view-in-github",
        "colab_type": "text"
      },
      "source": [
        "<a href=\"https://colab.research.google.com/github/mancudEOM/GG-colab/blob/main/3fold_EfficientNetB3.ipynb\" target=\"_parent\"><img src=\"https://colab.research.google.com/assets/colab-badge.svg\" alt=\"Open In Colab\"/></a>"
      ]
    },
    {
      "cell_type": "code",
      "execution_count": 1,
      "metadata": {
        "id": "re2cPhu8Glvf",
        "colab": {
          "base_uri": "https://localhost:8080/"
        },
        "outputId": "6fbe0a53-628c-4f12-e4d4-3d2b56ed8965"
      },
      "outputs": [
        {
          "output_type": "stream",
          "name": "stdout",
          "text": [
            "Mounted at /content/drive\n"
          ]
        }
      ],
      "source": [
        "  from google.colab import drive\n",
        "  drive.mount('/content/drive')\n",
        "\n"
      ]
    },
    {
      "cell_type": "code",
      "source": [
        "  !ls\n"
      ],
      "metadata": {
        "id": "16aNt0njGqgR",
        "colab": {
          "base_uri": "https://localhost:8080/"
        },
        "outputId": "76b64bb0-e59c-47d8-bb8c-fee927db7eca"
      },
      "execution_count": 2,
      "outputs": [
        {
          "output_type": "stream",
          "name": "stdout",
          "text": [
            "drive  sample_data\n"
          ]
        }
      ]
    },
    {
      "cell_type": "code",
      "source": [
        "  import sys\n",
        "  root_path = '/content/drive/My Drive/Segmented Medicinal Leaf Images/' # This is the path to where in google drive the code is stored!\n",
        "  sys.path.append(root_path)"
      ],
      "metadata": {
        "id": "6kpNIXuzGskg"
      },
      "execution_count": 3,
      "outputs": []
    },
    {
      "cell_type": "markdown",
      "source": [
        "# THÊM TẤT CẢ CÁC THƯ VIỆN CẦN THIẾT"
      ],
      "metadata": {
        "id": "qMNSUzIxL7JZ"
      }
    },
    {
      "cell_type": "code",
      "source": [
        "import numpy as np\n",
        "from sklearn.metrics import accuracy_score, f1_score, precision_score, confusion_matrix\n",
        "from sklearn.model_selection import StratifiedKFold\n",
        "from PIL import Image\n",
        "import random\n",
        "import tensorflow as tf\n",
        "from tensorflow.keras.models import Sequential\n",
        "from keras.preprocessing.image import ImageDataGenerator\n",
        "from tensorflow.keras.preprocessing.image import ImageDataGenerator\n",
        "from tensorflow.keras.layers import Dense, Dropout, Flatten, Conv2D, MaxPooling2D\n",
        "\n",
        "from tensorflow.compat.v1 import ConfigProto\n",
        "from tensorflow.compat.v1 import InteractiveSession\n",
        "import warnings\n",
        "import os\n",
        "import shutil\n",
        "from PIL import ImageFile\n",
        "warnings.simplefilter('error', Image.DecompressionBombWarning)\n",
        "ImageFile.LOAD_TRUNCATED_IMAGES = True\n",
        "Image.MAX_IMAGE_PIXELS = 1000000000\n",
        "config = ConfigProto()\n",
        "config.gpu_options.allow_growth = True\n",
        "session = InteractiveSession(config=config)"
      ],
      "metadata": {
        "id": "NJq2Vm2hHTWR"
      },
      "execution_count": 4,
      "outputs": []
    },
    {
      "cell_type": "markdown",
      "source": [
        "# Khởi tạo các biến cần thiết"
      ],
      "metadata": {
        "id": "QYpc-VdEMGBS"
      }
    },
    {
      "cell_type": "code",
      "source": [
        "datasetFolderName=root_path+'dataset'\n",
        "MODEL_FILENAME=root_path+\"model_cv.h5\"\n",
        "sourceFiles=[]\n",
        "classLabels=['Alpinia Galanga (Rasna)','Amaranthus Viridis (Arive-Dantu)','Artocarpus Heterophyllus (Jackfruit)',\n",
        "'Azadirachta Indica (Neem)','Basella Alba (Basale)','Brassica Juncea (Indian Mustard)',\n",
        "'Carissa Carandas (Karanda)','Citrus Limon (Lemon)','Ficus Auriculata (Roxburgh fig)',\n",
        "'Ficus Religiosa (Peepal Tree)','Hibiscus Rosa-sinensis','Jasminum (Jasmine)',\n",
        "'Mangifera Indica (Mango)','Mentha (Mint)','Moringa Oleifera (Drumstick)',\n",
        "'Muntingia Calabura (Jamaica Cherry-Gasagase)','Murraya Koenigii (Curry)','Nerium Oleander (Oleander)',\n",
        "'Nyctanthes Arbor-tristis (Parijata)','Ocimum Tenuiflorum (Tulsi)','Piper Betle (Betel)',\n",
        "'Plectranthus Amboinicus (Mexican Mint)','Pongamia Pinnata (Indian Beech)','Psidium Guajava (Guava)',\n",
        "'Punica Granatum (Pomegranate)','Santalum Album (Sandalwood)','Syzygium Cumini (Jamun)',\n",
        "'Syzygium Jambos (Rose Apple)','Tabernaemontana Divaricata (Crape Jasmine)','Trigonella Foenum-graecum (Fenugreek)']\n",
        "X=[]\n",
        "Y=[]\n",
        "\n",
        "img_rows, img_cols =  224, 224 \n",
        "# input image dimensions\n",
        "#img_rows, img_cols =  224, 224 # input image dimensions\n",
        "train_path=datasetFolderName+'/train/'\n",
        "validation_path=datasetFolderName+'/validation/'\n",
        "test_path=datasetFolderName+'/test/'"
      ],
      "metadata": {
        "id": "iCy2O5d9Jxq6"
      },
      "execution_count": 5,
      "outputs": []
    },
    {
      "cell_type": "markdown",
      "source": [
        "# KFOLD train-test-validation"
      ],
      "metadata": {
        "id": "LyAnSQTbMblZ"
      }
    },
    {
      "cell_type": "code",
      "source": [
        "def transferBetweenFolders(source, dest, splitRate): \n",
        "    global sourceFiles\n",
        "    sourceFiles=os.listdir(source)\n",
        "    if(len(sourceFiles)!=0):\n",
        "        transferFileNumbers=int(len(sourceFiles)*splitRate)\n",
        "        transferIndex=random.sample(range(0, len(sourceFiles)), transferFileNumbers)\n",
        "        for eachIndex in transferIndex:\n",
        "            shutil.move(source+str(sourceFiles[eachIndex]), dest+str(sourceFiles[eachIndex]))\n",
        "    else:\n",
        "        print(\"No file moved. Source empty!\")\n",
        "        \n",
        "def transferAllClassBetweenFolders(source, dest, splitRate):\n",
        "    for label in classLabels:\n",
        "        transferBetweenFolders(datasetFolderName+'/'+source+'/'+label+'/', \n",
        "                               datasetFolderName+'/'+dest+'/'+label+'/', \n",
        "                               splitRate)"
      ],
      "metadata": {
        "id": "RgfHPIHbJ4rR"
      },
      "execution_count": 6,
      "outputs": []
    },
    {
      "cell_type": "code",
      "source": [
        "transferAllClassBetweenFolders('test', 'train', 1.0)"
      ],
      "metadata": {
        "id": "stSX_AiNKleb",
        "colab": {
          "base_uri": "https://localhost:8080/"
        },
        "outputId": "5215d2ad-f6ca-48bf-bec0-112bd2c77e11"
      },
      "execution_count": 7,
      "outputs": [
        {
          "output_type": "stream",
          "name": "stdout",
          "text": [
            "No file moved. Source empty!\n",
            "No file moved. Source empty!\n",
            "No file moved. Source empty!\n",
            "No file moved. Source empty!\n",
            "No file moved. Source empty!\n",
            "No file moved. Source empty!\n",
            "No file moved. Source empty!\n",
            "No file moved. Source empty!\n",
            "No file moved. Source empty!\n",
            "No file moved. Source empty!\n",
            "No file moved. Source empty!\n",
            "No file moved. Source empty!\n",
            "No file moved. Source empty!\n",
            "No file moved. Source empty!\n",
            "No file moved. Source empty!\n",
            "No file moved. Source empty!\n",
            "No file moved. Source empty!\n",
            "No file moved. Source empty!\n",
            "No file moved. Source empty!\n",
            "No file moved. Source empty!\n",
            "No file moved. Source empty!\n",
            "No file moved. Source empty!\n",
            "No file moved. Source empty!\n",
            "No file moved. Source empty!\n",
            "No file moved. Source empty!\n",
            "No file moved. Source empty!\n",
            "No file moved. Source empty!\n",
            "No file moved. Source empty!\n",
            "No file moved. Source empty!\n",
            "No file moved. Source empty!\n"
          ]
        }
      ]
    },
    {
      "cell_type": "code",
      "source": [
        "transferAllClassBetweenFolders('validation', 'train', 1.0)"
      ],
      "metadata": {
        "id": "Z6o8gWE-N-rq"
      },
      "execution_count": 8,
      "outputs": []
    },
    {
      "cell_type": "code",
      "source": [
        "#transferAllClassBetweenFolders('train', 'test', 0.20)"
      ],
      "metadata": {
        "id": "arE4ro1JKqIh"
      },
      "execution_count": 9,
      "outputs": []
    },
    {
      "cell_type": "code",
      "source": [
        "def prepareNameWithLabels(folderName):\n",
        "    sourceFiles=os.listdir(datasetFolderName+'/train/'+folderName)\n",
        "    for val in sourceFiles:\n",
        "        X.append(val)\n",
        "        for i in range(len(classLabels)):\n",
        "          if(folderName==classLabels[i]):\n",
        "              Y.append(i)"
      ],
      "metadata": {
        "id": "73VhRSA2K0fp"
      },
      "execution_count": 10,
      "outputs": []
    },
    {
      "cell_type": "code",
      "source": [
        "# Organize file names and class labels in X and Y variables\n",
        "for i in range(len(classLabels)):\n",
        "  prepareNameWithLabels(classLabels[i])"
      ],
      "metadata": {
        "id": "u6pP6P3YK2Ub"
      },
      "execution_count": 11,
      "outputs": []
    },
    {
      "cell_type": "code",
      "source": [
        "X=np.asarray(X)\n",
        "Y=np.asarray(Y)"
      ],
      "metadata": {
        "id": "WZHmT5JgK3xa"
      },
      "execution_count": 12,
      "outputs": []
    },
    {
      "cell_type": "code",
      "source": [
        "print(X)\n",
        "print(Y)"
      ],
      "metadata": {
        "id": "MzTCDvyoM28y",
        "colab": {
          "base_uri": "https://localhost:8080/"
        },
        "outputId": "e12bdda6-d02a-46a7-bfd2-b80dcf5a629f"
      },
      "execution_count": 13,
      "outputs": [
        {
          "output_type": "stream",
          "name": "stdout",
          "text": [
            "['AG-S-003.jpg' 'AG-S-027.jpg' 'AG-S-023.jpg' ... 'TF-S-030.jpg'\n",
            " 'TF-S-020.jpg' 'TF-S-036.jpg']\n",
            "[ 0  0  0 ... 29 29 29]\n"
          ]
        }
      ]
    },
    {
      "cell_type": "code",
      "source": [
        "batch_size = 64\n",
        "IMG_SIZE = (224, 224, 3)\n",
        "number_of_class_labels = len(classLabels)"
      ],
      "metadata": {
        "id": "WtnpSQSxX-67"
      },
      "execution_count": 14,
      "outputs": []
    },
    {
      "cell_type": "code",
      "source": [
        "import tensorflow.keras as keras"
      ],
      "metadata": {
        "id": "OKucCyffZ5cD"
      },
      "execution_count": 15,
      "outputs": []
    },
    {
      "cell_type": "code",
      "source": [
        "# Create a data augmentation stage with horizontal flipping, rotations, zooms\n",
        "data_augmentation = keras.Sequential(\n",
        "    [\n",
        "        keras.layers.Rescaling(1./ 255),\n",
        "        keras.layers.RandomFlip(),\n",
        "        keras.layers.RandomRotation(0.2),\n",
        "        keras.layers.RandomZoom(0.2,0.3)\n",
        "    ]\n",
        ")"
      ],
      "metadata": {
        "id": "zWFE6eJxZvCD"
      },
      "execution_count": 16,
      "outputs": []
    },
    {
      "cell_type": "code",
      "source": [
        "#ResNet50V2 layers except for the last global average pooling and final dense layer.\n",
        "#pre_trained_layers = keras.applications.ResNet50V2(weights=\"imagenet\", include_top=False,\n",
        " #          input_tensor=keras.Input(shape=IMG_SIZE))"
      ],
      "metadata": {
        "id": "A929RzhDZ7wR"
      },
      "execution_count": 17,
      "outputs": []
    },
    {
      "cell_type": "code",
      "source": [
        "\n",
        "#pre_trained_layers = keras.applications.Xception(weights=\"imagenet\", include_top=False,\n",
        "#         input_tensor=keras.Input(shape=IMG_SIZE))"
      ],
      "metadata": {
        "id": "wbD80LCePblH"
      },
      "execution_count": 18,
      "outputs": []
    },
    {
      "cell_type": "code",
      "source": [
        "pre_trained_layers = tf.keras.applications.EfficientNetB3(weights=\"imagenet\", include_top=False,\n",
        "           input_tensor=keras.Input(shape=IMG_SIZE))"
      ],
      "metadata": {
        "id": "kFkcL4A1JffX",
        "outputId": "1b0dc71f-3406-4e3f-ce80-f966308f1c73",
        "colab": {
          "base_uri": "https://localhost:8080/"
        }
      },
      "execution_count": 19,
      "outputs": [
        {
          "output_type": "stream",
          "name": "stdout",
          "text": [
            "Downloading data from https://storage.googleapis.com/keras-applications/efficientnetb3_notop.h5\n",
            "43941136/43941136 [==============================] - 0s 0us/step\n"
          ]
        }
      ]
    },
    {
      "cell_type": "code",
      "source": [
        "pre_trained_layers.summary()"
      ],
      "metadata": {
        "id": "V-K3rsDLaLWL",
        "colab": {
          "base_uri": "https://localhost:8080/"
        },
        "outputId": "15b05b70-6e17-4267-f4f5-2a9a32203022"
      },
      "execution_count": 20,
      "outputs": [
        {
          "output_type": "stream",
          "name": "stdout",
          "text": [
            "Model: \"efficientnetb3\"\n",
            "__________________________________________________________________________________________________\n",
            " Layer (type)                   Output Shape         Param #     Connected to                     \n",
            "==================================================================================================\n",
            " input_1 (InputLayer)           [(None, 224, 224, 3  0           []                               \n",
            "                                )]                                                                \n",
            "                                                                                                  \n",
            " rescaling_1 (Rescaling)        (None, 224, 224, 3)  0           ['input_1[0][0]']                \n",
            "                                                                                                  \n",
            " normalization (Normalization)  (None, 224, 224, 3)  7           ['rescaling_1[0][0]']            \n",
            "                                                                                                  \n",
            " rescaling_2 (Rescaling)        (None, 224, 224, 3)  0           ['normalization[0][0]']          \n",
            "                                                                                                  \n",
            " stem_conv_pad (ZeroPadding2D)  (None, 225, 225, 3)  0           ['rescaling_2[0][0]']            \n",
            "                                                                                                  \n",
            " stem_conv (Conv2D)             (None, 112, 112, 40  1080        ['stem_conv_pad[0][0]']          \n",
            "                                )                                                                 \n",
            "                                                                                                  \n",
            " stem_bn (BatchNormalization)   (None, 112, 112, 40  160         ['stem_conv[0][0]']              \n",
            "                                )                                                                 \n",
            "                                                                                                  \n",
            " stem_activation (Activation)   (None, 112, 112, 40  0           ['stem_bn[0][0]']                \n",
            "                                )                                                                 \n",
            "                                                                                                  \n",
            " block1a_dwconv (DepthwiseConv2  (None, 112, 112, 40  360        ['stem_activation[0][0]']        \n",
            " D)                             )                                                                 \n",
            "                                                                                                  \n",
            " block1a_bn (BatchNormalization  (None, 112, 112, 40  160        ['block1a_dwconv[0][0]']         \n",
            " )                              )                                                                 \n",
            "                                                                                                  \n",
            " block1a_activation (Activation  (None, 112, 112, 40  0          ['block1a_bn[0][0]']             \n",
            " )                              )                                                                 \n",
            "                                                                                                  \n",
            " block1a_se_squeeze (GlobalAver  (None, 40)          0           ['block1a_activation[0][0]']     \n",
            " agePooling2D)                                                                                    \n",
            "                                                                                                  \n",
            " block1a_se_reshape (Reshape)   (None, 1, 1, 40)     0           ['block1a_se_squeeze[0][0]']     \n",
            "                                                                                                  \n",
            " block1a_se_reduce (Conv2D)     (None, 1, 1, 10)     410         ['block1a_se_reshape[0][0]']     \n",
            "                                                                                                  \n",
            " block1a_se_expand (Conv2D)     (None, 1, 1, 40)     440         ['block1a_se_reduce[0][0]']      \n",
            "                                                                                                  \n",
            " block1a_se_excite (Multiply)   (None, 112, 112, 40  0           ['block1a_activation[0][0]',     \n",
            "                                )                                 'block1a_se_expand[0][0]']      \n",
            "                                                                                                  \n",
            " block1a_project_conv (Conv2D)  (None, 112, 112, 24  960         ['block1a_se_excite[0][0]']      \n",
            "                                )                                                                 \n",
            "                                                                                                  \n",
            " block1a_project_bn (BatchNorma  (None, 112, 112, 24  96         ['block1a_project_conv[0][0]']   \n",
            " lization)                      )                                                                 \n",
            "                                                                                                  \n",
            " block1b_dwconv (DepthwiseConv2  (None, 112, 112, 24  216        ['block1a_project_bn[0][0]']     \n",
            " D)                             )                                                                 \n",
            "                                                                                                  \n",
            " block1b_bn (BatchNormalization  (None, 112, 112, 24  96         ['block1b_dwconv[0][0]']         \n",
            " )                              )                                                                 \n",
            "                                                                                                  \n",
            " block1b_activation (Activation  (None, 112, 112, 24  0          ['block1b_bn[0][0]']             \n",
            " )                              )                                                                 \n",
            "                                                                                                  \n",
            " block1b_se_squeeze (GlobalAver  (None, 24)          0           ['block1b_activation[0][0]']     \n",
            " agePooling2D)                                                                                    \n",
            "                                                                                                  \n",
            " block1b_se_reshape (Reshape)   (None, 1, 1, 24)     0           ['block1b_se_squeeze[0][0]']     \n",
            "                                                                                                  \n",
            " block1b_se_reduce (Conv2D)     (None, 1, 1, 6)      150         ['block1b_se_reshape[0][0]']     \n",
            "                                                                                                  \n",
            " block1b_se_expand (Conv2D)     (None, 1, 1, 24)     168         ['block1b_se_reduce[0][0]']      \n",
            "                                                                                                  \n",
            " block1b_se_excite (Multiply)   (None, 112, 112, 24  0           ['block1b_activation[0][0]',     \n",
            "                                )                                 'block1b_se_expand[0][0]']      \n",
            "                                                                                                  \n",
            " block1b_project_conv (Conv2D)  (None, 112, 112, 24  576         ['block1b_se_excite[0][0]']      \n",
            "                                )                                                                 \n",
            "                                                                                                  \n",
            " block1b_project_bn (BatchNorma  (None, 112, 112, 24  96         ['block1b_project_conv[0][0]']   \n",
            " lization)                      )                                                                 \n",
            "                                                                                                  \n",
            " block1b_drop (Dropout)         (None, 112, 112, 24  0           ['block1b_project_bn[0][0]']     \n",
            "                                )                                                                 \n",
            "                                                                                                  \n",
            " block1b_add (Add)              (None, 112, 112, 24  0           ['block1b_drop[0][0]',           \n",
            "                                )                                 'block1a_project_bn[0][0]']     \n",
            "                                                                                                  \n",
            " block2a_expand_conv (Conv2D)   (None, 112, 112, 14  3456        ['block1b_add[0][0]']            \n",
            "                                4)                                                                \n",
            "                                                                                                  \n",
            " block2a_expand_bn (BatchNormal  (None, 112, 112, 14  576        ['block2a_expand_conv[0][0]']    \n",
            " ization)                       4)                                                                \n",
            "                                                                                                  \n",
            " block2a_expand_activation (Act  (None, 112, 112, 14  0          ['block2a_expand_bn[0][0]']      \n",
            " ivation)                       4)                                                                \n",
            "                                                                                                  \n",
            " block2a_dwconv_pad (ZeroPaddin  (None, 113, 113, 14  0          ['block2a_expand_activation[0][0]\n",
            " g2D)                           4)                               ']                               \n",
            "                                                                                                  \n",
            " block2a_dwconv (DepthwiseConv2  (None, 56, 56, 144)  1296       ['block2a_dwconv_pad[0][0]']     \n",
            " D)                                                                                               \n",
            "                                                                                                  \n",
            " block2a_bn (BatchNormalization  (None, 56, 56, 144)  576        ['block2a_dwconv[0][0]']         \n",
            " )                                                                                                \n",
            "                                                                                                  \n",
            " block2a_activation (Activation  (None, 56, 56, 144)  0          ['block2a_bn[0][0]']             \n",
            " )                                                                                                \n",
            "                                                                                                  \n",
            " block2a_se_squeeze (GlobalAver  (None, 144)         0           ['block2a_activation[0][0]']     \n",
            " agePooling2D)                                                                                    \n",
            "                                                                                                  \n",
            " block2a_se_reshape (Reshape)   (None, 1, 1, 144)    0           ['block2a_se_squeeze[0][0]']     \n",
            "                                                                                                  \n",
            " block2a_se_reduce (Conv2D)     (None, 1, 1, 6)      870         ['block2a_se_reshape[0][0]']     \n",
            "                                                                                                  \n",
            " block2a_se_expand (Conv2D)     (None, 1, 1, 144)    1008        ['block2a_se_reduce[0][0]']      \n",
            "                                                                                                  \n",
            " block2a_se_excite (Multiply)   (None, 56, 56, 144)  0           ['block2a_activation[0][0]',     \n",
            "                                                                  'block2a_se_expand[0][0]']      \n",
            "                                                                                                  \n",
            " block2a_project_conv (Conv2D)  (None, 56, 56, 32)   4608        ['block2a_se_excite[0][0]']      \n",
            "                                                                                                  \n",
            " block2a_project_bn (BatchNorma  (None, 56, 56, 32)  128         ['block2a_project_conv[0][0]']   \n",
            " lization)                                                                                        \n",
            "                                                                                                  \n",
            " block2b_expand_conv (Conv2D)   (None, 56, 56, 192)  6144        ['block2a_project_bn[0][0]']     \n",
            "                                                                                                  \n",
            " block2b_expand_bn (BatchNormal  (None, 56, 56, 192)  768        ['block2b_expand_conv[0][0]']    \n",
            " ization)                                                                                         \n",
            "                                                                                                  \n",
            " block2b_expand_activation (Act  (None, 56, 56, 192)  0          ['block2b_expand_bn[0][0]']      \n",
            " ivation)                                                                                         \n",
            "                                                                                                  \n",
            " block2b_dwconv (DepthwiseConv2  (None, 56, 56, 192)  1728       ['block2b_expand_activation[0][0]\n",
            " D)                                                              ']                               \n",
            "                                                                                                  \n",
            " block2b_bn (BatchNormalization  (None, 56, 56, 192)  768        ['block2b_dwconv[0][0]']         \n",
            " )                                                                                                \n",
            "                                                                                                  \n",
            " block2b_activation (Activation  (None, 56, 56, 192)  0          ['block2b_bn[0][0]']             \n",
            " )                                                                                                \n",
            "                                                                                                  \n",
            " block2b_se_squeeze (GlobalAver  (None, 192)         0           ['block2b_activation[0][0]']     \n",
            " agePooling2D)                                                                                    \n",
            "                                                                                                  \n",
            " block2b_se_reshape (Reshape)   (None, 1, 1, 192)    0           ['block2b_se_squeeze[0][0]']     \n",
            "                                                                                                  \n",
            " block2b_se_reduce (Conv2D)     (None, 1, 1, 8)      1544        ['block2b_se_reshape[0][0]']     \n",
            "                                                                                                  \n",
            " block2b_se_expand (Conv2D)     (None, 1, 1, 192)    1728        ['block2b_se_reduce[0][0]']      \n",
            "                                                                                                  \n",
            " block2b_se_excite (Multiply)   (None, 56, 56, 192)  0           ['block2b_activation[0][0]',     \n",
            "                                                                  'block2b_se_expand[0][0]']      \n",
            "                                                                                                  \n",
            " block2b_project_conv (Conv2D)  (None, 56, 56, 32)   6144        ['block2b_se_excite[0][0]']      \n",
            "                                                                                                  \n",
            " block2b_project_bn (BatchNorma  (None, 56, 56, 32)  128         ['block2b_project_conv[0][0]']   \n",
            " lization)                                                                                        \n",
            "                                                                                                  \n",
            " block2b_drop (Dropout)         (None, 56, 56, 32)   0           ['block2b_project_bn[0][0]']     \n",
            "                                                                                                  \n",
            " block2b_add (Add)              (None, 56, 56, 32)   0           ['block2b_drop[0][0]',           \n",
            "                                                                  'block2a_project_bn[0][0]']     \n",
            "                                                                                                  \n",
            " block2c_expand_conv (Conv2D)   (None, 56, 56, 192)  6144        ['block2b_add[0][0]']            \n",
            "                                                                                                  \n",
            " block2c_expand_bn (BatchNormal  (None, 56, 56, 192)  768        ['block2c_expand_conv[0][0]']    \n",
            " ization)                                                                                         \n",
            "                                                                                                  \n",
            " block2c_expand_activation (Act  (None, 56, 56, 192)  0          ['block2c_expand_bn[0][0]']      \n",
            " ivation)                                                                                         \n",
            "                                                                                                  \n",
            " block2c_dwconv (DepthwiseConv2  (None, 56, 56, 192)  1728       ['block2c_expand_activation[0][0]\n",
            " D)                                                              ']                               \n",
            "                                                                                                  \n",
            " block2c_bn (BatchNormalization  (None, 56, 56, 192)  768        ['block2c_dwconv[0][0]']         \n",
            " )                                                                                                \n",
            "                                                                                                  \n",
            " block2c_activation (Activation  (None, 56, 56, 192)  0          ['block2c_bn[0][0]']             \n",
            " )                                                                                                \n",
            "                                                                                                  \n",
            " block2c_se_squeeze (GlobalAver  (None, 192)         0           ['block2c_activation[0][0]']     \n",
            " agePooling2D)                                                                                    \n",
            "                                                                                                  \n",
            " block2c_se_reshape (Reshape)   (None, 1, 1, 192)    0           ['block2c_se_squeeze[0][0]']     \n",
            "                                                                                                  \n",
            " block2c_se_reduce (Conv2D)     (None, 1, 1, 8)      1544        ['block2c_se_reshape[0][0]']     \n",
            "                                                                                                  \n",
            " block2c_se_expand (Conv2D)     (None, 1, 1, 192)    1728        ['block2c_se_reduce[0][0]']      \n",
            "                                                                                                  \n",
            " block2c_se_excite (Multiply)   (None, 56, 56, 192)  0           ['block2c_activation[0][0]',     \n",
            "                                                                  'block2c_se_expand[0][0]']      \n",
            "                                                                                                  \n",
            " block2c_project_conv (Conv2D)  (None, 56, 56, 32)   6144        ['block2c_se_excite[0][0]']      \n",
            "                                                                                                  \n",
            " block2c_project_bn (BatchNorma  (None, 56, 56, 32)  128         ['block2c_project_conv[0][0]']   \n",
            " lization)                                                                                        \n",
            "                                                                                                  \n",
            " block2c_drop (Dropout)         (None, 56, 56, 32)   0           ['block2c_project_bn[0][0]']     \n",
            "                                                                                                  \n",
            " block2c_add (Add)              (None, 56, 56, 32)   0           ['block2c_drop[0][0]',           \n",
            "                                                                  'block2b_add[0][0]']            \n",
            "                                                                                                  \n",
            " block3a_expand_conv (Conv2D)   (None, 56, 56, 192)  6144        ['block2c_add[0][0]']            \n",
            "                                                                                                  \n",
            " block3a_expand_bn (BatchNormal  (None, 56, 56, 192)  768        ['block3a_expand_conv[0][0]']    \n",
            " ization)                                                                                         \n",
            "                                                                                                  \n",
            " block3a_expand_activation (Act  (None, 56, 56, 192)  0          ['block3a_expand_bn[0][0]']      \n",
            " ivation)                                                                                         \n",
            "                                                                                                  \n",
            " block3a_dwconv_pad (ZeroPaddin  (None, 59, 59, 192)  0          ['block3a_expand_activation[0][0]\n",
            " g2D)                                                            ']                               \n",
            "                                                                                                  \n",
            " block3a_dwconv (DepthwiseConv2  (None, 28, 28, 192)  4800       ['block3a_dwconv_pad[0][0]']     \n",
            " D)                                                                                               \n",
            "                                                                                                  \n",
            " block3a_bn (BatchNormalization  (None, 28, 28, 192)  768        ['block3a_dwconv[0][0]']         \n",
            " )                                                                                                \n",
            "                                                                                                  \n",
            " block3a_activation (Activation  (None, 28, 28, 192)  0          ['block3a_bn[0][0]']             \n",
            " )                                                                                                \n",
            "                                                                                                  \n",
            " block3a_se_squeeze (GlobalAver  (None, 192)         0           ['block3a_activation[0][0]']     \n",
            " agePooling2D)                                                                                    \n",
            "                                                                                                  \n",
            " block3a_se_reshape (Reshape)   (None, 1, 1, 192)    0           ['block3a_se_squeeze[0][0]']     \n",
            "                                                                                                  \n",
            " block3a_se_reduce (Conv2D)     (None, 1, 1, 8)      1544        ['block3a_se_reshape[0][0]']     \n",
            "                                                                                                  \n",
            " block3a_se_expand (Conv2D)     (None, 1, 1, 192)    1728        ['block3a_se_reduce[0][0]']      \n",
            "                                                                                                  \n",
            " block3a_se_excite (Multiply)   (None, 28, 28, 192)  0           ['block3a_activation[0][0]',     \n",
            "                                                                  'block3a_se_expand[0][0]']      \n",
            "                                                                                                  \n",
            " block3a_project_conv (Conv2D)  (None, 28, 28, 48)   9216        ['block3a_se_excite[0][0]']      \n",
            "                                                                                                  \n",
            " block3a_project_bn (BatchNorma  (None, 28, 28, 48)  192         ['block3a_project_conv[0][0]']   \n",
            " lization)                                                                                        \n",
            "                                                                                                  \n",
            " block3b_expand_conv (Conv2D)   (None, 28, 28, 288)  13824       ['block3a_project_bn[0][0]']     \n",
            "                                                                                                  \n",
            " block3b_expand_bn (BatchNormal  (None, 28, 28, 288)  1152       ['block3b_expand_conv[0][0]']    \n",
            " ization)                                                                                         \n",
            "                                                                                                  \n",
            " block3b_expand_activation (Act  (None, 28, 28, 288)  0          ['block3b_expand_bn[0][0]']      \n",
            " ivation)                                                                                         \n",
            "                                                                                                  \n",
            " block3b_dwconv (DepthwiseConv2  (None, 28, 28, 288)  7200       ['block3b_expand_activation[0][0]\n",
            " D)                                                              ']                               \n",
            "                                                                                                  \n",
            " block3b_bn (BatchNormalization  (None, 28, 28, 288)  1152       ['block3b_dwconv[0][0]']         \n",
            " )                                                                                                \n",
            "                                                                                                  \n",
            " block3b_activation (Activation  (None, 28, 28, 288)  0          ['block3b_bn[0][0]']             \n",
            " )                                                                                                \n",
            "                                                                                                  \n",
            " block3b_se_squeeze (GlobalAver  (None, 288)         0           ['block3b_activation[0][0]']     \n",
            " agePooling2D)                                                                                    \n",
            "                                                                                                  \n",
            " block3b_se_reshape (Reshape)   (None, 1, 1, 288)    0           ['block3b_se_squeeze[0][0]']     \n",
            "                                                                                                  \n",
            " block3b_se_reduce (Conv2D)     (None, 1, 1, 12)     3468        ['block3b_se_reshape[0][0]']     \n",
            "                                                                                                  \n",
            " block3b_se_expand (Conv2D)     (None, 1, 1, 288)    3744        ['block3b_se_reduce[0][0]']      \n",
            "                                                                                                  \n",
            " block3b_se_excite (Multiply)   (None, 28, 28, 288)  0           ['block3b_activation[0][0]',     \n",
            "                                                                  'block3b_se_expand[0][0]']      \n",
            "                                                                                                  \n",
            " block3b_project_conv (Conv2D)  (None, 28, 28, 48)   13824       ['block3b_se_excite[0][0]']      \n",
            "                                                                                                  \n",
            " block3b_project_bn (BatchNorma  (None, 28, 28, 48)  192         ['block3b_project_conv[0][0]']   \n",
            " lization)                                                                                        \n",
            "                                                                                                  \n",
            " block3b_drop (Dropout)         (None, 28, 28, 48)   0           ['block3b_project_bn[0][0]']     \n",
            "                                                                                                  \n",
            " block3b_add (Add)              (None, 28, 28, 48)   0           ['block3b_drop[0][0]',           \n",
            "                                                                  'block3a_project_bn[0][0]']     \n",
            "                                                                                                  \n",
            " block3c_expand_conv (Conv2D)   (None, 28, 28, 288)  13824       ['block3b_add[0][0]']            \n",
            "                                                                                                  \n",
            " block3c_expand_bn (BatchNormal  (None, 28, 28, 288)  1152       ['block3c_expand_conv[0][0]']    \n",
            " ization)                                                                                         \n",
            "                                                                                                  \n",
            " block3c_expand_activation (Act  (None, 28, 28, 288)  0          ['block3c_expand_bn[0][0]']      \n",
            " ivation)                                                                                         \n",
            "                                                                                                  \n",
            " block3c_dwconv (DepthwiseConv2  (None, 28, 28, 288)  7200       ['block3c_expand_activation[0][0]\n",
            " D)                                                              ']                               \n",
            "                                                                                                  \n",
            " block3c_bn (BatchNormalization  (None, 28, 28, 288)  1152       ['block3c_dwconv[0][0]']         \n",
            " )                                                                                                \n",
            "                                                                                                  \n",
            " block3c_activation (Activation  (None, 28, 28, 288)  0          ['block3c_bn[0][0]']             \n",
            " )                                                                                                \n",
            "                                                                                                  \n",
            " block3c_se_squeeze (GlobalAver  (None, 288)         0           ['block3c_activation[0][0]']     \n",
            " agePooling2D)                                                                                    \n",
            "                                                                                                  \n",
            " block3c_se_reshape (Reshape)   (None, 1, 1, 288)    0           ['block3c_se_squeeze[0][0]']     \n",
            "                                                                                                  \n",
            " block3c_se_reduce (Conv2D)     (None, 1, 1, 12)     3468        ['block3c_se_reshape[0][0]']     \n",
            "                                                                                                  \n",
            " block3c_se_expand (Conv2D)     (None, 1, 1, 288)    3744        ['block3c_se_reduce[0][0]']      \n",
            "                                                                                                  \n",
            " block3c_se_excite (Multiply)   (None, 28, 28, 288)  0           ['block3c_activation[0][0]',     \n",
            "                                                                  'block3c_se_expand[0][0]']      \n",
            "                                                                                                  \n",
            " block3c_project_conv (Conv2D)  (None, 28, 28, 48)   13824       ['block3c_se_excite[0][0]']      \n",
            "                                                                                                  \n",
            " block3c_project_bn (BatchNorma  (None, 28, 28, 48)  192         ['block3c_project_conv[0][0]']   \n",
            " lization)                                                                                        \n",
            "                                                                                                  \n",
            " block3c_drop (Dropout)         (None, 28, 28, 48)   0           ['block3c_project_bn[0][0]']     \n",
            "                                                                                                  \n",
            " block3c_add (Add)              (None, 28, 28, 48)   0           ['block3c_drop[0][0]',           \n",
            "                                                                  'block3b_add[0][0]']            \n",
            "                                                                                                  \n",
            " block4a_expand_conv (Conv2D)   (None, 28, 28, 288)  13824       ['block3c_add[0][0]']            \n",
            "                                                                                                  \n",
            " block4a_expand_bn (BatchNormal  (None, 28, 28, 288)  1152       ['block4a_expand_conv[0][0]']    \n",
            " ization)                                                                                         \n",
            "                                                                                                  \n",
            " block4a_expand_activation (Act  (None, 28, 28, 288)  0          ['block4a_expand_bn[0][0]']      \n",
            " ivation)                                                                                         \n",
            "                                                                                                  \n",
            " block4a_dwconv_pad (ZeroPaddin  (None, 29, 29, 288)  0          ['block4a_expand_activation[0][0]\n",
            " g2D)                                                            ']                               \n",
            "                                                                                                  \n",
            " block4a_dwconv (DepthwiseConv2  (None, 14, 14, 288)  2592       ['block4a_dwconv_pad[0][0]']     \n",
            " D)                                                                                               \n",
            "                                                                                                  \n",
            " block4a_bn (BatchNormalization  (None, 14, 14, 288)  1152       ['block4a_dwconv[0][0]']         \n",
            " )                                                                                                \n",
            "                                                                                                  \n",
            " block4a_activation (Activation  (None, 14, 14, 288)  0          ['block4a_bn[0][0]']             \n",
            " )                                                                                                \n",
            "                                                                                                  \n",
            " block4a_se_squeeze (GlobalAver  (None, 288)         0           ['block4a_activation[0][0]']     \n",
            " agePooling2D)                                                                                    \n",
            "                                                                                                  \n",
            " block4a_se_reshape (Reshape)   (None, 1, 1, 288)    0           ['block4a_se_squeeze[0][0]']     \n",
            "                                                                                                  \n",
            " block4a_se_reduce (Conv2D)     (None, 1, 1, 12)     3468        ['block4a_se_reshape[0][0]']     \n",
            "                                                                                                  \n",
            " block4a_se_expand (Conv2D)     (None, 1, 1, 288)    3744        ['block4a_se_reduce[0][0]']      \n",
            "                                                                                                  \n",
            " block4a_se_excite (Multiply)   (None, 14, 14, 288)  0           ['block4a_activation[0][0]',     \n",
            "                                                                  'block4a_se_expand[0][0]']      \n",
            "                                                                                                  \n",
            " block4a_project_conv (Conv2D)  (None, 14, 14, 96)   27648       ['block4a_se_excite[0][0]']      \n",
            "                                                                                                  \n",
            " block4a_project_bn (BatchNorma  (None, 14, 14, 96)  384         ['block4a_project_conv[0][0]']   \n",
            " lization)                                                                                        \n",
            "                                                                                                  \n",
            " block4b_expand_conv (Conv2D)   (None, 14, 14, 576)  55296       ['block4a_project_bn[0][0]']     \n",
            "                                                                                                  \n",
            " block4b_expand_bn (BatchNormal  (None, 14, 14, 576)  2304       ['block4b_expand_conv[0][0]']    \n",
            " ization)                                                                                         \n",
            "                                                                                                  \n",
            " block4b_expand_activation (Act  (None, 14, 14, 576)  0          ['block4b_expand_bn[0][0]']      \n",
            " ivation)                                                                                         \n",
            "                                                                                                  \n",
            " block4b_dwconv (DepthwiseConv2  (None, 14, 14, 576)  5184       ['block4b_expand_activation[0][0]\n",
            " D)                                                              ']                               \n",
            "                                                                                                  \n",
            " block4b_bn (BatchNormalization  (None, 14, 14, 576)  2304       ['block4b_dwconv[0][0]']         \n",
            " )                                                                                                \n",
            "                                                                                                  \n",
            " block4b_activation (Activation  (None, 14, 14, 576)  0          ['block4b_bn[0][0]']             \n",
            " )                                                                                                \n",
            "                                                                                                  \n",
            " block4b_se_squeeze (GlobalAver  (None, 576)         0           ['block4b_activation[0][0]']     \n",
            " agePooling2D)                                                                                    \n",
            "                                                                                                  \n",
            " block4b_se_reshape (Reshape)   (None, 1, 1, 576)    0           ['block4b_se_squeeze[0][0]']     \n",
            "                                                                                                  \n",
            " block4b_se_reduce (Conv2D)     (None, 1, 1, 24)     13848       ['block4b_se_reshape[0][0]']     \n",
            "                                                                                                  \n",
            " block4b_se_expand (Conv2D)     (None, 1, 1, 576)    14400       ['block4b_se_reduce[0][0]']      \n",
            "                                                                                                  \n",
            " block4b_se_excite (Multiply)   (None, 14, 14, 576)  0           ['block4b_activation[0][0]',     \n",
            "                                                                  'block4b_se_expand[0][0]']      \n",
            "                                                                                                  \n",
            " block4b_project_conv (Conv2D)  (None, 14, 14, 96)   55296       ['block4b_se_excite[0][0]']      \n",
            "                                                                                                  \n",
            " block4b_project_bn (BatchNorma  (None, 14, 14, 96)  384         ['block4b_project_conv[0][0]']   \n",
            " lization)                                                                                        \n",
            "                                                                                                  \n",
            " block4b_drop (Dropout)         (None, 14, 14, 96)   0           ['block4b_project_bn[0][0]']     \n",
            "                                                                                                  \n",
            " block4b_add (Add)              (None, 14, 14, 96)   0           ['block4b_drop[0][0]',           \n",
            "                                                                  'block4a_project_bn[0][0]']     \n",
            "                                                                                                  \n",
            " block4c_expand_conv (Conv2D)   (None, 14, 14, 576)  55296       ['block4b_add[0][0]']            \n",
            "                                                                                                  \n",
            " block4c_expand_bn (BatchNormal  (None, 14, 14, 576)  2304       ['block4c_expand_conv[0][0]']    \n",
            " ization)                                                                                         \n",
            "                                                                                                  \n",
            " block4c_expand_activation (Act  (None, 14, 14, 576)  0          ['block4c_expand_bn[0][0]']      \n",
            " ivation)                                                                                         \n",
            "                                                                                                  \n",
            " block4c_dwconv (DepthwiseConv2  (None, 14, 14, 576)  5184       ['block4c_expand_activation[0][0]\n",
            " D)                                                              ']                               \n",
            "                                                                                                  \n",
            " block4c_bn (BatchNormalization  (None, 14, 14, 576)  2304       ['block4c_dwconv[0][0]']         \n",
            " )                                                                                                \n",
            "                                                                                                  \n",
            " block4c_activation (Activation  (None, 14, 14, 576)  0          ['block4c_bn[0][0]']             \n",
            " )                                                                                                \n",
            "                                                                                                  \n",
            " block4c_se_squeeze (GlobalAver  (None, 576)         0           ['block4c_activation[0][0]']     \n",
            " agePooling2D)                                                                                    \n",
            "                                                                                                  \n",
            " block4c_se_reshape (Reshape)   (None, 1, 1, 576)    0           ['block4c_se_squeeze[0][0]']     \n",
            "                                                                                                  \n",
            " block4c_se_reduce (Conv2D)     (None, 1, 1, 24)     13848       ['block4c_se_reshape[0][0]']     \n",
            "                                                                                                  \n",
            " block4c_se_expand (Conv2D)     (None, 1, 1, 576)    14400       ['block4c_se_reduce[0][0]']      \n",
            "                                                                                                  \n",
            " block4c_se_excite (Multiply)   (None, 14, 14, 576)  0           ['block4c_activation[0][0]',     \n",
            "                                                                  'block4c_se_expand[0][0]']      \n",
            "                                                                                                  \n",
            " block4c_project_conv (Conv2D)  (None, 14, 14, 96)   55296       ['block4c_se_excite[0][0]']      \n",
            "                                                                                                  \n",
            " block4c_project_bn (BatchNorma  (None, 14, 14, 96)  384         ['block4c_project_conv[0][0]']   \n",
            " lization)                                                                                        \n",
            "                                                                                                  \n",
            " block4c_drop (Dropout)         (None, 14, 14, 96)   0           ['block4c_project_bn[0][0]']     \n",
            "                                                                                                  \n",
            " block4c_add (Add)              (None, 14, 14, 96)   0           ['block4c_drop[0][0]',           \n",
            "                                                                  'block4b_add[0][0]']            \n",
            "                                                                                                  \n",
            " block4d_expand_conv (Conv2D)   (None, 14, 14, 576)  55296       ['block4c_add[0][0]']            \n",
            "                                                                                                  \n",
            " block4d_expand_bn (BatchNormal  (None, 14, 14, 576)  2304       ['block4d_expand_conv[0][0]']    \n",
            " ization)                                                                                         \n",
            "                                                                                                  \n",
            " block4d_expand_activation (Act  (None, 14, 14, 576)  0          ['block4d_expand_bn[0][0]']      \n",
            " ivation)                                                                                         \n",
            "                                                                                                  \n",
            " block4d_dwconv (DepthwiseConv2  (None, 14, 14, 576)  5184       ['block4d_expand_activation[0][0]\n",
            " D)                                                              ']                               \n",
            "                                                                                                  \n",
            " block4d_bn (BatchNormalization  (None, 14, 14, 576)  2304       ['block4d_dwconv[0][0]']         \n",
            " )                                                                                                \n",
            "                                                                                                  \n",
            " block4d_activation (Activation  (None, 14, 14, 576)  0          ['block4d_bn[0][0]']             \n",
            " )                                                                                                \n",
            "                                                                                                  \n",
            " block4d_se_squeeze (GlobalAver  (None, 576)         0           ['block4d_activation[0][0]']     \n",
            " agePooling2D)                                                                                    \n",
            "                                                                                                  \n",
            " block4d_se_reshape (Reshape)   (None, 1, 1, 576)    0           ['block4d_se_squeeze[0][0]']     \n",
            "                                                                                                  \n",
            " block4d_se_reduce (Conv2D)     (None, 1, 1, 24)     13848       ['block4d_se_reshape[0][0]']     \n",
            "                                                                                                  \n",
            " block4d_se_expand (Conv2D)     (None, 1, 1, 576)    14400       ['block4d_se_reduce[0][0]']      \n",
            "                                                                                                  \n",
            " block4d_se_excite (Multiply)   (None, 14, 14, 576)  0           ['block4d_activation[0][0]',     \n",
            "                                                                  'block4d_se_expand[0][0]']      \n",
            "                                                                                                  \n",
            " block4d_project_conv (Conv2D)  (None, 14, 14, 96)   55296       ['block4d_se_excite[0][0]']      \n",
            "                                                                                                  \n",
            " block4d_project_bn (BatchNorma  (None, 14, 14, 96)  384         ['block4d_project_conv[0][0]']   \n",
            " lization)                                                                                        \n",
            "                                                                                                  \n",
            " block4d_drop (Dropout)         (None, 14, 14, 96)   0           ['block4d_project_bn[0][0]']     \n",
            "                                                                                                  \n",
            " block4d_add (Add)              (None, 14, 14, 96)   0           ['block4d_drop[0][0]',           \n",
            "                                                                  'block4c_add[0][0]']            \n",
            "                                                                                                  \n",
            " block4e_expand_conv (Conv2D)   (None, 14, 14, 576)  55296       ['block4d_add[0][0]']            \n",
            "                                                                                                  \n",
            " block4e_expand_bn (BatchNormal  (None, 14, 14, 576)  2304       ['block4e_expand_conv[0][0]']    \n",
            " ization)                                                                                         \n",
            "                                                                                                  \n",
            " block4e_expand_activation (Act  (None, 14, 14, 576)  0          ['block4e_expand_bn[0][0]']      \n",
            " ivation)                                                                                         \n",
            "                                                                                                  \n",
            " block4e_dwconv (DepthwiseConv2  (None, 14, 14, 576)  5184       ['block4e_expand_activation[0][0]\n",
            " D)                                                              ']                               \n",
            "                                                                                                  \n",
            " block4e_bn (BatchNormalization  (None, 14, 14, 576)  2304       ['block4e_dwconv[0][0]']         \n",
            " )                                                                                                \n",
            "                                                                                                  \n",
            " block4e_activation (Activation  (None, 14, 14, 576)  0          ['block4e_bn[0][0]']             \n",
            " )                                                                                                \n",
            "                                                                                                  \n",
            " block4e_se_squeeze (GlobalAver  (None, 576)         0           ['block4e_activation[0][0]']     \n",
            " agePooling2D)                                                                                    \n",
            "                                                                                                  \n",
            " block4e_se_reshape (Reshape)   (None, 1, 1, 576)    0           ['block4e_se_squeeze[0][0]']     \n",
            "                                                                                                  \n",
            " block4e_se_reduce (Conv2D)     (None, 1, 1, 24)     13848       ['block4e_se_reshape[0][0]']     \n",
            "                                                                                                  \n",
            " block4e_se_expand (Conv2D)     (None, 1, 1, 576)    14400       ['block4e_se_reduce[0][0]']      \n",
            "                                                                                                  \n",
            " block4e_se_excite (Multiply)   (None, 14, 14, 576)  0           ['block4e_activation[0][0]',     \n",
            "                                                                  'block4e_se_expand[0][0]']      \n",
            "                                                                                                  \n",
            " block4e_project_conv (Conv2D)  (None, 14, 14, 96)   55296       ['block4e_se_excite[0][0]']      \n",
            "                                                                                                  \n",
            " block4e_project_bn (BatchNorma  (None, 14, 14, 96)  384         ['block4e_project_conv[0][0]']   \n",
            " lization)                                                                                        \n",
            "                                                                                                  \n",
            " block4e_drop (Dropout)         (None, 14, 14, 96)   0           ['block4e_project_bn[0][0]']     \n",
            "                                                                                                  \n",
            " block4e_add (Add)              (None, 14, 14, 96)   0           ['block4e_drop[0][0]',           \n",
            "                                                                  'block4d_add[0][0]']            \n",
            "                                                                                                  \n",
            " block5a_expand_conv (Conv2D)   (None, 14, 14, 576)  55296       ['block4e_add[0][0]']            \n",
            "                                                                                                  \n",
            " block5a_expand_bn (BatchNormal  (None, 14, 14, 576)  2304       ['block5a_expand_conv[0][0]']    \n",
            " ization)                                                                                         \n",
            "                                                                                                  \n",
            " block5a_expand_activation (Act  (None, 14, 14, 576)  0          ['block5a_expand_bn[0][0]']      \n",
            " ivation)                                                                                         \n",
            "                                                                                                  \n",
            " block5a_dwconv (DepthwiseConv2  (None, 14, 14, 576)  14400      ['block5a_expand_activation[0][0]\n",
            " D)                                                              ']                               \n",
            "                                                                                                  \n",
            " block5a_bn (BatchNormalization  (None, 14, 14, 576)  2304       ['block5a_dwconv[0][0]']         \n",
            " )                                                                                                \n",
            "                                                                                                  \n",
            " block5a_activation (Activation  (None, 14, 14, 576)  0          ['block5a_bn[0][0]']             \n",
            " )                                                                                                \n",
            "                                                                                                  \n",
            " block5a_se_squeeze (GlobalAver  (None, 576)         0           ['block5a_activation[0][0]']     \n",
            " agePooling2D)                                                                                    \n",
            "                                                                                                  \n",
            " block5a_se_reshape (Reshape)   (None, 1, 1, 576)    0           ['block5a_se_squeeze[0][0]']     \n",
            "                                                                                                  \n",
            " block5a_se_reduce (Conv2D)     (None, 1, 1, 24)     13848       ['block5a_se_reshape[0][0]']     \n",
            "                                                                                                  \n",
            " block5a_se_expand (Conv2D)     (None, 1, 1, 576)    14400       ['block5a_se_reduce[0][0]']      \n",
            "                                                                                                  \n",
            " block5a_se_excite (Multiply)   (None, 14, 14, 576)  0           ['block5a_activation[0][0]',     \n",
            "                                                                  'block5a_se_expand[0][0]']      \n",
            "                                                                                                  \n",
            " block5a_project_conv (Conv2D)  (None, 14, 14, 136)  78336       ['block5a_se_excite[0][0]']      \n",
            "                                                                                                  \n",
            " block5a_project_bn (BatchNorma  (None, 14, 14, 136)  544        ['block5a_project_conv[0][0]']   \n",
            " lization)                                                                                        \n",
            "                                                                                                  \n",
            " block5b_expand_conv (Conv2D)   (None, 14, 14, 816)  110976      ['block5a_project_bn[0][0]']     \n",
            "                                                                                                  \n",
            " block5b_expand_bn (BatchNormal  (None, 14, 14, 816)  3264       ['block5b_expand_conv[0][0]']    \n",
            " ization)                                                                                         \n",
            "                                                                                                  \n",
            " block5b_expand_activation (Act  (None, 14, 14, 816)  0          ['block5b_expand_bn[0][0]']      \n",
            " ivation)                                                                                         \n",
            "                                                                                                  \n",
            " block5b_dwconv (DepthwiseConv2  (None, 14, 14, 816)  20400      ['block5b_expand_activation[0][0]\n",
            " D)                                                              ']                               \n",
            "                                                                                                  \n",
            " block5b_bn (BatchNormalization  (None, 14, 14, 816)  3264       ['block5b_dwconv[0][0]']         \n",
            " )                                                                                                \n",
            "                                                                                                  \n",
            " block5b_activation (Activation  (None, 14, 14, 816)  0          ['block5b_bn[0][0]']             \n",
            " )                                                                                                \n",
            "                                                                                                  \n",
            " block5b_se_squeeze (GlobalAver  (None, 816)         0           ['block5b_activation[0][0]']     \n",
            " agePooling2D)                                                                                    \n",
            "                                                                                                  \n",
            " block5b_se_reshape (Reshape)   (None, 1, 1, 816)    0           ['block5b_se_squeeze[0][0]']     \n",
            "                                                                                                  \n",
            " block5b_se_reduce (Conv2D)     (None, 1, 1, 34)     27778       ['block5b_se_reshape[0][0]']     \n",
            "                                                                                                  \n",
            " block5b_se_expand (Conv2D)     (None, 1, 1, 816)    28560       ['block5b_se_reduce[0][0]']      \n",
            "                                                                                                  \n",
            " block5b_se_excite (Multiply)   (None, 14, 14, 816)  0           ['block5b_activation[0][0]',     \n",
            "                                                                  'block5b_se_expand[0][0]']      \n",
            "                                                                                                  \n",
            " block5b_project_conv (Conv2D)  (None, 14, 14, 136)  110976      ['block5b_se_excite[0][0]']      \n",
            "                                                                                                  \n",
            " block5b_project_bn (BatchNorma  (None, 14, 14, 136)  544        ['block5b_project_conv[0][0]']   \n",
            " lization)                                                                                        \n",
            "                                                                                                  \n",
            " block5b_drop (Dropout)         (None, 14, 14, 136)  0           ['block5b_project_bn[0][0]']     \n",
            "                                                                                                  \n",
            " block5b_add (Add)              (None, 14, 14, 136)  0           ['block5b_drop[0][0]',           \n",
            "                                                                  'block5a_project_bn[0][0]']     \n",
            "                                                                                                  \n",
            " block5c_expand_conv (Conv2D)   (None, 14, 14, 816)  110976      ['block5b_add[0][0]']            \n",
            "                                                                                                  \n",
            " block5c_expand_bn (BatchNormal  (None, 14, 14, 816)  3264       ['block5c_expand_conv[0][0]']    \n",
            " ization)                                                                                         \n",
            "                                                                                                  \n",
            " block5c_expand_activation (Act  (None, 14, 14, 816)  0          ['block5c_expand_bn[0][0]']      \n",
            " ivation)                                                                                         \n",
            "                                                                                                  \n",
            " block5c_dwconv (DepthwiseConv2  (None, 14, 14, 816)  20400      ['block5c_expand_activation[0][0]\n",
            " D)                                                              ']                               \n",
            "                                                                                                  \n",
            " block5c_bn (BatchNormalization  (None, 14, 14, 816)  3264       ['block5c_dwconv[0][0]']         \n",
            " )                                                                                                \n",
            "                                                                                                  \n",
            " block5c_activation (Activation  (None, 14, 14, 816)  0          ['block5c_bn[0][0]']             \n",
            " )                                                                                                \n",
            "                                                                                                  \n",
            " block5c_se_squeeze (GlobalAver  (None, 816)         0           ['block5c_activation[0][0]']     \n",
            " agePooling2D)                                                                                    \n",
            "                                                                                                  \n",
            " block5c_se_reshape (Reshape)   (None, 1, 1, 816)    0           ['block5c_se_squeeze[0][0]']     \n",
            "                                                                                                  \n",
            " block5c_se_reduce (Conv2D)     (None, 1, 1, 34)     27778       ['block5c_se_reshape[0][0]']     \n",
            "                                                                                                  \n",
            " block5c_se_expand (Conv2D)     (None, 1, 1, 816)    28560       ['block5c_se_reduce[0][0]']      \n",
            "                                                                                                  \n",
            " block5c_se_excite (Multiply)   (None, 14, 14, 816)  0           ['block5c_activation[0][0]',     \n",
            "                                                                  'block5c_se_expand[0][0]']      \n",
            "                                                                                                  \n",
            " block5c_project_conv (Conv2D)  (None, 14, 14, 136)  110976      ['block5c_se_excite[0][0]']      \n",
            "                                                                                                  \n",
            " block5c_project_bn (BatchNorma  (None, 14, 14, 136)  544        ['block5c_project_conv[0][0]']   \n",
            " lization)                                                                                        \n",
            "                                                                                                  \n",
            " block5c_drop (Dropout)         (None, 14, 14, 136)  0           ['block5c_project_bn[0][0]']     \n",
            "                                                                                                  \n",
            " block5c_add (Add)              (None, 14, 14, 136)  0           ['block5c_drop[0][0]',           \n",
            "                                                                  'block5b_add[0][0]']            \n",
            "                                                                                                  \n",
            " block5d_expand_conv (Conv2D)   (None, 14, 14, 816)  110976      ['block5c_add[0][0]']            \n",
            "                                                                                                  \n",
            " block5d_expand_bn (BatchNormal  (None, 14, 14, 816)  3264       ['block5d_expand_conv[0][0]']    \n",
            " ization)                                                                                         \n",
            "                                                                                                  \n",
            " block5d_expand_activation (Act  (None, 14, 14, 816)  0          ['block5d_expand_bn[0][0]']      \n",
            " ivation)                                                                                         \n",
            "                                                                                                  \n",
            " block5d_dwconv (DepthwiseConv2  (None, 14, 14, 816)  20400      ['block5d_expand_activation[0][0]\n",
            " D)                                                              ']                               \n",
            "                                                                                                  \n",
            " block5d_bn (BatchNormalization  (None, 14, 14, 816)  3264       ['block5d_dwconv[0][0]']         \n",
            " )                                                                                                \n",
            "                                                                                                  \n",
            " block5d_activation (Activation  (None, 14, 14, 816)  0          ['block5d_bn[0][0]']             \n",
            " )                                                                                                \n",
            "                                                                                                  \n",
            " block5d_se_squeeze (GlobalAver  (None, 816)         0           ['block5d_activation[0][0]']     \n",
            " agePooling2D)                                                                                    \n",
            "                                                                                                  \n",
            " block5d_se_reshape (Reshape)   (None, 1, 1, 816)    0           ['block5d_se_squeeze[0][0]']     \n",
            "                                                                                                  \n",
            " block5d_se_reduce (Conv2D)     (None, 1, 1, 34)     27778       ['block5d_se_reshape[0][0]']     \n",
            "                                                                                                  \n",
            " block5d_se_expand (Conv2D)     (None, 1, 1, 816)    28560       ['block5d_se_reduce[0][0]']      \n",
            "                                                                                                  \n",
            " block5d_se_excite (Multiply)   (None, 14, 14, 816)  0           ['block5d_activation[0][0]',     \n",
            "                                                                  'block5d_se_expand[0][0]']      \n",
            "                                                                                                  \n",
            " block5d_project_conv (Conv2D)  (None, 14, 14, 136)  110976      ['block5d_se_excite[0][0]']      \n",
            "                                                                                                  \n",
            " block5d_project_bn (BatchNorma  (None, 14, 14, 136)  544        ['block5d_project_conv[0][0]']   \n",
            " lization)                                                                                        \n",
            "                                                                                                  \n",
            " block5d_drop (Dropout)         (None, 14, 14, 136)  0           ['block5d_project_bn[0][0]']     \n",
            "                                                                                                  \n",
            " block5d_add (Add)              (None, 14, 14, 136)  0           ['block5d_drop[0][0]',           \n",
            "                                                                  'block5c_add[0][0]']            \n",
            "                                                                                                  \n",
            " block5e_expand_conv (Conv2D)   (None, 14, 14, 816)  110976      ['block5d_add[0][0]']            \n",
            "                                                                                                  \n",
            " block5e_expand_bn (BatchNormal  (None, 14, 14, 816)  3264       ['block5e_expand_conv[0][0]']    \n",
            " ization)                                                                                         \n",
            "                                                                                                  \n",
            " block5e_expand_activation (Act  (None, 14, 14, 816)  0          ['block5e_expand_bn[0][0]']      \n",
            " ivation)                                                                                         \n",
            "                                                                                                  \n",
            " block5e_dwconv (DepthwiseConv2  (None, 14, 14, 816)  20400      ['block5e_expand_activation[0][0]\n",
            " D)                                                              ']                               \n",
            "                                                                                                  \n",
            " block5e_bn (BatchNormalization  (None, 14, 14, 816)  3264       ['block5e_dwconv[0][0]']         \n",
            " )                                                                                                \n",
            "                                                                                                  \n",
            " block5e_activation (Activation  (None, 14, 14, 816)  0          ['block5e_bn[0][0]']             \n",
            " )                                                                                                \n",
            "                                                                                                  \n",
            " block5e_se_squeeze (GlobalAver  (None, 816)         0           ['block5e_activation[0][0]']     \n",
            " agePooling2D)                                                                                    \n",
            "                                                                                                  \n",
            " block5e_se_reshape (Reshape)   (None, 1, 1, 816)    0           ['block5e_se_squeeze[0][0]']     \n",
            "                                                                                                  \n",
            " block5e_se_reduce (Conv2D)     (None, 1, 1, 34)     27778       ['block5e_se_reshape[0][0]']     \n",
            "                                                                                                  \n",
            " block5e_se_expand (Conv2D)     (None, 1, 1, 816)    28560       ['block5e_se_reduce[0][0]']      \n",
            "                                                                                                  \n",
            " block5e_se_excite (Multiply)   (None, 14, 14, 816)  0           ['block5e_activation[0][0]',     \n",
            "                                                                  'block5e_se_expand[0][0]']      \n",
            "                                                                                                  \n",
            " block5e_project_conv (Conv2D)  (None, 14, 14, 136)  110976      ['block5e_se_excite[0][0]']      \n",
            "                                                                                                  \n",
            " block5e_project_bn (BatchNorma  (None, 14, 14, 136)  544        ['block5e_project_conv[0][0]']   \n",
            " lization)                                                                                        \n",
            "                                                                                                  \n",
            " block5e_drop (Dropout)         (None, 14, 14, 136)  0           ['block5e_project_bn[0][0]']     \n",
            "                                                                                                  \n",
            " block5e_add (Add)              (None, 14, 14, 136)  0           ['block5e_drop[0][0]',           \n",
            "                                                                  'block5d_add[0][0]']            \n",
            "                                                                                                  \n",
            " block6a_expand_conv (Conv2D)   (None, 14, 14, 816)  110976      ['block5e_add[0][0]']            \n",
            "                                                                                                  \n",
            " block6a_expand_bn (BatchNormal  (None, 14, 14, 816)  3264       ['block6a_expand_conv[0][0]']    \n",
            " ization)                                                                                         \n",
            "                                                                                                  \n",
            " block6a_expand_activation (Act  (None, 14, 14, 816)  0          ['block6a_expand_bn[0][0]']      \n",
            " ivation)                                                                                         \n",
            "                                                                                                  \n",
            " block6a_dwconv_pad (ZeroPaddin  (None, 17, 17, 816)  0          ['block6a_expand_activation[0][0]\n",
            " g2D)                                                            ']                               \n",
            "                                                                                                  \n",
            " block6a_dwconv (DepthwiseConv2  (None, 7, 7, 816)   20400       ['block6a_dwconv_pad[0][0]']     \n",
            " D)                                                                                               \n",
            "                                                                                                  \n",
            " block6a_bn (BatchNormalization  (None, 7, 7, 816)   3264        ['block6a_dwconv[0][0]']         \n",
            " )                                                                                                \n",
            "                                                                                                  \n",
            " block6a_activation (Activation  (None, 7, 7, 816)   0           ['block6a_bn[0][0]']             \n",
            " )                                                                                                \n",
            "                                                                                                  \n",
            " block6a_se_squeeze (GlobalAver  (None, 816)         0           ['block6a_activation[0][0]']     \n",
            " agePooling2D)                                                                                    \n",
            "                                                                                                  \n",
            " block6a_se_reshape (Reshape)   (None, 1, 1, 816)    0           ['block6a_se_squeeze[0][0]']     \n",
            "                                                                                                  \n",
            " block6a_se_reduce (Conv2D)     (None, 1, 1, 34)     27778       ['block6a_se_reshape[0][0]']     \n",
            "                                                                                                  \n",
            " block6a_se_expand (Conv2D)     (None, 1, 1, 816)    28560       ['block6a_se_reduce[0][0]']      \n",
            "                                                                                                  \n",
            " block6a_se_excite (Multiply)   (None, 7, 7, 816)    0           ['block6a_activation[0][0]',     \n",
            "                                                                  'block6a_se_expand[0][0]']      \n",
            "                                                                                                  \n",
            " block6a_project_conv (Conv2D)  (None, 7, 7, 232)    189312      ['block6a_se_excite[0][0]']      \n",
            "                                                                                                  \n",
            " block6a_project_bn (BatchNorma  (None, 7, 7, 232)   928         ['block6a_project_conv[0][0]']   \n",
            " lization)                                                                                        \n",
            "                                                                                                  \n",
            " block6b_expand_conv (Conv2D)   (None, 7, 7, 1392)   322944      ['block6a_project_bn[0][0]']     \n",
            "                                                                                                  \n",
            " block6b_expand_bn (BatchNormal  (None, 7, 7, 1392)  5568        ['block6b_expand_conv[0][0]']    \n",
            " ization)                                                                                         \n",
            "                                                                                                  \n",
            " block6b_expand_activation (Act  (None, 7, 7, 1392)  0           ['block6b_expand_bn[0][0]']      \n",
            " ivation)                                                                                         \n",
            "                                                                                                  \n",
            " block6b_dwconv (DepthwiseConv2  (None, 7, 7, 1392)  34800       ['block6b_expand_activation[0][0]\n",
            " D)                                                              ']                               \n",
            "                                                                                                  \n",
            " block6b_bn (BatchNormalization  (None, 7, 7, 1392)  5568        ['block6b_dwconv[0][0]']         \n",
            " )                                                                                                \n",
            "                                                                                                  \n",
            " block6b_activation (Activation  (None, 7, 7, 1392)  0           ['block6b_bn[0][0]']             \n",
            " )                                                                                                \n",
            "                                                                                                  \n",
            " block6b_se_squeeze (GlobalAver  (None, 1392)        0           ['block6b_activation[0][0]']     \n",
            " agePooling2D)                                                                                    \n",
            "                                                                                                  \n",
            " block6b_se_reshape (Reshape)   (None, 1, 1, 1392)   0           ['block6b_se_squeeze[0][0]']     \n",
            "                                                                                                  \n",
            " block6b_se_reduce (Conv2D)     (None, 1, 1, 58)     80794       ['block6b_se_reshape[0][0]']     \n",
            "                                                                                                  \n",
            " block6b_se_expand (Conv2D)     (None, 1, 1, 1392)   82128       ['block6b_se_reduce[0][0]']      \n",
            "                                                                                                  \n",
            " block6b_se_excite (Multiply)   (None, 7, 7, 1392)   0           ['block6b_activation[0][0]',     \n",
            "                                                                  'block6b_se_expand[0][0]']      \n",
            "                                                                                                  \n",
            " block6b_project_conv (Conv2D)  (None, 7, 7, 232)    322944      ['block6b_se_excite[0][0]']      \n",
            "                                                                                                  \n",
            " block6b_project_bn (BatchNorma  (None, 7, 7, 232)   928         ['block6b_project_conv[0][0]']   \n",
            " lization)                                                                                        \n",
            "                                                                                                  \n",
            " block6b_drop (Dropout)         (None, 7, 7, 232)    0           ['block6b_project_bn[0][0]']     \n",
            "                                                                                                  \n",
            " block6b_add (Add)              (None, 7, 7, 232)    0           ['block6b_drop[0][0]',           \n",
            "                                                                  'block6a_project_bn[0][0]']     \n",
            "                                                                                                  \n",
            " block6c_expand_conv (Conv2D)   (None, 7, 7, 1392)   322944      ['block6b_add[0][0]']            \n",
            "                                                                                                  \n",
            " block6c_expand_bn (BatchNormal  (None, 7, 7, 1392)  5568        ['block6c_expand_conv[0][0]']    \n",
            " ization)                                                                                         \n",
            "                                                                                                  \n",
            " block6c_expand_activation (Act  (None, 7, 7, 1392)  0           ['block6c_expand_bn[0][0]']      \n",
            " ivation)                                                                                         \n",
            "                                                                                                  \n",
            " block6c_dwconv (DepthwiseConv2  (None, 7, 7, 1392)  34800       ['block6c_expand_activation[0][0]\n",
            " D)                                                              ']                               \n",
            "                                                                                                  \n",
            " block6c_bn (BatchNormalization  (None, 7, 7, 1392)  5568        ['block6c_dwconv[0][0]']         \n",
            " )                                                                                                \n",
            "                                                                                                  \n",
            " block6c_activation (Activation  (None, 7, 7, 1392)  0           ['block6c_bn[0][0]']             \n",
            " )                                                                                                \n",
            "                                                                                                  \n",
            " block6c_se_squeeze (GlobalAver  (None, 1392)        0           ['block6c_activation[0][0]']     \n",
            " agePooling2D)                                                                                    \n",
            "                                                                                                  \n",
            " block6c_se_reshape (Reshape)   (None, 1, 1, 1392)   0           ['block6c_se_squeeze[0][0]']     \n",
            "                                                                                                  \n",
            " block6c_se_reduce (Conv2D)     (None, 1, 1, 58)     80794       ['block6c_se_reshape[0][0]']     \n",
            "                                                                                                  \n",
            " block6c_se_expand (Conv2D)     (None, 1, 1, 1392)   82128       ['block6c_se_reduce[0][0]']      \n",
            "                                                                                                  \n",
            " block6c_se_excite (Multiply)   (None, 7, 7, 1392)   0           ['block6c_activation[0][0]',     \n",
            "                                                                  'block6c_se_expand[0][0]']      \n",
            "                                                                                                  \n",
            " block6c_project_conv (Conv2D)  (None, 7, 7, 232)    322944      ['block6c_se_excite[0][0]']      \n",
            "                                                                                                  \n",
            " block6c_project_bn (BatchNorma  (None, 7, 7, 232)   928         ['block6c_project_conv[0][0]']   \n",
            " lization)                                                                                        \n",
            "                                                                                                  \n",
            " block6c_drop (Dropout)         (None, 7, 7, 232)    0           ['block6c_project_bn[0][0]']     \n",
            "                                                                                                  \n",
            " block6c_add (Add)              (None, 7, 7, 232)    0           ['block6c_drop[0][0]',           \n",
            "                                                                  'block6b_add[0][0]']            \n",
            "                                                                                                  \n",
            " block6d_expand_conv (Conv2D)   (None, 7, 7, 1392)   322944      ['block6c_add[0][0]']            \n",
            "                                                                                                  \n",
            " block6d_expand_bn (BatchNormal  (None, 7, 7, 1392)  5568        ['block6d_expand_conv[0][0]']    \n",
            " ization)                                                                                         \n",
            "                                                                                                  \n",
            " block6d_expand_activation (Act  (None, 7, 7, 1392)  0           ['block6d_expand_bn[0][0]']      \n",
            " ivation)                                                                                         \n",
            "                                                                                                  \n",
            " block6d_dwconv (DepthwiseConv2  (None, 7, 7, 1392)  34800       ['block6d_expand_activation[0][0]\n",
            " D)                                                              ']                               \n",
            "                                                                                                  \n",
            " block6d_bn (BatchNormalization  (None, 7, 7, 1392)  5568        ['block6d_dwconv[0][0]']         \n",
            " )                                                                                                \n",
            "                                                                                                  \n",
            " block6d_activation (Activation  (None, 7, 7, 1392)  0           ['block6d_bn[0][0]']             \n",
            " )                                                                                                \n",
            "                                                                                                  \n",
            " block6d_se_squeeze (GlobalAver  (None, 1392)        0           ['block6d_activation[0][0]']     \n",
            " agePooling2D)                                                                                    \n",
            "                                                                                                  \n",
            " block6d_se_reshape (Reshape)   (None, 1, 1, 1392)   0           ['block6d_se_squeeze[0][0]']     \n",
            "                                                                                                  \n",
            " block6d_se_reduce (Conv2D)     (None, 1, 1, 58)     80794       ['block6d_se_reshape[0][0]']     \n",
            "                                                                                                  \n",
            " block6d_se_expand (Conv2D)     (None, 1, 1, 1392)   82128       ['block6d_se_reduce[0][0]']      \n",
            "                                                                                                  \n",
            " block6d_se_excite (Multiply)   (None, 7, 7, 1392)   0           ['block6d_activation[0][0]',     \n",
            "                                                                  'block6d_se_expand[0][0]']      \n",
            "                                                                                                  \n",
            " block6d_project_conv (Conv2D)  (None, 7, 7, 232)    322944      ['block6d_se_excite[0][0]']      \n",
            "                                                                                                  \n",
            " block6d_project_bn (BatchNorma  (None, 7, 7, 232)   928         ['block6d_project_conv[0][0]']   \n",
            " lization)                                                                                        \n",
            "                                                                                                  \n",
            " block6d_drop (Dropout)         (None, 7, 7, 232)    0           ['block6d_project_bn[0][0]']     \n",
            "                                                                                                  \n",
            " block6d_add (Add)              (None, 7, 7, 232)    0           ['block6d_drop[0][0]',           \n",
            "                                                                  'block6c_add[0][0]']            \n",
            "                                                                                                  \n",
            " block6e_expand_conv (Conv2D)   (None, 7, 7, 1392)   322944      ['block6d_add[0][0]']            \n",
            "                                                                                                  \n",
            " block6e_expand_bn (BatchNormal  (None, 7, 7, 1392)  5568        ['block6e_expand_conv[0][0]']    \n",
            " ization)                                                                                         \n",
            "                                                                                                  \n",
            " block6e_expand_activation (Act  (None, 7, 7, 1392)  0           ['block6e_expand_bn[0][0]']      \n",
            " ivation)                                                                                         \n",
            "                                                                                                  \n",
            " block6e_dwconv (DepthwiseConv2  (None, 7, 7, 1392)  34800       ['block6e_expand_activation[0][0]\n",
            " D)                                                              ']                               \n",
            "                                                                                                  \n",
            " block6e_bn (BatchNormalization  (None, 7, 7, 1392)  5568        ['block6e_dwconv[0][0]']         \n",
            " )                                                                                                \n",
            "                                                                                                  \n",
            " block6e_activation (Activation  (None, 7, 7, 1392)  0           ['block6e_bn[0][0]']             \n",
            " )                                                                                                \n",
            "                                                                                                  \n",
            " block6e_se_squeeze (GlobalAver  (None, 1392)        0           ['block6e_activation[0][0]']     \n",
            " agePooling2D)                                                                                    \n",
            "                                                                                                  \n",
            " block6e_se_reshape (Reshape)   (None, 1, 1, 1392)   0           ['block6e_se_squeeze[0][0]']     \n",
            "                                                                                                  \n",
            " block6e_se_reduce (Conv2D)     (None, 1, 1, 58)     80794       ['block6e_se_reshape[0][0]']     \n",
            "                                                                                                  \n",
            " block6e_se_expand (Conv2D)     (None, 1, 1, 1392)   82128       ['block6e_se_reduce[0][0]']      \n",
            "                                                                                                  \n",
            " block6e_se_excite (Multiply)   (None, 7, 7, 1392)   0           ['block6e_activation[0][0]',     \n",
            "                                                                  'block6e_se_expand[0][0]']      \n",
            "                                                                                                  \n",
            " block6e_project_conv (Conv2D)  (None, 7, 7, 232)    322944      ['block6e_se_excite[0][0]']      \n",
            "                                                                                                  \n",
            " block6e_project_bn (BatchNorma  (None, 7, 7, 232)   928         ['block6e_project_conv[0][0]']   \n",
            " lization)                                                                                        \n",
            "                                                                                                  \n",
            " block6e_drop (Dropout)         (None, 7, 7, 232)    0           ['block6e_project_bn[0][0]']     \n",
            "                                                                                                  \n",
            " block6e_add (Add)              (None, 7, 7, 232)    0           ['block6e_drop[0][0]',           \n",
            "                                                                  'block6d_add[0][0]']            \n",
            "                                                                                                  \n",
            " block6f_expand_conv (Conv2D)   (None, 7, 7, 1392)   322944      ['block6e_add[0][0]']            \n",
            "                                                                                                  \n",
            " block6f_expand_bn (BatchNormal  (None, 7, 7, 1392)  5568        ['block6f_expand_conv[0][0]']    \n",
            " ization)                                                                                         \n",
            "                                                                                                  \n",
            " block6f_expand_activation (Act  (None, 7, 7, 1392)  0           ['block6f_expand_bn[0][0]']      \n",
            " ivation)                                                                                         \n",
            "                                                                                                  \n",
            " block6f_dwconv (DepthwiseConv2  (None, 7, 7, 1392)  34800       ['block6f_expand_activation[0][0]\n",
            " D)                                                              ']                               \n",
            "                                                                                                  \n",
            " block6f_bn (BatchNormalization  (None, 7, 7, 1392)  5568        ['block6f_dwconv[0][0]']         \n",
            " )                                                                                                \n",
            "                                                                                                  \n",
            " block6f_activation (Activation  (None, 7, 7, 1392)  0           ['block6f_bn[0][0]']             \n",
            " )                                                                                                \n",
            "                                                                                                  \n",
            " block6f_se_squeeze (GlobalAver  (None, 1392)        0           ['block6f_activation[0][0]']     \n",
            " agePooling2D)                                                                                    \n",
            "                                                                                                  \n",
            " block6f_se_reshape (Reshape)   (None, 1, 1, 1392)   0           ['block6f_se_squeeze[0][0]']     \n",
            "                                                                                                  \n",
            " block6f_se_reduce (Conv2D)     (None, 1, 1, 58)     80794       ['block6f_se_reshape[0][0]']     \n",
            "                                                                                                  \n",
            " block6f_se_expand (Conv2D)     (None, 1, 1, 1392)   82128       ['block6f_se_reduce[0][0]']      \n",
            "                                                                                                  \n",
            " block6f_se_excite (Multiply)   (None, 7, 7, 1392)   0           ['block6f_activation[0][0]',     \n",
            "                                                                  'block6f_se_expand[0][0]']      \n",
            "                                                                                                  \n",
            " block6f_project_conv (Conv2D)  (None, 7, 7, 232)    322944      ['block6f_se_excite[0][0]']      \n",
            "                                                                                                  \n",
            " block6f_project_bn (BatchNorma  (None, 7, 7, 232)   928         ['block6f_project_conv[0][0]']   \n",
            " lization)                                                                                        \n",
            "                                                                                                  \n",
            " block6f_drop (Dropout)         (None, 7, 7, 232)    0           ['block6f_project_bn[0][0]']     \n",
            "                                                                                                  \n",
            " block6f_add (Add)              (None, 7, 7, 232)    0           ['block6f_drop[0][0]',           \n",
            "                                                                  'block6e_add[0][0]']            \n",
            "                                                                                                  \n",
            " block7a_expand_conv (Conv2D)   (None, 7, 7, 1392)   322944      ['block6f_add[0][0]']            \n",
            "                                                                                                  \n",
            " block7a_expand_bn (BatchNormal  (None, 7, 7, 1392)  5568        ['block7a_expand_conv[0][0]']    \n",
            " ization)                                                                                         \n",
            "                                                                                                  \n",
            " block7a_expand_activation (Act  (None, 7, 7, 1392)  0           ['block7a_expand_bn[0][0]']      \n",
            " ivation)                                                                                         \n",
            "                                                                                                  \n",
            " block7a_dwconv (DepthwiseConv2  (None, 7, 7, 1392)  12528       ['block7a_expand_activation[0][0]\n",
            " D)                                                              ']                               \n",
            "                                                                                                  \n",
            " block7a_bn (BatchNormalization  (None, 7, 7, 1392)  5568        ['block7a_dwconv[0][0]']         \n",
            " )                                                                                                \n",
            "                                                                                                  \n",
            " block7a_activation (Activation  (None, 7, 7, 1392)  0           ['block7a_bn[0][0]']             \n",
            " )                                                                                                \n",
            "                                                                                                  \n",
            " block7a_se_squeeze (GlobalAver  (None, 1392)        0           ['block7a_activation[0][0]']     \n",
            " agePooling2D)                                                                                    \n",
            "                                                                                                  \n",
            " block7a_se_reshape (Reshape)   (None, 1, 1, 1392)   0           ['block7a_se_squeeze[0][0]']     \n",
            "                                                                                                  \n",
            " block7a_se_reduce (Conv2D)     (None, 1, 1, 58)     80794       ['block7a_se_reshape[0][0]']     \n",
            "                                                                                                  \n",
            " block7a_se_expand (Conv2D)     (None, 1, 1, 1392)   82128       ['block7a_se_reduce[0][0]']      \n",
            "                                                                                                  \n",
            " block7a_se_excite (Multiply)   (None, 7, 7, 1392)   0           ['block7a_activation[0][0]',     \n",
            "                                                                  'block7a_se_expand[0][0]']      \n",
            "                                                                                                  \n",
            " block7a_project_conv (Conv2D)  (None, 7, 7, 384)    534528      ['block7a_se_excite[0][0]']      \n",
            "                                                                                                  \n",
            " block7a_project_bn (BatchNorma  (None, 7, 7, 384)   1536        ['block7a_project_conv[0][0]']   \n",
            " lization)                                                                                        \n",
            "                                                                                                  \n",
            " block7b_expand_conv (Conv2D)   (None, 7, 7, 2304)   884736      ['block7a_project_bn[0][0]']     \n",
            "                                                                                                  \n",
            " block7b_expand_bn (BatchNormal  (None, 7, 7, 2304)  9216        ['block7b_expand_conv[0][0]']    \n",
            " ization)                                                                                         \n",
            "                                                                                                  \n",
            " block7b_expand_activation (Act  (None, 7, 7, 2304)  0           ['block7b_expand_bn[0][0]']      \n",
            " ivation)                                                                                         \n",
            "                                                                                                  \n",
            " block7b_dwconv (DepthwiseConv2  (None, 7, 7, 2304)  20736       ['block7b_expand_activation[0][0]\n",
            " D)                                                              ']                               \n",
            "                                                                                                  \n",
            " block7b_bn (BatchNormalization  (None, 7, 7, 2304)  9216        ['block7b_dwconv[0][0]']         \n",
            " )                                                                                                \n",
            "                                                                                                  \n",
            " block7b_activation (Activation  (None, 7, 7, 2304)  0           ['block7b_bn[0][0]']             \n",
            " )                                                                                                \n",
            "                                                                                                  \n",
            " block7b_se_squeeze (GlobalAver  (None, 2304)        0           ['block7b_activation[0][0]']     \n",
            " agePooling2D)                                                                                    \n",
            "                                                                                                  \n",
            " block7b_se_reshape (Reshape)   (None, 1, 1, 2304)   0           ['block7b_se_squeeze[0][0]']     \n",
            "                                                                                                  \n",
            " block7b_se_reduce (Conv2D)     (None, 1, 1, 96)     221280      ['block7b_se_reshape[0][0]']     \n",
            "                                                                                                  \n",
            " block7b_se_expand (Conv2D)     (None, 1, 1, 2304)   223488      ['block7b_se_reduce[0][0]']      \n",
            "                                                                                                  \n",
            " block7b_se_excite (Multiply)   (None, 7, 7, 2304)   0           ['block7b_activation[0][0]',     \n",
            "                                                                  'block7b_se_expand[0][0]']      \n",
            "                                                                                                  \n",
            " block7b_project_conv (Conv2D)  (None, 7, 7, 384)    884736      ['block7b_se_excite[0][0]']      \n",
            "                                                                                                  \n",
            " block7b_project_bn (BatchNorma  (None, 7, 7, 384)   1536        ['block7b_project_conv[0][0]']   \n",
            " lization)                                                                                        \n",
            "                                                                                                  \n",
            " block7b_drop (Dropout)         (None, 7, 7, 384)    0           ['block7b_project_bn[0][0]']     \n",
            "                                                                                                  \n",
            " block7b_add (Add)              (None, 7, 7, 384)    0           ['block7b_drop[0][0]',           \n",
            "                                                                  'block7a_project_bn[0][0]']     \n",
            "                                                                                                  \n",
            " top_conv (Conv2D)              (None, 7, 7, 1536)   589824      ['block7b_add[0][0]']            \n",
            "                                                                                                  \n",
            " top_bn (BatchNormalization)    (None, 7, 7, 1536)   6144        ['top_conv[0][0]']               \n",
            "                                                                                                  \n",
            " top_activation (Activation)    (None, 7, 7, 1536)   0           ['top_bn[0][0]']                 \n",
            "                                                                                                  \n",
            "==================================================================================================\n",
            "Total params: 10,783,535\n",
            "Trainable params: 10,696,232\n",
            "Non-trainable params: 87,303\n",
            "__________________________________________________________________________________________________\n"
          ]
        }
      ]
    },
    {
      "cell_type": "code",
      "source": [
        "#Creating custom model\n",
        "model = keras.Sequential([\n",
        "    data_augmentation,                                                    # data augmentations\n",
        "    pre_trained_layers,                                                   # ResNet pre-trained layers\n",
        "    keras.layers.GlobalAveragePooling2D(),                                # Adding Global average Pooling 2d\n",
        "    tf.keras.layers.Dropout(0.3),\n",
        "    keras.layers.Dense(number_of_class_labels, activation='softmax', name='output')  # Final Dense Layer with 30 neurons\n",
        "])"
      ],
      "metadata": {
        "id": "MU_j6dypcPwp"
      },
      "execution_count": 21,
      "outputs": []
    },
    {
      "cell_type": "code",
      "source": [
        "EPOCHS = 10\n",
        "LR = 1e-3\n",
        "model.compile(optimizer=keras.optimizers.Adam(learning_rate=LR),\n",
        "              loss=tf.keras.losses.SparseCategoricalCrossentropy(),\n",
        "              metrics=['accuracy'])"
      ],
      "metadata": {
        "id": "41gFu9xKb0CU"
      },
      "execution_count": 22,
      "outputs": []
    },
    {
      "cell_type": "code",
      "source": [
        "#printing summary of custom model\n",
        "model.build((1,224,224,3))\n",
        "model.summary()"
      ],
      "metadata": {
        "id": "XCFHANKAcmVS",
        "colab": {
          "base_uri": "https://localhost:8080/"
        },
        "outputId": "422ec3ba-72c5-4c06-a67e-5917a97719a5"
      },
      "execution_count": 23,
      "outputs": [
        {
          "output_type": "stream",
          "name": "stderr",
          "text": [
            "WARNING:tensorflow:Using a while_loop for converting RngReadAndSkip cause there is no registered converter for this op.\n",
            "WARNING:tensorflow:Using a while_loop for converting Bitcast cause there is no registered converter for this op.\n",
            "WARNING:tensorflow:Using a while_loop for converting Bitcast cause there is no registered converter for this op.\n",
            "WARNING:tensorflow:Using a while_loop for converting StatelessRandomUniformV2 cause there is no registered converter for this op.\n",
            "WARNING:tensorflow:Using a while_loop for converting ImageProjectiveTransformV3 cause there is no registered converter for this op.\n",
            "WARNING:tensorflow:Using a while_loop for converting RngReadAndSkip cause there is no registered converter for this op.\n",
            "WARNING:tensorflow:Using a while_loop for converting Bitcast cause there is no registered converter for this op.\n",
            "WARNING:tensorflow:Using a while_loop for converting Bitcast cause there is no registered converter for this op.\n",
            "WARNING:tensorflow:Using a while_loop for converting StatelessRandomUniformV2 cause there is no registered converter for this op.\n",
            "WARNING:tensorflow:Using a while_loop for converting RngReadAndSkip cause there is no registered converter for this op.\n",
            "WARNING:tensorflow:Using a while_loop for converting Bitcast cause there is no registered converter for this op.\n",
            "WARNING:tensorflow:Using a while_loop for converting Bitcast cause there is no registered converter for this op.\n",
            "WARNING:tensorflow:Using a while_loop for converting StatelessRandomUniformV2 cause there is no registered converter for this op.\n",
            "WARNING:tensorflow:Using a while_loop for converting ImageProjectiveTransformV3 cause there is no registered converter for this op.\n",
            "WARNING:tensorflow:Using a while_loop for converting RngReadAndSkip cause there is no registered converter for this op.\n",
            "WARNING:tensorflow:Using a while_loop for converting Bitcast cause there is no registered converter for this op.\n",
            "WARNING:tensorflow:Using a while_loop for converting Bitcast cause there is no registered converter for this op.\n",
            "WARNING:tensorflow:Using a while_loop for converting StatelessRandomUniformV2 cause there is no registered converter for this op.\n",
            "WARNING:tensorflow:Using a while_loop for converting ImageProjectiveTransformV3 cause there is no registered converter for this op.\n",
            "WARNING:tensorflow:Using a while_loop for converting RngReadAndSkip cause there is no registered converter for this op.\n",
            "WARNING:tensorflow:Using a while_loop for converting Bitcast cause there is no registered converter for this op.\n",
            "WARNING:tensorflow:Using a while_loop for converting Bitcast cause there is no registered converter for this op.\n",
            "WARNING:tensorflow:Using a while_loop for converting StatelessRandomUniformV2 cause there is no registered converter for this op.\n",
            "WARNING:tensorflow:Using a while_loop for converting RngReadAndSkip cause there is no registered converter for this op.\n",
            "WARNING:tensorflow:Using a while_loop for converting Bitcast cause there is no registered converter for this op.\n",
            "WARNING:tensorflow:Using a while_loop for converting Bitcast cause there is no registered converter for this op.\n",
            "WARNING:tensorflow:Using a while_loop for converting StatelessRandomUniformV2 cause there is no registered converter for this op.\n",
            "WARNING:tensorflow:Using a while_loop for converting ImageProjectiveTransformV3 cause there is no registered converter for this op.\n"
          ]
        },
        {
          "output_type": "stream",
          "name": "stdout",
          "text": [
            "Model: \"sequential_1\"\n",
            "_________________________________________________________________\n",
            " Layer (type)                Output Shape              Param #   \n",
            "=================================================================\n",
            " sequential (Sequential)     (None, 224, 224, 3)       0         \n",
            "                                                                 \n",
            " efficientnetb3 (Functional)  (None, 7, 7, 1536)       10783535  \n",
            "                                                                 \n",
            " global_average_pooling2d (G  (None, 1536)             0         \n",
            " lobalAveragePooling2D)                                          \n",
            "                                                                 \n",
            " dropout (Dropout)           (None, 1536)              0         \n",
            "                                                                 \n",
            " output (Dense)              (None, 30)                46110     \n",
            "                                                                 \n",
            "=================================================================\n",
            "Total params: 10,829,645\n",
            "Trainable params: 10,742,342\n",
            "Non-trainable params: 87,303\n",
            "_________________________________________________________________\n"
          ]
        }
      ]
    },
    {
      "cell_type": "code",
      "source": [
        "from tensorflow.keras.callbacks import ReduceLROnPlateau"
      ],
      "metadata": {
        "id": "AMvex2WIc1hi"
      },
      "execution_count": 24,
      "outputs": []
    },
    {
      "cell_type": "code",
      "source": [
        "# Callback -> Reduce Learning Rate on Plateau\n",
        "callback = ReduceLROnPlateau(monitor='val_loss', factor=0.1, patience=3, verbose=1, mode='auto',\n",
        "                             min_delta=0.0001, cooldown=0, min_lr=0.00001)"
      ],
      "metadata": {
        "id": "LM1NDxA1cnxB"
      },
      "execution_count": 25,
      "outputs": []
    },
    {
      "cell_type": "code",
      "source": [
        "skf = StratifiedKFold(n_splits=3, shuffle=True)\n",
        "skf.get_n_splits(X, Y)\n",
        "fold_num = 0\n",
        "for train_index, val_index in skf.split(X, Y):\n",
        "    # First cut all images from validation to train (if any exists)\n",
        "    transferAllClassBetweenFolders('validation', 'train', 1.0)\n",
        "    fold_num += 1\n",
        "    print(\"Results for fold\", fold_num)\n",
        "    X_train, X_val = X[train_index], X[val_index]\n",
        "    Y_train, Y_val = Y[train_index], Y[val_index]\n",
        "    # Move validation images of this fold from train folder to the validation folder\n",
        "    for each_index in range(len(X_val)):\n",
        "        class_label = ''\n",
        "        for i in range(len(classLabels)):\n",
        "            if(Y_val[each_index] == i):\n",
        "                class_label = classLabels[i]\n",
        "        # Then, copy the validation images to the validation folder\n",
        "        shutil.move(os.path.join(datasetFolderName, 'train', class_label, X_val[each_index]),\n",
        "                    os.path.join(datasetFolderName, 'validation', class_label, X_val[each_index]))\n",
        "\n",
        "   \n",
        "\n",
        "    # Start ImageClassification Model\n",
        "    #creating train data set\n",
        "    \n",
        "    train_generator = tf.keras.utils.image_dataset_from_directory(\n",
        "        train_path,\n",
        "        image_size=(IMG_SIZE[0], IMG_SIZE[1]),\n",
        "        batch_size=batch_size,        \n",
        "        )\n",
        "\n",
        "    validation_generator = tf.keras.utils.image_dataset_from_directory(\n",
        "        validation_path,\n",
        "        image_size=(IMG_SIZE[0], IMG_SIZE[1]),\n",
        "        batch_size=batch_size,\n",
        "        \n",
        "          # only data, no labels\n",
        "        shuffle=False\n",
        "        ) \n",
        "    \n",
        "    history = model.fit(train_generator, epochs=EPOCHS, validation_data=validation_generator, callbacks=callback)\n",
        "    model.evaluate(validation_generator)"
      ],
      "metadata": {
        "id": "h6-FwHIUaRPh",
        "colab": {
          "base_uri": "https://localhost:8080/"
        },
        "outputId": "513e9b63-2efe-4967-baa8-321013a8115a"
      },
      "execution_count": 26,
      "outputs": [
        {
          "output_type": "stream",
          "name": "stdout",
          "text": [
            "No file moved. Source empty!\n",
            "No file moved. Source empty!\n",
            "No file moved. Source empty!\n",
            "No file moved. Source empty!\n",
            "No file moved. Source empty!\n",
            "No file moved. Source empty!\n",
            "No file moved. Source empty!\n",
            "No file moved. Source empty!\n",
            "No file moved. Source empty!\n",
            "No file moved. Source empty!\n",
            "No file moved. Source empty!\n",
            "No file moved. Source empty!\n",
            "No file moved. Source empty!\n",
            "No file moved. Source empty!\n",
            "No file moved. Source empty!\n",
            "No file moved. Source empty!\n",
            "No file moved. Source empty!\n",
            "No file moved. Source empty!\n",
            "No file moved. Source empty!\n",
            "No file moved. Source empty!\n",
            "No file moved. Source empty!\n",
            "No file moved. Source empty!\n",
            "No file moved. Source empty!\n",
            "No file moved. Source empty!\n",
            "No file moved. Source empty!\n",
            "No file moved. Source empty!\n",
            "No file moved. Source empty!\n",
            "No file moved. Source empty!\n",
            "No file moved. Source empty!\n",
            "No file moved. Source empty!\n",
            "Results for fold 1\n",
            "Found 1223 files belonging to 30 classes.\n",
            "Found 612 files belonging to 30 classes.\n",
            "Epoch 1/10\n"
          ]
        },
        {
          "output_type": "stream",
          "name": "stderr",
          "text": [
            "WARNING:tensorflow:Using a while_loop for converting RngReadAndSkip cause there is no registered converter for this op.\n",
            "WARNING:tensorflow:Using a while_loop for converting Bitcast cause there is no registered converter for this op.\n",
            "WARNING:tensorflow:Using a while_loop for converting Bitcast cause there is no registered converter for this op.\n",
            "WARNING:tensorflow:Using a while_loop for converting StatelessRandomUniformV2 cause there is no registered converter for this op.\n",
            "WARNING:tensorflow:Using a while_loop for converting ImageProjectiveTransformV3 cause there is no registered converter for this op.\n",
            "WARNING:tensorflow:Using a while_loop for converting RngReadAndSkip cause there is no registered converter for this op.\n",
            "WARNING:tensorflow:Using a while_loop for converting Bitcast cause there is no registered converter for this op.\n",
            "WARNING:tensorflow:Using a while_loop for converting Bitcast cause there is no registered converter for this op.\n",
            "WARNING:tensorflow:Using a while_loop for converting StatelessRandomUniformV2 cause there is no registered converter for this op.\n",
            "WARNING:tensorflow:Using a while_loop for converting RngReadAndSkip cause there is no registered converter for this op.\n",
            "WARNING:tensorflow:Using a while_loop for converting Bitcast cause there is no registered converter for this op.\n",
            "WARNING:tensorflow:Using a while_loop for converting Bitcast cause there is no registered converter for this op.\n",
            "WARNING:tensorflow:Using a while_loop for converting StatelessRandomUniformV2 cause there is no registered converter for this op.\n",
            "WARNING:tensorflow:Using a while_loop for converting ImageProjectiveTransformV3 cause there is no registered converter for this op.\n",
            "WARNING:tensorflow:Using a while_loop for converting RngReadAndSkip cause there is no registered converter for this op.\n",
            "WARNING:tensorflow:Using a while_loop for converting Bitcast cause there is no registered converter for this op.\n",
            "WARNING:tensorflow:Using a while_loop for converting Bitcast cause there is no registered converter for this op.\n",
            "WARNING:tensorflow:Using a while_loop for converting StatelessRandomUniformV2 cause there is no registered converter for this op.\n",
            "WARNING:tensorflow:Using a while_loop for converting ImageProjectiveTransformV3 cause there is no registered converter for this op.\n",
            "WARNING:tensorflow:Using a while_loop for converting RngReadAndSkip cause there is no registered converter for this op.\n",
            "WARNING:tensorflow:Using a while_loop for converting Bitcast cause there is no registered converter for this op.\n",
            "WARNING:tensorflow:Using a while_loop for converting Bitcast cause there is no registered converter for this op.\n",
            "WARNING:tensorflow:Using a while_loop for converting StatelessRandomUniformV2 cause there is no registered converter for this op.\n",
            "WARNING:tensorflow:Using a while_loop for converting RngReadAndSkip cause there is no registered converter for this op.\n",
            "WARNING:tensorflow:Using a while_loop for converting Bitcast cause there is no registered converter for this op.\n",
            "WARNING:tensorflow:Using a while_loop for converting Bitcast cause there is no registered converter for this op.\n",
            "WARNING:tensorflow:Using a while_loop for converting StatelessRandomUniformV2 cause there is no registered converter for this op.\n",
            "WARNING:tensorflow:Using a while_loop for converting ImageProjectiveTransformV3 cause there is no registered converter for this op.\n",
            "WARNING:tensorflow:Using a while_loop for converting RngReadAndSkip cause there is no registered converter for this op.\n",
            "WARNING:tensorflow:Using a while_loop for converting Bitcast cause there is no registered converter for this op.\n",
            "WARNING:tensorflow:Using a while_loop for converting Bitcast cause there is no registered converter for this op.\n",
            "WARNING:tensorflow:Using a while_loop for converting StatelessRandomUniformV2 cause there is no registered converter for this op.\n",
            "WARNING:tensorflow:Using a while_loop for converting ImageProjectiveTransformV3 cause there is no registered converter for this op.\n",
            "WARNING:tensorflow:Using a while_loop for converting RngReadAndSkip cause there is no registered converter for this op.\n",
            "WARNING:tensorflow:Using a while_loop for converting Bitcast cause there is no registered converter for this op.\n",
            "WARNING:tensorflow:Using a while_loop for converting Bitcast cause there is no registered converter for this op.\n",
            "WARNING:tensorflow:Using a while_loop for converting StatelessRandomUniformV2 cause there is no registered converter for this op.\n",
            "WARNING:tensorflow:Using a while_loop for converting RngReadAndSkip cause there is no registered converter for this op.\n",
            "WARNING:tensorflow:Using a while_loop for converting Bitcast cause there is no registered converter for this op.\n",
            "WARNING:tensorflow:Using a while_loop for converting Bitcast cause there is no registered converter for this op.\n",
            "WARNING:tensorflow:Using a while_loop for converting StatelessRandomUniformV2 cause there is no registered converter for this op.\n",
            "WARNING:tensorflow:Using a while_loop for converting ImageProjectiveTransformV3 cause there is no registered converter for this op.\n",
            "WARNING:tensorflow:Using a while_loop for converting RngReadAndSkip cause there is no registered converter for this op.\n",
            "WARNING:tensorflow:Using a while_loop for converting Bitcast cause there is no registered converter for this op.\n",
            "WARNING:tensorflow:Using a while_loop for converting Bitcast cause there is no registered converter for this op.\n",
            "WARNING:tensorflow:Using a while_loop for converting StatelessRandomUniformV2 cause there is no registered converter for this op.\n",
            "WARNING:tensorflow:Using a while_loop for converting ImageProjectiveTransformV3 cause there is no registered converter for this op.\n",
            "WARNING:tensorflow:Using a while_loop for converting RngReadAndSkip cause there is no registered converter for this op.\n",
            "WARNING:tensorflow:Using a while_loop for converting Bitcast cause there is no registered converter for this op.\n",
            "WARNING:tensorflow:Using a while_loop for converting Bitcast cause there is no registered converter for this op.\n",
            "WARNING:tensorflow:Using a while_loop for converting StatelessRandomUniformV2 cause there is no registered converter for this op.\n",
            "WARNING:tensorflow:Using a while_loop for converting RngReadAndSkip cause there is no registered converter for this op.\n",
            "WARNING:tensorflow:Using a while_loop for converting Bitcast cause there is no registered converter for this op.\n",
            "WARNING:tensorflow:Using a while_loop for converting Bitcast cause there is no registered converter for this op.\n",
            "WARNING:tensorflow:Using a while_loop for converting StatelessRandomUniformV2 cause there is no registered converter for this op.\n",
            "WARNING:tensorflow:Using a while_loop for converting ImageProjectiveTransformV3 cause there is no registered converter for this op.\n"
          ]
        },
        {
          "output_type": "stream",
          "name": "stdout",
          "text": [
            "20/20 [==============================] - 392s 12s/step - loss: 1.4352 - accuracy: 0.6484 - val_loss: 3.5596 - val_accuracy: 0.0229 - lr: 0.0010\n",
            "Epoch 2/10\n",
            "20/20 [==============================] - 39s 2s/step - loss: 0.2378 - accuracy: 0.9403 - val_loss: 3.5634 - val_accuracy: 0.0294 - lr: 0.0010\n",
            "Epoch 3/10\n",
            "20/20 [==============================] - 40s 2s/step - loss: 0.2102 - accuracy: 0.9436 - val_loss: 3.5823 - val_accuracy: 0.0278 - lr: 0.0010\n",
            "Epoch 4/10\n",
            "20/20 [==============================] - 41s 2s/step - loss: 0.1667 - accuracy: 0.9526 - val_loss: 3.5578 - val_accuracy: 0.0278 - lr: 0.0010\n",
            "Epoch 5/10\n",
            "20/20 [==============================] - 41s 2s/step - loss: 0.1828 - accuracy: 0.9444 - val_loss: 3.7024 - val_accuracy: 0.0278 - lr: 0.0010\n",
            "Epoch 6/10\n",
            "20/20 [==============================] - 41s 2s/step - loss: 0.1444 - accuracy: 0.9616 - val_loss: 4.1963 - val_accuracy: 0.0278 - lr: 0.0010\n",
            "Epoch 7/10\n",
            "20/20 [==============================] - ETA: 0s - loss: 0.1831 - accuracy: 0.9387\n",
            "Epoch 7: ReduceLROnPlateau reducing learning rate to 0.00010000000474974513.\n",
            "20/20 [==============================] - 41s 2s/step - loss: 0.1831 - accuracy: 0.9387 - val_loss: 4.2294 - val_accuracy: 0.0278 - lr: 0.0010\n",
            "Epoch 8/10\n",
            "20/20 [==============================] - 41s 2s/step - loss: 0.1002 - accuracy: 0.9730 - val_loss: 4.0126 - val_accuracy: 0.0278 - lr: 1.0000e-04\n",
            "Epoch 9/10\n",
            "20/20 [==============================] - 41s 2s/step - loss: 0.0664 - accuracy: 0.9796 - val_loss: 3.9042 - val_accuracy: 0.0278 - lr: 1.0000e-04\n",
            "Epoch 10/10\n",
            "20/20 [==============================] - ETA: 0s - loss: 0.0353 - accuracy: 0.9918\n",
            "Epoch 10: ReduceLROnPlateau reducing learning rate to 1.0000000474974514e-05.\n",
            "20/20 [==============================] - 42s 2s/step - loss: 0.0353 - accuracy: 0.9918 - val_loss: 3.8426 - val_accuracy: 0.0278 - lr: 1.0000e-04\n",
            "10/10 [==============================] - 6s 612ms/step - loss: 3.8426 - accuracy: 0.0278\n",
            "Results for fold 2\n",
            "Found 1223 files belonging to 30 classes.\n",
            "Found 612 files belonging to 30 classes.\n",
            "Epoch 1/10\n",
            "20/20 [==============================] - 41s 2s/step - loss: 0.0614 - accuracy: 0.9836 - val_loss: 3.8094 - val_accuracy: 0.0278 - lr: 1.0000e-05\n",
            "Epoch 2/10\n",
            "20/20 [==============================] - 48s 2s/step - loss: 0.0556 - accuracy: 0.9861 - val_loss: 3.7743 - val_accuracy: 0.0278 - lr: 1.0000e-05\n",
            "Epoch 3/10\n",
            "20/20 [==============================] - 42s 2s/step - loss: 0.0497 - accuracy: 0.9853 - val_loss: 3.7270 - val_accuracy: 0.0278 - lr: 1.0000e-05\n",
            "Epoch 4/10\n",
            "20/20 [==============================] - 41s 2s/step - loss: 0.0501 - accuracy: 0.9869 - val_loss: 3.6666 - val_accuracy: 0.0490 - lr: 1.0000e-05\n",
            "Epoch 5/10\n",
            "20/20 [==============================] - 41s 2s/step - loss: 0.0464 - accuracy: 0.9910 - val_loss: 3.5821 - val_accuracy: 0.0801 - lr: 1.0000e-05\n",
            "Epoch 6/10\n",
            "20/20 [==============================] - 40s 2s/step - loss: 0.0487 - accuracy: 0.9861 - val_loss: 3.4782 - val_accuracy: 0.0948 - lr: 1.0000e-05\n",
            "Epoch 7/10\n",
            "20/20 [==============================] - 40s 2s/step - loss: 0.0388 - accuracy: 0.9877 - val_loss: 3.3773 - val_accuracy: 0.0850 - lr: 1.0000e-05\n",
            "Epoch 8/10\n",
            "20/20 [==============================] - 40s 2s/step - loss: 0.0485 - accuracy: 0.9886 - val_loss: 3.2733 - val_accuracy: 0.0980 - lr: 1.0000e-05\n",
            "Epoch 9/10\n",
            "20/20 [==============================] - 40s 2s/step - loss: 0.0542 - accuracy: 0.9836 - val_loss: 3.1480 - val_accuracy: 0.1176 - lr: 1.0000e-05\n",
            "Epoch 10/10\n",
            "20/20 [==============================] - 41s 2s/step - loss: 0.0504 - accuracy: 0.9861 - val_loss: 3.0050 - val_accuracy: 0.1438 - lr: 1.0000e-05\n",
            "10/10 [==============================] - 5s 442ms/step - loss: 3.0050 - accuracy: 0.1438\n",
            "Results for fold 3\n",
            "Found 1224 files belonging to 30 classes.\n",
            "Found 611 files belonging to 30 classes.\n",
            "Epoch 1/10\n",
            "20/20 [==============================] - 43s 2s/step - loss: 0.0544 - accuracy: 0.9845 - val_loss: 2.8546 - val_accuracy: 0.1800 - lr: 1.0000e-05\n",
            "Epoch 2/10\n",
            "20/20 [==============================] - 41s 2s/step - loss: 0.0433 - accuracy: 0.9869 - val_loss: 2.6732 - val_accuracy: 0.2422 - lr: 1.0000e-05\n",
            "Epoch 3/10\n",
            "20/20 [==============================] - 41s 2s/step - loss: 0.0485 - accuracy: 0.9877 - val_loss: 2.5579 - val_accuracy: 0.2831 - lr: 1.0000e-05\n",
            "Epoch 4/10\n",
            "20/20 [==============================] - 41s 2s/step - loss: 0.0471 - accuracy: 0.9877 - val_loss: 2.4509 - val_accuracy: 0.3191 - lr: 1.0000e-05\n",
            "Epoch 5/10\n",
            "20/20 [==============================] - 41s 2s/step - loss: 0.0424 - accuracy: 0.9877 - val_loss: 2.3180 - val_accuracy: 0.3502 - lr: 1.0000e-05\n",
            "Epoch 6/10\n",
            "20/20 [==============================] - 40s 2s/step - loss: 0.0443 - accuracy: 0.9877 - val_loss: 2.2141 - val_accuracy: 0.3682 - lr: 1.0000e-05\n",
            "Epoch 7/10\n",
            "20/20 [==============================] - 41s 2s/step - loss: 0.0394 - accuracy: 0.9910 - val_loss: 2.1420 - val_accuracy: 0.3928 - lr: 1.0000e-05\n",
            "Epoch 8/10\n",
            "20/20 [==============================] - 40s 2s/step - loss: 0.0421 - accuracy: 0.9910 - val_loss: 2.0104 - val_accuracy: 0.4108 - lr: 1.0000e-05\n",
            "Epoch 9/10\n",
            "20/20 [==============================] - 40s 2s/step - loss: 0.0332 - accuracy: 0.9894 - val_loss: 1.9716 - val_accuracy: 0.4141 - lr: 1.0000e-05\n",
            "Epoch 10/10\n",
            "20/20 [==============================] - 41s 2s/step - loss: 0.0342 - accuracy: 0.9877 - val_loss: 1.8775 - val_accuracy: 0.4403 - lr: 1.0000e-05\n",
            "10/10 [==============================] - 4s 430ms/step - loss: 1.8775 - accuracy: 0.4403\n"
          ]
        }
      ]
    },
    {
      "cell_type": "code",
      "source": [
        "from sklearn.metrics import classification_report, roc_curve, roc_auc_score\n",
        "import pandas as pd\n",
        "import plotly.graph_objects as go\n",
        "import plotly.express as px\n",
        "import matplotlib.pyplot as plt"
      ],
      "metadata": {
        "id": "jJurHyH7k6Ny"
      },
      "execution_count": 27,
      "outputs": []
    },
    {
      "cell_type": "code",
      "source": [
        "plt.title(\"Loss\", fontdict={'fontsize':18})\n",
        "plt.plot(history.history['loss'],label='train')\n",
        "plt.plot(history.history['val_loss'],label='test')\n",
        "plt.legend()\n",
        "plt.show()"
      ],
      "metadata": {
        "id": "TOQlD_ZTko2y",
        "colab": {
          "base_uri": "https://localhost:8080/",
          "height": 285
        },
        "outputId": "4a94263e-3311-4a94-90e2-a8c9025edad0"
      },
      "execution_count": 28,
      "outputs": [
        {
          "output_type": "display_data",
          "data": {
            "text/plain": [
              "<Figure size 432x288 with 1 Axes>"
            ],
            "image/png": "[encoded data removed]"
          },
          "metadata": {
            "needs_background": "light"
          }
        }
      ]
    },
    {
      "cell_type": "code",
      "source": [
        "plt.title(\"Accuracy\", fontdict={'fontsize':18})\n",
        "plt.plot(history.history['accuracy'],label='train')\n",
        "plt.plot(history.history['val_accuracy'],label='test')\n",
        "plt.legend()\n",
        "plt.show()"
      ],
      "metadata": {
        "id": "7pwYMz2Bkyt5",
        "colab": {
          "base_uri": "https://localhost:8080/",
          "height": 285
        },
        "outputId": "2589388b-841d-40d6-db2f-3cbc32ceea5c"
      },
      "execution_count": 29,
      "outputs": [
        {
          "output_type": "display_data",
          "data": {
            "text/plain": [
              "<Figure size 432x288 with 1 Axes>"
            ],
            "image/png": "[encoded data removed]"
          },
          "metadata": {
            "needs_background": "light"
          }
        }
      ]
    },
    {
      "cell_type": "code",
      "source": [
        "Y_train = []\n",
        "X_train = []\n",
        "for data in train_generator:\n",
        "    X_train.extend(data[0].numpy())\n",
        "    Y_train.extend(data[1].numpy())\n",
        "Y_train = np.array(Y_train)\n",
        "X_train = np.array(X_train)"
      ],
      "metadata": {
        "id": "93F3DoWUk7Oa"
      },
      "execution_count": 30,
      "outputs": []
    },
    {
      "cell_type": "code",
      "source": [
        "y_train_pred_prob = model.predict(X_train)\n",
        "y_train_pred = [np.argmax(i) for i in y_train_pred_prob]"
      ],
      "metadata": {
        "id": "IAbUM7JblMA6",
        "colab": {
          "base_uri": "https://localhost:8080/"
        },
        "outputId": "81a11a4e-41fd-4b02-dd32-fa4bc2ab9b76"
      },
      "execution_count": 31,
      "outputs": [
        {
          "output_type": "stream",
          "name": "stdout",
          "text": [
            "39/39 [==============================] - 8s 121ms/step\n"
          ]
        }
      ]
    },
    {
      "cell_type": "code",
      "source": [
        "y_train_pred_prob.shape"
      ],
      "metadata": {
        "id": "ubgm_cWxlUrD",
        "colab": {
          "base_uri": "https://localhost:8080/"
        },
        "outputId": "6a9fb5a1-5503-4f5c-9163-e363c68e0962"
      },
      "execution_count": 32,
      "outputs": [
        {
          "output_type": "execute_result",
          "data": {
            "text/plain": [
              "(1224, 30)"
            ]
          },
          "metadata": {},
          "execution_count": 32
        }
      ]
    },
    {
      "cell_type": "code",
      "source": [
        "#function to plot roc-auc curve\n",
        "def roc_auc_curve(y_scores, y_true):\n",
        "    # One hot encode the labels in order to plot them\n",
        "    y_onehot = pd.get_dummies(y_true, columns=classLabels)\n",
        "\n",
        "    # Create an empty figure, and iteratively add new lines\n",
        "    # every time we compute a new class\n",
        "    fig = go.Figure()\n",
        "    fig.add_shape(\n",
        "        type='line', line=dict(dash='dash'),\n",
        "        x0=0, x1=1, y0=0, y1=1\n",
        "    )\n",
        "\n",
        "    for i in range(y_scores.shape[1]):\n",
        "        y_true = y_onehot.iloc[:, i]\n",
        "        y_score = y_scores[:, i]\n",
        "\n",
        "        fpr, tpr, _ = roc_curve(y_true, y_score)\n",
        "        auc_score = roc_auc_score(y_true, y_score)\n",
        "\n",
        "        name = f\"{classLabels[i]} (AUC={auc_score:.2f})\"\n",
        "        fig.add_trace(go.Scatter(x=fpr, y=tpr, name=name, mode='lines'))\n",
        "\n",
        "    fig.update_layout(\n",
        "        title=\"ROC Curve\",\n",
        "        xaxis_title='False Positive Rate',\n",
        "        yaxis_title='True Positive Rate',\n",
        "        yaxis=dict(scaleanchor=\"x\", scaleratio=1),\n",
        "        xaxis=dict(constrain='domain'),\n",
        "        width=900, height=800\n",
        "    )\n",
        "    \n",
        "    return fig"
      ],
      "metadata": {
        "id": "A5Ywk5jrlVYi"
      },
      "execution_count": 33,
      "outputs": []
    },
    {
      "cell_type": "code",
      "source": [
        "import seaborn as sb"
      ],
      "metadata": {
        "id": "YlYX57A4lj1J"
      },
      "execution_count": 34,
      "outputs": []
    },
    {
      "cell_type": "code",
      "source": [
        "plt.figure(figsize=(25,7))\n",
        "sb.heatmap(tf.math.confusion_matrix(labels=Y_train,predictions=y_train_pred),annot=True,fmt='.1f', cmap='hot_r')\n",
        "plt.xlabel('Predicted Values')\n",
        "plt.ylabel('Actual Values')\n",
        "plt.title('Confusion Matrix (Training)')\n",
        "plt.tight_layout()\n",
        "plt.show()"
      ],
      "metadata": {
        "id": "sZZQfWeDl9wq",
        "colab": {
          "base_uri": "https://localhost:8080/",
          "height": 490
        },
        "outputId": "129ccf8a-bcaf-4fc4-e4d6-7e86e2c1b182"
      },
      "execution_count": 35,
      "outputs": [
        {
          "output_type": "display_data",
          "data": {
            "text/plain": [
              "<Figure size 1800x504 with 2 Axes>"
            ],
            "image/png": "[encoded data removed]"
          },
          "metadata": {
            "needs_background": "light"
          }
        }
      ]
    },
    {
      "cell_type": "code",
      "source": [
        "print(\"Classification Report for Training\")\n",
        "print(classification_report(Y_train, y_train_pred))"
      ],
      "metadata": {
        "id": "iLpnqOcGmEks",
        "colab": {
          "base_uri": "https://localhost:8080/"
        },
        "outputId": "afb78d1c-5529-49b4-97a5-8133da911422"
      },
      "execution_count": 36,
      "outputs": [
        {
          "output_type": "stream",
          "name": "stdout",
          "text": [
            "Classification Report for Training\n",
            "              precision    recall  f1-score   support\n",
            "\n",
            "           0       1.00      0.74      0.85        34\n",
            "           1       1.00      0.22      0.36        81\n",
            "           2       0.67      0.05      0.10        37\n",
            "           3       1.00      0.57      0.73        40\n",
            "           4       0.95      0.28      0.43        69\n",
            "           5       1.00      0.78      0.88        23\n",
            "           6       0.25      1.00      0.40        49\n",
            "           7       0.19      0.97      0.32        38\n",
            "           8       0.40      0.06      0.11        33\n",
            "           9       1.00      0.17      0.29        42\n",
            "          10       0.00      0.00      0.00        29\n",
            "          11       0.70      0.15      0.25        47\n",
            "          12       0.71      0.57      0.63        42\n",
            "          13       1.00      0.34      0.51        64\n",
            "          14       0.75      0.06      0.11        52\n",
            "          15       0.31      1.00      0.48        37\n",
            "          16       1.00      0.05      0.10        40\n",
            "          17       0.41      1.00      0.58        41\n",
            "          18       0.44      1.00      0.61        27\n",
            "          19       0.42      0.77      0.55        35\n",
            "          20       1.00      0.19      0.32        32\n",
            "          21       1.00      0.12      0.22        32\n",
            "          22       1.00      0.38      0.55        40\n",
            "          23       0.42      1.00      0.59        44\n",
            "          24       0.95      0.77      0.85        52\n",
            "          25       1.00      0.03      0.05        39\n",
            "          26       0.00      0.00      0.00        26\n",
            "          27       1.00      0.14      0.24        37\n",
            "          28       0.26      0.82      0.39        38\n",
            "          29       0.80      0.17      0.28        24\n",
            "\n",
            "    accuracy                           0.44      1224\n",
            "   macro avg       0.69      0.45      0.39      1224\n",
            "weighted avg       0.72      0.44      0.40      1224\n",
            "\n"
          ]
        },
        {
          "output_type": "stream",
          "name": "stderr",
          "text": [
            "/usr/local/lib/python3.9/dist-packages/sklearn/metrics/_classification.py:1344: UndefinedMetricWarning: Precision and F-score are ill-defined and being set to 0.0 in labels with no predicted samples. Use `zero_division` parameter to control this behavior.\n",
            "  _warn_prf(average, modifier, msg_start, len(result))\n",
            "/usr/local/lib/python3.9/dist-packages/sklearn/metrics/_classification.py:1344: UndefinedMetricWarning: Precision and F-score are ill-defined and being set to 0.0 in labels with no predicted samples. Use `zero_division` parameter to control this behavior.\n",
            "  _warn_prf(average, modifier, msg_start, len(result))\n",
            "/usr/local/lib/python3.9/dist-packages/sklearn/metrics/_classification.py:1344: UndefinedMetricWarning: Precision and F-score are ill-defined and being set to 0.0 in labels with no predicted samples. Use `zero_division` parameter to control this behavior.\n",
            "  _warn_prf(average, modifier, msg_start, len(result))\n"
          ]
        }
      ]
    },
    {
      "cell_type": "code",
      "source": [
        "roc_auc_curve(y_train_pred_prob, Y_train)\n",
        "X_test = []\n",
        "y_test = []\n",
        "for data in validation_generator:\n",
        "    X_test.extend(data[0].numpy())\n",
        "    y_test.extend(data[1].numpy())\n",
        "X_test = np.array(X_test)\n",
        "y_test = np.array(y_test)"
      ],
      "metadata": {
        "id": "mu3MhzQnmKR5"
      },
      "execution_count": 37,
      "outputs": []
    },
    {
      "cell_type": "code",
      "source": [
        "y_test_pred_prob = model.predict(X_test)\n",
        "y_test_pred = [np.argmax(i) for i in y_test_pred_prob]"
      ],
      "metadata": {
        "id": "peCIJs3KmT5a",
        "colab": {
          "base_uri": "https://localhost:8080/"
        },
        "outputId": "9d091e7f-f698-41d3-d84d-59940c2f41f1"
      },
      "execution_count": 38,
      "outputs": [
        {
          "output_type": "stream",
          "name": "stdout",
          "text": [
            "20/20 [==============================] - 3s 141ms/step\n"
          ]
        }
      ]
    },
    {
      "cell_type": "code",
      "source": [
        "np.unique(y_test)"
      ],
      "metadata": {
        "id": "an7a0Ymplmh5",
        "colab": {
          "base_uri": "https://localhost:8080/"
        },
        "outputId": "e8331c87-714c-43f7-d380-a3bb5b0d344c"
      },
      "execution_count": 39,
      "outputs": [
        {
          "output_type": "execute_result",
          "data": {
            "text/plain": [
              "array([ 0,  1,  2,  3,  4,  5,  6,  7,  8,  9, 10, 11, 12, 13, 14, 15, 16,\n",
              "       17, 18, 19, 20, 21, 22, 23, 24, 25, 26, 27, 28, 29], dtype=int32)"
            ]
          },
          "metadata": {},
          "execution_count": 39
        }
      ]
    },
    {
      "cell_type": "code",
      "source": [
        "plt.figure(figsize=(25,7))\n",
        "sb.heatmap(tf.math.confusion_matrix(labels=y_test,predictions=y_test_pred),annot=True,fmt='.1f', cmap='hot_r')\n",
        "plt.xlabel('Predicted Values')\n",
        "plt.ylabel('Actual Values')\n",
        "plt.title('Confusion Matrix')\n",
        "plt.tight_layout()\n",
        "plt.show()"
      ],
      "metadata": {
        "id": "AxCwvhHVk-vY",
        "colab": {
          "base_uri": "https://localhost:8080/",
          "height": 490
        },
        "outputId": "0f7c8880-2bee-45b9-e020-fa4e57d7c2f9"
      },
      "execution_count": 40,
      "outputs": [
        {
          "output_type": "display_data",
          "data": {
            "text/plain": [
              "<Figure size 1800x504 with 2 Axes>"
            ],
            "image/png": "[encoded data removed]"
          },
          "metadata": {
            "needs_background": "light"
          }
        }
      ]
    },
    {
      "cell_type": "code",
      "source": [
        "print(\"Classification Report for Test\")\n",
        "print(classification_report(y_test, y_test_pred))"
      ],
      "metadata": {
        "id": "LFm0u6zSmaGj",
        "colab": {
          "base_uri": "https://localhost:8080/"
        },
        "outputId": "1b4d6bed-0b53-4dd2-de8d-12514816c0ec"
      },
      "execution_count": 41,
      "outputs": [
        {
          "output_type": "stream",
          "name": "stdout",
          "text": [
            "Classification Report for Test\n",
            "              precision    recall  f1-score   support\n",
            "\n",
            "           0       1.00      0.81      0.90        16\n",
            "           1       1.00      0.12      0.22        41\n",
            "           2       1.00      0.05      0.10        19\n",
            "           3       1.00      0.75      0.86        20\n",
            "           4       0.92      0.35      0.51        34\n",
            "           5       1.00      0.73      0.84        11\n",
            "           6       0.26      1.00      0.41        25\n",
            "           7       0.17      0.95      0.29        19\n",
            "           8       1.00      0.06      0.11        17\n",
            "           9       1.00      0.19      0.32        21\n",
            "          10       1.00      0.07      0.13        14\n",
            "          11       0.50      0.08      0.14        24\n",
            "          12       0.93      0.65      0.76        20\n",
            "          13       1.00      0.39      0.57        33\n",
            "          14       1.00      0.08      0.15        25\n",
            "          15       0.40      1.00      0.57        19\n",
            "          16       0.00      0.00      0.00        20\n",
            "          17       0.45      1.00      0.62        21\n",
            "          18       0.36      1.00      0.53        13\n",
            "          19       0.52      0.76      0.62        17\n",
            "          20       1.00      0.19      0.32        16\n",
            "          21       1.00      0.25      0.40        16\n",
            "          22       0.71      0.24      0.36        21\n",
            "          23       0.32      1.00      0.48        21\n",
            "          24       1.00      0.67      0.80        27\n",
            "          25       0.00      0.00      0.00        19\n",
            "          26       0.00      0.00      0.00        13\n",
            "          27       1.00      0.11      0.19        19\n",
            "          28       0.26      0.83      0.40        18\n",
            "          29       1.00      0.17      0.29        12\n",
            "\n",
            "    accuracy                           0.44       611\n",
            "   macro avg       0.69      0.45      0.40       611\n",
            "weighted avg       0.71      0.44      0.40       611\n",
            "\n"
          ]
        },
        {
          "output_type": "stream",
          "name": "stderr",
          "text": [
            "/usr/local/lib/python3.9/dist-packages/sklearn/metrics/_classification.py:1344: UndefinedMetricWarning:\n",
            "\n",
            "Precision and F-score are ill-defined and being set to 0.0 in labels with no predicted samples. Use `zero_division` parameter to control this behavior.\n",
            "\n",
            "/usr/local/lib/python3.9/dist-packages/sklearn/metrics/_classification.py:1344: UndefinedMetricWarning:\n",
            "\n",
            "Precision and F-score are ill-defined and being set to 0.0 in labels with no predicted samples. Use `zero_division` parameter to control this behavior.\n",
            "\n",
            "/usr/local/lib/python3.9/dist-packages/sklearn/metrics/_classification.py:1344: UndefinedMetricWarning:\n",
            "\n",
            "Precision and F-score are ill-defined and being set to 0.0 in labels with no predicted samples. Use `zero_division` parameter to control this behavior.\n",
            "\n"
          ]
        }
      ]
    },
    {
      "cell_type": "code",
      "source": [
        "roc_auc_curve(y_test_pred_prob, y_test)"
      ],
      "metadata": {
        "id": "LGL2Ta5xmf5r",
        "colab": {
          "base_uri": "https://localhost:8080/",
          "height": 817
        },
        "outputId": "672a433d-8dfd-47b2-cca6-a9eac2a87708"
      },
      "execution_count": 42,
      "outputs": [
        {
          "output_type": "display_data",
          "data": {
            "text/html": [
              "<html>\n",
              "<head><meta charset=\"utf-8\" /></head>\n",
              "<body>\n",
              "    <div>            <script src=\"https://cdnjs.cloudflare.com/ajax/libs/mathjax/2.7.5/MathJax.js?config=TeX-AMS-MML_SVG\"></script><script type=\"text/javascript\">if (window.MathJax) {MathJax.Hub.Config({SVG: {font: \"STIX-Web\"}});}</script>                <script type=\"text/javascript\">window.PlotlyConfig = {MathJaxConfig: 'local'};</script>\n",
              "        <script src=\"https://cdn.plot.ly/plotly-2.8.3.min.js\"></script>                <div id=\"122f3915-9a3f-4d66-ad6c-7932896b21ec\" class=\"plotly-graph-div\" style=\"height:800px; width:900px;\"></div>            <script type=\"text/javascript\">                                    window.PLOTLYENV=window.PLOTLYENV || {};                                    if (document.getElementById(\"122f3915-9a3f-4d66-ad6c-7932896b21ec\")) {                    Plotly.newPlot(                        \"122f3915-9a3f-4d66-ad6c-7932896b21ec\",                        [{\"mode\":\"lines\",\"name\":\"Alpinia Galanga (Rasna) (AUC=1.00)\",\"x\":[0.0,0.0,0.0,0.047058823529411764,0.047058823529411764,1.0],\"y\":[0.0,0.0625,0.9375,0.9375,1.0,1.0],\"type\":\"scatter\"},{\"mode\":\"lines\",\"name\":\"Amaranthus Viridis (Arive-Dantu) (AUC=0.99)\",\"x\":[0.0,0.0,0.0,0.0017543859649122807,0.0017543859649122807,0.0035087719298245615,0.0035087719298245615,0.005263157894736842,0.005263157894736842,0.007017543859649123,0.007017543859649123,0.008771929824561403,0.008771929824561403,0.014035087719298246,0.014035087719298246,0.015789473684210527,0.015789473684210527,0.02280701754385965,0.02280701754385965,0.02631578947368421,0.02631578947368421,0.03684210526315789,0.03684210526315789,0.0456140350877193,0.0456140350877193,0.06842105263157895,0.06842105263157895,1.0],\"y\":[0.0,0.024390243902439025,0.36585365853658536,0.36585365853658536,0.3902439024390244,0.3902439024390244,0.5121951219512195,0.5121951219512195,0.5853658536585366,0.5853658536585366,0.7073170731707317,0.7073170731707317,0.7560975609756098,0.7560975609756098,0.7804878048780488,0.7804878048780488,0.8780487804878049,0.8780487804878049,0.9024390243902439,0.9024390243902439,0.926829268292683,0.926829268292683,0.9512195121951219,0.9512195121951219,0.975609756097561,0.975609756097561,1.0,1.0],\"type\":\"scatter\"},{\"mode\":\"lines\",\"name\":\"Artocarpus Heterophyllus (Jackfruit) (AUC=0.96)\",\"x\":[0.0,0.0,0.0,0.005067567567567568,0.005067567567567568,0.006756756756756757,0.006756756756756757,0.008445945945945946,0.008445945945945946,0.011824324324324325,0.011824324324324325,0.018581081081081082,0.018581081081081082,0.030405405405405407,0.030405405405405407,0.03547297297297297,0.03547297297297297,0.04560810810810811,0.04560810810810811,0.05912162162162162,0.05912162162162162,0.11824324324324324,0.11824324324324324,0.2905405405405405,0.2905405405405405,1.0],\"y\":[0.0,0.05263157894736842,0.15789473684210525,0.15789473684210525,0.21052631578947367,0.21052631578947367,0.3684210526315789,0.3684210526315789,0.5263157894736842,0.5263157894736842,0.5789473684210527,0.5789473684210527,0.631578947368421,0.631578947368421,0.6842105263157895,0.6842105263157895,0.7368421052631579,0.7368421052631579,0.7894736842105263,0.7894736842105263,0.8947368421052632,0.8947368421052632,0.9473684210526315,0.9473684210526315,1.0,1.0],\"type\":\"scatter\"},{\"mode\":\"lines\",\"name\":\"Azadirachta Indica (Neem) (AUC=1.00)\",\"x\":[0.0,0.0,0.0,0.005076142131979695,0.005076142131979695,1.0],\"y\":[0.0,0.05,0.95,0.95,1.0,1.0],\"type\":\"scatter\"},{\"mode\":\"lines\",\"name\":\"Basella Alba (Basale) (AUC=0.99)\",\"x\":[0.0,0.0,0.0,0.0017331022530329288,0.0017331022530329288,0.0034662045060658577,0.0034662045060658577,0.01733102253032929,0.01733102253032929,0.03986135181975736,0.03986135181975736,0.04679376083188908,0.04679376083188908,0.05199306759098787,0.05199306759098787,0.10051993067590988,0.10051993067590988,1.0],\"y\":[0.0,0.029411764705882353,0.14705882352941177,0.14705882352941177,0.7941176470588235,0.7941176470588235,0.8529411764705882,0.8529411764705882,0.8823529411764706,0.8823529411764706,0.9117647058823529,0.9117647058823529,0.9411764705882353,0.9411764705882353,0.9705882352941176,0.9705882352941176,1.0,1.0],\"type\":\"scatter\"},{\"mode\":\"lines\",\"name\":\"Brassica Juncea (Indian Mustard) (AUC=1.00)\",\"x\":[0.0,0.0,0.0,0.0016666666666666668,0.0016666666666666668,1.0],\"y\":[0.0,0.09090909090909091,0.9090909090909091,0.9090909090909091,1.0,1.0],\"type\":\"scatter\"},{\"mode\":\"lines\",\"name\":\"Carissa Carandas (Karanda) (AUC=1.00)\",\"x\":[0.0,0.0,0.0,0.0017064846416382253,0.0017064846416382253,0.0034129692832764505,0.0034129692832764505,0.005119453924914676,0.005119453924914676,0.008532423208191127,0.008532423208191127,0.010238907849829351,0.010238907849829351,0.013651877133105802,0.013651877133105802,1.0],\"y\":[0.0,0.04,0.4,0.4,0.44,0.44,0.68,0.68,0.84,0.84,0.88,0.88,0.96,0.96,1.0,1.0],\"type\":\"scatter\"},{\"mode\":\"lines\",\"name\":\"Citrus Limon (Lemon) (AUC=0.98)\",\"x\":[0.0,0.0,0.0,0.0016891891891891893,0.0016891891891891893,0.0033783783783783786,0.0033783783783783786,0.013513513513513514,0.013513513513513514,0.02533783783783784,0.02533783783783784,0.03547297297297297,0.03547297297297297,0.048986486486486486,0.048986486486486486,0.1266891891891892,0.1266891891891892,0.1570945945945946,0.1570945945945946,1.0],\"y\":[0.0,0.05263157894736842,0.5789473684210527,0.5789473684210527,0.631578947368421,0.631578947368421,0.6842105263157895,0.6842105263157895,0.7368421052631579,0.7368421052631579,0.7894736842105263,0.7894736842105263,0.8421052631578947,0.8421052631578947,0.8947368421052632,0.8947368421052632,0.9473684210526315,0.9473684210526315,1.0,1.0],\"type\":\"scatter\"},{\"mode\":\"lines\",\"name\":\"Ficus Auriculata (Roxburgh fig) (AUC=0.88)\",\"x\":[0.0,0.0,0.008417508417508417,0.008417508417508417,0.018518518518518517,0.018518518518518517,0.020202020202020204,0.020202020202020204,0.021885521885521887,0.021885521885521887,0.025252525252525252,0.025252525252525252,0.026936026936026935,0.026936026936026935,0.02861952861952862,0.02861952861952862,0.03198653198653199,0.03198653198653199,0.04208754208754209,0.04208754208754209,0.06734006734006734,0.06734006734006734,0.10774410774410774,0.10774410774410774,0.13468013468013468,0.13468013468013468,0.5488215488215489,0.5488215488215489,0.7811447811447811,0.7811447811447811,1.0],\"y\":[0.0,0.058823529411764705,0.058823529411764705,0.11764705882352941,0.11764705882352941,0.17647058823529413,0.17647058823529413,0.23529411764705882,0.23529411764705882,0.29411764705882354,0.29411764705882354,0.35294117647058826,0.35294117647058826,0.4117647058823529,0.4117647058823529,0.47058823529411764,0.47058823529411764,0.5294117647058824,0.5294117647058824,0.6470588235294118,0.6470588235294118,0.7647058823529411,0.7647058823529411,0.8235294117647058,0.8235294117647058,0.8823529411764706,0.8823529411764706,0.9411764705882353,0.9411764705882353,1.0,1.0],\"type\":\"scatter\"},{\"mode\":\"lines\",\"name\":\"Ficus Religiosa (Peepal Tree) (AUC=1.00)\",\"x\":[0.0,0.0,0.0,0.003389830508474576,0.003389830508474576,0.013559322033898305,0.013559322033898305,1.0],\"y\":[0.0,0.047619047619047616,0.9047619047619048,0.9047619047619048,0.9523809523809523,0.9523809523809523,1.0,1.0],\"type\":\"scatter\"},{\"mode\":\"lines\",\"name\":\"Hibiscus Rosa-sinensis (AUC=0.93)\",\"x\":[0.0,0.0,0.0,0.005025125628140704,0.005025125628140704,0.01340033500837521,0.01340033500837521,0.020100502512562814,0.020100502512562814,0.04522613065326633,0.04522613065326633,0.06365159128978225,0.06365159128978225,0.22278056951423786,0.22278056951423786,0.6180904522613065,0.6180904522613065,1.0],\"y\":[0.0,0.07142857142857142,0.5,0.5,0.5714285714285714,0.5714285714285714,0.6428571428571429,0.6428571428571429,0.7142857142857143,0.7142857142857143,0.7857142857142857,0.7857142857142857,0.8571428571428571,0.8571428571428571,0.9285714285714286,0.9285714285714286,1.0,1.0],\"type\":\"scatter\"},{\"mode\":\"lines\",\"name\":\"Jasminum (Jasmine) (AUC=0.98)\",\"x\":[0.0,0.0,0.0034071550255536627,0.0034071550255536627,0.005110732538330494,0.005110732538330494,0.0068143100511073255,0.0068143100511073255,0.01192504258943782,0.01192504258943782,0.013628620102214651,0.013628620102214651,0.020442930153321975,0.020442930153321975,0.022146507666098807,0.022146507666098807,0.02555366269165247,0.02555366269165247,0.028960817717206135,0.028960817717206135,0.03236797274275979,0.03236797274275979,0.034071550255536626,0.034071550255536626,0.039182282793867124,0.039182282793867124,0.09369676320272573,0.09369676320272573,1.0],\"y\":[0.0,0.041666666666666664,0.041666666666666664,0.125,0.125,0.2916666666666667,0.2916666666666667,0.5,0.5,0.5416666666666666,0.5416666666666666,0.5833333333333334,0.5833333333333334,0.6666666666666666,0.6666666666666666,0.7083333333333334,0.7083333333333334,0.75,0.75,0.8333333333333334,0.8333333333333334,0.875,0.875,0.9166666666666666,0.9166666666666666,0.9583333333333334,0.9583333333333334,1.0,1.0],\"type\":\"scatter\"},{\"mode\":\"lines\",\"name\":\"Mangifera Indica (Mango) (AUC=1.00)\",\"x\":[0.0,0.0,0.0,0.001692047377326565,0.001692047377326565,0.00338409475465313,0.00338409475465313,0.005076142131979695,0.005076142131979695,0.04060913705583756,0.04060913705583756,1.0],\"y\":[0.0,0.05,0.6,0.6,0.85,0.85,0.9,0.9,0.95,0.95,1.0,1.0],\"type\":\"scatter\"},{\"mode\":\"lines\",\"name\":\"Mentha (Mint) (AUC=0.95)\",\"x\":[0.0,0.0,0.0,0.005190311418685121,0.005190311418685121,0.03633217993079585,0.03633217993079585,0.04152249134948097,0.04152249134948097,0.04325259515570934,0.04325259515570934,0.058823529411764705,0.058823529411764705,0.07439446366782007,0.07439446366782007,0.08996539792387544,0.08996539792387544,0.28546712802768165,0.28546712802768165,0.4429065743944637,0.4429065743944637,0.45501730103806226,0.45501730103806226,1.0],\"y\":[0.0,0.030303030303030304,0.696969696969697,0.696969696969697,0.7272727272727273,0.7272727272727273,0.7575757575757576,0.7575757575757576,0.7878787878787878,0.7878787878787878,0.8181818181818182,0.8181818181818182,0.8484848484848485,0.8484848484848485,0.8787878787878788,0.8787878787878788,0.9090909090909091,0.9090909090909091,0.9393939393939394,0.9393939393939394,0.9696969696969697,0.9696969696969697,1.0,1.0],\"type\":\"scatter\"},{\"mode\":\"lines\",\"name\":\"Moringa Oleifera (Drumstick) (AUC=0.99)\",\"x\":[0.0,0.0,0.0,0.0017064846416382253,0.0017064846416382253,0.006825938566552901,0.006825938566552901,0.011945392491467578,0.011945392491467578,0.025597269624573378,0.025597269624573378,0.034129692832764506,0.034129692832764506,0.03583617747440273,0.03583617747440273,0.05460750853242321,0.05460750853242321,0.059726962457337884,0.059726962457337884,0.10921501706484642,0.10921501706484642,1.0],\"y\":[0.0,0.04,0.36,0.36,0.6,0.6,0.64,0.64,0.76,0.76,0.8,0.8,0.84,0.84,0.88,0.88,0.92,0.92,0.96,0.96,1.0,1.0],\"type\":\"scatter\"},{\"mode\":\"lines\",\"name\":\"Muntingia Calabura (Jamaica Cherry-Gasagase) (AUC=1.00)\",\"x\":[0.0,0.0,0.0,0.0016891891891891893,0.0016891891891891893,0.005067567567567568,0.005067567567567568,0.010135135135135136,0.010135135135135136,1.0],\"y\":[0.0,0.05263157894736842,0.8421052631578947,0.8421052631578947,0.8947368421052632,0.8947368421052632,0.9473684210526315,0.9473684210526315,1.0,1.0],\"type\":\"scatter\"},{\"mode\":\"lines\",\"name\":\"Murraya Koenigii (Curry) (AUC=0.91)\",\"x\":[0.0,0.0,0.0,0.01353637901861252,0.01353637901861252,0.01692047377326565,0.01692047377326565,0.023688663282571912,0.023688663282571912,0.047377326565143825,0.047377326565143825,0.0727580372250423,0.0727580372250423,0.09983079526226735,0.09983079526226735,0.12521150592216582,0.12521150592216582,0.13705583756345177,0.13705583756345177,0.15397631133671744,0.15397631133671744,0.19289340101522842,0.19289340101522842,0.21658206429780033,0.21658206429780033,0.2808798646362098,0.2808798646362098,0.30287648054145516,0.30287648054145516,1.0],\"y\":[0.0,0.05,0.25,0.25,0.35,0.35,0.4,0.4,0.5,0.5,0.55,0.55,0.6,0.6,0.65,0.65,0.7,0.7,0.75,0.75,0.8,0.8,0.85,0.85,0.9,0.9,0.95,0.95,1.0,1.0],\"type\":\"scatter\"},{\"mode\":\"lines\",\"name\":\"Nerium Oleander (Oleander) (AUC=0.99)\",\"x\":[0.0,0.0,0.0,0.001694915254237288,0.001694915254237288,0.003389830508474576,0.003389830508474576,0.005084745762711864,0.005084745762711864,0.011864406779661017,0.011864406779661017,0.01864406779661017,0.01864406779661017,1.0],\"y\":[0.0,0.047619047619047616,0.14285714285714285,0.14285714285714285,0.23809523809523808,0.23809523809523808,0.3333333333333333,0.3333333333333333,0.8095238095238095,0.8095238095238095,0.9523809523809523,0.9523809523809523,1.0,1.0],\"type\":\"scatter\"},{\"mode\":\"lines\",\"name\":\"Nyctanthes Arbor-tristis (Parijata) (AUC=1.00)\",\"x\":[0.0,0.0,0.0,1.0],\"y\":[0.0,0.07692307692307693,1.0,1.0],\"type\":\"scatter\"},{\"mode\":\"lines\",\"name\":\"Ocimum Tenuiflorum (Tulsi) (AUC=0.99)\",\"x\":[0.0,0.0,0.0016835016835016834,0.0016835016835016834,0.005050505050505051,0.005050505050505051,0.011784511784511785,0.011784511784511785,0.015151515151515152,0.015151515151515152,0.018518518518518517,0.018518518518518517,0.02861952861952862,0.02861952861952862,0.030303030303030304,0.030303030303030304,0.050505050505050504,0.050505050505050504,1.0],\"y\":[0.0,0.058823529411764705,0.058823529411764705,0.5294117647058824,0.5294117647058824,0.5882352941176471,0.5882352941176471,0.6470588235294118,0.6470588235294118,0.7058823529411765,0.7058823529411765,0.7647058823529411,0.7647058823529411,0.8235294117647058,0.8235294117647058,0.9411764705882353,0.9411764705882353,1.0,1.0],\"type\":\"scatter\"},{\"mode\":\"lines\",\"name\":\"Piper Betle (Betel) (AUC=0.99)\",\"x\":[0.0,0.0,0.0,0.0016806722689075631,0.0016806722689075631,0.0033613445378151263,0.0033613445378151263,0.010084033613445379,0.010084033613445379,0.05042016806722689,0.05042016806722689,1.0],\"y\":[0.0,0.0625,0.375,0.375,0.625,0.625,0.875,0.875,0.9375,0.9375,1.0,1.0],\"type\":\"scatter\"},{\"mode\":\"lines\",\"name\":\"Plectranthus Amboinicus (Mexican Mint) (AUC=0.98)\",\"x\":[0.0,0.0,0.0,0.0016806722689075631,0.0016806722689075631,0.0033613445378151263,0.0033613445378151263,0.030252100840336135,0.030252100840336135,0.05378151260504202,0.05378151260504202,0.058823529411764705,0.058823529411764705,0.14789915966386555,0.14789915966386555,1.0],\"y\":[0.0,0.0625,0.625,0.625,0.6875,0.6875,0.75,0.75,0.8125,0.8125,0.875,0.875,0.9375,0.9375,1.0,1.0],\"type\":\"scatter\"},{\"mode\":\"lines\",\"name\":\"Pongamia Pinnata (Indian Beech) (AUC=0.97)\",\"x\":[0.0,0.0,0.0,0.001694915254237288,0.001694915254237288,0.003389830508474576,0.003389830508474576,0.005084745762711864,0.005084745762711864,0.00847457627118644,0.00847457627118644,0.010169491525423728,0.010169491525423728,0.022033898305084745,0.022033898305084745,0.023728813559322035,0.023728813559322035,0.03220338983050847,0.03220338983050847,0.03898305084745763,0.03898305084745763,0.06610169491525424,0.06610169491525424,0.09661016949152543,0.09661016949152543,0.13389830508474576,0.13389830508474576,0.13728813559322034,0.13728813559322034,1.0],\"y\":[0.0,0.047619047619047616,0.2857142857142857,0.2857142857142857,0.3333333333333333,0.3333333333333333,0.42857142857142855,0.42857142857142855,0.47619047619047616,0.47619047619047616,0.5238095238095238,0.5238095238095238,0.5714285714285714,0.5714285714285714,0.6190476190476191,0.6190476190476191,0.6666666666666666,0.6666666666666666,0.7142857142857143,0.7142857142857143,0.8095238095238095,0.8095238095238095,0.8571428571428571,0.8571428571428571,0.9047619047619048,0.9047619047619048,0.9523809523809523,0.9523809523809523,1.0,1.0],\"type\":\"scatter\"},{\"mode\":\"lines\",\"name\":\"Psidium Guajava (Guava) (AUC=1.00)\",\"x\":[0.0,0.0,0.0,0.001694915254237288,0.001694915254237288,0.003389830508474576,0.003389830508474576,0.010169491525423728,0.010169491525423728,0.011864406779661017,0.011864406779661017,0.015254237288135594,0.015254237288135594,1.0],\"y\":[0.0,0.047619047619047616,0.5714285714285714,0.5714285714285714,0.7142857142857143,0.7142857142857143,0.8095238095238095,0.8095238095238095,0.8571428571428571,0.8571428571428571,0.9523809523809523,0.9523809523809523,1.0,1.0],\"type\":\"scatter\"},{\"mode\":\"lines\",\"name\":\"Punica Granatum (Pomegranate) (AUC=0.99)\",\"x\":[0.0,0.0,0.0,0.0017123287671232876,0.0017123287671232876,0.008561643835616438,0.008561643835616438,0.010273972602739725,0.010273972602739725,0.018835616438356163,0.018835616438356163,0.0273972602739726,0.0273972602739726,0.059931506849315065,0.059931506849315065,0.07363013698630137,0.07363013698630137,1.0],\"y\":[0.0,0.037037037037037035,0.7037037037037037,0.7037037037037037,0.7407407407407407,0.7407407407407407,0.8148148148148148,0.8148148148148148,0.8518518518518519,0.8518518518518519,0.8888888888888888,0.8888888888888888,0.9259259259259259,0.9259259259259259,0.9629629629629629,0.9629629629629629,1.0,1.0],\"type\":\"scatter\"},{\"mode\":\"lines\",\"name\":\"Santalum Album (Sandalwood) (AUC=0.91)\",\"x\":[0.0,0.0016891891891891893,0.0016891891891891893,0.0033783783783783786,0.0033783783783783786,0.010135135135135136,0.010135135135135136,0.011824324324324325,0.011824324324324325,0.013513513513513514,0.013513513513513514,0.018581081081081082,0.018581081081081082,0.028716216216216218,0.028716216216216218,0.037162162162162164,0.037162162162162164,0.0472972972972973,0.0472972972972973,0.07939189189189189,0.07939189189189189,0.18074324324324326,0.18074324324324326,0.20101351351351351,0.20101351351351351,0.2922297297297297,0.2922297297297297,0.3614864864864865,0.3614864864864865,0.3783783783783784,0.3783783783783784,1.0],\"y\":[0.0,0.0,0.15789473684210525,0.15789473684210525,0.2631578947368421,0.2631578947368421,0.3157894736842105,0.3157894736842105,0.3684210526315789,0.3684210526315789,0.42105263157894735,0.42105263157894735,0.47368421052631576,0.47368421052631576,0.5263157894736842,0.5263157894736842,0.5789473684210527,0.5789473684210527,0.6842105263157895,0.6842105263157895,0.7368421052631579,0.7368421052631579,0.7894736842105263,0.7894736842105263,0.8421052631578947,0.8421052631578947,0.8947368421052632,0.8947368421052632,0.9473684210526315,0.9473684210526315,1.0,1.0],\"type\":\"scatter\"},{\"mode\":\"lines\",\"name\":\"Syzygium Cumini (Jamun) (AUC=0.88)\",\"x\":[0.0,0.0016722408026755853,0.0016722408026755853,0.008361204013377926,0.008361204013377926,0.016722408026755852,0.016722408026755852,0.023411371237458192,0.023411371237458192,0.033444816053511704,0.033444816053511704,0.051839464882943144,0.051839464882943144,0.07023411371237458,0.07023411371237458,0.07859531772575251,0.07859531772575251,0.08361204013377926,0.08361204013377926,0.10367892976588629,0.10367892976588629,0.31270903010033446,0.31270903010033446,0.35451505016722407,0.35451505016722407,0.3612040133779264,0.3612040133779264,1.0],\"y\":[0.0,0.0,0.07692307692307693,0.07692307692307693,0.15384615384615385,0.15384615384615385,0.23076923076923078,0.23076923076923078,0.3076923076923077,0.3076923076923077,0.38461538461538464,0.38461538461538464,0.46153846153846156,0.46153846153846156,0.5384615384615384,0.5384615384615384,0.6153846153846154,0.6153846153846154,0.6923076923076923,0.6923076923076923,0.7692307692307693,0.7692307692307693,0.8461538461538461,0.8461538461538461,0.9230769230769231,0.9230769230769231,1.0,1.0],\"type\":\"scatter\"},{\"mode\":\"lines\",\"name\":\"Syzygium Jambos (Rose Apple) (AUC=0.91)\",\"x\":[0.0,0.0,0.0,0.0016891891891891893,0.0016891891891891893,0.006756756756756757,0.006756756756756757,0.011824324324324325,0.011824324324324325,0.018581081081081082,0.018581081081081082,0.05912162162162162,0.05912162162162162,0.09628378378378379,0.09628378378378379,0.10135135135135136,0.10135135135135136,0.11655405405405406,0.11655405405405406,0.1266891891891892,0.1266891891891892,0.26182432432432434,0.26182432432432434,0.42905405405405406,0.42905405405405406,0.4966216216216216,0.4966216216216216,1.0],\"y\":[0.0,0.05263157894736842,0.3684210526315789,0.3684210526315789,0.42105263157894735,0.42105263157894735,0.47368421052631576,0.47368421052631576,0.5263157894736842,0.5263157894736842,0.5789473684210527,0.5789473684210527,0.631578947368421,0.631578947368421,0.6842105263157895,0.6842105263157895,0.7368421052631579,0.7368421052631579,0.7894736842105263,0.7894736842105263,0.8421052631578947,0.8421052631578947,0.8947368421052632,0.8947368421052632,0.9473684210526315,0.9473684210526315,1.0,1.0],\"type\":\"scatter\"},{\"mode\":\"lines\",\"name\":\"Tabernaemontana Divaricata (Crape Jasmine) (AUC=0.95)\",\"x\":[0.0,0.0,0.00505902192242833,0.00505902192242833,0.008431703204047217,0.008431703204047217,0.011804384485666104,0.011804384485666104,0.01517706576728499,0.01517706576728499,0.016863406408094434,0.016863406408094434,0.023608768971332208,0.023608768971332208,0.026981450252951095,0.026981450252951095,0.03541315345699832,0.03541315345699832,0.04215851602023609,0.04215851602023609,0.050590219224283306,0.050590219224283306,0.06745362563237774,0.06745362563237774,0.11973018549747048,0.11973018549747048,0.19392917369308602,0.19392917369308602,0.20067453625632378,0.20067453625632378,1.0],\"y\":[0.0,0.05555555555555555,0.05555555555555555,0.16666666666666666,0.16666666666666666,0.2777777777777778,0.2777777777777778,0.3888888888888889,0.3888888888888889,0.4444444444444444,0.4444444444444444,0.5,0.5,0.5555555555555556,0.5555555555555556,0.6111111111111112,0.6111111111111112,0.6666666666666666,0.6666666666666666,0.7222222222222222,0.7222222222222222,0.7777777777777778,0.7777777777777778,0.8333333333333334,0.8333333333333334,0.8888888888888888,0.8888888888888888,0.9444444444444444,0.9444444444444444,1.0,1.0],\"type\":\"scatter\"},{\"mode\":\"lines\",\"name\":\"Trigonella Foenum-graecum (Fenugreek) (AUC=0.99)\",\"x\":[0.0,0.0,0.0,0.001669449081803005,0.001669449081803005,0.00667779632721202,0.00667779632721202,0.011686143572621035,0.011686143572621035,0.015025041736227046,0.015025041736227046,0.05509181969949917,0.05509181969949917,0.06844741235392321,0.06844741235392321,1.0],\"y\":[0.0,0.08333333333333333,0.25,0.25,0.5,0.5,0.5833333333333334,0.5833333333333334,0.75,0.75,0.8333333333333334,0.8333333333333334,0.9166666666666666,0.9166666666666666,1.0,1.0],\"type\":\"scatter\"}],                        {\"template\":{\"data\":{\"bar\":[{\"error_x\":{\"color\":\"#2a3f5f\"},\"error_y\":{\"color\":\"#2a3f5f\"},\"marker\":{\"line\":{\"color\":\"#E5ECF6\",\"width\":0.5},\"pattern\":{\"fillmode\":\"overlay\",\"size\":10,\"solidity\":0.2}},\"type\":\"bar\"}],\"barpolar\":[{\"marker\":{\"line\":{\"color\":\"#E5ECF6\",\"width\":0.5},\"pattern\":{\"fillmode\":\"overlay\",\"size\":10,\"solidity\":0.2}},\"type\":\"barpolar\"}],\"carpet\":[{\"aaxis\":{\"endlinecolor\":\"#2a3f5f\",\"gridcolor\":\"white\",\"linecolor\":\"white\",\"minorgridcolor\":\"white\",\"startlinecolor\":\"#2a3f5f\"},\"baxis\":{\"endlinecolor\":\"#2a3f5f\",\"gridcolor\":\"white\",\"linecolor\":\"white\",\"minorgridcolor\":\"white\",\"startlinecolor\":\"#2a3f5f\"},\"type\":\"carpet\"}],\"choropleth\":[{\"colorbar\":{\"outlinewidth\":0,\"ticks\":\"\"},\"type\":\"choropleth\"}],\"contour\":[{\"colorbar\":{\"outlinewidth\":0,\"ticks\":\"\"},\"colorscale\":[[0.0,\"#0d0887\"],[0.1111111111111111,\"#46039f\"],[0.2222222222222222,\"#7201a8\"],[0.3333333333333333,\"#9c179e\"],[0.4444444444444444,\"#bd3786\"],[0.5555555555555556,\"#d8576b\"],[0.6666666666666666,\"#ed7953\"],[0.7777777777777778,\"#fb9f3a\"],[0.8888888888888888,\"#fdca26\"],[1.0,\"#f0f921\"]],\"type\":\"contour\"}],\"contourcarpet\":[{\"colorbar\":{\"outlinewidth\":0,\"ticks\":\"\"},\"type\":\"contourcarpet\"}],\"heatmap\":[{\"colorbar\":{\"outlinewidth\":0,\"ticks\":\"\"},\"colorscale\":[[0.0,\"#0d0887\"],[0.1111111111111111,\"#46039f\"],[0.2222222222222222,\"#7201a8\"],[0.3333333333333333,\"#9c179e\"],[0.4444444444444444,\"#bd3786\"],[0.5555555555555556,\"#d8576b\"],[0.6666666666666666,\"#ed7953\"],[0.7777777777777778,\"#fb9f3a\"],[0.8888888888888888,\"#fdca26\"],[1.0,\"#f0f921\"]],\"type\":\"heatmap\"}],\"heatmapgl\":[{\"colorbar\":{\"outlinewidth\":0,\"ticks\":\"\"},\"colorscale\":[[0.0,\"#0d0887\"],[0.1111111111111111,\"#46039f\"],[0.2222222222222222,\"#7201a8\"],[0.3333333333333333,\"#9c179e\"],[0.4444444444444444,\"#bd3786\"],[0.5555555555555556,\"#d8576b\"],[0.6666666666666666,\"#ed7953\"],[0.7777777777777778,\"#fb9f3a\"],[0.8888888888888888,\"#fdca26\"],[1.0,\"#f0f921\"]],\"type\":\"heatmapgl\"}],\"histogram\":[{\"marker\":{\"pattern\":{\"fillmode\":\"overlay\",\"size\":10,\"solidity\":0.2}},\"type\":\"histogram\"}],\"histogram2d\":[{\"colorbar\":{\"outlinewidth\":0,\"ticks\":\"\"},\"colorscale\":[[0.0,\"#0d0887\"],[0.1111111111111111,\"#46039f\"],[0.2222222222222222,\"#7201a8\"],[0.3333333333333333,\"#9c179e\"],[0.4444444444444444,\"#bd3786\"],[0.5555555555555556,\"#d8576b\"],[0.6666666666666666,\"#ed7953\"],[0.7777777777777778,\"#fb9f3a\"],[0.8888888888888888,\"#fdca26\"],[1.0,\"#f0f921\"]],\"type\":\"histogram2d\"}],\"histogram2dcontour\":[{\"colorbar\":{\"outlinewidth\":0,\"ticks\":\"\"},\"colorscale\":[[0.0,\"#0d0887\"],[0.1111111111111111,\"#46039f\"],[0.2222222222222222,\"#7201a8\"],[0.3333333333333333,\"#9c179e\"],[0.4444444444444444,\"#bd3786\"],[0.5555555555555556,\"#d8576b\"],[0.6666666666666666,\"#ed7953\"],[0.7777777777777778,\"#fb9f3a\"],[0.8888888888888888,\"#fdca26\"],[1.0,\"#f0f921\"]],\"type\":\"histogram2dcontour\"}],\"mesh3d\":[{\"colorbar\":{\"outlinewidth\":0,\"ticks\":\"\"},\"type\":\"mesh3d\"}],\"parcoords\":[{\"line\":{\"colorbar\":{\"outlinewidth\":0,\"ticks\":\"\"}},\"type\":\"parcoords\"}],\"pie\":[{\"automargin\":true,\"type\":\"pie\"}],\"scatter\":[{\"marker\":{\"colorbar\":{\"outlinewidth\":0,\"ticks\":\"\"}},\"type\":\"scatter\"}],\"scatter3d\":[{\"line\":{\"colorbar\":{\"outlinewidth\":0,\"ticks\":\"\"}},\"marker\":{\"colorbar\":{\"outlinewidth\":0,\"ticks\":\"\"}},\"type\":\"scatter3d\"}],\"scattercarpet\":[{\"marker\":{\"colorbar\":{\"outlinewidth\":0,\"ticks\":\"\"}},\"type\":\"scattercarpet\"}],\"scattergeo\":[{\"marker\":{\"colorbar\":{\"outlinewidth\":0,\"ticks\":\"\"}},\"type\":\"scattergeo\"}],\"scattergl\":[{\"marker\":{\"colorbar\":{\"outlinewidth\":0,\"ticks\":\"\"}},\"type\":\"scattergl\"}],\"scattermapbox\":[{\"marker\":{\"colorbar\":{\"outlinewidth\":0,\"ticks\":\"\"}},\"type\":\"scattermapbox\"}],\"scatterpolar\":[{\"marker\":{\"colorbar\":{\"outlinewidth\":0,\"ticks\":\"\"}},\"type\":\"scatterpolar\"}],\"scatterpolargl\":[{\"marker\":{\"colorbar\":{\"outlinewidth\":0,\"ticks\":\"\"}},\"type\":\"scatterpolargl\"}],\"scatterternary\":[{\"marker\":{\"colorbar\":{\"outlinewidth\":0,\"ticks\":\"\"}},\"type\":\"scatterternary\"}],\"surface\":[{\"colorbar\":{\"outlinewidth\":0,\"ticks\":\"\"},\"colorscale\":[[0.0,\"#0d0887\"],[0.1111111111111111,\"#46039f\"],[0.2222222222222222,\"#7201a8\"],[0.3333333333333333,\"#9c179e\"],[0.4444444444444444,\"#bd3786\"],[0.5555555555555556,\"#d8576b\"],[0.6666666666666666,\"#ed7953\"],[0.7777777777777778,\"#fb9f3a\"],[0.8888888888888888,\"#fdca26\"],[1.0,\"#f0f921\"]],\"type\":\"surface\"}],\"table\":[{\"cells\":{\"fill\":{\"color\":\"#EBF0F8\"},\"line\":{\"color\":\"white\"}},\"header\":{\"fill\":{\"color\":\"#C8D4E3\"},\"line\":{\"color\":\"white\"}},\"type\":\"table\"}]},\"layout\":{\"annotationdefaults\":{\"arrowcolor\":\"#2a3f5f\",\"arrowhead\":0,\"arrowwidth\":1},\"autotypenumbers\":\"strict\",\"coloraxis\":{\"colorbar\":{\"outlinewidth\":0,\"ticks\":\"\"}},\"colorscale\":{\"diverging\":[[0,\"#8e0152\"],[0.1,\"#c51b7d\"],[0.2,\"#de77ae\"],[0.3,\"#f1b6da\"],[0.4,\"#fde0ef\"],[0.5,\"#f7f7f7\"],[0.6,\"#e6f5d0\"],[0.7,\"#b8e186\"],[0.8,\"#7fbc41\"],[0.9,\"#4d9221\"],[1,\"#276419\"]],\"sequential\":[[0.0,\"#0d0887\"],[0.1111111111111111,\"#46039f\"],[0.2222222222222222,\"#7201a8\"],[0.3333333333333333,\"#9c179e\"],[0.4444444444444444,\"#bd3786\"],[0.5555555555555556,\"#d8576b\"],[0.6666666666666666,\"#ed7953\"],[0.7777777777777778,\"#fb9f3a\"],[0.8888888888888888,\"#fdca26\"],[1.0,\"#f0f921\"]],\"sequentialminus\":[[0.0,\"#0d0887\"],[0.1111111111111111,\"#46039f\"],[0.2222222222222222,\"#7201a8\"],[0.3333333333333333,\"#9c179e\"],[0.4444444444444444,\"#bd3786\"],[0.5555555555555556,\"#d8576b\"],[0.6666666666666666,\"#ed7953\"],[0.7777777777777778,\"#fb9f3a\"],[0.8888888888888888,\"#fdca26\"],[1.0,\"#f0f921\"]]},\"colorway\":[\"#636efa\",\"#EF553B\",\"#00cc96\",\"#ab63fa\",\"#FFA15A\",\"#19d3f3\",\"#FF6692\",\"#B6E880\",\"#FF97FF\",\"#FECB52\"],\"font\":{\"color\":\"#2a3f5f\"},\"geo\":{\"bgcolor\":\"white\",\"lakecolor\":\"white\",\"landcolor\":\"#E5ECF6\",\"showlakes\":true,\"showland\":true,\"subunitcolor\":\"white\"},\"hoverlabel\":{\"align\":\"left\"},\"hovermode\":\"closest\",\"mapbox\":{\"style\":\"light\"},\"paper_bgcolor\":\"white\",\"plot_bgcolor\":\"#E5ECF6\",\"polar\":{\"angularaxis\":{\"gridcolor\":\"white\",\"linecolor\":\"white\",\"ticks\":\"\"},\"bgcolor\":\"#E5ECF6\",\"radialaxis\":{\"gridcolor\":\"white\",\"linecolor\":\"white\",\"ticks\":\"\"}},\"scene\":{\"xaxis\":{\"backgroundcolor\":\"#E5ECF6\",\"gridcolor\":\"white\",\"gridwidth\":2,\"linecolor\":\"white\",\"showbackground\":true,\"ticks\":\"\",\"zerolinecolor\":\"white\"},\"yaxis\":{\"backgroundcolor\":\"#E5ECF6\",\"gridcolor\":\"white\",\"gridwidth\":2,\"linecolor\":\"white\",\"showbackground\":true,\"ticks\":\"\",\"zerolinecolor\":\"white\"},\"zaxis\":{\"backgroundcolor\":\"#E5ECF6\",\"gridcolor\":\"white\",\"gridwidth\":2,\"linecolor\":\"white\",\"showbackground\":true,\"ticks\":\"\",\"zerolinecolor\":\"white\"}},\"shapedefaults\":{\"line\":{\"color\":\"#2a3f5f\"}},\"ternary\":{\"aaxis\":{\"gridcolor\":\"white\",\"linecolor\":\"white\",\"ticks\":\"\"},\"baxis\":{\"gridcolor\":\"white\",\"linecolor\":\"white\",\"ticks\":\"\"},\"bgcolor\":\"#E5ECF6\",\"caxis\":{\"gridcolor\":\"white\",\"linecolor\":\"white\",\"ticks\":\"\"}},\"title\":{\"x\":0.05},\"xaxis\":{\"automargin\":true,\"gridcolor\":\"white\",\"linecolor\":\"white\",\"ticks\":\"\",\"title\":{\"standoff\":15},\"zerolinecolor\":\"white\",\"zerolinewidth\":2},\"yaxis\":{\"automargin\":true,\"gridcolor\":\"white\",\"linecolor\":\"white\",\"ticks\":\"\",\"title\":{\"standoff\":15},\"zerolinecolor\":\"white\",\"zerolinewidth\":2}}},\"shapes\":[{\"line\":{\"dash\":\"dash\"},\"type\":\"line\",\"x0\":0,\"x1\":1,\"y0\":0,\"y1\":1}],\"yaxis\":{\"title\":{\"text\":\"True Positive Rate\"},\"scaleanchor\":\"x\",\"scaleratio\":1},\"xaxis\":{\"title\":{\"text\":\"False Positive Rate\"},\"constrain\":\"domain\"},\"title\":{\"text\":\"ROC Curve\"},\"width\":900,\"height\":800},                        {\"responsive\": true}                    ).then(function(){\n",
              "                            \n",
              "var gd = document.getElementById('122f3915-9a3f-4d66-ad6c-7932896b21ec');\n",
              "var x = new MutationObserver(function (mutations, observer) {{\n",
              "        var display = window.getComputedStyle(gd).display;\n",
              "        if (!display || display === 'none') {{\n",
              "            console.log([gd, 'removed!']);\n",
              "            Plotly.purge(gd);\n",
              "            observer.disconnect();\n",
              "        }}\n",
              "}});\n",
              "\n",
              "// Listen for the removal of the full notebook cells\n",
              "var notebookContainer = gd.closest('#notebook-container');\n",
              "if (notebookContainer) {{\n",
              "    x.observe(notebookContainer, {childList: true});\n",
              "}}\n",
              "\n",
              "// Listen for the clearing of the current output cell\n",
              "var outputEl = gd.closest('.output');\n",
              "if (outputEl) {{\n",
              "    x.observe(outputEl, {childList: true});\n",
              "}}\n",
              "\n",
              "                        })                };                            </script>        </div>\n",
              "</body>\n",
              "</html>"
            ]
          },
          "metadata": {}
        }
      ]
    }
  ]
}