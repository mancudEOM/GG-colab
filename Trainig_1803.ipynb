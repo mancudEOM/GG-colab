{
  "nbformat": 4,
  "nbformat_minor": 0,
  "metadata": {
    "colab": {
      "provenance": [],
      "mount_file_id": "1dgz0pDnuhyZ-piIp1X72Xi4zwPvBkb2h",
      "authorship_tag": "ABX9TyMr8s0LXqnb++ii3PtbeyqS",
      "include_colab_link": true
    },
    "kernelspec": {
      "name": "python3",
      "display_name": "Python 3"
    },
    "language_info": {
      "name": "python"
    },
    "accelerator": "GPU",
    "gpuClass": "standard"
  },
  "cells": [
    {
      "cell_type": "markdown",
      "metadata": {
        "id": "view-in-github",
        "colab_type": "text"
      },
      "source": [
        "<a href=\"https://colab.research.google.com/github/mancudEOM/GG-colab/blob/main/Trainig_1803.ipynb\" target=\"_parent\"><img src=\"https://colab.research.google.com/assets/colab-badge.svg\" alt=\"Open In Colab\"/></a>"
      ]
    },
    {
      "cell_type": "code",
      "execution_count": null,
      "metadata": {
        "id": "re2cPhu8Glvf",
        "colab": {
          "base_uri": "https://localhost:8080/"
        },
        "outputId": "b049d6d9-5af9-425b-e5df-e91bf1d1aab1"
      },
      "outputs": [
        {
          "output_type": "stream",
          "name": "stdout",
          "text": [
            "Drive already mounted at /content/drive; to attempt to forcibly remount, call drive.mount(\"/content/drive\", force_remount=True).\n"
          ]
        }
      ],
      "source": [
        "  from google.colab import drive\n",
        "  drive.mount('/content/drive')\n",
        "\n"
      ]
    },
    {
      "cell_type": "code",
      "source": [
        "  !ls\n"
      ],
      "metadata": {
        "id": "16aNt0njGqgR",
        "colab": {
          "base_uri": "https://localhost:8080/"
        },
        "outputId": "fb31782c-4506-4fce-dd4a-5f4bb83f7b4a"
      },
      "execution_count": null,
      "outputs": [
        {
          "output_type": "stream",
          "name": "stdout",
          "text": [
            "drive  sample_data\n"
          ]
        }
      ]
    },
    {
      "cell_type": "code",
      "source": [
        "  import sys\n",
        "  root_path = '/content/drive/My Drive/Segmented Medicinal Leaf Images/' # This is the path to where in google drive the code is stored!\n",
        "  sys.path.append(root_path)"
      ],
      "metadata": {
        "id": "6kpNIXuzGskg"
      },
      "execution_count": null,
      "outputs": []
    },
    {
      "cell_type": "markdown",
      "source": [
        "# THÊM TẤT CẢ CÁC THƯ VIỆN CẦN THIẾT"
      ],
      "metadata": {
        "id": "qMNSUzIxL7JZ"
      }
    },
    {
      "cell_type": "code",
      "source": [
        "import numpy as np\n",
        "from sklearn.metrics import accuracy_score, f1_score, precision_score, confusion_matrix\n",
        "from sklearn.model_selection import StratifiedKFold\n",
        "from PIL import Image\n",
        "import random\n",
        "import tensorflow as tf\n",
        "from tensorflow.keras.models import Sequential\n",
        "from keras.preprocessing.image import ImageDataGenerator\n",
        "from tensorflow.keras.preprocessing.image import ImageDataGenerator\n",
        "from tensorflow.keras.layers import Dense, Dropout, Flatten, Conv2D, MaxPooling2D\n",
        "\n",
        "from tensorflow.compat.v1 import ConfigProto\n",
        "from tensorflow.compat.v1 import InteractiveSession\n",
        "import warnings\n",
        "import os\n",
        "import shutil\n",
        "from PIL import ImageFile\n",
        "warnings.simplefilter('error', Image.DecompressionBombWarning)\n",
        "ImageFile.LOAD_TRUNCATED_IMAGES = True\n",
        "Image.MAX_IMAGE_PIXELS = 1000000000\n",
        "config = ConfigProto()\n",
        "config.gpu_options.allow_growth = True\n",
        "session = InteractiveSession(config=config)"
      ],
      "metadata": {
        "id": "NJq2Vm2hHTWR",
        "colab": {
          "base_uri": "https://localhost:8080/"
        },
        "outputId": "a960b558-3067-4bcb-c11c-861bba54b4d4"
      },
      "execution_count": null,
      "outputs": [
        {
          "output_type": "stream",
          "name": "stderr",
          "text": [
            "/usr/local/lib/python3.8/dist-packages/tensorflow/python/client/session.py:1769: UserWarning:\n",
            "\n",
            "An interactive session is already active. This can cause out-of-memory errors in some cases. You must explicitly call `InteractiveSession.close()` to release resources held by the other session(s).\n",
            "\n"
          ]
        }
      ]
    },
    {
      "cell_type": "markdown",
      "source": [
        "# Khởi tạo các biến cần thiết"
      ],
      "metadata": {
        "id": "QYpc-VdEMGBS"
      }
    },
    {
      "cell_type": "code",
      "source": [
        "datasetFolderName=root_path+'dataset'\n",
        "MODEL_FILENAME=root_path+\"model_cv.h5\"\n",
        "sourceFiles=[]\n",
        "classLabels=['Alpinia Galanga (Rasna)','Amaranthus Viridis (Arive-Dantu)','Artocarpus Heterophyllus (Jackfruit)',\n",
        "'Azadirachta Indica (Neem)','Basella Alba (Basale)','Brassica Juncea (Indian Mustard)',\n",
        "'Carissa Carandas (Karanda)','Citrus Limon (Lemon)','Ficus Auriculata (Roxburgh fig)',\n",
        "'Ficus Religiosa (Peepal Tree)','Hibiscus Rosa-sinensis','Jasminum (Jasmine)',\n",
        "'Mangifera Indica (Mango)','Mentha (Mint)','Moringa Oleifera (Drumstick)',\n",
        "'Muntingia Calabura (Jamaica Cherry-Gasagase)','Murraya Koenigii (Curry)','Nerium Oleander (Oleander)',\n",
        "'Nyctanthes Arbor-tristis (Parijata)','Ocimum Tenuiflorum (Tulsi)','Piper Betle (Betel)',\n",
        "'Plectranthus Amboinicus (Mexican Mint)','Pongamia Pinnata (Indian Beech)','Psidium Guajava (Guava)',\n",
        "'Punica Granatum (Pomegranate)','Santalum Album (Sandalwood)','Syzygium Cumini (Jamun)',\n",
        "'Syzygium Jambos (Rose Apple)','Tabernaemontana Divaricata (Crape Jasmine)','Trigonella Foenum-graecum (Fenugreek)']\n",
        "X=[]\n",
        "Y=[]\n",
        "\n",
        "img_rows, img_cols =  224, 224 \n",
        "# input image dimensions\n",
        "#img_rows, img_cols =  224, 224 # input image dimensions\n",
        "train_path=datasetFolderName+'/train/'\n",
        "validation_path=datasetFolderName+'/validation/'\n",
        "test_path=datasetFolderName+'/test/'"
      ],
      "metadata": {
        "id": "iCy2O5d9Jxq6"
      },
      "execution_count": null,
      "outputs": []
    },
    {
      "cell_type": "markdown",
      "source": [
        "# KFOLD train-test-validation"
      ],
      "metadata": {
        "id": "LyAnSQTbMblZ"
      }
    },
    {
      "cell_type": "code",
      "source": [
        "def transferBetweenFolders(source, dest, splitRate): \n",
        "    global sourceFiles\n",
        "    sourceFiles=os.listdir(source)\n",
        "    if(len(sourceFiles)!=0):\n",
        "        transferFileNumbers=int(len(sourceFiles)*splitRate)\n",
        "        transferIndex=random.sample(range(0, len(sourceFiles)), transferFileNumbers)\n",
        "        for eachIndex in transferIndex:\n",
        "            shutil.move(source+str(sourceFiles[eachIndex]), dest+str(sourceFiles[eachIndex]))\n",
        "    else:\n",
        "        print(\"No file moved. Source empty!\")\n",
        "        \n",
        "def transferAllClassBetweenFolders(source, dest, splitRate):\n",
        "    for label in classLabels:\n",
        "        transferBetweenFolders(datasetFolderName+'/'+source+'/'+label+'/', \n",
        "                               datasetFolderName+'/'+dest+'/'+label+'/', \n",
        "                               splitRate)"
      ],
      "metadata": {
        "id": "RgfHPIHbJ4rR"
      },
      "execution_count": null,
      "outputs": []
    },
    {
      "cell_type": "code",
      "source": [
        "transferAllClassBetweenFolders('test', 'train', 1.0)"
      ],
      "metadata": {
        "id": "stSX_AiNKleb",
        "colab": {
          "base_uri": "https://localhost:8080/"
        },
        "outputId": "c46a095c-140b-4c91-dd19-e74019906c50"
      },
      "execution_count": null,
      "outputs": [
        {
          "output_type": "stream",
          "name": "stdout",
          "text": [
            "No file moved. Source empty!\n",
            "No file moved. Source empty!\n",
            "No file moved. Source empty!\n",
            "No file moved. Source empty!\n",
            "No file moved. Source empty!\n",
            "No file moved. Source empty!\n",
            "No file moved. Source empty!\n",
            "No file moved. Source empty!\n",
            "No file moved. Source empty!\n",
            "No file moved. Source empty!\n",
            "No file moved. Source empty!\n",
            "No file moved. Source empty!\n",
            "No file moved. Source empty!\n",
            "No file moved. Source empty!\n",
            "No file moved. Source empty!\n",
            "No file moved. Source empty!\n",
            "No file moved. Source empty!\n",
            "No file moved. Source empty!\n",
            "No file moved. Source empty!\n",
            "No file moved. Source empty!\n",
            "No file moved. Source empty!\n",
            "No file moved. Source empty!\n",
            "No file moved. Source empty!\n",
            "No file moved. Source empty!\n",
            "No file moved. Source empty!\n",
            "No file moved. Source empty!\n",
            "No file moved. Source empty!\n",
            "No file moved. Source empty!\n",
            "No file moved. Source empty!\n",
            "No file moved. Source empty!\n"
          ]
        }
      ]
    },
    {
      "cell_type": "code",
      "source": [
        "transferAllClassBetweenFolders('validation', 'train', 1.0)"
      ],
      "metadata": {
        "id": "Z6o8gWE-N-rq"
      },
      "execution_count": null,
      "outputs": []
    },
    {
      "cell_type": "code",
      "source": [
        "#transferAllClassBetweenFolders('train', 'test', 0.20)"
      ],
      "metadata": {
        "id": "arE4ro1JKqIh"
      },
      "execution_count": null,
      "outputs": []
    },
    {
      "cell_type": "code",
      "source": [
        "def prepareNameWithLabels(folderName):\n",
        "    sourceFiles=os.listdir(datasetFolderName+'/train/'+folderName)\n",
        "    for val in sourceFiles:\n",
        "        X.append(val)\n",
        "        for i in range(len(classLabels)):\n",
        "          if(folderName==classLabels[i]):\n",
        "              Y.append(i)"
      ],
      "metadata": {
        "id": "73VhRSA2K0fp"
      },
      "execution_count": null,
      "outputs": []
    },
    {
      "cell_type": "code",
      "source": [
        "# Organize file names and class labels in X and Y variables\n",
        "for i in range(len(classLabels)):\n",
        "  prepareNameWithLabels(classLabels[i])"
      ],
      "metadata": {
        "id": "u6pP6P3YK2Ub"
      },
      "execution_count": null,
      "outputs": []
    },
    {
      "cell_type": "code",
      "source": [
        "X=np.asarray(X)\n",
        "Y=np.asarray(Y)"
      ],
      "metadata": {
        "id": "WZHmT5JgK3xa"
      },
      "execution_count": null,
      "outputs": []
    },
    {
      "cell_type": "code",
      "source": [
        "print(X)\n",
        "print(Y)"
      ],
      "metadata": {
        "id": "MzTCDvyoM28y",
        "colab": {
          "base_uri": "https://localhost:8080/"
        },
        "outputId": "f23805dd-2791-4ee9-8334-46f1ea693820"
      },
      "execution_count": null,
      "outputs": [
        {
          "output_type": "stream",
          "name": "stdout",
          "text": [
            "['AG-S-034.jpg' 'AG-S-049.jpg' 'AG-S-036.jpg' ... 'TF-S-030.jpg'\n",
            " 'TF-S-036.jpg' 'TF-S-010.jpg']\n",
            "[ 0  0  0 ... 29 29 29]\n"
          ]
        }
      ]
    },
    {
      "cell_type": "code",
      "source": [
        "batch_size = 64\n",
        "IMG_SIZE = (224, 224, 3)\n",
        "number_of_class_labels = len(classLabels)"
      ],
      "metadata": {
        "id": "WtnpSQSxX-67"
      },
      "execution_count": null,
      "outputs": []
    },
    {
      "cell_type": "code",
      "source": [
        "import tensorflow.keras as keras"
      ],
      "metadata": {
        "id": "OKucCyffZ5cD"
      },
      "execution_count": null,
      "outputs": []
    },
    {
      "cell_type": "code",
      "source": [
        "# Create a data augmentation stage with horizontal flipping, rotations, zooms\n",
        "data_augmentation = keras.Sequential(\n",
        "    [\n",
        "        keras.layers.Rescaling(1./ 255),\n",
        "        keras.layers.RandomFlip(),\n",
        "        keras.layers.RandomRotation(0.2),\n",
        "        keras.layers.RandomZoom(0.2,0.3)\n",
        "    ]\n",
        ")"
      ],
      "metadata": {
        "id": "zWFE6eJxZvCD"
      },
      "execution_count": null,
      "outputs": []
    },
    {
      "cell_type": "code",
      "source": [
        "#ResNet50V2 layers except for the last global average pooling and final dense layer.\n",
        "#pre_trained_layers = keras.applications.ResNet50V2(weights=\"imagenet\", include_top=False,\n",
        " #          input_tensor=keras.Input(shape=IMG_SIZE))"
      ],
      "metadata": {
        "id": "A929RzhDZ7wR"
      },
      "execution_count": null,
      "outputs": []
    },
    {
      "cell_type": "code",
      "source": [
        "\n",
        "#pre_trained_layers = keras.applications.Xception(weights=\"imagenet\", include_top=False,\n",
        "#         input_tensor=keras.Input(shape=IMG_SIZE))"
      ],
      "metadata": {
        "id": "wbD80LCePblH"
      },
      "execution_count": null,
      "outputs": []
    },
    {
      "cell_type": "code",
      "source": [
        "pre_trained_layers = tf.keras.applications.InceptionV3(weights=\"imagenet\", include_top=False,\n",
        "           input_tensor=keras.Input(shape=IMG_SIZE))"
      ],
      "metadata": {
        "id": "kFkcL4A1JffX"
      },
      "execution_count": null,
      "outputs": []
    },
    {
      "cell_type": "code",
      "source": [
        "pre_trained_layers.summary()"
      ],
      "metadata": {
        "id": "V-K3rsDLaLWL",
        "colab": {
          "base_uri": "https://localhost:8080/"
        },
        "outputId": "80190320-59ff-4fa5-8ed6-6ade20ae30a3"
      },
      "execution_count": null,
      "outputs": [
        {
          "output_type": "stream",
          "name": "stdout",
          "text": [
            "Model: \"inception_v3\"\n",
            "__________________________________________________________________________________________________\n",
            " Layer (type)                   Output Shape         Param #     Connected to                     \n",
            "==================================================================================================\n",
            " input_7 (InputLayer)           [(None, 224, 224, 3  0           []                               \n",
            "                                )]                                                                \n",
            "                                                                                                  \n",
            " conv2d_294 (Conv2D)            (None, 111, 111, 32  864         ['input_7[0][0]']                \n",
            "                                )                                                                 \n",
            "                                                                                                  \n",
            " batch_normalization_294 (Batch  (None, 111, 111, 32  96         ['conv2d_294[0][0]']             \n",
            " Normalization)                 )                                                                 \n",
            "                                                                                                  \n",
            " activation_282 (Activation)    (None, 111, 111, 32  0           ['batch_normalization_294[0][0]']\n",
            "                                )                                                                 \n",
            "                                                                                                  \n",
            " conv2d_295 (Conv2D)            (None, 109, 109, 32  9216        ['activation_282[0][0]']         \n",
            "                                )                                                                 \n",
            "                                                                                                  \n",
            " batch_normalization_295 (Batch  (None, 109, 109, 32  96         ['conv2d_295[0][0]']             \n",
            " Normalization)                 )                                                                 \n",
            "                                                                                                  \n",
            " activation_283 (Activation)    (None, 109, 109, 32  0           ['batch_normalization_295[0][0]']\n",
            "                                )                                                                 \n",
            "                                                                                                  \n",
            " conv2d_296 (Conv2D)            (None, 109, 109, 64  18432       ['activation_283[0][0]']         \n",
            "                                )                                                                 \n",
            "                                                                                                  \n",
            " batch_normalization_296 (Batch  (None, 109, 109, 64  192        ['conv2d_296[0][0]']             \n",
            " Normalization)                 )                                                                 \n",
            "                                                                                                  \n",
            " activation_284 (Activation)    (None, 109, 109, 64  0           ['batch_normalization_296[0][0]']\n",
            "                                )                                                                 \n",
            "                                                                                                  \n",
            " max_pooling2d_12 (MaxPooling2D  (None, 54, 54, 64)  0           ['activation_284[0][0]']         \n",
            " )                                                                                                \n",
            "                                                                                                  \n",
            " conv2d_297 (Conv2D)            (None, 54, 54, 80)   5120        ['max_pooling2d_12[0][0]']       \n",
            "                                                                                                  \n",
            " batch_normalization_297 (Batch  (None, 54, 54, 80)  240         ['conv2d_297[0][0]']             \n",
            " Normalization)                                                                                   \n",
            "                                                                                                  \n",
            " activation_285 (Activation)    (None, 54, 54, 80)   0           ['batch_normalization_297[0][0]']\n",
            "                                                                                                  \n",
            " conv2d_298 (Conv2D)            (None, 52, 52, 192)  138240      ['activation_285[0][0]']         \n",
            "                                                                                                  \n",
            " batch_normalization_298 (Batch  (None, 52, 52, 192)  576        ['conv2d_298[0][0]']             \n",
            " Normalization)                                                                                   \n",
            "                                                                                                  \n",
            " activation_286 (Activation)    (None, 52, 52, 192)  0           ['batch_normalization_298[0][0]']\n",
            "                                                                                                  \n",
            " max_pooling2d_13 (MaxPooling2D  (None, 25, 25, 192)  0          ['activation_286[0][0]']         \n",
            " )                                                                                                \n",
            "                                                                                                  \n",
            " conv2d_302 (Conv2D)            (None, 25, 25, 64)   12288       ['max_pooling2d_13[0][0]']       \n",
            "                                                                                                  \n",
            " batch_normalization_302 (Batch  (None, 25, 25, 64)  192         ['conv2d_302[0][0]']             \n",
            " Normalization)                                                                                   \n",
            "                                                                                                  \n",
            " activation_290 (Activation)    (None, 25, 25, 64)   0           ['batch_normalization_302[0][0]']\n",
            "                                                                                                  \n",
            " conv2d_300 (Conv2D)            (None, 25, 25, 48)   9216        ['max_pooling2d_13[0][0]']       \n",
            "                                                                                                  \n",
            " conv2d_303 (Conv2D)            (None, 25, 25, 96)   55296       ['activation_290[0][0]']         \n",
            "                                                                                                  \n",
            " batch_normalization_300 (Batch  (None, 25, 25, 48)  144         ['conv2d_300[0][0]']             \n",
            " Normalization)                                                                                   \n",
            "                                                                                                  \n",
            " batch_normalization_303 (Batch  (None, 25, 25, 96)  288         ['conv2d_303[0][0]']             \n",
            " Normalization)                                                                                   \n",
            "                                                                                                  \n",
            " activation_288 (Activation)    (None, 25, 25, 48)   0           ['batch_normalization_300[0][0]']\n",
            "                                                                                                  \n",
            " activation_291 (Activation)    (None, 25, 25, 96)   0           ['batch_normalization_303[0][0]']\n",
            "                                                                                                  \n",
            " average_pooling2d_27 (AverageP  (None, 25, 25, 192)  0          ['max_pooling2d_13[0][0]']       \n",
            " ooling2D)                                                                                        \n",
            "                                                                                                  \n",
            " conv2d_299 (Conv2D)            (None, 25, 25, 64)   12288       ['max_pooling2d_13[0][0]']       \n",
            "                                                                                                  \n",
            " conv2d_301 (Conv2D)            (None, 25, 25, 64)   76800       ['activation_288[0][0]']         \n",
            "                                                                                                  \n",
            " conv2d_304 (Conv2D)            (None, 25, 25, 96)   82944       ['activation_291[0][0]']         \n",
            "                                                                                                  \n",
            " conv2d_305 (Conv2D)            (None, 25, 25, 32)   6144        ['average_pooling2d_27[0][0]']   \n",
            "                                                                                                  \n",
            " batch_normalization_299 (Batch  (None, 25, 25, 64)  192         ['conv2d_299[0][0]']             \n",
            " Normalization)                                                                                   \n",
            "                                                                                                  \n",
            " batch_normalization_301 (Batch  (None, 25, 25, 64)  192         ['conv2d_301[0][0]']             \n",
            " Normalization)                                                                                   \n",
            "                                                                                                  \n",
            " batch_normalization_304 (Batch  (None, 25, 25, 96)  288         ['conv2d_304[0][0]']             \n",
            " Normalization)                                                                                   \n",
            "                                                                                                  \n",
            " batch_normalization_305 (Batch  (None, 25, 25, 32)  96          ['conv2d_305[0][0]']             \n",
            " Normalization)                                                                                   \n",
            "                                                                                                  \n",
            " activation_287 (Activation)    (None, 25, 25, 64)   0           ['batch_normalization_299[0][0]']\n",
            "                                                                                                  \n",
            " activation_289 (Activation)    (None, 25, 25, 64)   0           ['batch_normalization_301[0][0]']\n",
            "                                                                                                  \n",
            " activation_292 (Activation)    (None, 25, 25, 96)   0           ['batch_normalization_304[0][0]']\n",
            "                                                                                                  \n",
            " activation_293 (Activation)    (None, 25, 25, 32)   0           ['batch_normalization_305[0][0]']\n",
            "                                                                                                  \n",
            " mixed0 (Concatenate)           (None, 25, 25, 256)  0           ['activation_287[0][0]',         \n",
            "                                                                  'activation_289[0][0]',         \n",
            "                                                                  'activation_292[0][0]',         \n",
            "                                                                  'activation_293[0][0]']         \n",
            "                                                                                                  \n",
            " conv2d_309 (Conv2D)            (None, 25, 25, 64)   16384       ['mixed0[0][0]']                 \n",
            "                                                                                                  \n",
            " batch_normalization_309 (Batch  (None, 25, 25, 64)  192         ['conv2d_309[0][0]']             \n",
            " Normalization)                                                                                   \n",
            "                                                                                                  \n",
            " activation_297 (Activation)    (None, 25, 25, 64)   0           ['batch_normalization_309[0][0]']\n",
            "                                                                                                  \n",
            " conv2d_307 (Conv2D)            (None, 25, 25, 48)   12288       ['mixed0[0][0]']                 \n",
            "                                                                                                  \n",
            " conv2d_310 (Conv2D)            (None, 25, 25, 96)   55296       ['activation_297[0][0]']         \n",
            "                                                                                                  \n",
            " batch_normalization_307 (Batch  (None, 25, 25, 48)  144         ['conv2d_307[0][0]']             \n",
            " Normalization)                                                                                   \n",
            "                                                                                                  \n",
            " batch_normalization_310 (Batch  (None, 25, 25, 96)  288         ['conv2d_310[0][0]']             \n",
            " Normalization)                                                                                   \n",
            "                                                                                                  \n",
            " activation_295 (Activation)    (None, 25, 25, 48)   0           ['batch_normalization_307[0][0]']\n",
            "                                                                                                  \n",
            " activation_298 (Activation)    (None, 25, 25, 96)   0           ['batch_normalization_310[0][0]']\n",
            "                                                                                                  \n",
            " average_pooling2d_28 (AverageP  (None, 25, 25, 256)  0          ['mixed0[0][0]']                 \n",
            " ooling2D)                                                                                        \n",
            "                                                                                                  \n",
            " conv2d_306 (Conv2D)            (None, 25, 25, 64)   16384       ['mixed0[0][0]']                 \n",
            "                                                                                                  \n",
            " conv2d_308 (Conv2D)            (None, 25, 25, 64)   76800       ['activation_295[0][0]']         \n",
            "                                                                                                  \n",
            " conv2d_311 (Conv2D)            (None, 25, 25, 96)   82944       ['activation_298[0][0]']         \n",
            "                                                                                                  \n",
            " conv2d_312 (Conv2D)            (None, 25, 25, 64)   16384       ['average_pooling2d_28[0][0]']   \n",
            "                                                                                                  \n",
            " batch_normalization_306 (Batch  (None, 25, 25, 64)  192         ['conv2d_306[0][0]']             \n",
            " Normalization)                                                                                   \n",
            "                                                                                                  \n",
            " batch_normalization_308 (Batch  (None, 25, 25, 64)  192         ['conv2d_308[0][0]']             \n",
            " Normalization)                                                                                   \n",
            "                                                                                                  \n",
            " batch_normalization_311 (Batch  (None, 25, 25, 96)  288         ['conv2d_311[0][0]']             \n",
            " Normalization)                                                                                   \n",
            "                                                                                                  \n",
            " batch_normalization_312 (Batch  (None, 25, 25, 64)  192         ['conv2d_312[0][0]']             \n",
            " Normalization)                                                                                   \n",
            "                                                                                                  \n",
            " activation_294 (Activation)    (None, 25, 25, 64)   0           ['batch_normalization_306[0][0]']\n",
            "                                                                                                  \n",
            " activation_296 (Activation)    (None, 25, 25, 64)   0           ['batch_normalization_308[0][0]']\n",
            "                                                                                                  \n",
            " activation_299 (Activation)    (None, 25, 25, 96)   0           ['batch_normalization_311[0][0]']\n",
            "                                                                                                  \n",
            " activation_300 (Activation)    (None, 25, 25, 64)   0           ['batch_normalization_312[0][0]']\n",
            "                                                                                                  \n",
            " mixed1 (Concatenate)           (None, 25, 25, 288)  0           ['activation_294[0][0]',         \n",
            "                                                                  'activation_296[0][0]',         \n",
            "                                                                  'activation_299[0][0]',         \n",
            "                                                                  'activation_300[0][0]']         \n",
            "                                                                                                  \n",
            " conv2d_316 (Conv2D)            (None, 25, 25, 64)   18432       ['mixed1[0][0]']                 \n",
            "                                                                                                  \n",
            " batch_normalization_316 (Batch  (None, 25, 25, 64)  192         ['conv2d_316[0][0]']             \n",
            " Normalization)                                                                                   \n",
            "                                                                                                  \n",
            " activation_304 (Activation)    (None, 25, 25, 64)   0           ['batch_normalization_316[0][0]']\n",
            "                                                                                                  \n",
            " conv2d_314 (Conv2D)            (None, 25, 25, 48)   13824       ['mixed1[0][0]']                 \n",
            "                                                                                                  \n",
            " conv2d_317 (Conv2D)            (None, 25, 25, 96)   55296       ['activation_304[0][0]']         \n",
            "                                                                                                  \n",
            " batch_normalization_314 (Batch  (None, 25, 25, 48)  144         ['conv2d_314[0][0]']             \n",
            " Normalization)                                                                                   \n",
            "                                                                                                  \n",
            " batch_normalization_317 (Batch  (None, 25, 25, 96)  288         ['conv2d_317[0][0]']             \n",
            " Normalization)                                                                                   \n",
            "                                                                                                  \n",
            " activation_302 (Activation)    (None, 25, 25, 48)   0           ['batch_normalization_314[0][0]']\n",
            "                                                                                                  \n",
            " activation_305 (Activation)    (None, 25, 25, 96)   0           ['batch_normalization_317[0][0]']\n",
            "                                                                                                  \n",
            " average_pooling2d_29 (AverageP  (None, 25, 25, 288)  0          ['mixed1[0][0]']                 \n",
            " ooling2D)                                                                                        \n",
            "                                                                                                  \n",
            " conv2d_313 (Conv2D)            (None, 25, 25, 64)   18432       ['mixed1[0][0]']                 \n",
            "                                                                                                  \n",
            " conv2d_315 (Conv2D)            (None, 25, 25, 64)   76800       ['activation_302[0][0]']         \n",
            "                                                                                                  \n",
            " conv2d_318 (Conv2D)            (None, 25, 25, 96)   82944       ['activation_305[0][0]']         \n",
            "                                                                                                  \n",
            " conv2d_319 (Conv2D)            (None, 25, 25, 64)   18432       ['average_pooling2d_29[0][0]']   \n",
            "                                                                                                  \n",
            " batch_normalization_313 (Batch  (None, 25, 25, 64)  192         ['conv2d_313[0][0]']             \n",
            " Normalization)                                                                                   \n",
            "                                                                                                  \n",
            " batch_normalization_315 (Batch  (None, 25, 25, 64)  192         ['conv2d_315[0][0]']             \n",
            " Normalization)                                                                                   \n",
            "                                                                                                  \n",
            " batch_normalization_318 (Batch  (None, 25, 25, 96)  288         ['conv2d_318[0][0]']             \n",
            " Normalization)                                                                                   \n",
            "                                                                                                  \n",
            " batch_normalization_319 (Batch  (None, 25, 25, 64)  192         ['conv2d_319[0][0]']             \n",
            " Normalization)                                                                                   \n",
            "                                                                                                  \n",
            " activation_301 (Activation)    (None, 25, 25, 64)   0           ['batch_normalization_313[0][0]']\n",
            "                                                                                                  \n",
            " activation_303 (Activation)    (None, 25, 25, 64)   0           ['batch_normalization_315[0][0]']\n",
            "                                                                                                  \n",
            " activation_306 (Activation)    (None, 25, 25, 96)   0           ['batch_normalization_318[0][0]']\n",
            "                                                                                                  \n",
            " activation_307 (Activation)    (None, 25, 25, 64)   0           ['batch_normalization_319[0][0]']\n",
            "                                                                                                  \n",
            " mixed2 (Concatenate)           (None, 25, 25, 288)  0           ['activation_301[0][0]',         \n",
            "                                                                  'activation_303[0][0]',         \n",
            "                                                                  'activation_306[0][0]',         \n",
            "                                                                  'activation_307[0][0]']         \n",
            "                                                                                                  \n",
            " conv2d_321 (Conv2D)            (None, 25, 25, 64)   18432       ['mixed2[0][0]']                 \n",
            "                                                                                                  \n",
            " batch_normalization_321 (Batch  (None, 25, 25, 64)  192         ['conv2d_321[0][0]']             \n",
            " Normalization)                                                                                   \n",
            "                                                                                                  \n",
            " activation_309 (Activation)    (None, 25, 25, 64)   0           ['batch_normalization_321[0][0]']\n",
            "                                                                                                  \n",
            " conv2d_322 (Conv2D)            (None, 25, 25, 96)   55296       ['activation_309[0][0]']         \n",
            "                                                                                                  \n",
            " batch_normalization_322 (Batch  (None, 25, 25, 96)  288         ['conv2d_322[0][0]']             \n",
            " Normalization)                                                                                   \n",
            "                                                                                                  \n",
            " activation_310 (Activation)    (None, 25, 25, 96)   0           ['batch_normalization_322[0][0]']\n",
            "                                                                                                  \n",
            " conv2d_320 (Conv2D)            (None, 12, 12, 384)  995328      ['mixed2[0][0]']                 \n",
            "                                                                                                  \n",
            " conv2d_323 (Conv2D)            (None, 12, 12, 96)   82944       ['activation_310[0][0]']         \n",
            "                                                                                                  \n",
            " batch_normalization_320 (Batch  (None, 12, 12, 384)  1152       ['conv2d_320[0][0]']             \n",
            " Normalization)                                                                                   \n",
            "                                                                                                  \n",
            " batch_normalization_323 (Batch  (None, 12, 12, 96)  288         ['conv2d_323[0][0]']             \n",
            " Normalization)                                                                                   \n",
            "                                                                                                  \n",
            " activation_308 (Activation)    (None, 12, 12, 384)  0           ['batch_normalization_320[0][0]']\n",
            "                                                                                                  \n",
            " activation_311 (Activation)    (None, 12, 12, 96)   0           ['batch_normalization_323[0][0]']\n",
            "                                                                                                  \n",
            " max_pooling2d_14 (MaxPooling2D  (None, 12, 12, 288)  0          ['mixed2[0][0]']                 \n",
            " )                                                                                                \n",
            "                                                                                                  \n",
            " mixed3 (Concatenate)           (None, 12, 12, 768)  0           ['activation_308[0][0]',         \n",
            "                                                                  'activation_311[0][0]',         \n",
            "                                                                  'max_pooling2d_14[0][0]']       \n",
            "                                                                                                  \n",
            " conv2d_328 (Conv2D)            (None, 12, 12, 128)  98304       ['mixed3[0][0]']                 \n",
            "                                                                                                  \n",
            " batch_normalization_328 (Batch  (None, 12, 12, 128)  384        ['conv2d_328[0][0]']             \n",
            " Normalization)                                                                                   \n",
            "                                                                                                  \n",
            " activation_316 (Activation)    (None, 12, 12, 128)  0           ['batch_normalization_328[0][0]']\n",
            "                                                                                                  \n",
            " conv2d_329 (Conv2D)            (None, 12, 12, 128)  114688      ['activation_316[0][0]']         \n",
            "                                                                                                  \n",
            " batch_normalization_329 (Batch  (None, 12, 12, 128)  384        ['conv2d_329[0][0]']             \n",
            " Normalization)                                                                                   \n",
            "                                                                                                  \n",
            " activation_317 (Activation)    (None, 12, 12, 128)  0           ['batch_normalization_329[0][0]']\n",
            "                                                                                                  \n",
            " conv2d_325 (Conv2D)            (None, 12, 12, 128)  98304       ['mixed3[0][0]']                 \n",
            "                                                                                                  \n",
            " conv2d_330 (Conv2D)            (None, 12, 12, 128)  114688      ['activation_317[0][0]']         \n",
            "                                                                                                  \n",
            " batch_normalization_325 (Batch  (None, 12, 12, 128)  384        ['conv2d_325[0][0]']             \n",
            " Normalization)                                                                                   \n",
            "                                                                                                  \n",
            " batch_normalization_330 (Batch  (None, 12, 12, 128)  384        ['conv2d_330[0][0]']             \n",
            " Normalization)                                                                                   \n",
            "                                                                                                  \n",
            " activation_313 (Activation)    (None, 12, 12, 128)  0           ['batch_normalization_325[0][0]']\n",
            "                                                                                                  \n",
            " activation_318 (Activation)    (None, 12, 12, 128)  0           ['batch_normalization_330[0][0]']\n",
            "                                                                                                  \n",
            " conv2d_326 (Conv2D)            (None, 12, 12, 128)  114688      ['activation_313[0][0]']         \n",
            "                                                                                                  \n",
            " conv2d_331 (Conv2D)            (None, 12, 12, 128)  114688      ['activation_318[0][0]']         \n",
            "                                                                                                  \n",
            " batch_normalization_326 (Batch  (None, 12, 12, 128)  384        ['conv2d_326[0][0]']             \n",
            " Normalization)                                                                                   \n",
            "                                                                                                  \n",
            " batch_normalization_331 (Batch  (None, 12, 12, 128)  384        ['conv2d_331[0][0]']             \n",
            " Normalization)                                                                                   \n",
            "                                                                                                  \n",
            " activation_314 (Activation)    (None, 12, 12, 128)  0           ['batch_normalization_326[0][0]']\n",
            "                                                                                                  \n",
            " activation_319 (Activation)    (None, 12, 12, 128)  0           ['batch_normalization_331[0][0]']\n",
            "                                                                                                  \n",
            " average_pooling2d_30 (AverageP  (None, 12, 12, 768)  0          ['mixed3[0][0]']                 \n",
            " ooling2D)                                                                                        \n",
            "                                                                                                  \n",
            " conv2d_324 (Conv2D)            (None, 12, 12, 192)  147456      ['mixed3[0][0]']                 \n",
            "                                                                                                  \n",
            " conv2d_327 (Conv2D)            (None, 12, 12, 192)  172032      ['activation_314[0][0]']         \n",
            "                                                                                                  \n",
            " conv2d_332 (Conv2D)            (None, 12, 12, 192)  172032      ['activation_319[0][0]']         \n",
            "                                                                                                  \n",
            " conv2d_333 (Conv2D)            (None, 12, 12, 192)  147456      ['average_pooling2d_30[0][0]']   \n",
            "                                                                                                  \n",
            " batch_normalization_324 (Batch  (None, 12, 12, 192)  576        ['conv2d_324[0][0]']             \n",
            " Normalization)                                                                                   \n",
            "                                                                                                  \n",
            " batch_normalization_327 (Batch  (None, 12, 12, 192)  576        ['conv2d_327[0][0]']             \n",
            " Normalization)                                                                                   \n",
            "                                                                                                  \n",
            " batch_normalization_332 (Batch  (None, 12, 12, 192)  576        ['conv2d_332[0][0]']             \n",
            " Normalization)                                                                                   \n",
            "                                                                                                  \n",
            " batch_normalization_333 (Batch  (None, 12, 12, 192)  576        ['conv2d_333[0][0]']             \n",
            " Normalization)                                                                                   \n",
            "                                                                                                  \n",
            " activation_312 (Activation)    (None, 12, 12, 192)  0           ['batch_normalization_324[0][0]']\n",
            "                                                                                                  \n",
            " activation_315 (Activation)    (None, 12, 12, 192)  0           ['batch_normalization_327[0][0]']\n",
            "                                                                                                  \n",
            " activation_320 (Activation)    (None, 12, 12, 192)  0           ['batch_normalization_332[0][0]']\n",
            "                                                                                                  \n",
            " activation_321 (Activation)    (None, 12, 12, 192)  0           ['batch_normalization_333[0][0]']\n",
            "                                                                                                  \n",
            " mixed4 (Concatenate)           (None, 12, 12, 768)  0           ['activation_312[0][0]',         \n",
            "                                                                  'activation_315[0][0]',         \n",
            "                                                                  'activation_320[0][0]',         \n",
            "                                                                  'activation_321[0][0]']         \n",
            "                                                                                                  \n",
            " conv2d_338 (Conv2D)            (None, 12, 12, 160)  122880      ['mixed4[0][0]']                 \n",
            "                                                                                                  \n",
            " batch_normalization_338 (Batch  (None, 12, 12, 160)  480        ['conv2d_338[0][0]']             \n",
            " Normalization)                                                                                   \n",
            "                                                                                                  \n",
            " activation_326 (Activation)    (None, 12, 12, 160)  0           ['batch_normalization_338[0][0]']\n",
            "                                                                                                  \n",
            " conv2d_339 (Conv2D)            (None, 12, 12, 160)  179200      ['activation_326[0][0]']         \n",
            "                                                                                                  \n",
            " batch_normalization_339 (Batch  (None, 12, 12, 160)  480        ['conv2d_339[0][0]']             \n",
            " Normalization)                                                                                   \n",
            "                                                                                                  \n",
            " activation_327 (Activation)    (None, 12, 12, 160)  0           ['batch_normalization_339[0][0]']\n",
            "                                                                                                  \n",
            " conv2d_335 (Conv2D)            (None, 12, 12, 160)  122880      ['mixed4[0][0]']                 \n",
            "                                                                                                  \n",
            " conv2d_340 (Conv2D)            (None, 12, 12, 160)  179200      ['activation_327[0][0]']         \n",
            "                                                                                                  \n",
            " batch_normalization_335 (Batch  (None, 12, 12, 160)  480        ['conv2d_335[0][0]']             \n",
            " Normalization)                                                                                   \n",
            "                                                                                                  \n",
            " batch_normalization_340 (Batch  (None, 12, 12, 160)  480        ['conv2d_340[0][0]']             \n",
            " Normalization)                                                                                   \n",
            "                                                                                                  \n",
            " activation_323 (Activation)    (None, 12, 12, 160)  0           ['batch_normalization_335[0][0]']\n",
            "                                                                                                  \n",
            " activation_328 (Activation)    (None, 12, 12, 160)  0           ['batch_normalization_340[0][0]']\n",
            "                                                                                                  \n",
            " conv2d_336 (Conv2D)            (None, 12, 12, 160)  179200      ['activation_323[0][0]']         \n",
            "                                                                                                  \n",
            " conv2d_341 (Conv2D)            (None, 12, 12, 160)  179200      ['activation_328[0][0]']         \n",
            "                                                                                                  \n",
            " batch_normalization_336 (Batch  (None, 12, 12, 160)  480        ['conv2d_336[0][0]']             \n",
            " Normalization)                                                                                   \n",
            "                                                                                                  \n",
            " batch_normalization_341 (Batch  (None, 12, 12, 160)  480        ['conv2d_341[0][0]']             \n",
            " Normalization)                                                                                   \n",
            "                                                                                                  \n",
            " activation_324 (Activation)    (None, 12, 12, 160)  0           ['batch_normalization_336[0][0]']\n",
            "                                                                                                  \n",
            " activation_329 (Activation)    (None, 12, 12, 160)  0           ['batch_normalization_341[0][0]']\n",
            "                                                                                                  \n",
            " average_pooling2d_31 (AverageP  (None, 12, 12, 768)  0          ['mixed4[0][0]']                 \n",
            " ooling2D)                                                                                        \n",
            "                                                                                                  \n",
            " conv2d_334 (Conv2D)            (None, 12, 12, 192)  147456      ['mixed4[0][0]']                 \n",
            "                                                                                                  \n",
            " conv2d_337 (Conv2D)            (None, 12, 12, 192)  215040      ['activation_324[0][0]']         \n",
            "                                                                                                  \n",
            " conv2d_342 (Conv2D)            (None, 12, 12, 192)  215040      ['activation_329[0][0]']         \n",
            "                                                                                                  \n",
            " conv2d_343 (Conv2D)            (None, 12, 12, 192)  147456      ['average_pooling2d_31[0][0]']   \n",
            "                                                                                                  \n",
            " batch_normalization_334 (Batch  (None, 12, 12, 192)  576        ['conv2d_334[0][0]']             \n",
            " Normalization)                                                                                   \n",
            "                                                                                                  \n",
            " batch_normalization_337 (Batch  (None, 12, 12, 192)  576        ['conv2d_337[0][0]']             \n",
            " Normalization)                                                                                   \n",
            "                                                                                                  \n",
            " batch_normalization_342 (Batch  (None, 12, 12, 192)  576        ['conv2d_342[0][0]']             \n",
            " Normalization)                                                                                   \n",
            "                                                                                                  \n",
            " batch_normalization_343 (Batch  (None, 12, 12, 192)  576        ['conv2d_343[0][0]']             \n",
            " Normalization)                                                                                   \n",
            "                                                                                                  \n",
            " activation_322 (Activation)    (None, 12, 12, 192)  0           ['batch_normalization_334[0][0]']\n",
            "                                                                                                  \n",
            " activation_325 (Activation)    (None, 12, 12, 192)  0           ['batch_normalization_337[0][0]']\n",
            "                                                                                                  \n",
            " activation_330 (Activation)    (None, 12, 12, 192)  0           ['batch_normalization_342[0][0]']\n",
            "                                                                                                  \n",
            " activation_331 (Activation)    (None, 12, 12, 192)  0           ['batch_normalization_343[0][0]']\n",
            "                                                                                                  \n",
            " mixed5 (Concatenate)           (None, 12, 12, 768)  0           ['activation_322[0][0]',         \n",
            "                                                                  'activation_325[0][0]',         \n",
            "                                                                  'activation_330[0][0]',         \n",
            "                                                                  'activation_331[0][0]']         \n",
            "                                                                                                  \n",
            " conv2d_348 (Conv2D)            (None, 12, 12, 160)  122880      ['mixed5[0][0]']                 \n",
            "                                                                                                  \n",
            " batch_normalization_348 (Batch  (None, 12, 12, 160)  480        ['conv2d_348[0][0]']             \n",
            " Normalization)                                                                                   \n",
            "                                                                                                  \n",
            " activation_336 (Activation)    (None, 12, 12, 160)  0           ['batch_normalization_348[0][0]']\n",
            "                                                                                                  \n",
            " conv2d_349 (Conv2D)            (None, 12, 12, 160)  179200      ['activation_336[0][0]']         \n",
            "                                                                                                  \n",
            " batch_normalization_349 (Batch  (None, 12, 12, 160)  480        ['conv2d_349[0][0]']             \n",
            " Normalization)                                                                                   \n",
            "                                                                                                  \n",
            " activation_337 (Activation)    (None, 12, 12, 160)  0           ['batch_normalization_349[0][0]']\n",
            "                                                                                                  \n",
            " conv2d_345 (Conv2D)            (None, 12, 12, 160)  122880      ['mixed5[0][0]']                 \n",
            "                                                                                                  \n",
            " conv2d_350 (Conv2D)            (None, 12, 12, 160)  179200      ['activation_337[0][0]']         \n",
            "                                                                                                  \n",
            " batch_normalization_345 (Batch  (None, 12, 12, 160)  480        ['conv2d_345[0][0]']             \n",
            " Normalization)                                                                                   \n",
            "                                                                                                  \n",
            " batch_normalization_350 (Batch  (None, 12, 12, 160)  480        ['conv2d_350[0][0]']             \n",
            " Normalization)                                                                                   \n",
            "                                                                                                  \n",
            " activation_333 (Activation)    (None, 12, 12, 160)  0           ['batch_normalization_345[0][0]']\n",
            "                                                                                                  \n",
            " activation_338 (Activation)    (None, 12, 12, 160)  0           ['batch_normalization_350[0][0]']\n",
            "                                                                                                  \n",
            " conv2d_346 (Conv2D)            (None, 12, 12, 160)  179200      ['activation_333[0][0]']         \n",
            "                                                                                                  \n",
            " conv2d_351 (Conv2D)            (None, 12, 12, 160)  179200      ['activation_338[0][0]']         \n",
            "                                                                                                  \n",
            " batch_normalization_346 (Batch  (None, 12, 12, 160)  480        ['conv2d_346[0][0]']             \n",
            " Normalization)                                                                                   \n",
            "                                                                                                  \n",
            " batch_normalization_351 (Batch  (None, 12, 12, 160)  480        ['conv2d_351[0][0]']             \n",
            " Normalization)                                                                                   \n",
            "                                                                                                  \n",
            " activation_334 (Activation)    (None, 12, 12, 160)  0           ['batch_normalization_346[0][0]']\n",
            "                                                                                                  \n",
            " activation_339 (Activation)    (None, 12, 12, 160)  0           ['batch_normalization_351[0][0]']\n",
            "                                                                                                  \n",
            " average_pooling2d_32 (AverageP  (None, 12, 12, 768)  0          ['mixed5[0][0]']                 \n",
            " ooling2D)                                                                                        \n",
            "                                                                                                  \n",
            " conv2d_344 (Conv2D)            (None, 12, 12, 192)  147456      ['mixed5[0][0]']                 \n",
            "                                                                                                  \n",
            " conv2d_347 (Conv2D)            (None, 12, 12, 192)  215040      ['activation_334[0][0]']         \n",
            "                                                                                                  \n",
            " conv2d_352 (Conv2D)            (None, 12, 12, 192)  215040      ['activation_339[0][0]']         \n",
            "                                                                                                  \n",
            " conv2d_353 (Conv2D)            (None, 12, 12, 192)  147456      ['average_pooling2d_32[0][0]']   \n",
            "                                                                                                  \n",
            " batch_normalization_344 (Batch  (None, 12, 12, 192)  576        ['conv2d_344[0][0]']             \n",
            " Normalization)                                                                                   \n",
            "                                                                                                  \n",
            " batch_normalization_347 (Batch  (None, 12, 12, 192)  576        ['conv2d_347[0][0]']             \n",
            " Normalization)                                                                                   \n",
            "                                                                                                  \n",
            " batch_normalization_352 (Batch  (None, 12, 12, 192)  576        ['conv2d_352[0][0]']             \n",
            " Normalization)                                                                                   \n",
            "                                                                                                  \n",
            " batch_normalization_353 (Batch  (None, 12, 12, 192)  576        ['conv2d_353[0][0]']             \n",
            " Normalization)                                                                                   \n",
            "                                                                                                  \n",
            " activation_332 (Activation)    (None, 12, 12, 192)  0           ['batch_normalization_344[0][0]']\n",
            "                                                                                                  \n",
            " activation_335 (Activation)    (None, 12, 12, 192)  0           ['batch_normalization_347[0][0]']\n",
            "                                                                                                  \n",
            " activation_340 (Activation)    (None, 12, 12, 192)  0           ['batch_normalization_352[0][0]']\n",
            "                                                                                                  \n",
            " activation_341 (Activation)    (None, 12, 12, 192)  0           ['batch_normalization_353[0][0]']\n",
            "                                                                                                  \n",
            " mixed6 (Concatenate)           (None, 12, 12, 768)  0           ['activation_332[0][0]',         \n",
            "                                                                  'activation_335[0][0]',         \n",
            "                                                                  'activation_340[0][0]',         \n",
            "                                                                  'activation_341[0][0]']         \n",
            "                                                                                                  \n",
            " conv2d_358 (Conv2D)            (None, 12, 12, 192)  147456      ['mixed6[0][0]']                 \n",
            "                                                                                                  \n",
            " batch_normalization_358 (Batch  (None, 12, 12, 192)  576        ['conv2d_358[0][0]']             \n",
            " Normalization)                                                                                   \n",
            "                                                                                                  \n",
            " activation_346 (Activation)    (None, 12, 12, 192)  0           ['batch_normalization_358[0][0]']\n",
            "                                                                                                  \n",
            " conv2d_359 (Conv2D)            (None, 12, 12, 192)  258048      ['activation_346[0][0]']         \n",
            "                                                                                                  \n",
            " batch_normalization_359 (Batch  (None, 12, 12, 192)  576        ['conv2d_359[0][0]']             \n",
            " Normalization)                                                                                   \n",
            "                                                                                                  \n",
            " activation_347 (Activation)    (None, 12, 12, 192)  0           ['batch_normalization_359[0][0]']\n",
            "                                                                                                  \n",
            " conv2d_355 (Conv2D)            (None, 12, 12, 192)  147456      ['mixed6[0][0]']                 \n",
            "                                                                                                  \n",
            " conv2d_360 (Conv2D)            (None, 12, 12, 192)  258048      ['activation_347[0][0]']         \n",
            "                                                                                                  \n",
            " batch_normalization_355 (Batch  (None, 12, 12, 192)  576        ['conv2d_355[0][0]']             \n",
            " Normalization)                                                                                   \n",
            "                                                                                                  \n",
            " batch_normalization_360 (Batch  (None, 12, 12, 192)  576        ['conv2d_360[0][0]']             \n",
            " Normalization)                                                                                   \n",
            "                                                                                                  \n",
            " activation_343 (Activation)    (None, 12, 12, 192)  0           ['batch_normalization_355[0][0]']\n",
            "                                                                                                  \n",
            " activation_348 (Activation)    (None, 12, 12, 192)  0           ['batch_normalization_360[0][0]']\n",
            "                                                                                                  \n",
            " conv2d_356 (Conv2D)            (None, 12, 12, 192)  258048      ['activation_343[0][0]']         \n",
            "                                                                                                  \n",
            " conv2d_361 (Conv2D)            (None, 12, 12, 192)  258048      ['activation_348[0][0]']         \n",
            "                                                                                                  \n",
            " batch_normalization_356 (Batch  (None, 12, 12, 192)  576        ['conv2d_356[0][0]']             \n",
            " Normalization)                                                                                   \n",
            "                                                                                                  \n",
            " batch_normalization_361 (Batch  (None, 12, 12, 192)  576        ['conv2d_361[0][0]']             \n",
            " Normalization)                                                                                   \n",
            "                                                                                                  \n",
            " activation_344 (Activation)    (None, 12, 12, 192)  0           ['batch_normalization_356[0][0]']\n",
            "                                                                                                  \n",
            " activation_349 (Activation)    (None, 12, 12, 192)  0           ['batch_normalization_361[0][0]']\n",
            "                                                                                                  \n",
            " average_pooling2d_33 (AverageP  (None, 12, 12, 768)  0          ['mixed6[0][0]']                 \n",
            " ooling2D)                                                                                        \n",
            "                                                                                                  \n",
            " conv2d_354 (Conv2D)            (None, 12, 12, 192)  147456      ['mixed6[0][0]']                 \n",
            "                                                                                                  \n",
            " conv2d_357 (Conv2D)            (None, 12, 12, 192)  258048      ['activation_344[0][0]']         \n",
            "                                                                                                  \n",
            " conv2d_362 (Conv2D)            (None, 12, 12, 192)  258048      ['activation_349[0][0]']         \n",
            "                                                                                                  \n",
            " conv2d_363 (Conv2D)            (None, 12, 12, 192)  147456      ['average_pooling2d_33[0][0]']   \n",
            "                                                                                                  \n",
            " batch_normalization_354 (Batch  (None, 12, 12, 192)  576        ['conv2d_354[0][0]']             \n",
            " Normalization)                                                                                   \n",
            "                                                                                                  \n",
            " batch_normalization_357 (Batch  (None, 12, 12, 192)  576        ['conv2d_357[0][0]']             \n",
            " Normalization)                                                                                   \n",
            "                                                                                                  \n",
            " batch_normalization_362 (Batch  (None, 12, 12, 192)  576        ['conv2d_362[0][0]']             \n",
            " Normalization)                                                                                   \n",
            "                                                                                                  \n",
            " batch_normalization_363 (Batch  (None, 12, 12, 192)  576        ['conv2d_363[0][0]']             \n",
            " Normalization)                                                                                   \n",
            "                                                                                                  \n",
            " activation_342 (Activation)    (None, 12, 12, 192)  0           ['batch_normalization_354[0][0]']\n",
            "                                                                                                  \n",
            " activation_345 (Activation)    (None, 12, 12, 192)  0           ['batch_normalization_357[0][0]']\n",
            "                                                                                                  \n",
            " activation_350 (Activation)    (None, 12, 12, 192)  0           ['batch_normalization_362[0][0]']\n",
            "                                                                                                  \n",
            " activation_351 (Activation)    (None, 12, 12, 192)  0           ['batch_normalization_363[0][0]']\n",
            "                                                                                                  \n",
            " mixed7 (Concatenate)           (None, 12, 12, 768)  0           ['activation_342[0][0]',         \n",
            "                                                                  'activation_345[0][0]',         \n",
            "                                                                  'activation_350[0][0]',         \n",
            "                                                                  'activation_351[0][0]']         \n",
            "                                                                                                  \n",
            " conv2d_366 (Conv2D)            (None, 12, 12, 192)  147456      ['mixed7[0][0]']                 \n",
            "                                                                                                  \n",
            " batch_normalization_366 (Batch  (None, 12, 12, 192)  576        ['conv2d_366[0][0]']             \n",
            " Normalization)                                                                                   \n",
            "                                                                                                  \n",
            " activation_354 (Activation)    (None, 12, 12, 192)  0           ['batch_normalization_366[0][0]']\n",
            "                                                                                                  \n",
            " conv2d_367 (Conv2D)            (None, 12, 12, 192)  258048      ['activation_354[0][0]']         \n",
            "                                                                                                  \n",
            " batch_normalization_367 (Batch  (None, 12, 12, 192)  576        ['conv2d_367[0][0]']             \n",
            " Normalization)                                                                                   \n",
            "                                                                                                  \n",
            " activation_355 (Activation)    (None, 12, 12, 192)  0           ['batch_normalization_367[0][0]']\n",
            "                                                                                                  \n",
            " conv2d_364 (Conv2D)            (None, 12, 12, 192)  147456      ['mixed7[0][0]']                 \n",
            "                                                                                                  \n",
            " conv2d_368 (Conv2D)            (None, 12, 12, 192)  258048      ['activation_355[0][0]']         \n",
            "                                                                                                  \n",
            " batch_normalization_364 (Batch  (None, 12, 12, 192)  576        ['conv2d_364[0][0]']             \n",
            " Normalization)                                                                                   \n",
            "                                                                                                  \n",
            " batch_normalization_368 (Batch  (None, 12, 12, 192)  576        ['conv2d_368[0][0]']             \n",
            " Normalization)                                                                                   \n",
            "                                                                                                  \n",
            " activation_352 (Activation)    (None, 12, 12, 192)  0           ['batch_normalization_364[0][0]']\n",
            "                                                                                                  \n",
            " activation_356 (Activation)    (None, 12, 12, 192)  0           ['batch_normalization_368[0][0]']\n",
            "                                                                                                  \n",
            " conv2d_365 (Conv2D)            (None, 5, 5, 320)    552960      ['activation_352[0][0]']         \n",
            "                                                                                                  \n",
            " conv2d_369 (Conv2D)            (None, 5, 5, 192)    331776      ['activation_356[0][0]']         \n",
            "                                                                                                  \n",
            " batch_normalization_365 (Batch  (None, 5, 5, 320)   960         ['conv2d_365[0][0]']             \n",
            " Normalization)                                                                                   \n",
            "                                                                                                  \n",
            " batch_normalization_369 (Batch  (None, 5, 5, 192)   576         ['conv2d_369[0][0]']             \n",
            " Normalization)                                                                                   \n",
            "                                                                                                  \n",
            " activation_353 (Activation)    (None, 5, 5, 320)    0           ['batch_normalization_365[0][0]']\n",
            "                                                                                                  \n",
            " activation_357 (Activation)    (None, 5, 5, 192)    0           ['batch_normalization_369[0][0]']\n",
            "                                                                                                  \n",
            " max_pooling2d_15 (MaxPooling2D  (None, 5, 5, 768)   0           ['mixed7[0][0]']                 \n",
            " )                                                                                                \n",
            "                                                                                                  \n",
            " mixed8 (Concatenate)           (None, 5, 5, 1280)   0           ['activation_353[0][0]',         \n",
            "                                                                  'activation_357[0][0]',         \n",
            "                                                                  'max_pooling2d_15[0][0]']       \n",
            "                                                                                                  \n",
            " conv2d_374 (Conv2D)            (None, 5, 5, 448)    573440      ['mixed8[0][0]']                 \n",
            "                                                                                                  \n",
            " batch_normalization_374 (Batch  (None, 5, 5, 448)   1344        ['conv2d_374[0][0]']             \n",
            " Normalization)                                                                                   \n",
            "                                                                                                  \n",
            " activation_362 (Activation)    (None, 5, 5, 448)    0           ['batch_normalization_374[0][0]']\n",
            "                                                                                                  \n",
            " conv2d_371 (Conv2D)            (None, 5, 5, 384)    491520      ['mixed8[0][0]']                 \n",
            "                                                                                                  \n",
            " conv2d_375 (Conv2D)            (None, 5, 5, 384)    1548288     ['activation_362[0][0]']         \n",
            "                                                                                                  \n",
            " batch_normalization_371 (Batch  (None, 5, 5, 384)   1152        ['conv2d_371[0][0]']             \n",
            " Normalization)                                                                                   \n",
            "                                                                                                  \n",
            " batch_normalization_375 (Batch  (None, 5, 5, 384)   1152        ['conv2d_375[0][0]']             \n",
            " Normalization)                                                                                   \n",
            "                                                                                                  \n",
            " activation_359 (Activation)    (None, 5, 5, 384)    0           ['batch_normalization_371[0][0]']\n",
            "                                                                                                  \n",
            " activation_363 (Activation)    (None, 5, 5, 384)    0           ['batch_normalization_375[0][0]']\n",
            "                                                                                                  \n",
            " conv2d_372 (Conv2D)            (None, 5, 5, 384)    442368      ['activation_359[0][0]']         \n",
            "                                                                                                  \n",
            " conv2d_373 (Conv2D)            (None, 5, 5, 384)    442368      ['activation_359[0][0]']         \n",
            "                                                                                                  \n",
            " conv2d_376 (Conv2D)            (None, 5, 5, 384)    442368      ['activation_363[0][0]']         \n",
            "                                                                                                  \n",
            " conv2d_377 (Conv2D)            (None, 5, 5, 384)    442368      ['activation_363[0][0]']         \n",
            "                                                                                                  \n",
            " average_pooling2d_34 (AverageP  (None, 5, 5, 1280)  0           ['mixed8[0][0]']                 \n",
            " ooling2D)                                                                                        \n",
            "                                                                                                  \n",
            " conv2d_370 (Conv2D)            (None, 5, 5, 320)    409600      ['mixed8[0][0]']                 \n",
            "                                                                                                  \n",
            " batch_normalization_372 (Batch  (None, 5, 5, 384)   1152        ['conv2d_372[0][0]']             \n",
            " Normalization)                                                                                   \n",
            "                                                                                                  \n",
            " batch_normalization_373 (Batch  (None, 5, 5, 384)   1152        ['conv2d_373[0][0]']             \n",
            " Normalization)                                                                                   \n",
            "                                                                                                  \n",
            " batch_normalization_376 (Batch  (None, 5, 5, 384)   1152        ['conv2d_376[0][0]']             \n",
            " Normalization)                                                                                   \n",
            "                                                                                                  \n",
            " batch_normalization_377 (Batch  (None, 5, 5, 384)   1152        ['conv2d_377[0][0]']             \n",
            " Normalization)                                                                                   \n",
            "                                                                                                  \n",
            " conv2d_378 (Conv2D)            (None, 5, 5, 192)    245760      ['average_pooling2d_34[0][0]']   \n",
            "                                                                                                  \n",
            " batch_normalization_370 (Batch  (None, 5, 5, 320)   960         ['conv2d_370[0][0]']             \n",
            " Normalization)                                                                                   \n",
            "                                                                                                  \n",
            " activation_360 (Activation)    (None, 5, 5, 384)    0           ['batch_normalization_372[0][0]']\n",
            "                                                                                                  \n",
            " activation_361 (Activation)    (None, 5, 5, 384)    0           ['batch_normalization_373[0][0]']\n",
            "                                                                                                  \n",
            " activation_364 (Activation)    (None, 5, 5, 384)    0           ['batch_normalization_376[0][0]']\n",
            "                                                                                                  \n",
            " activation_365 (Activation)    (None, 5, 5, 384)    0           ['batch_normalization_377[0][0]']\n",
            "                                                                                                  \n",
            " batch_normalization_378 (Batch  (None, 5, 5, 192)   576         ['conv2d_378[0][0]']             \n",
            " Normalization)                                                                                   \n",
            "                                                                                                  \n",
            " activation_358 (Activation)    (None, 5, 5, 320)    0           ['batch_normalization_370[0][0]']\n",
            "                                                                                                  \n",
            " mixed9_0 (Concatenate)         (None, 5, 5, 768)    0           ['activation_360[0][0]',         \n",
            "                                                                  'activation_361[0][0]']         \n",
            "                                                                                                  \n",
            " concatenate_6 (Concatenate)    (None, 5, 5, 768)    0           ['activation_364[0][0]',         \n",
            "                                                                  'activation_365[0][0]']         \n",
            "                                                                                                  \n",
            " activation_366 (Activation)    (None, 5, 5, 192)    0           ['batch_normalization_378[0][0]']\n",
            "                                                                                                  \n",
            " mixed9 (Concatenate)           (None, 5, 5, 2048)   0           ['activation_358[0][0]',         \n",
            "                                                                  'mixed9_0[0][0]',               \n",
            "                                                                  'concatenate_6[0][0]',          \n",
            "                                                                  'activation_366[0][0]']         \n",
            "                                                                                                  \n",
            " conv2d_383 (Conv2D)            (None, 5, 5, 448)    917504      ['mixed9[0][0]']                 \n",
            "                                                                                                  \n",
            " batch_normalization_383 (Batch  (None, 5, 5, 448)   1344        ['conv2d_383[0][0]']             \n",
            " Normalization)                                                                                   \n",
            "                                                                                                  \n",
            " activation_371 (Activation)    (None, 5, 5, 448)    0           ['batch_normalization_383[0][0]']\n",
            "                                                                                                  \n",
            " conv2d_380 (Conv2D)            (None, 5, 5, 384)    786432      ['mixed9[0][0]']                 \n",
            "                                                                                                  \n",
            " conv2d_384 (Conv2D)            (None, 5, 5, 384)    1548288     ['activation_371[0][0]']         \n",
            "                                                                                                  \n",
            " batch_normalization_380 (Batch  (None, 5, 5, 384)   1152        ['conv2d_380[0][0]']             \n",
            " Normalization)                                                                                   \n",
            "                                                                                                  \n",
            " batch_normalization_384 (Batch  (None, 5, 5, 384)   1152        ['conv2d_384[0][0]']             \n",
            " Normalization)                                                                                   \n",
            "                                                                                                  \n",
            " activation_368 (Activation)    (None, 5, 5, 384)    0           ['batch_normalization_380[0][0]']\n",
            "                                                                                                  \n",
            " activation_372 (Activation)    (None, 5, 5, 384)    0           ['batch_normalization_384[0][0]']\n",
            "                                                                                                  \n",
            " conv2d_381 (Conv2D)            (None, 5, 5, 384)    442368      ['activation_368[0][0]']         \n",
            "                                                                                                  \n",
            " conv2d_382 (Conv2D)            (None, 5, 5, 384)    442368      ['activation_368[0][0]']         \n",
            "                                                                                                  \n",
            " conv2d_385 (Conv2D)            (None, 5, 5, 384)    442368      ['activation_372[0][0]']         \n",
            "                                                                                                  \n",
            " conv2d_386 (Conv2D)            (None, 5, 5, 384)    442368      ['activation_372[0][0]']         \n",
            "                                                                                                  \n",
            " average_pooling2d_35 (AverageP  (None, 5, 5, 2048)  0           ['mixed9[0][0]']                 \n",
            " ooling2D)                                                                                        \n",
            "                                                                                                  \n",
            " conv2d_379 (Conv2D)            (None, 5, 5, 320)    655360      ['mixed9[0][0]']                 \n",
            "                                                                                                  \n",
            " batch_normalization_381 (Batch  (None, 5, 5, 384)   1152        ['conv2d_381[0][0]']             \n",
            " Normalization)                                                                                   \n",
            "                                                                                                  \n",
            " batch_normalization_382 (Batch  (None, 5, 5, 384)   1152        ['conv2d_382[0][0]']             \n",
            " Normalization)                                                                                   \n",
            "                                                                                                  \n",
            " batch_normalization_385 (Batch  (None, 5, 5, 384)   1152        ['conv2d_385[0][0]']             \n",
            " Normalization)                                                                                   \n",
            "                                                                                                  \n",
            " batch_normalization_386 (Batch  (None, 5, 5, 384)   1152        ['conv2d_386[0][0]']             \n",
            " Normalization)                                                                                   \n",
            "                                                                                                  \n",
            " conv2d_387 (Conv2D)            (None, 5, 5, 192)    393216      ['average_pooling2d_35[0][0]']   \n",
            "                                                                                                  \n",
            " batch_normalization_379 (Batch  (None, 5, 5, 320)   960         ['conv2d_379[0][0]']             \n",
            " Normalization)                                                                                   \n",
            "                                                                                                  \n",
            " activation_369 (Activation)    (None, 5, 5, 384)    0           ['batch_normalization_381[0][0]']\n",
            "                                                                                                  \n",
            " activation_370 (Activation)    (None, 5, 5, 384)    0           ['batch_normalization_382[0][0]']\n",
            "                                                                                                  \n",
            " activation_373 (Activation)    (None, 5, 5, 384)    0           ['batch_normalization_385[0][0]']\n",
            "                                                                                                  \n",
            " activation_374 (Activation)    (None, 5, 5, 384)    0           ['batch_normalization_386[0][0]']\n",
            "                                                                                                  \n",
            " batch_normalization_387 (Batch  (None, 5, 5, 192)   576         ['conv2d_387[0][0]']             \n",
            " Normalization)                                                                                   \n",
            "                                                                                                  \n",
            " activation_367 (Activation)    (None, 5, 5, 320)    0           ['batch_normalization_379[0][0]']\n",
            "                                                                                                  \n",
            " mixed9_1 (Concatenate)         (None, 5, 5, 768)    0           ['activation_369[0][0]',         \n",
            "                                                                  'activation_370[0][0]']         \n",
            "                                                                                                  \n",
            " concatenate_7 (Concatenate)    (None, 5, 5, 768)    0           ['activation_373[0][0]',         \n",
            "                                                                  'activation_374[0][0]']         \n",
            "                                                                                                  \n",
            " activation_375 (Activation)    (None, 5, 5, 192)    0           ['batch_normalization_387[0][0]']\n",
            "                                                                                                  \n",
            " mixed10 (Concatenate)          (None, 5, 5, 2048)   0           ['activation_367[0][0]',         \n",
            "                                                                  'mixed9_1[0][0]',               \n",
            "                                                                  'concatenate_7[0][0]',          \n",
            "                                                                  'activation_375[0][0]']         \n",
            "                                                                                                  \n",
            "==================================================================================================\n",
            "Total params: 21,802,784\n",
            "Trainable params: 21,768,352\n",
            "Non-trainable params: 34,432\n",
            "__________________________________________________________________________________________________\n"
          ]
        }
      ]
    },
    {
      "cell_type": "code",
      "source": [
        "#Creating custom model\n",
        "model = keras.Sequential([\n",
        "    data_augmentation,                                                    # data augmentations\n",
        "    pre_trained_layers,                                                   # ResNet pre-trained layers\n",
        "    keras.layers.GlobalAveragePooling2D(),                                # Adding Global average Pooling 2d\n",
        "    tf.keras.layers.Dropout(0.3),\n",
        "    keras.layers.Dense(number_of_class_labels, activation='softmax', name='output')  # Final Dense Layer with 30 neurons\n",
        "])"
      ],
      "metadata": {
        "id": "MU_j6dypcPwp"
      },
      "execution_count": null,
      "outputs": []
    },
    {
      "cell_type": "code",
      "source": [
        "EPOCHS = 10\n",
        "LR = 1e-3\n",
        "model.compile(optimizer=keras.optimizers.Adam(learning_rate=LR),\n",
        "              loss=tf.keras.losses.SparseCategoricalCrossentropy(),\n",
        "              metrics=['accuracy'])"
      ],
      "metadata": {
        "id": "41gFu9xKb0CU"
      },
      "execution_count": null,
      "outputs": []
    },
    {
      "cell_type": "code",
      "source": [
        "#printing summary of custom model\n",
        "model.build((1,224,224,3))\n",
        "model.summary()"
      ],
      "metadata": {
        "id": "XCFHANKAcmVS",
        "colab": {
          "base_uri": "https://localhost:8080/"
        },
        "outputId": "05ef5ec6-bedc-4631-8a0d-f4365309d96c"
      },
      "execution_count": null,
      "outputs": [
        {
          "output_type": "stream",
          "name": "stderr",
          "text": [
            "WARNING:tensorflow:Using a while_loop for converting RngReadAndSkip cause there is no registered converter for this op.\n",
            "WARNING:tensorflow:Using a while_loop for converting Bitcast cause there is no registered converter for this op.\n",
            "WARNING:tensorflow:Using a while_loop for converting Bitcast cause there is no registered converter for this op.\n",
            "WARNING:tensorflow:Using a while_loop for converting StatelessRandomUniformV2 cause there is no registered converter for this op.\n",
            "WARNING:tensorflow:Using a while_loop for converting ImageProjectiveTransformV3 cause there is no registered converter for this op.\n",
            "WARNING:tensorflow:Using a while_loop for converting RngReadAndSkip cause there is no registered converter for this op.\n",
            "WARNING:tensorflow:Using a while_loop for converting Bitcast cause there is no registered converter for this op.\n",
            "WARNING:tensorflow:Using a while_loop for converting Bitcast cause there is no registered converter for this op.\n",
            "WARNING:tensorflow:Using a while_loop for converting StatelessRandomUniformV2 cause there is no registered converter for this op.\n",
            "WARNING:tensorflow:Using a while_loop for converting RngReadAndSkip cause there is no registered converter for this op.\n",
            "WARNING:tensorflow:Using a while_loop for converting Bitcast cause there is no registered converter for this op.\n",
            "WARNING:tensorflow:Using a while_loop for converting Bitcast cause there is no registered converter for this op.\n",
            "WARNING:tensorflow:Using a while_loop for converting StatelessRandomUniformV2 cause there is no registered converter for this op.\n",
            "WARNING:tensorflow:Using a while_loop for converting ImageProjectiveTransformV3 cause there is no registered converter for this op.\n",
            "WARNING:tensorflow:Using a while_loop for converting RngReadAndSkip cause there is no registered converter for this op.\n",
            "WARNING:tensorflow:Using a while_loop for converting Bitcast cause there is no registered converter for this op.\n",
            "WARNING:tensorflow:Using a while_loop for converting Bitcast cause there is no registered converter for this op.\n",
            "WARNING:tensorflow:Using a while_loop for converting StatelessRandomUniformV2 cause there is no registered converter for this op.\n",
            "WARNING:tensorflow:Using a while_loop for converting ImageProjectiveTransformV3 cause there is no registered converter for this op.\n",
            "WARNING:tensorflow:Using a while_loop for converting RngReadAndSkip cause there is no registered converter for this op.\n",
            "WARNING:tensorflow:Using a while_loop for converting Bitcast cause there is no registered converter for this op.\n",
            "WARNING:tensorflow:Using a while_loop for converting Bitcast cause there is no registered converter for this op.\n",
            "WARNING:tensorflow:Using a while_loop for converting StatelessRandomUniformV2 cause there is no registered converter for this op.\n",
            "WARNING:tensorflow:Using a while_loop for converting RngReadAndSkip cause there is no registered converter for this op.\n",
            "WARNING:tensorflow:Using a while_loop for converting Bitcast cause there is no registered converter for this op.\n",
            "WARNING:tensorflow:Using a while_loop for converting Bitcast cause there is no registered converter for this op.\n",
            "WARNING:tensorflow:Using a while_loop for converting StatelessRandomUniformV2 cause there is no registered converter for this op.\n",
            "WARNING:tensorflow:Using a while_loop for converting ImageProjectiveTransformV3 cause there is no registered converter for this op.\n"
          ]
        },
        {
          "output_type": "stream",
          "name": "stdout",
          "text": [
            "Model: \"sequential_13\"\n",
            "_________________________________________________________________\n",
            " Layer (type)                Output Shape              Param #   \n",
            "=================================================================\n",
            " sequential_12 (Sequential)  (None, 224, 224, 3)       0         \n",
            "                                                                 \n",
            " inception_v3 (Functional)   (None, 5, 5, 2048)        21802784  \n",
            "                                                                 \n",
            " global_average_pooling2d_6   (None, 2048)             0         \n",
            " (GlobalAveragePooling2D)                                        \n",
            "                                                                 \n",
            " dropout_6 (Dropout)         (None, 2048)              0         \n",
            "                                                                 \n",
            " output (Dense)              (None, 30)                61470     \n",
            "                                                                 \n",
            "=================================================================\n",
            "Total params: 21,864,254\n",
            "Trainable params: 21,829,822\n",
            "Non-trainable params: 34,432\n",
            "_________________________________________________________________\n"
          ]
        }
      ]
    },
    {
      "cell_type": "code",
      "source": [
        "from tensorflow.keras.callbacks import ReduceLROnPlateau"
      ],
      "metadata": {
        "id": "AMvex2WIc1hi"
      },
      "execution_count": null,
      "outputs": []
    },
    {
      "cell_type": "code",
      "source": [
        "# Callback -> Reduce Learning Rate on Plateau\n",
        "callback = ReduceLROnPlateau(monitor='val_loss', factor=0.1, patience=3, verbose=1, mode='auto',\n",
        "                             min_delta=0.0001, cooldown=0, min_lr=0.00001)"
      ],
      "metadata": {
        "id": "LM1NDxA1cnxB"
      },
      "execution_count": null,
      "outputs": []
    },
    {
      "cell_type": "code",
      "source": [
        "skf = StratifiedKFold(n_splits=3, shuffle=True)\n",
        "skf.get_n_splits(X, Y)\n",
        "fold_num = 0\n",
        "for train_index, val_index in skf.split(X, Y):\n",
        "    # First cut all images from validation to train (if any exists)\n",
        "    transferAllClassBetweenFolders('validation', 'train', 1.0)\n",
        "    fold_num += 1\n",
        "    print(\"Results for fold\", fold_num)\n",
        "    X_train, X_val = X[train_index], X[val_index]\n",
        "    Y_train, Y_val = Y[train_index], Y[val_index]\n",
        "    # Move validation images of this fold from train folder to the validation folder\n",
        "    for each_index in range(len(X_val)):\n",
        "        class_label = ''\n",
        "        for i in range(len(classLabels)):\n",
        "            if(Y_val[each_index] == i):\n",
        "                class_label = classLabels[i]\n",
        "        # Then, copy the validation images to the validation folder\n",
        "        shutil.move(os.path.join(datasetFolderName, 'train', class_label, X_val[each_index]),\n",
        "                    os.path.join(datasetFolderName, 'validation', class_label, X_val[each_index]))\n",
        "\n",
        "   \n",
        "\n",
        "    # Start ImageClassification Model\n",
        "    #creating train data set\n",
        "    \n",
        "    train_generator = tf.keras.utils.image_dataset_from_directory(\n",
        "        train_path,\n",
        "        image_size=(IMG_SIZE[0], IMG_SIZE[1]),\n",
        "        batch_size=batch_size,        \n",
        "        )\n",
        "\n",
        "    validation_generator = tf.keras.utils.image_dataset_from_directory(\n",
        "        validation_path,\n",
        "        image_size=(IMG_SIZE[0], IMG_SIZE[1]),\n",
        "        batch_size=batch_size,\n",
        "        \n",
        "          # only data, no labels\n",
        "        shuffle=False\n",
        "        ) \n",
        "    \n",
        "    history = model.fit(train_generator, epochs=EPOCHS, validation_data=validation_generator, callbacks=callback)\n",
        "    model.evaluate(validation_generator)"
      ],
      "metadata": {
        "id": "h6-FwHIUaRPh",
        "colab": {
          "base_uri": "https://localhost:8080/"
        },
        "outputId": "4575cb1f-f219-4d40-d269-3f3259eacf90"
      },
      "execution_count": null,
      "outputs": [
        {
          "output_type": "stream",
          "name": "stdout",
          "text": [
            "No file moved. Source empty!\n",
            "No file moved. Source empty!\n",
            "No file moved. Source empty!\n",
            "No file moved. Source empty!\n",
            "No file moved. Source empty!\n",
            "No file moved. Source empty!\n",
            "No file moved. Source empty!\n",
            "No file moved. Source empty!\n",
            "No file moved. Source empty!\n",
            "No file moved. Source empty!\n",
            "No file moved. Source empty!\n",
            "No file moved. Source empty!\n",
            "No file moved. Source empty!\n",
            "No file moved. Source empty!\n",
            "No file moved. Source empty!\n",
            "No file moved. Source empty!\n",
            "No file moved. Source empty!\n",
            "No file moved. Source empty!\n",
            "No file moved. Source empty!\n",
            "No file moved. Source empty!\n",
            "No file moved. Source empty!\n",
            "No file moved. Source empty!\n",
            "No file moved. Source empty!\n",
            "No file moved. Source empty!\n",
            "No file moved. Source empty!\n",
            "No file moved. Source empty!\n",
            "No file moved. Source empty!\n",
            "No file moved. Source empty!\n",
            "No file moved. Source empty!\n",
            "No file moved. Source empty!\n",
            "Results for fold 1\n",
            "Found 1223 files belonging to 30 classes.\n",
            "Found 612 files belonging to 30 classes.\n",
            "Epoch 1/10\n"
          ]
        },
        {
          "output_type": "stream",
          "name": "stderr",
          "text": [
            "WARNING:tensorflow:Using a while_loop for converting RngReadAndSkip cause there is no registered converter for this op.\n",
            "WARNING:tensorflow:Using a while_loop for converting Bitcast cause there is no registered converter for this op.\n",
            "WARNING:tensorflow:Using a while_loop for converting Bitcast cause there is no registered converter for this op.\n",
            "WARNING:tensorflow:Using a while_loop for converting StatelessRandomUniformV2 cause there is no registered converter for this op.\n",
            "WARNING:tensorflow:Using a while_loop for converting ImageProjectiveTransformV3 cause there is no registered converter for this op.\n",
            "WARNING:tensorflow:Using a while_loop for converting RngReadAndSkip cause there is no registered converter for this op.\n",
            "WARNING:tensorflow:Using a while_loop for converting Bitcast cause there is no registered converter for this op.\n",
            "WARNING:tensorflow:Using a while_loop for converting Bitcast cause there is no registered converter for this op.\n",
            "WARNING:tensorflow:Using a while_loop for converting StatelessRandomUniformV2 cause there is no registered converter for this op.\n",
            "WARNING:tensorflow:Using a while_loop for converting RngReadAndSkip cause there is no registered converter for this op.\n",
            "WARNING:tensorflow:Using a while_loop for converting Bitcast cause there is no registered converter for this op.\n",
            "WARNING:tensorflow:Using a while_loop for converting Bitcast cause there is no registered converter for this op.\n",
            "WARNING:tensorflow:Using a while_loop for converting StatelessRandomUniformV2 cause there is no registered converter for this op.\n",
            "WARNING:tensorflow:Using a while_loop for converting ImageProjectiveTransformV3 cause there is no registered converter for this op.\n",
            "WARNING:tensorflow:Using a while_loop for converting RngReadAndSkip cause there is no registered converter for this op.\n",
            "WARNING:tensorflow:Using a while_loop for converting Bitcast cause there is no registered converter for this op.\n",
            "WARNING:tensorflow:Using a while_loop for converting Bitcast cause there is no registered converter for this op.\n",
            "WARNING:tensorflow:Using a while_loop for converting StatelessRandomUniformV2 cause there is no registered converter for this op.\n",
            "WARNING:tensorflow:Using a while_loop for converting ImageProjectiveTransformV3 cause there is no registered converter for this op.\n",
            "WARNING:tensorflow:Using a while_loop for converting RngReadAndSkip cause there is no registered converter for this op.\n",
            "WARNING:tensorflow:Using a while_loop for converting Bitcast cause there is no registered converter for this op.\n",
            "WARNING:tensorflow:Using a while_loop for converting Bitcast cause there is no registered converter for this op.\n",
            "WARNING:tensorflow:Using a while_loop for converting StatelessRandomUniformV2 cause there is no registered converter for this op.\n",
            "WARNING:tensorflow:Using a while_loop for converting RngReadAndSkip cause there is no registered converter for this op.\n",
            "WARNING:tensorflow:Using a while_loop for converting Bitcast cause there is no registered converter for this op.\n",
            "WARNING:tensorflow:Using a while_loop for converting Bitcast cause there is no registered converter for this op.\n",
            "WARNING:tensorflow:Using a while_loop for converting StatelessRandomUniformV2 cause there is no registered converter for this op.\n",
            "WARNING:tensorflow:Using a while_loop for converting ImageProjectiveTransformV3 cause there is no registered converter for this op.\n",
            "WARNING:tensorflow:Using a while_loop for converting RngReadAndSkip cause there is no registered converter for this op.\n",
            "WARNING:tensorflow:Using a while_loop for converting Bitcast cause there is no registered converter for this op.\n",
            "WARNING:tensorflow:Using a while_loop for converting Bitcast cause there is no registered converter for this op.\n",
            "WARNING:tensorflow:Using a while_loop for converting StatelessRandomUniformV2 cause there is no registered converter for this op.\n",
            "WARNING:tensorflow:Using a while_loop for converting ImageProjectiveTransformV3 cause there is no registered converter for this op.\n",
            "WARNING:tensorflow:Using a while_loop for converting RngReadAndSkip cause there is no registered converter for this op.\n",
            "WARNING:tensorflow:Using a while_loop for converting Bitcast cause there is no registered converter for this op.\n",
            "WARNING:tensorflow:Using a while_loop for converting Bitcast cause there is no registered converter for this op.\n",
            "WARNING:tensorflow:Using a while_loop for converting StatelessRandomUniformV2 cause there is no registered converter for this op.\n",
            "WARNING:tensorflow:Using a while_loop for converting RngReadAndSkip cause there is no registered converter for this op.\n",
            "WARNING:tensorflow:Using a while_loop for converting Bitcast cause there is no registered converter for this op.\n",
            "WARNING:tensorflow:Using a while_loop for converting Bitcast cause there is no registered converter for this op.\n",
            "WARNING:tensorflow:Using a while_loop for converting StatelessRandomUniformV2 cause there is no registered converter for this op.\n",
            "WARNING:tensorflow:Using a while_loop for converting ImageProjectiveTransformV3 cause there is no registered converter for this op.\n",
            "WARNING:tensorflow:Using a while_loop for converting RngReadAndSkip cause there is no registered converter for this op.\n",
            "WARNING:tensorflow:Using a while_loop for converting Bitcast cause there is no registered converter for this op.\n",
            "WARNING:tensorflow:Using a while_loop for converting Bitcast cause there is no registered converter for this op.\n",
            "WARNING:tensorflow:Using a while_loop for converting StatelessRandomUniformV2 cause there is no registered converter for this op.\n",
            "WARNING:tensorflow:Using a while_loop for converting ImageProjectiveTransformV3 cause there is no registered converter for this op.\n",
            "WARNING:tensorflow:Using a while_loop for converting RngReadAndSkip cause there is no registered converter for this op.\n",
            "WARNING:tensorflow:Using a while_loop for converting Bitcast cause there is no registered converter for this op.\n",
            "WARNING:tensorflow:Using a while_loop for converting Bitcast cause there is no registered converter for this op.\n",
            "WARNING:tensorflow:Using a while_loop for converting StatelessRandomUniformV2 cause there is no registered converter for this op.\n",
            "WARNING:tensorflow:Using a while_loop for converting RngReadAndSkip cause there is no registered converter for this op.\n",
            "WARNING:tensorflow:Using a while_loop for converting Bitcast cause there is no registered converter for this op.\n",
            "WARNING:tensorflow:Using a while_loop for converting Bitcast cause there is no registered converter for this op.\n",
            "WARNING:tensorflow:Using a while_loop for converting StatelessRandomUniformV2 cause there is no registered converter for this op.\n",
            "WARNING:tensorflow:Using a while_loop for converting ImageProjectiveTransformV3 cause there is no registered converter for this op.\n"
          ]
        },
        {
          "output_type": "stream",
          "name": "stdout",
          "text": [
            "20/20 [==============================] - 75s 2s/step - loss: 1.3963 - accuracy: 0.6214 - val_loss: 7.2235 - val_accuracy: 0.0784 - lr: 0.0010\n",
            "Epoch 2/10\n",
            "20/20 [==============================] - 30s 1s/step - loss: 0.6760 - accuracy: 0.8217 - val_loss: 8.9668 - val_accuracy: 0.0196 - lr: 0.0010\n",
            "Epoch 3/10\n",
            "20/20 [==============================] - 30s 1s/step - loss: 0.5176 - accuracy: 0.8659 - val_loss: 10.7531 - val_accuracy: 0.0212 - lr: 0.0010\n",
            "Epoch 4/10\n",
            "20/20 [==============================] - 37s 2s/step - loss: 0.3916 - accuracy: 0.8896 - val_loss: 6.0465 - val_accuracy: 0.0850 - lr: 0.0010\n",
            "Epoch 5/10\n",
            "20/20 [==============================] - 37s 2s/step - loss: 0.3946 - accuracy: 0.8839 - val_loss: 4.5624 - val_accuracy: 0.0817 - lr: 0.0010\n",
            "Epoch 6/10\n",
            "20/20 [==============================] - 32s 1s/step - loss: 0.3384 - accuracy: 0.9035 - val_loss: 4.2677 - val_accuracy: 0.3072 - lr: 0.0010\n",
            "Epoch 7/10\n",
            "20/20 [==============================] - 32s 1s/step - loss: 0.3384 - accuracy: 0.9158 - val_loss: 5.0176 - val_accuracy: 0.2745 - lr: 0.0010\n",
            "Epoch 8/10\n",
            "20/20 [==============================] - 31s 1s/step - loss: 0.4352 - accuracy: 0.8798 - val_loss: 1.6901 - val_accuracy: 0.5866 - lr: 0.0010\n",
            "Epoch 9/10\n",
            "20/20 [==============================] - 30s 1s/step - loss: 0.4142 - accuracy: 0.8962 - val_loss: 26.2058 - val_accuracy: 0.1029 - lr: 0.0010\n",
            "Epoch 10/10\n",
            "20/20 [==============================] - 31s 1s/step - loss: 0.3155 - accuracy: 0.9125 - val_loss: 26.9860 - val_accuracy: 0.0948 - lr: 0.0010\n",
            "10/10 [==============================] - 6s 593ms/step - loss: 26.9860 - accuracy: 0.0948\n",
            "Results for fold 2\n",
            "Found 1223 files belonging to 30 classes.\n",
            "Found 612 files belonging to 30 classes.\n",
            "Epoch 1/10\n",
            "20/20 [==============================] - 32s 1s/step - loss: 0.3141 - accuracy: 0.9117 - val_loss: 2.3922 - val_accuracy: 0.4984 - lr: 0.0010\n",
            "Epoch 2/10\n",
            "20/20 [==============================] - 31s 1s/step - loss: 0.2828 - accuracy: 0.9191 - val_loss: 5.0422 - val_accuracy: 0.3252 - lr: 0.0010\n",
            "Epoch 3/10\n",
            "20/20 [==============================] - 30s 1s/step - loss: 0.3070 - accuracy: 0.9182 - val_loss: 5.8435 - val_accuracy: 0.2255 - lr: 0.0010\n",
            "Epoch 4/10\n",
            "20/20 [==============================] - ETA: 0s - loss: 0.2059 - accuracy: 0.9346\n",
            "Epoch 4: ReduceLROnPlateau reducing learning rate to 0.00010000000474974513.\n",
            "20/20 [==============================] - 30s 1s/step - loss: 0.2059 - accuracy: 0.9346 - val_loss: 2.7183 - val_accuracy: 0.5376 - lr: 0.0010\n",
            "Epoch 5/10\n",
            "20/20 [==============================] - 31s 1s/step - loss: 0.1139 - accuracy: 0.9673 - val_loss: 1.4868 - val_accuracy: 0.6748 - lr: 1.0000e-04\n",
            "Epoch 6/10\n",
            "20/20 [==============================] - 32s 1s/step - loss: 0.0998 - accuracy: 0.9755 - val_loss: 1.0147 - val_accuracy: 0.7353 - lr: 1.0000e-04\n",
            "Epoch 7/10\n",
            "20/20 [==============================] - 30s 1s/step - loss: 0.0665 - accuracy: 0.9820 - val_loss: 0.7830 - val_accuracy: 0.7941 - lr: 1.0000e-04\n",
            "Epoch 8/10\n",
            "20/20 [==============================] - 30s 1s/step - loss: 0.0477 - accuracy: 0.9845 - val_loss: 0.6799 - val_accuracy: 0.8284 - lr: 1.0000e-04\n",
            "Epoch 9/10\n",
            "20/20 [==============================] - 30s 1s/step - loss: 0.0453 - accuracy: 0.9877 - val_loss: 0.4651 - val_accuracy: 0.8709 - lr: 1.0000e-04\n",
            "Epoch 10/10\n",
            "20/20 [==============================] - 32s 1s/step - loss: 0.0375 - accuracy: 0.9918 - val_loss: 0.3686 - val_accuracy: 0.8971 - lr: 1.0000e-04\n",
            "10/10 [==============================] - 6s 578ms/step - loss: 0.3686 - accuracy: 0.8971\n",
            "Results for fold 3\n",
            "Found 1224 files belonging to 30 classes.\n",
            "Found 611 files belonging to 30 classes.\n",
            "Epoch 1/10\n",
            "20/20 [==============================] - 36s 2s/step - loss: 0.0562 - accuracy: 0.9837 - val_loss: 0.2585 - val_accuracy: 0.9280 - lr: 1.0000e-04\n",
            "Epoch 2/10\n",
            "20/20 [==============================] - 30s 1s/step - loss: 0.0477 - accuracy: 0.9869 - val_loss: 0.2180 - val_accuracy: 0.9394 - lr: 1.0000e-04\n",
            "Epoch 3/10\n",
            "20/20 [==============================] - 31s 1s/step - loss: 0.0325 - accuracy: 0.9910 - val_loss: 0.1669 - val_accuracy: 0.9493 - lr: 1.0000e-04\n",
            "Epoch 4/10\n",
            "20/20 [==============================] - 33s 1s/step - loss: 0.0433 - accuracy: 0.9894 - val_loss: 0.1703 - val_accuracy: 0.9493 - lr: 1.0000e-04\n",
            "Epoch 5/10\n",
            "20/20 [==============================] - 30s 1s/step - loss: 0.0375 - accuracy: 0.9910 - val_loss: 0.1872 - val_accuracy: 0.9444 - lr: 1.0000e-04\n",
            "Epoch 6/10\n",
            "20/20 [==============================] - ETA: 0s - loss: 0.0294 - accuracy: 0.9926\n",
            "Epoch 6: ReduceLROnPlateau reducing learning rate to 1.0000000474974514e-05.\n",
            "20/20 [==============================] - 30s 1s/step - loss: 0.0294 - accuracy: 0.9926 - val_loss: 0.1757 - val_accuracy: 0.9460 - lr: 1.0000e-04\n",
            "Epoch 7/10\n",
            "20/20 [==============================] - 30s 1s/step - loss: 0.0181 - accuracy: 0.9967 - val_loss: 0.1654 - val_accuracy: 0.9460 - lr: 1.0000e-05\n",
            "Epoch 8/10\n",
            "20/20 [==============================] - 37s 2s/step - loss: 0.0367 - accuracy: 0.9918 - val_loss: 0.1569 - val_accuracy: 0.9509 - lr: 1.0000e-05\n",
            "Epoch 9/10\n",
            "20/20 [==============================] - 30s 1s/step - loss: 0.0340 - accuracy: 0.9926 - val_loss: 0.1544 - val_accuracy: 0.9525 - lr: 1.0000e-05\n",
            "Epoch 10/10\n",
            "20/20 [==============================] - 31s 1s/step - loss: 0.0299 - accuracy: 0.9926 - val_loss: 0.1529 - val_accuracy: 0.9525 - lr: 1.0000e-05\n",
            "10/10 [==============================] - 6s 578ms/step - loss: 0.1529 - accuracy: 0.9525\n"
          ]
        }
      ]
    },
    {
      "cell_type": "code",
      "source": [
        "from sklearn.metrics import classification_report, roc_curve, roc_auc_score\n",
        "import pandas as pd\n",
        "import plotly.graph_objects as go\n",
        "import plotly.express as px\n",
        "import matplotlib.pyplot as plt"
      ],
      "metadata": {
        "id": "jJurHyH7k6Ny"
      },
      "execution_count": null,
      "outputs": []
    },
    {
      "cell_type": "code",
      "source": [
        "plt.title(\"Loss\", fontdict={'fontsize':18})\n",
        "plt.plot(history.history['loss'],label='train')\n",
        "plt.plot(history.history['val_loss'],label='test')\n",
        "plt.legend()\n",
        "plt.show()"
      ],
      "metadata": {
        "id": "TOQlD_ZTko2y",
        "colab": {
          "base_uri": "https://localhost:8080/",
          "height": 285
        },
        "outputId": "5d035869-42ba-4aea-f67a-6c012bab7122"
      },
      "execution_count": null,
      "outputs": [
        {
          "output_type": "display_data",
          "data": {
            "text/plain": [
              "<Figure size 432x288 with 1 Axes>"
            ],
            "image/png": "[encoded data removed]"
          },
          "metadata": {
            "needs_background": "light"
          }
        }
      ]
    },
    {
      "cell_type": "code",
      "source": [
        "plt.title(\"Accuracy\", fontdict={'fontsize':18})\n",
        "plt.plot(history.history['accuracy'],label='train')\n",
        "plt.plot(history.history['val_accuracy'],label='test')\n",
        "plt.legend()\n",
        "plt.show()"
      ],
      "metadata": {
        "id": "7pwYMz2Bkyt5",
        "colab": {
          "base_uri": "https://localhost:8080/",
          "height": 285
        },
        "outputId": "ef59c732-3efa-4b11-b941-c3866bc10c52"
      },
      "execution_count": null,
      "outputs": [
        {
          "output_type": "display_data",
          "data": {
            "text/plain": [
              "<Figure size 432x288 with 1 Axes>"
            ],
            "image/png": "[encoded data removed]"
          },
          "metadata": {
            "needs_background": "light"
          }
        }
      ]
    },
    {
      "cell_type": "code",
      "source": [
        "Y_train = []\n",
        "X_train = []\n",
        "for data in train_generator:\n",
        "    X_train.extend(data[0].numpy())\n",
        "    Y_train.extend(data[1].numpy())\n",
        "Y_train = np.array(Y_train)\n",
        "X_train = np.array(X_train)"
      ],
      "metadata": {
        "id": "93F3DoWUk7Oa"
      },
      "execution_count": null,
      "outputs": []
    },
    {
      "cell_type": "code",
      "source": [
        "y_train_pred_prob = model.predict(X_train)\n",
        "y_train_pred = [np.argmax(i) for i in y_train_pred_prob]"
      ],
      "metadata": {
        "id": "IAbUM7JblMA6",
        "colab": {
          "base_uri": "https://localhost:8080/"
        },
        "outputId": "6c6ae169-178b-432a-9932-4a99af097de1"
      },
      "execution_count": null,
      "outputs": [
        {
          "output_type": "stream",
          "name": "stdout",
          "text": [
            "39/39 [==============================] - 4s 68ms/step\n"
          ]
        }
      ]
    },
    {
      "cell_type": "code",
      "source": [
        "y_train_pred_prob.shape"
      ],
      "metadata": {
        "id": "ubgm_cWxlUrD",
        "colab": {
          "base_uri": "https://localhost:8080/"
        },
        "outputId": "50dd212f-f026-4f52-dc68-739599b86e60"
      },
      "execution_count": null,
      "outputs": [
        {
          "output_type": "execute_result",
          "data": {
            "text/plain": [
              "(1224, 30)"
            ]
          },
          "metadata": {},
          "execution_count": 226
        }
      ]
    },
    {
      "cell_type": "code",
      "source": [
        "#function to plot roc-auc curve\n",
        "def roc_auc_curve(y_scores, y_true):\n",
        "    # One hot encode the labels in order to plot them\n",
        "    y_onehot = pd.get_dummies(y_true, columns=classLabels)\n",
        "\n",
        "    # Create an empty figure, and iteratively add new lines\n",
        "    # every time we compute a new class\n",
        "    fig = go.Figure()\n",
        "    fig.add_shape(\n",
        "        type='line', line=dict(dash='dash'),\n",
        "        x0=0, x1=1, y0=0, y1=1\n",
        "    )\n",
        "\n",
        "    for i in range(y_scores.shape[1]):\n",
        "        y_true = y_onehot.iloc[:, i]\n",
        "        y_score = y_scores[:, i]\n",
        "\n",
        "        fpr, tpr, _ = roc_curve(y_true, y_score)\n",
        "        auc_score = roc_auc_score(y_true, y_score)\n",
        "\n",
        "        name = f\"{classLabels[i]} (AUC={auc_score:.2f})\"\n",
        "        fig.add_trace(go.Scatter(x=fpr, y=tpr, name=name, mode='lines'))\n",
        "\n",
        "    fig.update_layout(\n",
        "        title=\"ROC Curve\",\n",
        "        xaxis_title='False Positive Rate',\n",
        "        yaxis_title='True Positive Rate',\n",
        "        yaxis=dict(scaleanchor=\"x\", scaleratio=1),\n",
        "        xaxis=dict(constrain='domain'),\n",
        "        width=900, height=800\n",
        "    )\n",
        "    \n",
        "    return fig"
      ],
      "metadata": {
        "id": "A5Ywk5jrlVYi"
      },
      "execution_count": null,
      "outputs": []
    },
    {
      "cell_type": "code",
      "source": [
        "import seaborn as sb"
      ],
      "metadata": {
        "id": "YlYX57A4lj1J"
      },
      "execution_count": null,
      "outputs": []
    },
    {
      "cell_type": "code",
      "source": [
        "plt.figure(figsize=(25,7))\n",
        "sb.heatmap(tf.math.confusion_matrix(labels=Y_train,predictions=y_train_pred),annot=True,fmt='.1f', cmap='hot_r')\n",
        "plt.xlabel('Predicted Values')\n",
        "plt.ylabel('Actual Values')\n",
        "plt.title('Confusion Matrix (Training)')\n",
        "plt.tight_layout()\n",
        "plt.show()"
      ],
      "metadata": {
        "id": "sZZQfWeDl9wq",
        "colab": {
          "base_uri": "https://localhost:8080/",
          "height": 490
        },
        "outputId": "928707a9-999d-4d84-b4c2-200afceb3799"
      },
      "execution_count": null,
      "outputs": [
        {
          "output_type": "display_data",
          "data": {
            "text/plain": [
              "<Figure size 1800x504 with 2 Axes>"
            ],
            "image/png": "[encoded data removed]"
          },
          "metadata": {
            "needs_background": "light"
          }
        }
      ]
    },
    {
      "cell_type": "code",
      "source": [
        "print(\"Classification Report for Training\")\n",
        "print(classification_report(Y_train, y_train_pred))"
      ],
      "metadata": {
        "id": "iLpnqOcGmEks",
        "colab": {
          "base_uri": "https://localhost:8080/"
        },
        "outputId": "b713783f-261e-42d3-f1a5-2fa6c42d18b7"
      },
      "execution_count": null,
      "outputs": [
        {
          "output_type": "stream",
          "name": "stdout",
          "text": [
            "Classification Report for Training\n",
            "              precision    recall  f1-score   support\n",
            "\n",
            "           0       1.00      0.97      0.99        34\n",
            "           1       1.00      0.67      0.80        81\n",
            "           2       1.00      0.84      0.91        37\n",
            "           3       0.98      1.00      0.99        40\n",
            "           4       1.00      1.00      1.00        69\n",
            "           5       1.00      1.00      1.00        23\n",
            "           6       0.98      0.98      0.98        49\n",
            "           7       0.89      0.89      0.89        38\n",
            "           8       1.00      0.67      0.80        33\n",
            "           9       1.00      1.00      1.00        42\n",
            "          10       0.97      0.97      0.97        29\n",
            "          11       1.00      0.96      0.98        47\n",
            "          12       0.91      1.00      0.95        42\n",
            "          13       1.00      0.94      0.97        64\n",
            "          14       0.98      0.98      0.98        52\n",
            "          15       0.97      1.00      0.99        37\n",
            "          16       0.89      0.97      0.93        40\n",
            "          17       0.97      0.93      0.95        41\n",
            "          18       1.00      1.00      1.00        27\n",
            "          19       0.71      0.97      0.82        35\n",
            "          20       1.00      0.78      0.88        32\n",
            "          21       1.00      1.00      1.00        32\n",
            "          22       0.91      1.00      0.95        40\n",
            "          23       0.72      1.00      0.84        44\n",
            "          24       0.96      1.00      0.98        52\n",
            "          25       0.97      0.82      0.89        39\n",
            "          26       0.72      1.00      0.84        26\n",
            "          27       1.00      1.00      1.00        37\n",
            "          28       0.79      1.00      0.88        38\n",
            "          29       1.00      1.00      1.00        24\n",
            "\n",
            "    accuracy                           0.94      1224\n",
            "   macro avg       0.94      0.94      0.94      1224\n",
            "weighted avg       0.95      0.94      0.94      1224\n",
            "\n"
          ]
        }
      ]
    },
    {
      "cell_type": "code",
      "source": [
        "roc_auc_curve(y_train_pred_prob, Y_train)\n",
        "X_test = []\n",
        "y_test = []\n",
        "for data in validation_generator:\n",
        "    X_test.extend(data[0].numpy())\n",
        "    y_test.extend(data[1].numpy())\n",
        "X_test = np.array(X_test)\n",
        "y_test = np.array(y_test)"
      ],
      "metadata": {
        "id": "mu3MhzQnmKR5"
      },
      "execution_count": null,
      "outputs": []
    },
    {
      "cell_type": "code",
      "source": [
        "y_test_pred_prob = model.predict(X_test)\n",
        "y_test_pred = [np.argmax(i) for i in y_test_pred_prob]"
      ],
      "metadata": {
        "id": "peCIJs3KmT5a",
        "colab": {
          "base_uri": "https://localhost:8080/"
        },
        "outputId": "1937c082-5d37-4135-cc63-6df177db929b"
      },
      "execution_count": null,
      "outputs": [
        {
          "output_type": "stream",
          "name": "stdout",
          "text": [
            "20/20 [==============================] - 2s 112ms/step\n"
          ]
        }
      ]
    },
    {
      "cell_type": "code",
      "source": [
        "np.unique(y_test)"
      ],
      "metadata": {
        "id": "an7a0Ymplmh5",
        "colab": {
          "base_uri": "https://localhost:8080/"
        },
        "outputId": "6cd54834-f0cf-4ad4-fdca-69319643246d"
      },
      "execution_count": null,
      "outputs": [
        {
          "output_type": "execute_result",
          "data": {
            "text/plain": [
              "array([ 0,  1,  2,  3,  4,  5,  6,  7,  8,  9, 10, 11, 12, 13, 14, 15, 16,\n",
              "       17, 18, 19, 20, 21, 22, 23, 24, 25, 26, 27, 28, 29], dtype=int32)"
            ]
          },
          "metadata": {},
          "execution_count": 233
        }
      ]
    },
    {
      "cell_type": "code",
      "source": [
        "plt.figure(figsize=(25,7))\n",
        "sb.heatmap(tf.math.confusion_matrix(labels=y_test,predictions=y_test_pred),annot=True,fmt='.1f', cmap='hot_r')\n",
        "plt.xlabel('Predicted Values')\n",
        "plt.ylabel('Actual Values')\n",
        "plt.title('Confusion Matrix')\n",
        "plt.tight_layout()\n",
        "plt.show()"
      ],
      "metadata": {
        "id": "AxCwvhHVk-vY",
        "colab": {
          "base_uri": "https://localhost:8080/",
          "height": 490
        },
        "outputId": "63746a35-352a-4664-8ba6-c584c383484c"
      },
      "execution_count": null,
      "outputs": [
        {
          "output_type": "display_data",
          "data": {
            "text/plain": [
              "<Figure size 1800x504 with 2 Axes>"
            ],
            "image/png": "[encoded data removed]"
          },
          "metadata": {
            "needs_background": "light"
          }
        }
      ]
    },
    {
      "cell_type": "code",
      "source": [
        "print(\"Classification Report for Test\")\n",
        "print(classification_report(y_test, y_test_pred))"
      ],
      "metadata": {
        "id": "LFm0u6zSmaGj",
        "colab": {
          "base_uri": "https://localhost:8080/"
        },
        "outputId": "5a0100dd-4ea7-4387-b5e5-0d0a833d8fa1"
      },
      "execution_count": null,
      "outputs": [
        {
          "output_type": "stream",
          "name": "stdout",
          "text": [
            "Classification Report for Test\n",
            "              precision    recall  f1-score   support\n",
            "\n",
            "           0       1.00      1.00      1.00        16\n",
            "           1       1.00      0.76      0.86        41\n",
            "           2       1.00      0.74      0.85        19\n",
            "           3       1.00      1.00      1.00        20\n",
            "           4       1.00      1.00      1.00        34\n",
            "           5       1.00      1.00      1.00        11\n",
            "           6       0.96      1.00      0.98        25\n",
            "           7       0.95      1.00      0.97        19\n",
            "           8       0.94      0.88      0.91        17\n",
            "           9       1.00      1.00      1.00        21\n",
            "          10       1.00      1.00      1.00        14\n",
            "          11       1.00      0.96      0.98        24\n",
            "          12       0.83      1.00      0.91        20\n",
            "          13       1.00      1.00      1.00        33\n",
            "          14       0.92      0.92      0.92        25\n",
            "          15       1.00      0.95      0.97        19\n",
            "          16       1.00      0.95      0.97        20\n",
            "          17       1.00      0.86      0.92        21\n",
            "          18       1.00      1.00      1.00        13\n",
            "          19       0.81      1.00      0.89        17\n",
            "          20       1.00      1.00      1.00        16\n",
            "          21       1.00      1.00      1.00        16\n",
            "          22       0.84      1.00      0.91        21\n",
            "          23       0.81      1.00      0.89        21\n",
            "          24       0.96      0.96      0.96        27\n",
            "          25       1.00      0.89      0.94        19\n",
            "          26       0.81      1.00      0.90        13\n",
            "          27       1.00      1.00      1.00        19\n",
            "          28       0.86      1.00      0.92        18\n",
            "          29       1.00      0.92      0.96        12\n",
            "\n",
            "    accuracy                           0.95       611\n",
            "   macro avg       0.96      0.96      0.95       611\n",
            "weighted avg       0.96      0.95      0.95       611\n",
            "\n"
          ]
        }
      ]
    },
    {
      "cell_type": "code",
      "source": [
        "roc_auc_curve(y_test_pred_prob, y_test)"
      ],
      "metadata": {
        "id": "LGL2Ta5xmf5r",
        "colab": {
          "base_uri": "https://localhost:8080/",
          "height": 817
        },
        "outputId": "60b68092-63dd-4b19-db6a-2d9de064be57"
      },
      "execution_count": null,
      "outputs": [
        {
          "output_type": "display_data",
          "data": {
            "text/html": [
              "<html>\n",
              "<head><meta charset=\"utf-8\" /></head>\n",
              "<body>\n",
              "    <div>            <script src=\"https://cdnjs.cloudflare.com/ajax/libs/mathjax/2.7.5/MathJax.js?config=TeX-AMS-MML_SVG\"></script><script type=\"text/javascript\">if (window.MathJax) {MathJax.Hub.Config({SVG: {font: \"STIX-Web\"}});}</script>                <script type=\"text/javascript\">window.PlotlyConfig = {MathJaxConfig: 'local'};</script>\n",
              "        <script src=\"https://cdn.plot.ly/plotly-2.8.3.min.js\"></script>                <div id=\"3744ccb0-61ba-49fd-86a3-e13efc4e078b\" class=\"plotly-graph-div\" style=\"height:800px; width:900px;\"></div>            <script type=\"text/javascript\">                                    window.PLOTLYENV=window.PLOTLYENV || {};                                    if (document.getElementById(\"3744ccb0-61ba-49fd-86a3-e13efc4e078b\")) {                    Plotly.newPlot(                        \"3744ccb0-61ba-49fd-86a3-e13efc4e078b\",                        [{\"mode\":\"lines\",\"name\":\"Alpinia Galanga (Rasna) (AUC=1.00)\",\"x\":[0.0,0.0,0.0,1.0],\"y\":[0.0,0.0625,1.0,1.0],\"type\":\"scatter\"},{\"mode\":\"lines\",\"name\":\"Amaranthus Viridis (Arive-Dantu) (AUC=1.00)\",\"x\":[0.0,0.0,0.0,0.005263157894736842,0.005263157894736842,0.007017543859649123,0.007017543859649123,1.0],\"y\":[0.0,0.024390243902439025,0.9512195121951219,0.9512195121951219,0.975609756097561,0.975609756097561,1.0,1.0],\"type\":\"scatter\"},{\"mode\":\"lines\",\"name\":\"Artocarpus Heterophyllus (Jackfruit) (AUC=1.00)\",\"x\":[0.0,0.0,0.0,0.0016891891891891893,0.0016891891891891893,0.006756756756756757,0.006756756756756757,1.0],\"y\":[0.0,0.05263157894736842,0.8421052631578947,0.8421052631578947,0.9473684210526315,0.9473684210526315,1.0,1.0],\"type\":\"scatter\"},{\"mode\":\"lines\",\"name\":\"Azadirachta Indica (Neem) (AUC=1.00)\",\"x\":[0.0,0.0,0.0,1.0],\"y\":[0.0,0.05,1.0,1.0],\"type\":\"scatter\"},{\"mode\":\"lines\",\"name\":\"Basella Alba (Basale) (AUC=1.00)\",\"x\":[0.0,0.0,0.0,1.0],\"y\":[0.0,0.029411764705882353,1.0,1.0],\"type\":\"scatter\"},{\"mode\":\"lines\",\"name\":\"Brassica Juncea (Indian Mustard) (AUC=1.00)\",\"x\":[0.0,0.0,0.0,1.0],\"y\":[0.0,0.09090909090909091,1.0,1.0],\"type\":\"scatter\"},{\"mode\":\"lines\",\"name\":\"Carissa Carandas (Karanda) (AUC=1.00)\",\"x\":[0.0,0.0,0.0,1.0],\"y\":[0.0,0.04,1.0,1.0],\"type\":\"scatter\"},{\"mode\":\"lines\",\"name\":\"Citrus Limon (Lemon) (AUC=1.00)\",\"x\":[0.0,0.0,0.0,1.0],\"y\":[0.0,0.05263157894736842,1.0,1.0],\"type\":\"scatter\"},{\"mode\":\"lines\",\"name\":\"Ficus Auriculata (Roxburgh fig) (AUC=1.00)\",\"x\":[0.0,0.0,0.0,0.0016835016835016834,0.0016835016835016834,0.005050505050505051,0.005050505050505051,0.013468013468013467,0.013468013468013467,1.0],\"y\":[0.0,0.058823529411764705,0.8235294117647058,0.8235294117647058,0.8823529411764706,0.8823529411764706,0.9411764705882353,0.9411764705882353,1.0,1.0],\"type\":\"scatter\"},{\"mode\":\"lines\",\"name\":\"Ficus Religiosa (Peepal Tree) (AUC=1.00)\",\"x\":[0.0,0.0,0.0,1.0],\"y\":[0.0,0.047619047619047616,1.0,1.0],\"type\":\"scatter\"},{\"mode\":\"lines\",\"name\":\"Hibiscus Rosa-sinensis (AUC=1.00)\",\"x\":[0.0,0.0,0.0,1.0],\"y\":[0.0,0.07142857142857142,1.0,1.0],\"type\":\"scatter\"},{\"mode\":\"lines\",\"name\":\"Jasminum (Jasmine) (AUC=1.00)\",\"x\":[0.0,0.0,0.0,1.0],\"y\":[0.0,0.041666666666666664,1.0,1.0],\"type\":\"scatter\"},{\"mode\":\"lines\",\"name\":\"Mangifera Indica (Mango) (AUC=1.00)\",\"x\":[0.0,0.0,0.0,1.0],\"y\":[0.0,0.05,1.0,1.0],\"type\":\"scatter\"},{\"mode\":\"lines\",\"name\":\"Mentha (Mint) (AUC=1.00)\",\"x\":[0.0,0.0,0.0,1.0],\"y\":[0.0,0.030303030303030304,1.0,1.0],\"type\":\"scatter\"},{\"mode\":\"lines\",\"name\":\"Moringa Oleifera (Drumstick) (AUC=1.00)\",\"x\":[0.0,0.0,0.0,0.0017064846416382253,0.0017064846416382253,0.0034129692832764505,0.0034129692832764505,0.006825938566552901,0.006825938566552901,1.0],\"y\":[0.0,0.04,0.88,0.88,0.92,0.92,0.96,0.96,1.0,1.0],\"type\":\"scatter\"},{\"mode\":\"lines\",\"name\":\"Muntingia Calabura (Jamaica Cherry-Gasagase) (AUC=1.00)\",\"x\":[0.0,0.0,0.0,0.0016891891891891893,0.0016891891891891893,1.0],\"y\":[0.0,0.05263157894736842,0.9473684210526315,0.9473684210526315,1.0,1.0],\"type\":\"scatter\"},{\"mode\":\"lines\",\"name\":\"Murraya Koenigii (Curry) (AUC=1.00)\",\"x\":[0.0,0.0,0.0,0.01353637901861252,0.01353637901861252,1.0],\"y\":[0.0,0.05,0.95,0.95,1.0,1.0],\"type\":\"scatter\"},{\"mode\":\"lines\",\"name\":\"Nerium Oleander (Oleander) (AUC=1.00)\",\"x\":[0.0,0.0,0.0,1.0],\"y\":[0.0,0.047619047619047616,1.0,1.0],\"type\":\"scatter\"},{\"mode\":\"lines\",\"name\":\"Nyctanthes Arbor-tristis (Parijata) (AUC=1.00)\",\"x\":[0.0,0.0,0.0,1.0],\"y\":[0.0,0.07692307692307693,1.0,1.0],\"type\":\"scatter\"},{\"mode\":\"lines\",\"name\":\"Ocimum Tenuiflorum (Tulsi) (AUC=1.00)\",\"x\":[0.0,0.0,0.0,0.0016835016835016834,0.0016835016835016834,1.0],\"y\":[0.0,0.058823529411764705,0.9411764705882353,0.9411764705882353,1.0,1.0],\"type\":\"scatter\"},{\"mode\":\"lines\",\"name\":\"Piper Betle (Betel) (AUC=1.00)\",\"x\":[0.0,0.0,0.0,1.0],\"y\":[0.0,0.0625,1.0,1.0],\"type\":\"scatter\"},{\"mode\":\"lines\",\"name\":\"Plectranthus Amboinicus (Mexican Mint) (AUC=1.00)\",\"x\":[0.0,0.0,0.0,0.0,0.0,1.0],\"y\":[0.0,0.25,0.3125,0.4375,1.0,1.0],\"type\":\"scatter\"},{\"mode\":\"lines\",\"name\":\"Pongamia Pinnata (Indian Beech) (AUC=1.00)\",\"x\":[0.0,0.0,0.0,1.0],\"y\":[0.0,0.38095238095238093,1.0,1.0],\"type\":\"scatter\"},{\"mode\":\"lines\",\"name\":\"Psidium Guajava (Guava) (AUC=1.00)\",\"x\":[0.0,0.0,0.0,0.0,0.0,1.0],\"y\":[0.0,0.047619047619047616,0.3333333333333333,0.42857142857142855,1.0,1.0],\"type\":\"scatter\"},{\"mode\":\"lines\",\"name\":\"Punica Granatum (Pomegranate) (AUC=1.00)\",\"x\":[0.0,0.0,0.0,0.005136986301369863,0.005136986301369863,1.0],\"y\":[0.0,0.037037037037037035,0.9629629629629629,0.9629629629629629,1.0,1.0],\"type\":\"scatter\"},{\"mode\":\"lines\",\"name\":\"Santalum Album (Sandalwood) (AUC=1.00)\",\"x\":[0.0,0.0,0.0,0.0016891891891891893,0.0016891891891891893,1.0],\"y\":[0.0,0.05263157894736842,0.8947368421052632,0.8947368421052632,1.0,1.0],\"type\":\"scatter\"},{\"mode\":\"lines\",\"name\":\"Syzygium Cumini (Jamun) (AUC=1.00)\",\"x\":[0.0,0.0,0.0,0.0,0.0,1.0],\"y\":[0.0,0.15384615384615385,0.23076923076923078,0.38461538461538464,1.0,1.0],\"type\":\"scatter\"},{\"mode\":\"lines\",\"name\":\"Syzygium Jambos (Rose Apple) (AUC=1.00)\",\"x\":[0.0,0.0,0.0,1.0],\"y\":[0.0,0.05263157894736842,1.0,1.0],\"type\":\"scatter\"},{\"mode\":\"lines\",\"name\":\"Tabernaemontana Divaricata (Crape Jasmine) (AUC=1.00)\",\"x\":[0.0,0.0,0.0,1.0],\"y\":[0.0,0.05555555555555555,1.0,1.0],\"type\":\"scatter\"},{\"mode\":\"lines\",\"name\":\"Trigonella Foenum-graecum (Fenugreek) (AUC=1.00)\",\"x\":[0.0,0.0,0.0,1.0],\"y\":[0.0,0.08333333333333333,1.0,1.0],\"type\":\"scatter\"}],                        {\"template\":{\"data\":{\"bar\":[{\"error_x\":{\"color\":\"#2a3f5f\"},\"error_y\":{\"color\":\"#2a3f5f\"},\"marker\":{\"line\":{\"color\":\"#E5ECF6\",\"width\":0.5},\"pattern\":{\"fillmode\":\"overlay\",\"size\":10,\"solidity\":0.2}},\"type\":\"bar\"}],\"barpolar\":[{\"marker\":{\"line\":{\"color\":\"#E5ECF6\",\"width\":0.5},\"pattern\":{\"fillmode\":\"overlay\",\"size\":10,\"solidity\":0.2}},\"type\":\"barpolar\"}],\"carpet\":[{\"aaxis\":{\"endlinecolor\":\"#2a3f5f\",\"gridcolor\":\"white\",\"linecolor\":\"white\",\"minorgridcolor\":\"white\",\"startlinecolor\":\"#2a3f5f\"},\"baxis\":{\"endlinecolor\":\"#2a3f5f\",\"gridcolor\":\"white\",\"linecolor\":\"white\",\"minorgridcolor\":\"white\",\"startlinecolor\":\"#2a3f5f\"},\"type\":\"carpet\"}],\"choropleth\":[{\"colorbar\":{\"outlinewidth\":0,\"ticks\":\"\"},\"type\":\"choropleth\"}],\"contour\":[{\"colorbar\":{\"outlinewidth\":0,\"ticks\":\"\"},\"colorscale\":[[0.0,\"#0d0887\"],[0.1111111111111111,\"#46039f\"],[0.2222222222222222,\"#7201a8\"],[0.3333333333333333,\"#9c179e\"],[0.4444444444444444,\"#bd3786\"],[0.5555555555555556,\"#d8576b\"],[0.6666666666666666,\"#ed7953\"],[0.7777777777777778,\"#fb9f3a\"],[0.8888888888888888,\"#fdca26\"],[1.0,\"#f0f921\"]],\"type\":\"contour\"}],\"contourcarpet\":[{\"colorbar\":{\"outlinewidth\":0,\"ticks\":\"\"},\"type\":\"contourcarpet\"}],\"heatmap\":[{\"colorbar\":{\"outlinewidth\":0,\"ticks\":\"\"},\"colorscale\":[[0.0,\"#0d0887\"],[0.1111111111111111,\"#46039f\"],[0.2222222222222222,\"#7201a8\"],[0.3333333333333333,\"#9c179e\"],[0.4444444444444444,\"#bd3786\"],[0.5555555555555556,\"#d8576b\"],[0.6666666666666666,\"#ed7953\"],[0.7777777777777778,\"#fb9f3a\"],[0.8888888888888888,\"#fdca26\"],[1.0,\"#f0f921\"]],\"type\":\"heatmap\"}],\"heatmapgl\":[{\"colorbar\":{\"outlinewidth\":0,\"ticks\":\"\"},\"colorscale\":[[0.0,\"#0d0887\"],[0.1111111111111111,\"#46039f\"],[0.2222222222222222,\"#7201a8\"],[0.3333333333333333,\"#9c179e\"],[0.4444444444444444,\"#bd3786\"],[0.5555555555555556,\"#d8576b\"],[0.6666666666666666,\"#ed7953\"],[0.7777777777777778,\"#fb9f3a\"],[0.8888888888888888,\"#fdca26\"],[1.0,\"#f0f921\"]],\"type\":\"heatmapgl\"}],\"histogram\":[{\"marker\":{\"pattern\":{\"fillmode\":\"overlay\",\"size\":10,\"solidity\":0.2}},\"type\":\"histogram\"}],\"histogram2d\":[{\"colorbar\":{\"outlinewidth\":0,\"ticks\":\"\"},\"colorscale\":[[0.0,\"#0d0887\"],[0.1111111111111111,\"#46039f\"],[0.2222222222222222,\"#7201a8\"],[0.3333333333333333,\"#9c179e\"],[0.4444444444444444,\"#bd3786\"],[0.5555555555555556,\"#d8576b\"],[0.6666666666666666,\"#ed7953\"],[0.7777777777777778,\"#fb9f3a\"],[0.8888888888888888,\"#fdca26\"],[1.0,\"#f0f921\"]],\"type\":\"histogram2d\"}],\"histogram2dcontour\":[{\"colorbar\":{\"outlinewidth\":0,\"ticks\":\"\"},\"colorscale\":[[0.0,\"#0d0887\"],[0.1111111111111111,\"#46039f\"],[0.2222222222222222,\"#7201a8\"],[0.3333333333333333,\"#9c179e\"],[0.4444444444444444,\"#bd3786\"],[0.5555555555555556,\"#d8576b\"],[0.6666666666666666,\"#ed7953\"],[0.7777777777777778,\"#fb9f3a\"],[0.8888888888888888,\"#fdca26\"],[1.0,\"#f0f921\"]],\"type\":\"histogram2dcontour\"}],\"mesh3d\":[{\"colorbar\":{\"outlinewidth\":0,\"ticks\":\"\"},\"type\":\"mesh3d\"}],\"parcoords\":[{\"line\":{\"colorbar\":{\"outlinewidth\":0,\"ticks\":\"\"}},\"type\":\"parcoords\"}],\"pie\":[{\"automargin\":true,\"type\":\"pie\"}],\"scatter\":[{\"marker\":{\"colorbar\":{\"outlinewidth\":0,\"ticks\":\"\"}},\"type\":\"scatter\"}],\"scatter3d\":[{\"line\":{\"colorbar\":{\"outlinewidth\":0,\"ticks\":\"\"}},\"marker\":{\"colorbar\":{\"outlinewidth\":0,\"ticks\":\"\"}},\"type\":\"scatter3d\"}],\"scattercarpet\":[{\"marker\":{\"colorbar\":{\"outlinewidth\":0,\"ticks\":\"\"}},\"type\":\"scattercarpet\"}],\"scattergeo\":[{\"marker\":{\"colorbar\":{\"outlinewidth\":0,\"ticks\":\"\"}},\"type\":\"scattergeo\"}],\"scattergl\":[{\"marker\":{\"colorbar\":{\"outlinewidth\":0,\"ticks\":\"\"}},\"type\":\"scattergl\"}],\"scattermapbox\":[{\"marker\":{\"colorbar\":{\"outlinewidth\":0,\"ticks\":\"\"}},\"type\":\"scattermapbox\"}],\"scatterpolar\":[{\"marker\":{\"colorbar\":{\"outlinewidth\":0,\"ticks\":\"\"}},\"type\":\"scatterpolar\"}],\"scatterpolargl\":[{\"marker\":{\"colorbar\":{\"outlinewidth\":0,\"ticks\":\"\"}},\"type\":\"scatterpolargl\"}],\"scatterternary\":[{\"marker\":{\"colorbar\":{\"outlinewidth\":0,\"ticks\":\"\"}},\"type\":\"scatterternary\"}],\"surface\":[{\"colorbar\":{\"outlinewidth\":0,\"ticks\":\"\"},\"colorscale\":[[0.0,\"#0d0887\"],[0.1111111111111111,\"#46039f\"],[0.2222222222222222,\"#7201a8\"],[0.3333333333333333,\"#9c179e\"],[0.4444444444444444,\"#bd3786\"],[0.5555555555555556,\"#d8576b\"],[0.6666666666666666,\"#ed7953\"],[0.7777777777777778,\"#fb9f3a\"],[0.8888888888888888,\"#fdca26\"],[1.0,\"#f0f921\"]],\"type\":\"surface\"}],\"table\":[{\"cells\":{\"fill\":{\"color\":\"#EBF0F8\"},\"line\":{\"color\":\"white\"}},\"header\":{\"fill\":{\"color\":\"#C8D4E3\"},\"line\":{\"color\":\"white\"}},\"type\":\"table\"}]},\"layout\":{\"annotationdefaults\":{\"arrowcolor\":\"#2a3f5f\",\"arrowhead\":0,\"arrowwidth\":1},\"autotypenumbers\":\"strict\",\"coloraxis\":{\"colorbar\":{\"outlinewidth\":0,\"ticks\":\"\"}},\"colorscale\":{\"diverging\":[[0,\"#8e0152\"],[0.1,\"#c51b7d\"],[0.2,\"#de77ae\"],[0.3,\"#f1b6da\"],[0.4,\"#fde0ef\"],[0.5,\"#f7f7f7\"],[0.6,\"#e6f5d0\"],[0.7,\"#b8e186\"],[0.8,\"#7fbc41\"],[0.9,\"#4d9221\"],[1,\"#276419\"]],\"sequential\":[[0.0,\"#0d0887\"],[0.1111111111111111,\"#46039f\"],[0.2222222222222222,\"#7201a8\"],[0.3333333333333333,\"#9c179e\"],[0.4444444444444444,\"#bd3786\"],[0.5555555555555556,\"#d8576b\"],[0.6666666666666666,\"#ed7953\"],[0.7777777777777778,\"#fb9f3a\"],[0.8888888888888888,\"#fdca26\"],[1.0,\"#f0f921\"]],\"sequentialminus\":[[0.0,\"#0d0887\"],[0.1111111111111111,\"#46039f\"],[0.2222222222222222,\"#7201a8\"],[0.3333333333333333,\"#9c179e\"],[0.4444444444444444,\"#bd3786\"],[0.5555555555555556,\"#d8576b\"],[0.6666666666666666,\"#ed7953\"],[0.7777777777777778,\"#fb9f3a\"],[0.8888888888888888,\"#fdca26\"],[1.0,\"#f0f921\"]]},\"colorway\":[\"#636efa\",\"#EF553B\",\"#00cc96\",\"#ab63fa\",\"#FFA15A\",\"#19d3f3\",\"#FF6692\",\"#B6E880\",\"#FF97FF\",\"#FECB52\"],\"font\":{\"color\":\"#2a3f5f\"},\"geo\":{\"bgcolor\":\"white\",\"lakecolor\":\"white\",\"landcolor\":\"#E5ECF6\",\"showlakes\":true,\"showland\":true,\"subunitcolor\":\"white\"},\"hoverlabel\":{\"align\":\"left\"},\"hovermode\":\"closest\",\"mapbox\":{\"style\":\"light\"},\"paper_bgcolor\":\"white\",\"plot_bgcolor\":\"#E5ECF6\",\"polar\":{\"angularaxis\":{\"gridcolor\":\"white\",\"linecolor\":\"white\",\"ticks\":\"\"},\"bgcolor\":\"#E5ECF6\",\"radialaxis\":{\"gridcolor\":\"white\",\"linecolor\":\"white\",\"ticks\":\"\"}},\"scene\":{\"xaxis\":{\"backgroundcolor\":\"#E5ECF6\",\"gridcolor\":\"white\",\"gridwidth\":2,\"linecolor\":\"white\",\"showbackground\":true,\"ticks\":\"\",\"zerolinecolor\":\"white\"},\"yaxis\":{\"backgroundcolor\":\"#E5ECF6\",\"gridcolor\":\"white\",\"gridwidth\":2,\"linecolor\":\"white\",\"showbackground\":true,\"ticks\":\"\",\"zerolinecolor\":\"white\"},\"zaxis\":{\"backgroundcolor\":\"#E5ECF6\",\"gridcolor\":\"white\",\"gridwidth\":2,\"linecolor\":\"white\",\"showbackground\":true,\"ticks\":\"\",\"zerolinecolor\":\"white\"}},\"shapedefaults\":{\"line\":{\"color\":\"#2a3f5f\"}},\"ternary\":{\"aaxis\":{\"gridcolor\":\"white\",\"linecolor\":\"white\",\"ticks\":\"\"},\"baxis\":{\"gridcolor\":\"white\",\"linecolor\":\"white\",\"ticks\":\"\"},\"bgcolor\":\"#E5ECF6\",\"caxis\":{\"gridcolor\":\"white\",\"linecolor\":\"white\",\"ticks\":\"\"}},\"title\":{\"x\":0.05},\"xaxis\":{\"automargin\":true,\"gridcolor\":\"white\",\"linecolor\":\"white\",\"ticks\":\"\",\"title\":{\"standoff\":15},\"zerolinecolor\":\"white\",\"zerolinewidth\":2},\"yaxis\":{\"automargin\":true,\"gridcolor\":\"white\",\"linecolor\":\"white\",\"ticks\":\"\",\"title\":{\"standoff\":15},\"zerolinecolor\":\"white\",\"zerolinewidth\":2}}},\"shapes\":[{\"line\":{\"dash\":\"dash\"},\"type\":\"line\",\"x0\":0,\"x1\":1,\"y0\":0,\"y1\":1}],\"yaxis\":{\"title\":{\"text\":\"True Positive Rate\"},\"scaleanchor\":\"x\",\"scaleratio\":1},\"xaxis\":{\"title\":{\"text\":\"False Positive Rate\"},\"constrain\":\"domain\"},\"title\":{\"text\":\"ROC Curve\"},\"width\":900,\"height\":800},                        {\"responsive\": true}                    ).then(function(){\n",
              "                            \n",
              "var gd = document.getElementById('3744ccb0-61ba-49fd-86a3-e13efc4e078b');\n",
              "var x = new MutationObserver(function (mutations, observer) {{\n",
              "        var display = window.getComputedStyle(gd).display;\n",
              "        if (!display || display === 'none') {{\n",
              "            console.log([gd, 'removed!']);\n",
              "            Plotly.purge(gd);\n",
              "            observer.disconnect();\n",
              "        }}\n",
              "}});\n",
              "\n",
              "// Listen for the removal of the full notebook cells\n",
              "var notebookContainer = gd.closest('#notebook-container');\n",
              "if (notebookContainer) {{\n",
              "    x.observe(notebookContainer, {childList: true});\n",
              "}}\n",
              "\n",
              "// Listen for the clearing of the current output cell\n",
              "var outputEl = gd.closest('.output');\n",
              "if (outputEl) {{\n",
              "    x.observe(outputEl, {childList: true});\n",
              "}}\n",
              "\n",
              "                        })                };                            </script>        </div>\n",
              "</body>\n",
              "</html>"
            ]
          },
          "metadata": {}
        }
      ]
    },
    {
      "cell_type": "code",
      "source": [
        "from tensorflow.keras.models import save_model\n"
      ],
      "metadata": {
        "id": "AymS4krnmhuC"
      },
      "execution_count": null,
      "outputs": []
    },
    {
      "cell_type": "code",
      "source": [
        "MODEL_FILENAMEs=root_path+\"model_3fold_InceptionV3_02.h5\"\n",
        "model.save(MODEL_FILENAMEs)"
      ],
      "metadata": {
        "id": "Bp4G0LZqm0Sq"
      },
      "execution_count": null,
      "outputs": []
    },
    {
      "cell_type": "code",
      "source": [
        "MODEL_FILENAMEs02=root_path+\"model_3fold_InceptionV3_02.hdf5\"\n",
        "model.save(MODEL_FILENAMEs02)"
      ],
      "metadata": {
        "id": "_QvPqbFBMiHS"
      },
      "execution_count": null,
      "outputs": []
    }
  ]
}