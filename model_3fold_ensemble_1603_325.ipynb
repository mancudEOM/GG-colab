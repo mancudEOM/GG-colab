{
  "nbformat": 4,
  "nbformat_minor": 0,
  "metadata": {
    "colab": {
      "provenance": [],
      "toc_visible": true,
      "mount_file_id": "1dgz0pDnuhyZ-piIp1X72Xi4zwPvBkb2h",
      "authorship_tag": "ABX9TyM+E864gjWk116d6kMwMxm4",
      "include_colab_link": true
    },
    "kernelspec": {
      "name": "python3",
      "display_name": "Python 3"
    },
    "language_info": {
      "name": "python"
    },
    "gpuClass": "standard",
    "accelerator": "GPU"
  },
  "cells": [
    {
      "cell_type": "markdown",
      "metadata": {
        "id": "view-in-github",
        "colab_type": "text"
      },
      "source": [
        "<a href=\"https://colab.research.google.com/github/mancudEOM/GG-colab/blob/main/model_3fold_ensemble_1603_325.ipynb\" target=\"_parent\"><img src=\"https://colab.research.google.com/assets/colab-badge.svg\" alt=\"Open In Colab\"/></a>"
      ]
    },
    {
      "cell_type": "code",
      "execution_count": 129,
      "metadata": {
        "id": "re2cPhu8Glvf",
        "colab": {
          "base_uri": "https://localhost:8080/"
        },
        "outputId": "4015e1da-d6ef-4396-c355-9cf49958cfd5"
      },
      "outputs": [
        {
          "output_type": "stream",
          "name": "stdout",
          "text": [
            "Drive already mounted at /content/drive; to attempt to forcibly remount, call drive.mount(\"/content/drive\", force_remount=True).\n"
          ]
        }
      ],
      "source": [
        "  from google.colab import drive\n",
        "  drive.mount('/content/drive')\n",
        "\n"
      ]
    },
    {
      "cell_type": "code",
      "source": [
        "  !ls\n"
      ],
      "metadata": {
        "id": "16aNt0njGqgR",
        "colab": {
          "base_uri": "https://localhost:8080/"
        },
        "outputId": "789d49fe-8335-4a2f-87eb-6688234e8de9"
      },
      "execution_count": 130,
      "outputs": [
        {
          "output_type": "stream",
          "name": "stdout",
          "text": [
            "drive  sample_data\n"
          ]
        }
      ]
    },
    {
      "cell_type": "code",
      "source": [
        "  import sys\n",
        "  root_path = '/content/drive/My Drive/Segmented Medicinal Leaf Images/' # This is the path to where in google drive the code is stored!\n",
        "  sys.path.append(root_path)"
      ],
      "metadata": {
        "id": "6kpNIXuzGskg"
      },
      "execution_count": 131,
      "outputs": []
    },
    {
      "cell_type": "markdown",
      "source": [
        "# THÊM TẤT CẢ CÁC THƯ VIỆN CẦN THIẾT"
      ],
      "metadata": {
        "id": "qMNSUzIxL7JZ"
      }
    },
    {
      "cell_type": "code",
      "source": [
        "import numpy as np\n",
        "from sklearn.metrics import accuracy_score, f1_score, precision_score, confusion_matrix\n",
        "from sklearn.model_selection import StratifiedKFold\n",
        "from PIL import Image\n",
        "import random\n",
        "import tensorflow as tf\n",
        "from tensorflow.keras.models import Sequential\n",
        "from keras.preprocessing.image import ImageDataGenerator\n",
        "from tensorflow.keras.preprocessing.image import ImageDataGenerator\n",
        "from tensorflow.keras.layers import Dense, Dropout, Flatten, Conv2D, MaxPooling2D\n",
        "\n",
        "from tensorflow.compat.v1 import ConfigProto\n",
        "from tensorflow.compat.v1 import InteractiveSession\n",
        "import warnings\n",
        "import os\n",
        "import shutil\n",
        "from PIL import ImageFile\n",
        "warnings.simplefilter('error', Image.DecompressionBombWarning)\n",
        "ImageFile.LOAD_TRUNCATED_IMAGES = True\n",
        "Image.MAX_IMAGE_PIXELS = 1000000000\n",
        "config = ConfigProto()\n",
        "config.gpu_options.allow_growth = True\n",
        "session = InteractiveSession(config=config)"
      ],
      "metadata": {
        "id": "NJq2Vm2hHTWR",
        "colab": {
          "base_uri": "https://localhost:8080/"
        },
        "outputId": "1391c525-14cb-4479-bbfa-adaf3be471b1"
      },
      "execution_count": 132,
      "outputs": [
        {
          "output_type": "stream",
          "name": "stderr",
          "text": [
            "/usr/local/lib/python3.9/dist-packages/tensorflow/python/client/session.py:1769: UserWarning:\n",
            "\n",
            "An interactive session is already active. This can cause out-of-memory errors in some cases. You must explicitly call `InteractiveSession.close()` to release resources held by the other session(s).\n",
            "\n"
          ]
        }
      ]
    },
    {
      "cell_type": "markdown",
      "source": [
        "# Khởi tạo các biến cần thiết"
      ],
      "metadata": {
        "id": "QYpc-VdEMGBS"
      }
    },
    {
      "cell_type": "code",
      "source": [
        "datasetFolderName=root_path+'dataset'\n",
        "MODEL_FILENAME=root_path+\"model_cv.h5\"\n",
        "sourceFiles=[]\n",
        "classLabels=['Alpinia Galanga (Rasna)','Amaranthus Viridis (Arive-Dantu)','Artocarpus Heterophyllus (Jackfruit)',\n",
        "'Azadirachta Indica (Neem)','Basella Alba (Basale)','Brassica Juncea (Indian Mustard)',\n",
        "'Carissa Carandas (Karanda)','Citrus Limon (Lemon)','Ficus Auriculata (Roxburgh fig)',\n",
        "'Ficus Religiosa (Peepal Tree)','Hibiscus Rosa-sinensis','Jasminum (Jasmine)',\n",
        "'Mangifera Indica (Mango)','Mentha (Mint)','Moringa Oleifera (Drumstick)',\n",
        "'Muntingia Calabura (Jamaica Cherry-Gasagase)','Murraya Koenigii (Curry)','Nerium Oleander (Oleander)',\n",
        "'Nyctanthes Arbor-tristis (Parijata)','Ocimum Tenuiflorum (Tulsi)','Piper Betle (Betel)',\n",
        "'Plectranthus Amboinicus (Mexican Mint)','Pongamia Pinnata (Indian Beech)','Psidium Guajava (Guava)',\n",
        "'Punica Granatum (Pomegranate)','Santalum Album (Sandalwood)','Syzygium Cumini (Jamun)',\n",
        "'Syzygium Jambos (Rose Apple)','Tabernaemontana Divaricata (Crape Jasmine)','Trigonella Foenum-graecum (Fenugreek)']\n",
        "X=[]\n",
        "Y=[]\n",
        "\n",
        "img_rows, img_cols =  224, 224 \n",
        "# input image dimensions\n",
        "#img_rows, img_cols =  224, 224 # input image dimensions\n",
        "train_path=datasetFolderName+'/train/'\n",
        "validation_path=datasetFolderName+'/validation/'\n",
        "test_path=datasetFolderName+'/test/'"
      ],
      "metadata": {
        "id": "iCy2O5d9Jxq6"
      },
      "execution_count": 133,
      "outputs": []
    },
    {
      "cell_type": "markdown",
      "source": [
        "# KFOLD train-test-validation"
      ],
      "metadata": {
        "id": "LyAnSQTbMblZ"
      }
    },
    {
      "cell_type": "code",
      "source": [
        "def transferBetweenFolders(source, dest, splitRate): \n",
        "    global sourceFiles\n",
        "    sourceFiles=os.listdir(source)\n",
        "    if(len(sourceFiles)!=0):\n",
        "        transferFileNumbers=int(len(sourceFiles)*splitRate)\n",
        "        transferIndex=random.sample(range(0, len(sourceFiles)), transferFileNumbers)\n",
        "        for eachIndex in transferIndex:\n",
        "            shutil.move(source+str(sourceFiles[eachIndex]), dest+str(sourceFiles[eachIndex]))\n",
        "    else:\n",
        "        print(\"No file moved. Source empty!\")\n",
        "        \n",
        "def transferAllClassBetweenFolders(source, dest, splitRate):\n",
        "    for label in classLabels:\n",
        "        transferBetweenFolders(datasetFolderName+'/'+source+'/'+label+'/', \n",
        "                               datasetFolderName+'/'+dest+'/'+label+'/', \n",
        "                               splitRate)"
      ],
      "metadata": {
        "id": "RgfHPIHbJ4rR"
      },
      "execution_count": 134,
      "outputs": []
    },
    {
      "cell_type": "code",
      "source": [
        "transferAllClassBetweenFolders('test', 'train', 1.0)"
      ],
      "metadata": {
        "id": "stSX_AiNKleb",
        "colab": {
          "base_uri": "https://localhost:8080/"
        },
        "outputId": "5a2363a3-f712-4cf6-e068-6ce93355cea9"
      },
      "execution_count": 135,
      "outputs": [
        {
          "output_type": "stream",
          "name": "stdout",
          "text": [
            "No file moved. Source empty!\n",
            "No file moved. Source empty!\n",
            "No file moved. Source empty!\n",
            "No file moved. Source empty!\n",
            "No file moved. Source empty!\n",
            "No file moved. Source empty!\n",
            "No file moved. Source empty!\n",
            "No file moved. Source empty!\n",
            "No file moved. Source empty!\n",
            "No file moved. Source empty!\n",
            "No file moved. Source empty!\n",
            "No file moved. Source empty!\n",
            "No file moved. Source empty!\n",
            "No file moved. Source empty!\n",
            "No file moved. Source empty!\n",
            "No file moved. Source empty!\n",
            "No file moved. Source empty!\n",
            "No file moved. Source empty!\n",
            "No file moved. Source empty!\n",
            "No file moved. Source empty!\n",
            "No file moved. Source empty!\n",
            "No file moved. Source empty!\n",
            "No file moved. Source empty!\n",
            "No file moved. Source empty!\n",
            "No file moved. Source empty!\n",
            "No file moved. Source empty!\n",
            "No file moved. Source empty!\n",
            "No file moved. Source empty!\n",
            "No file moved. Source empty!\n",
            "No file moved. Source empty!\n"
          ]
        }
      ]
    },
    {
      "cell_type": "code",
      "source": [
        "transferAllClassBetweenFolders('validation', 'train', 1.0)"
      ],
      "metadata": {
        "id": "Z6o8gWE-N-rq"
      },
      "execution_count": 136,
      "outputs": []
    },
    {
      "cell_type": "code",
      "source": [
        "#transferAllClassBetweenFolders('train', 'test', 0.20)"
      ],
      "metadata": {
        "id": "arE4ro1JKqIh"
      },
      "execution_count": 137,
      "outputs": []
    },
    {
      "cell_type": "code",
      "source": [
        "def prepareNameWithLabels(folderName):\n",
        "    sourceFiles=os.listdir(datasetFolderName+'/train/'+folderName)\n",
        "    for val in sourceFiles:\n",
        "        X.append(val)\n",
        "        for i in range(len(classLabels)):\n",
        "          if(folderName==classLabels[i]):\n",
        "              Y.append(i)"
      ],
      "metadata": {
        "id": "73VhRSA2K0fp"
      },
      "execution_count": 138,
      "outputs": []
    },
    {
      "cell_type": "code",
      "source": [
        "# Organize file names and class labels in X and Y variables\n",
        "for i in range(len(classLabels)):\n",
        "  prepareNameWithLabels(classLabels[i])"
      ],
      "metadata": {
        "id": "u6pP6P3YK2Ub"
      },
      "execution_count": 139,
      "outputs": []
    },
    {
      "cell_type": "code",
      "source": [
        "X=np.asarray(X)\n",
        "Y=np.asarray(Y)"
      ],
      "metadata": {
        "id": "WZHmT5JgK3xa"
      },
      "execution_count": 140,
      "outputs": []
    },
    {
      "cell_type": "code",
      "source": [
        "print(X)\n",
        "print(Y)"
      ],
      "metadata": {
        "id": "MzTCDvyoM28y",
        "colab": {
          "base_uri": "https://localhost:8080/"
        },
        "outputId": "fd56519c-b069-4656-b8ea-f823f50afd07"
      },
      "execution_count": 141,
      "outputs": [
        {
          "output_type": "stream",
          "name": "stdout",
          "text": [
            "['AG-S-006.jpg' 'AG-S-043.jpg' 'AG-S-002.jpg' ... 'TF-S-036.jpg'\n",
            " 'TF-S-028.jpg' 'TF-S-010.jpg']\n",
            "[ 0  0  0 ... 29 29 29]\n"
          ]
        }
      ]
    },
    {
      "cell_type": "code",
      "source": [
        "batch_size = 64\n",
        "IMG_SIZE = (224, 224, 3)\n",
        "number_of_class_labels = len(classLabels)"
      ],
      "metadata": {
        "id": "WtnpSQSxX-67"
      },
      "execution_count": 142,
      "outputs": []
    },
    {
      "cell_type": "code",
      "source": [
        "import tensorflow.keras as keras"
      ],
      "metadata": {
        "id": "OKucCyffZ5cD"
      },
      "execution_count": 143,
      "outputs": []
    },
    {
      "cell_type": "code",
      "source": [
        "# Create a data augmentation stage with horizontal flipping, rotations, zooms\n",
        "data_augmentation = keras.Sequential(\n",
        "    [\n",
        "        keras.layers.Rescaling(1./ 255),\n",
        "        keras.layers.RandomFlip(),\n",
        "        keras.layers.RandomRotation(0.2),\n",
        "        keras.layers.RandomZoom(0.2,0.3)\n",
        "    ]\n",
        ")"
      ],
      "metadata": {
        "id": "zWFE6eJxZvCD"
      },
      "execution_count": 144,
      "outputs": []
    },
    {
      "cell_type": "code",
      "source": [
        "#pre_trained_layers = keras.applications.ResNet50V2(weights=\"imagenet\", include_top=False,\n",
        "#           input_tensor=keras.Input(shape=IMG_SIZE))"
      ],
      "metadata": {
        "id": "A929RzhDZ7wR"
      },
      "execution_count": 145,
      "outputs": []
    },
    {
      "cell_type": "code",
      "source": [
        "#pre_trained_layers = tf.keras.applications.MobileNetV2(weights=\"imagenet\", include_top=False,\n",
        "#            input_tensor=keras.Input(shape=IMG_SIZE))"
      ],
      "metadata": {
        "id": "MRoc6m_k7kpj"
      },
      "execution_count": 146,
      "outputs": []
    },
    {
      "cell_type": "code",
      "source": [
        "\n",
        "#pre_trained_layers = keras.applications.Xception(weights=\"imagenet\", include_top=False,\n",
        "#         input_tensor=keras.Input(shape=IMG_SIZE))"
      ],
      "metadata": {
        "id": "wbD80LCePblH"
      },
      "execution_count": 147,
      "outputs": []
    },
    {
      "cell_type": "code",
      "source": [
        "#pre_trained_layers = tf.keras.applications.InceptionV3(weights=\"imagenet\", include_top=False,\n",
        "#           input_tensor=keras.Input(shape=IMG_SIZE))"
      ],
      "metadata": {
        "id": "kFkcL4A1JffX"
      },
      "execution_count": 148,
      "outputs": []
    },
    {
      "cell_type": "code",
      "source": [
        "#pre_trained_layers.summary()\n"
      ],
      "metadata": {
        "id": "V-K3rsDLaLWL"
      },
      "execution_count": 149,
      "outputs": []
    },
    {
      "cell_type": "code",
      "source": [
        "\n",
        "from tensorflow.keras.models import Model, load_model\n",
        "from tensorflow.keras.layers import Input, Average\n",
        "from keras.models import Model\n",
        "from keras.layers import Input, Dense\n",
        "import tensorflow as tf"
      ],
      "metadata": {
        "id": "q-xZEOqCLWIb"
      },
      "execution_count": 150,
      "outputs": []
    },
    {
      "cell_type": "code",
      "source": [
        "class WeightedAverageLayer(tf.keras.layers.Layer):\n",
        "    def __init__(self, w1, w2, w3, **kwargs):\n",
        "        super(WeightedAverageLayer, self).__init__(**kwargs)\n",
        "        self.w1 = w1\n",
        "        self.w2 = w2\n",
        "        self.w3 = w3\n",
        "\n",
        "    def call(self, inputs):\n",
        "        return self.w1 * inputs[0] + self.w2 * inputs[1] + self.w3 * inputs[2]"
      ],
      "metadata": {
        "id": "GTVtq8kOc-6p"
      },
      "execution_count": 151,
      "outputs": []
    },
    {
      "cell_type": "code",
      "source": [
        "# Disable scientific notation for clarity\n",
        "np.set_printoptions(suppress=True)\n",
        "# Load the model\n",
        "model_1 =load_model(root_path+\"model_3fold_InceptionV3_02.h5\", \n",
        "                    compile=False)\n",
        "model_1 = Model(inputs=model_1.inputs,\n",
        "                outputs=model_1.outputs,\n",
        "                name='model_3fold_InceptionV3_02')\n",
        "model_2 = load_model(root_path+\"model_3fold_ResNet50V2_02.h5\", \n",
        "                     compile=False)\n",
        "model_2 = Model(inputs=model_1.inputs,\n",
        "                outputs=model_1.outputs,\n",
        "                name='model_3fold_ResNet50V2_02')\n",
        "model_3 = load_model(root_path+\"model_3fold_Xception03.h5\", \n",
        "                     compile=False)\n",
        "model_3 = Model(inputs=model_1.inputs,\n",
        "                outputs=model_1.outputs,\n",
        "                name='model_3fold_Xception03')\n",
        "models = [model_1, model_2, model_3]\n",
        "model_input = Input(shape=(224, 224, 3))\n",
        "model_outputs = [model(model_input) for model in models]\n",
        "#ensemble_output = Average()(model_outputs)\n",
        "ensemble_output = WeightedAverageLayer(0.3, 0.2, 0.5)(model_outputs)\n",
        "ensemble_model= Model(inputs=model_input, outputs=ensemble_output, name='ensemble')\n",
        " "
      ],
      "metadata": {
        "id": "R2Oq0Kl4IUFm",
        "colab": {
          "base_uri": "https://localhost:8080/"
        },
        "outputId": "6e5e8dde-e108-4619-f4f6-212f7f0bd90e"
      },
      "execution_count": 152,
      "outputs": [
        {
          "output_type": "stream",
          "name": "stderr",
          "text": [
            "WARNING:tensorflow:Using a while_loop for converting RngReadAndSkip cause there is no registered converter for this op.\n",
            "WARNING:tensorflow:Using a while_loop for converting Bitcast cause there is no registered converter for this op.\n",
            "WARNING:tensorflow:Using a while_loop for converting Bitcast cause there is no registered converter for this op.\n",
            "WARNING:tensorflow:Using a while_loop for converting StatelessRandomUniformV2 cause there is no registered converter for this op.\n",
            "WARNING:tensorflow:Using a while_loop for converting ImageProjectiveTransformV3 cause there is no registered converter for this op.\n",
            "WARNING:tensorflow:Using a while_loop for converting RngReadAndSkip cause there is no registered converter for this op.\n",
            "WARNING:tensorflow:Using a while_loop for converting Bitcast cause there is no registered converter for this op.\n",
            "WARNING:tensorflow:Using a while_loop for converting Bitcast cause there is no registered converter for this op.\n",
            "WARNING:tensorflow:Using a while_loop for converting StatelessRandomUniformV2 cause there is no registered converter for this op.\n",
            "WARNING:tensorflow:Using a while_loop for converting RngReadAndSkip cause there is no registered converter for this op.\n",
            "WARNING:tensorflow:Using a while_loop for converting Bitcast cause there is no registered converter for this op.\n",
            "WARNING:tensorflow:Using a while_loop for converting Bitcast cause there is no registered converter for this op.\n",
            "WARNING:tensorflow:Using a while_loop for converting StatelessRandomUniformV2 cause there is no registered converter for this op.\n",
            "WARNING:tensorflow:Using a while_loop for converting ImageProjectiveTransformV3 cause there is no registered converter for this op.\n",
            "WARNING:tensorflow:Using a while_loop for converting RngReadAndSkip cause there is no registered converter for this op.\n",
            "WARNING:tensorflow:Using a while_loop for converting Bitcast cause there is no registered converter for this op.\n",
            "WARNING:tensorflow:Using a while_loop for converting Bitcast cause there is no registered converter for this op.\n",
            "WARNING:tensorflow:Using a while_loop for converting StatelessRandomUniformV2 cause there is no registered converter for this op.\n",
            "WARNING:tensorflow:Using a while_loop for converting ImageProjectiveTransformV3 cause there is no registered converter for this op.\n",
            "WARNING:tensorflow:Using a while_loop for converting RngReadAndSkip cause there is no registered converter for this op.\n",
            "WARNING:tensorflow:Using a while_loop for converting Bitcast cause there is no registered converter for this op.\n",
            "WARNING:tensorflow:Using a while_loop for converting Bitcast cause there is no registered converter for this op.\n",
            "WARNING:tensorflow:Using a while_loop for converting StatelessRandomUniformV2 cause there is no registered converter for this op.\n",
            "WARNING:tensorflow:Using a while_loop for converting RngReadAndSkip cause there is no registered converter for this op.\n",
            "WARNING:tensorflow:Using a while_loop for converting Bitcast cause there is no registered converter for this op.\n",
            "WARNING:tensorflow:Using a while_loop for converting Bitcast cause there is no registered converter for this op.\n",
            "WARNING:tensorflow:Using a while_loop for converting StatelessRandomUniformV2 cause there is no registered converter for this op.\n",
            "WARNING:tensorflow:Using a while_loop for converting ImageProjectiveTransformV3 cause there is no registered converter for this op.\n",
            "WARNING:tensorflow:Using a while_loop for converting RngReadAndSkip cause there is no registered converter for this op.\n",
            "WARNING:tensorflow:Using a while_loop for converting Bitcast cause there is no registered converter for this op.\n",
            "WARNING:tensorflow:Using a while_loop for converting Bitcast cause there is no registered converter for this op.\n",
            "WARNING:tensorflow:Using a while_loop for converting StatelessRandomUniformV2 cause there is no registered converter for this op.\n",
            "WARNING:tensorflow:Using a while_loop for converting ImageProjectiveTransformV3 cause there is no registered converter for this op.\n",
            "WARNING:tensorflow:Using a while_loop for converting RngReadAndSkip cause there is no registered converter for this op.\n",
            "WARNING:tensorflow:Using a while_loop for converting Bitcast cause there is no registered converter for this op.\n",
            "WARNING:tensorflow:Using a while_loop for converting Bitcast cause there is no registered converter for this op.\n",
            "WARNING:tensorflow:Using a while_loop for converting StatelessRandomUniformV2 cause there is no registered converter for this op.\n",
            "WARNING:tensorflow:Using a while_loop for converting RngReadAndSkip cause there is no registered converter for this op.\n",
            "WARNING:tensorflow:Using a while_loop for converting Bitcast cause there is no registered converter for this op.\n",
            "WARNING:tensorflow:Using a while_loop for converting Bitcast cause there is no registered converter for this op.\n",
            "WARNING:tensorflow:Using a while_loop for converting StatelessRandomUniformV2 cause there is no registered converter for this op.\n",
            "WARNING:tensorflow:Using a while_loop for converting ImageProjectiveTransformV3 cause there is no registered converter for this op.\n",
            "WARNING:tensorflow:Using a while_loop for converting RngReadAndSkip cause there is no registered converter for this op.\n",
            "WARNING:tensorflow:Using a while_loop for converting Bitcast cause there is no registered converter for this op.\n",
            "WARNING:tensorflow:Using a while_loop for converting Bitcast cause there is no registered converter for this op.\n",
            "WARNING:tensorflow:Using a while_loop for converting StatelessRandomUniformV2 cause there is no registered converter for this op.\n",
            "WARNING:tensorflow:Using a while_loop for converting ImageProjectiveTransformV3 cause there is no registered converter for this op.\n",
            "WARNING:tensorflow:Using a while_loop for converting RngReadAndSkip cause there is no registered converter for this op.\n",
            "WARNING:tensorflow:Using a while_loop for converting Bitcast cause there is no registered converter for this op.\n",
            "WARNING:tensorflow:Using a while_loop for converting Bitcast cause there is no registered converter for this op.\n",
            "WARNING:tensorflow:Using a while_loop for converting StatelessRandomUniformV2 cause there is no registered converter for this op.\n",
            "WARNING:tensorflow:Using a while_loop for converting RngReadAndSkip cause there is no registered converter for this op.\n",
            "WARNING:tensorflow:Using a while_loop for converting Bitcast cause there is no registered converter for this op.\n",
            "WARNING:tensorflow:Using a while_loop for converting Bitcast cause there is no registered converter for this op.\n",
            "WARNING:tensorflow:Using a while_loop for converting StatelessRandomUniformV2 cause there is no registered converter for this op.\n",
            "WARNING:tensorflow:Using a while_loop for converting ImageProjectiveTransformV3 cause there is no registered converter for this op.\n",
            "WARNING:tensorflow:Using a while_loop for converting RngReadAndSkip cause there is no registered converter for this op.\n",
            "WARNING:tensorflow:Using a while_loop for converting Bitcast cause there is no registered converter for this op.\n",
            "WARNING:tensorflow:Using a while_loop for converting Bitcast cause there is no registered converter for this op.\n",
            "WARNING:tensorflow:Using a while_loop for converting StatelessRandomUniformV2 cause there is no registered converter for this op.\n",
            "WARNING:tensorflow:Using a while_loop for converting ImageProjectiveTransformV3 cause there is no registered converter for this op.\n",
            "WARNING:tensorflow:Using a while_loop for converting RngReadAndSkip cause there is no registered converter for this op.\n",
            "WARNING:tensorflow:Using a while_loop for converting Bitcast cause there is no registered converter for this op.\n",
            "WARNING:tensorflow:Using a while_loop for converting Bitcast cause there is no registered converter for this op.\n",
            "WARNING:tensorflow:Using a while_loop for converting StatelessRandomUniformV2 cause there is no registered converter for this op.\n",
            "WARNING:tensorflow:Using a while_loop for converting RngReadAndSkip cause there is no registered converter for this op.\n",
            "WARNING:tensorflow:Using a while_loop for converting Bitcast cause there is no registered converter for this op.\n",
            "WARNING:tensorflow:Using a while_loop for converting Bitcast cause there is no registered converter for this op.\n",
            "WARNING:tensorflow:Using a while_loop for converting StatelessRandomUniformV2 cause there is no registered converter for this op.\n",
            "WARNING:tensorflow:Using a while_loop for converting ImageProjectiveTransformV3 cause there is no registered converter for this op.\n",
            "WARNING:tensorflow:Using a while_loop for converting RngReadAndSkip cause there is no registered converter for this op.\n",
            "WARNING:tensorflow:Using a while_loop for converting Bitcast cause there is no registered converter for this op.\n",
            "WARNING:tensorflow:Using a while_loop for converting Bitcast cause there is no registered converter for this op.\n",
            "WARNING:tensorflow:Using a while_loop for converting StatelessRandomUniformV2 cause there is no registered converter for this op.\n",
            "WARNING:tensorflow:Using a while_loop for converting ImageProjectiveTransformV3 cause there is no registered converter for this op.\n",
            "WARNING:tensorflow:Using a while_loop for converting RngReadAndSkip cause there is no registered converter for this op.\n",
            "WARNING:tensorflow:Using a while_loop for converting Bitcast cause there is no registered converter for this op.\n",
            "WARNING:tensorflow:Using a while_loop for converting Bitcast cause there is no registered converter for this op.\n",
            "WARNING:tensorflow:Using a while_loop for converting StatelessRandomUniformV2 cause there is no registered converter for this op.\n",
            "WARNING:tensorflow:Using a while_loop for converting RngReadAndSkip cause there is no registered converter for this op.\n",
            "WARNING:tensorflow:Using a while_loop for converting Bitcast cause there is no registered converter for this op.\n",
            "WARNING:tensorflow:Using a while_loop for converting Bitcast cause there is no registered converter for this op.\n",
            "WARNING:tensorflow:Using a while_loop for converting StatelessRandomUniformV2 cause there is no registered converter for this op.\n",
            "WARNING:tensorflow:Using a while_loop for converting ImageProjectiveTransformV3 cause there is no registered converter for this op.\n",
            "WARNING:tensorflow:Using a while_loop for converting RngReadAndSkip cause there is no registered converter for this op.\n",
            "WARNING:tensorflow:Using a while_loop for converting Bitcast cause there is no registered converter for this op.\n",
            "WARNING:tensorflow:Using a while_loop for converting Bitcast cause there is no registered converter for this op.\n",
            "WARNING:tensorflow:Using a while_loop for converting StatelessRandomUniformV2 cause there is no registered converter for this op.\n",
            "WARNING:tensorflow:Using a while_loop for converting ImageProjectiveTransformV3 cause there is no registered converter for this op.\n",
            "WARNING:tensorflow:Using a while_loop for converting RngReadAndSkip cause there is no registered converter for this op.\n",
            "WARNING:tensorflow:Using a while_loop for converting Bitcast cause there is no registered converter for this op.\n",
            "WARNING:tensorflow:Using a while_loop for converting Bitcast cause there is no registered converter for this op.\n",
            "WARNING:tensorflow:Using a while_loop for converting StatelessRandomUniformV2 cause there is no registered converter for this op.\n",
            "WARNING:tensorflow:Using a while_loop for converting RngReadAndSkip cause there is no registered converter for this op.\n",
            "WARNING:tensorflow:Using a while_loop for converting Bitcast cause there is no registered converter for this op.\n",
            "WARNING:tensorflow:Using a while_loop for converting Bitcast cause there is no registered converter for this op.\n",
            "WARNING:tensorflow:Using a while_loop for converting StatelessRandomUniformV2 cause there is no registered converter for this op.\n",
            "WARNING:tensorflow:Using a while_loop for converting ImageProjectiveTransformV3 cause there is no registered converter for this op.\n",
            "WARNING:tensorflow:Using a while_loop for converting RngReadAndSkip cause there is no registered converter for this op.\n",
            "WARNING:tensorflow:Using a while_loop for converting Bitcast cause there is no registered converter for this op.\n",
            "WARNING:tensorflow:Using a while_loop for converting Bitcast cause there is no registered converter for this op.\n",
            "WARNING:tensorflow:Using a while_loop for converting StatelessRandomUniformV2 cause there is no registered converter for this op.\n",
            "WARNING:tensorflow:Using a while_loop for converting ImageProjectiveTransformV3 cause there is no registered converter for this op.\n",
            "WARNING:tensorflow:Using a while_loop for converting RngReadAndSkip cause there is no registered converter for this op.\n",
            "WARNING:tensorflow:Using a while_loop for converting Bitcast cause there is no registered converter for this op.\n",
            "WARNING:tensorflow:Using a while_loop for converting Bitcast cause there is no registered converter for this op.\n",
            "WARNING:tensorflow:Using a while_loop for converting StatelessRandomUniformV2 cause there is no registered converter for this op.\n",
            "WARNING:tensorflow:Using a while_loop for converting RngReadAndSkip cause there is no registered converter for this op.\n",
            "WARNING:tensorflow:Using a while_loop for converting Bitcast cause there is no registered converter for this op.\n",
            "WARNING:tensorflow:Using a while_loop for converting Bitcast cause there is no registered converter for this op.\n",
            "WARNING:tensorflow:Using a while_loop for converting StatelessRandomUniformV2 cause there is no registered converter for this op.\n",
            "WARNING:tensorflow:Using a while_loop for converting ImageProjectiveTransformV3 cause there is no registered converter for this op.\n",
            "WARNING:tensorflow:Using a while_loop for converting RngReadAndSkip cause there is no registered converter for this op.\n",
            "WARNING:tensorflow:Using a while_loop for converting Bitcast cause there is no registered converter for this op.\n",
            "WARNING:tensorflow:Using a while_loop for converting Bitcast cause there is no registered converter for this op.\n",
            "WARNING:tensorflow:Using a while_loop for converting StatelessRandomUniformV2 cause there is no registered converter for this op.\n",
            "WARNING:tensorflow:Using a while_loop for converting ImageProjectiveTransformV3 cause there is no registered converter for this op.\n",
            "WARNING:tensorflow:Using a while_loop for converting RngReadAndSkip cause there is no registered converter for this op.\n",
            "WARNING:tensorflow:Using a while_loop for converting Bitcast cause there is no registered converter for this op.\n",
            "WARNING:tensorflow:Using a while_loop for converting Bitcast cause there is no registered converter for this op.\n",
            "WARNING:tensorflow:Using a while_loop for converting StatelessRandomUniformV2 cause there is no registered converter for this op.\n",
            "WARNING:tensorflow:Using a while_loop for converting RngReadAndSkip cause there is no registered converter for this op.\n",
            "WARNING:tensorflow:Using a while_loop for converting Bitcast cause there is no registered converter for this op.\n",
            "WARNING:tensorflow:Using a while_loop for converting Bitcast cause there is no registered converter for this op.\n",
            "WARNING:tensorflow:Using a while_loop for converting StatelessRandomUniformV2 cause there is no registered converter for this op.\n",
            "WARNING:tensorflow:Using a while_loop for converting ImageProjectiveTransformV3 cause there is no registered converter for this op.\n"
          ]
        }
      ]
    },
    {
      "cell_type": "code",
      "source": [
        "\n",
        "#Creating custom model\n",
        "\n",
        "    "
      ],
      "metadata": {
        "id": "MU_j6dypcPwp"
      },
      "execution_count": 153,
      "outputs": []
    },
    {
      "cell_type": "code",
      "source": [
        "EPOCHS = 10\n",
        "LR = 1e-3\n",
        "ensemble_model.compile(optimizer=keras.optimizers.Adam(learning_rate=LR),\n",
        "              loss=tf.keras.losses.SparseCategoricalCrossentropy(),\n",
        "              metrics=['accuracy'])"
      ],
      "metadata": {
        "id": "41gFu9xKb0CU"
      },
      "execution_count": 154,
      "outputs": []
    },
    {
      "cell_type": "code",
      "source": [
        "#printing summary of custom model\n",
        "#ensemble_model.build((1,224,224,3))\n",
        "#ensemble_model.summary()"
      ],
      "metadata": {
        "id": "XCFHANKAcmVS"
      },
      "execution_count": 155,
      "outputs": []
    },
    {
      "cell_type": "code",
      "source": [
        "from tensorflow.keras.callbacks import ReduceLROnPlateau"
      ],
      "metadata": {
        "id": "AMvex2WIc1hi"
      },
      "execution_count": 156,
      "outputs": []
    },
    {
      "cell_type": "code",
      "source": [
        "# Callback -> Reduce Learning Rate on Plateau\n",
        "callback = ReduceLROnPlateau(monitor='val_loss', factor=0.1, patience=3, verbose=1, mode='auto',\n",
        "                             min_delta=0.0001, cooldown=0, min_lr=0.00001)"
      ],
      "metadata": {
        "id": "LM1NDxA1cnxB"
      },
      "execution_count": 157,
      "outputs": []
    },
    {
      "cell_type": "code",
      "source": [
        "skf = StratifiedKFold(n_splits=3, shuffle=True)\n",
        "skf.get_n_splits(X, Y)\n",
        "fold_num = 0\n",
        "for train_index, val_index in skf.split(X, Y):\n",
        "    # First cut all images from validation to train (if any exists)\n",
        "    transferAllClassBetweenFolders('validation', 'train', 1.0)\n",
        "    fold_num += 1\n",
        "    print(\"Results for fold\", fold_num)\n",
        "    X_train, X_val = X[train_index], X[val_index]\n",
        "    Y_train, Y_val = Y[train_index], Y[val_index]\n",
        "    # Move validation images of this fold from train folder to the validation folder\n",
        "    for each_index in range(len(X_val)):\n",
        "        class_label = ''\n",
        "        for i in range(len(classLabels)):\n",
        "            if(Y_val[each_index] == i):\n",
        "                class_label = classLabels[i]\n",
        "        # Then, copy the validation images to the validation folder\n",
        "        shutil.move(os.path.join(datasetFolderName, 'train', class_label, X_val[each_index]),\n",
        "                    os.path.join(datasetFolderName, 'validation', class_label, X_val[each_index]))\n",
        "\n",
        "   \n",
        "\n",
        "    # Start ImageClassification Model\n",
        "    #creating train data set\n",
        "    \n",
        "    train_generator = tf.keras.utils.image_dataset_from_directory(\n",
        "        train_path,\n",
        "        image_size=(IMG_SIZE[0], IMG_SIZE[1]),\n",
        "        batch_size=batch_size,        \n",
        "        )\n",
        "\n",
        "    validation_generator = tf.keras.utils.image_dataset_from_directory(\n",
        "        validation_path,\n",
        "        image_size=(IMG_SIZE[0], IMG_SIZE[1]),\n",
        "        batch_size=batch_size,\n",
        "        \n",
        "          # only data, no labels\n",
        "        shuffle=False\n",
        "        ) \n",
        "    \n",
        "    history = ensemble_model.fit(train_generator, epochs=EPOCHS, validation_data=validation_generator, callbacks=callback)\n",
        "    ensemble_model.evaluate(validation_generator)"
      ],
      "metadata": {
        "id": "h6-FwHIUaRPh",
        "colab": {
          "base_uri": "https://localhost:8080/"
        },
        "outputId": "752d428b-13ec-4fbb-b0a9-ac4f5ff73a9d"
      },
      "execution_count": 158,
      "outputs": [
        {
          "output_type": "stream",
          "name": "stdout",
          "text": [
            "No file moved. Source empty!\n",
            "No file moved. Source empty!\n",
            "No file moved. Source empty!\n",
            "No file moved. Source empty!\n",
            "No file moved. Source empty!\n",
            "No file moved. Source empty!\n",
            "No file moved. Source empty!\n",
            "No file moved. Source empty!\n",
            "No file moved. Source empty!\n",
            "No file moved. Source empty!\n",
            "No file moved. Source empty!\n",
            "No file moved. Source empty!\n",
            "No file moved. Source empty!\n",
            "No file moved. Source empty!\n",
            "No file moved. Source empty!\n",
            "No file moved. Source empty!\n",
            "No file moved. Source empty!\n",
            "No file moved. Source empty!\n",
            "No file moved. Source empty!\n",
            "No file moved. Source empty!\n",
            "No file moved. Source empty!\n",
            "No file moved. Source empty!\n",
            "No file moved. Source empty!\n",
            "No file moved. Source empty!\n",
            "No file moved. Source empty!\n",
            "No file moved. Source empty!\n",
            "No file moved. Source empty!\n",
            "No file moved. Source empty!\n",
            "No file moved. Source empty!\n",
            "No file moved. Source empty!\n",
            "Results for fold 1\n",
            "Found 1223 files belonging to 30 classes.\n",
            "Found 612 files belonging to 30 classes.\n",
            "Epoch 1/10\n"
          ]
        },
        {
          "output_type": "stream",
          "name": "stderr",
          "text": [
            "WARNING:tensorflow:Using a while_loop for converting RngReadAndSkip cause there is no registered converter for this op.\n",
            "WARNING:tensorflow:Using a while_loop for converting Bitcast cause there is no registered converter for this op.\n",
            "WARNING:tensorflow:Using a while_loop for converting Bitcast cause there is no registered converter for this op.\n",
            "WARNING:tensorflow:Using a while_loop for converting StatelessRandomUniformV2 cause there is no registered converter for this op.\n",
            "WARNING:tensorflow:Using a while_loop for converting ImageProjectiveTransformV3 cause there is no registered converter for this op.\n",
            "WARNING:tensorflow:Using a while_loop for converting RngReadAndSkip cause there is no registered converter for this op.\n",
            "WARNING:tensorflow:Using a while_loop for converting Bitcast cause there is no registered converter for this op.\n",
            "WARNING:tensorflow:Using a while_loop for converting Bitcast cause there is no registered converter for this op.\n",
            "WARNING:tensorflow:Using a while_loop for converting StatelessRandomUniformV2 cause there is no registered converter for this op.\n",
            "WARNING:tensorflow:Using a while_loop for converting RngReadAndSkip cause there is no registered converter for this op.\n",
            "WARNING:tensorflow:Using a while_loop for converting Bitcast cause there is no registered converter for this op.\n",
            "WARNING:tensorflow:Using a while_loop for converting Bitcast cause there is no registered converter for this op.\n",
            "WARNING:tensorflow:Using a while_loop for converting StatelessRandomUniformV2 cause there is no registered converter for this op.\n",
            "WARNING:tensorflow:Using a while_loop for converting ImageProjectiveTransformV3 cause there is no registered converter for this op.\n",
            "WARNING:tensorflow:Using a while_loop for converting RngReadAndSkip cause there is no registered converter for this op.\n",
            "WARNING:tensorflow:Using a while_loop for converting Bitcast cause there is no registered converter for this op.\n",
            "WARNING:tensorflow:Using a while_loop for converting Bitcast cause there is no registered converter for this op.\n",
            "WARNING:tensorflow:Using a while_loop for converting StatelessRandomUniformV2 cause there is no registered converter for this op.\n",
            "WARNING:tensorflow:Using a while_loop for converting ImageProjectiveTransformV3 cause there is no registered converter for this op.\n",
            "WARNING:tensorflow:Using a while_loop for converting RngReadAndSkip cause there is no registered converter for this op.\n",
            "WARNING:tensorflow:Using a while_loop for converting Bitcast cause there is no registered converter for this op.\n",
            "WARNING:tensorflow:Using a while_loop for converting Bitcast cause there is no registered converter for this op.\n",
            "WARNING:tensorflow:Using a while_loop for converting StatelessRandomUniformV2 cause there is no registered converter for this op.\n",
            "WARNING:tensorflow:Using a while_loop for converting RngReadAndSkip cause there is no registered converter for this op.\n",
            "WARNING:tensorflow:Using a while_loop for converting Bitcast cause there is no registered converter for this op.\n",
            "WARNING:tensorflow:Using a while_loop for converting Bitcast cause there is no registered converter for this op.\n",
            "WARNING:tensorflow:Using a while_loop for converting StatelessRandomUniformV2 cause there is no registered converter for this op.\n",
            "WARNING:tensorflow:Using a while_loop for converting ImageProjectiveTransformV3 cause there is no registered converter for this op.\n",
            "WARNING:tensorflow:Using a while_loop for converting RngReadAndSkip cause there is no registered converter for this op.\n",
            "WARNING:tensorflow:Using a while_loop for converting Bitcast cause there is no registered converter for this op.\n",
            "WARNING:tensorflow:Using a while_loop for converting Bitcast cause there is no registered converter for this op.\n",
            "WARNING:tensorflow:Using a while_loop for converting StatelessRandomUniformV2 cause there is no registered converter for this op.\n",
            "WARNING:tensorflow:Using a while_loop for converting ImageProjectiveTransformV3 cause there is no registered converter for this op.\n",
            "WARNING:tensorflow:Using a while_loop for converting RngReadAndSkip cause there is no registered converter for this op.\n",
            "WARNING:tensorflow:Using a while_loop for converting Bitcast cause there is no registered converter for this op.\n",
            "WARNING:tensorflow:Using a while_loop for converting Bitcast cause there is no registered converter for this op.\n",
            "WARNING:tensorflow:Using a while_loop for converting StatelessRandomUniformV2 cause there is no registered converter for this op.\n",
            "WARNING:tensorflow:Using a while_loop for converting RngReadAndSkip cause there is no registered converter for this op.\n",
            "WARNING:tensorflow:Using a while_loop for converting Bitcast cause there is no registered converter for this op.\n",
            "WARNING:tensorflow:Using a while_loop for converting Bitcast cause there is no registered converter for this op.\n",
            "WARNING:tensorflow:Using a while_loop for converting StatelessRandomUniformV2 cause there is no registered converter for this op.\n",
            "WARNING:tensorflow:Using a while_loop for converting ImageProjectiveTransformV3 cause there is no registered converter for this op.\n",
            "WARNING:tensorflow:Using a while_loop for converting RngReadAndSkip cause there is no registered converter for this op.\n",
            "WARNING:tensorflow:Using a while_loop for converting Bitcast cause there is no registered converter for this op.\n",
            "WARNING:tensorflow:Using a while_loop for converting Bitcast cause there is no registered converter for this op.\n",
            "WARNING:tensorflow:Using a while_loop for converting StatelessRandomUniformV2 cause there is no registered converter for this op.\n",
            "WARNING:tensorflow:Using a while_loop for converting ImageProjectiveTransformV3 cause there is no registered converter for this op.\n",
            "WARNING:tensorflow:Using a while_loop for converting RngReadAndSkip cause there is no registered converter for this op.\n",
            "WARNING:tensorflow:Using a while_loop for converting Bitcast cause there is no registered converter for this op.\n",
            "WARNING:tensorflow:Using a while_loop for converting Bitcast cause there is no registered converter for this op.\n",
            "WARNING:tensorflow:Using a while_loop for converting StatelessRandomUniformV2 cause there is no registered converter for this op.\n",
            "WARNING:tensorflow:Using a while_loop for converting RngReadAndSkip cause there is no registered converter for this op.\n",
            "WARNING:tensorflow:Using a while_loop for converting Bitcast cause there is no registered converter for this op.\n",
            "WARNING:tensorflow:Using a while_loop for converting Bitcast cause there is no registered converter for this op.\n",
            "WARNING:tensorflow:Using a while_loop for converting StatelessRandomUniformV2 cause there is no registered converter for this op.\n",
            "WARNING:tensorflow:Using a while_loop for converting ImageProjectiveTransformV3 cause there is no registered converter for this op.\n",
            "WARNING:tensorflow:Using a while_loop for converting RngReadAndSkip cause there is no registered converter for this op.\n",
            "WARNING:tensorflow:Using a while_loop for converting Bitcast cause there is no registered converter for this op.\n",
            "WARNING:tensorflow:Using a while_loop for converting Bitcast cause there is no registered converter for this op.\n",
            "WARNING:tensorflow:Using a while_loop for converting StatelessRandomUniformV2 cause there is no registered converter for this op.\n",
            "WARNING:tensorflow:Using a while_loop for converting ImageProjectiveTransformV3 cause there is no registered converter for this op.\n",
            "WARNING:tensorflow:Using a while_loop for converting RngReadAndSkip cause there is no registered converter for this op.\n",
            "WARNING:tensorflow:Using a while_loop for converting Bitcast cause there is no registered converter for this op.\n",
            "WARNING:tensorflow:Using a while_loop for converting Bitcast cause there is no registered converter for this op.\n",
            "WARNING:tensorflow:Using a while_loop for converting StatelessRandomUniformV2 cause there is no registered converter for this op.\n",
            "WARNING:tensorflow:Using a while_loop for converting RngReadAndSkip cause there is no registered converter for this op.\n",
            "WARNING:tensorflow:Using a while_loop for converting Bitcast cause there is no registered converter for this op.\n",
            "WARNING:tensorflow:Using a while_loop for converting Bitcast cause there is no registered converter for this op.\n",
            "WARNING:tensorflow:Using a while_loop for converting StatelessRandomUniformV2 cause there is no registered converter for this op.\n",
            "WARNING:tensorflow:Using a while_loop for converting ImageProjectiveTransformV3 cause there is no registered converter for this op.\n",
            "WARNING:tensorflow:Using a while_loop for converting RngReadAndSkip cause there is no registered converter for this op.\n",
            "WARNING:tensorflow:Using a while_loop for converting Bitcast cause there is no registered converter for this op.\n",
            "WARNING:tensorflow:Using a while_loop for converting Bitcast cause there is no registered converter for this op.\n",
            "WARNING:tensorflow:Using a while_loop for converting StatelessRandomUniformV2 cause there is no registered converter for this op.\n",
            "WARNING:tensorflow:Using a while_loop for converting ImageProjectiveTransformV3 cause there is no registered converter for this op.\n",
            "WARNING:tensorflow:Using a while_loop for converting RngReadAndSkip cause there is no registered converter for this op.\n",
            "WARNING:tensorflow:Using a while_loop for converting Bitcast cause there is no registered converter for this op.\n",
            "WARNING:tensorflow:Using a while_loop for converting Bitcast cause there is no registered converter for this op.\n",
            "WARNING:tensorflow:Using a while_loop for converting StatelessRandomUniformV2 cause there is no registered converter for this op.\n",
            "WARNING:tensorflow:Using a while_loop for converting RngReadAndSkip cause there is no registered converter for this op.\n",
            "WARNING:tensorflow:Using a while_loop for converting Bitcast cause there is no registered converter for this op.\n",
            "WARNING:tensorflow:Using a while_loop for converting Bitcast cause there is no registered converter for this op.\n",
            "WARNING:tensorflow:Using a while_loop for converting StatelessRandomUniformV2 cause there is no registered converter for this op.\n",
            "WARNING:tensorflow:Using a while_loop for converting ImageProjectiveTransformV3 cause there is no registered converter for this op.\n"
          ]
        },
        {
          "output_type": "stream",
          "name": "stdout",
          "text": [
            "20/20 [==============================] - 125s 3s/step - loss: 0.3387 - accuracy: 0.9101 - val_loss: 3.6269 - val_accuracy: 0.3546 - lr: 0.0010\n",
            "Epoch 2/10\n",
            "20/20 [==============================] - 67s 3s/step - loss: 0.2540 - accuracy: 0.9305 - val_loss: 3.1229 - val_accuracy: 0.4020 - lr: 0.0010\n",
            "Epoch 3/10\n",
            "20/20 [==============================] - 66s 3s/step - loss: 0.2214 - accuracy: 0.9256 - val_loss: 9.1229 - val_accuracy: 0.1209 - lr: 0.0010\n",
            "Epoch 4/10\n",
            "20/20 [==============================] - 70s 3s/step - loss: 0.2505 - accuracy: 0.9272 - val_loss: 7.6166 - val_accuracy: 0.2663 - lr: 0.0010\n",
            "Epoch 5/10\n",
            "20/20 [==============================] - 66s 3s/step - loss: 0.1634 - accuracy: 0.9477 - val_loss: 2.3216 - val_accuracy: 0.6373 - lr: 0.0010\n",
            "Epoch 6/10\n",
            "20/20 [==============================] - 69s 3s/step - loss: 0.1108 - accuracy: 0.9681 - val_loss: 1.6950 - val_accuracy: 0.7222 - lr: 0.0010\n",
            "Epoch 7/10\n",
            "20/20 [==============================] - 65s 3s/step - loss: 0.1234 - accuracy: 0.9632 - val_loss: 3.0764 - val_accuracy: 0.5196 - lr: 0.0010\n",
            "Epoch 8/10\n",
            "20/20 [==============================] - 69s 3s/step - loss: 0.2319 - accuracy: 0.9264 - val_loss: 9.4624 - val_accuracy: 0.0752 - lr: 0.0010\n",
            "Epoch 9/10\n",
            "20/20 [==============================] - ETA: 0s - loss: 0.2176 - accuracy: 0.9362\n",
            "Epoch 9: ReduceLROnPlateau reducing learning rate to 0.00010000000474974513.\n",
            "20/20 [==============================] - 66s 3s/step - loss: 0.2176 - accuracy: 0.9362 - val_loss: 5.3882 - val_accuracy: 0.2892 - lr: 0.0010\n",
            "Epoch 10/10\n",
            "20/20 [==============================] - 69s 3s/step - loss: 0.1049 - accuracy: 0.9648 - val_loss: 1.3064 - val_accuracy: 0.7239 - lr: 1.0000e-04\n",
            "10/10 [==============================] - 5s 465ms/step - loss: 1.3064 - accuracy: 0.7239\n",
            "Results for fold 2\n",
            "Found 1223 files belonging to 30 classes.\n",
            "Found 612 files belonging to 30 classes.\n",
            "Epoch 1/10\n",
            "20/20 [==============================] - 64s 3s/step - loss: 0.0905 - accuracy: 0.9697 - val_loss: 0.4137 - val_accuracy: 0.8856 - lr: 1.0000e-04\n",
            "Epoch 2/10\n",
            "20/20 [==============================] - 66s 3s/step - loss: 0.0656 - accuracy: 0.9820 - val_loss: 0.3940 - val_accuracy: 0.8922 - lr: 1.0000e-04\n",
            "Epoch 3/10\n",
            "20/20 [==============================] - 65s 3s/step - loss: 0.0502 - accuracy: 0.9861 - val_loss: 0.4710 - val_accuracy: 0.8807 - lr: 1.0000e-04\n",
            "Epoch 4/10\n",
            "20/20 [==============================] - 65s 3s/step - loss: 0.0347 - accuracy: 0.9943 - val_loss: 0.3523 - val_accuracy: 0.8987 - lr: 1.0000e-04\n",
            "Epoch 5/10\n",
            "20/20 [==============================] - 65s 3s/step - loss: 0.0358 - accuracy: 0.9943 - val_loss: 0.3131 - val_accuracy: 0.8971 - lr: 1.0000e-04\n",
            "Epoch 6/10\n",
            "20/20 [==============================] - 69s 3s/step - loss: 0.0341 - accuracy: 0.9935 - val_loss: 0.2398 - val_accuracy: 0.9183 - lr: 1.0000e-04\n",
            "Epoch 7/10\n",
            "20/20 [==============================] - 65s 3s/step - loss: 0.0282 - accuracy: 0.9935 - val_loss: 0.1666 - val_accuracy: 0.9412 - lr: 1.0000e-04\n",
            "Epoch 8/10\n",
            "20/20 [==============================] - 69s 3s/step - loss: 0.0264 - accuracy: 0.9951 - val_loss: 0.1501 - val_accuracy: 0.9510 - lr: 1.0000e-04\n",
            "Epoch 9/10\n",
            "20/20 [==============================] - 65s 3s/step - loss: 0.0359 - accuracy: 0.9910 - val_loss: 0.3398 - val_accuracy: 0.9118 - lr: 1.0000e-04\n",
            "Epoch 10/10\n",
            "20/20 [==============================] - 69s 3s/step - loss: 0.0262 - accuracy: 0.9951 - val_loss: 0.2033 - val_accuracy: 0.9395 - lr: 1.0000e-04\n",
            "10/10 [==============================] - 6s 614ms/step - loss: 0.2033 - accuracy: 0.9395\n",
            "Results for fold 3\n",
            "Found 1224 files belonging to 30 classes.\n",
            "Found 611 files belonging to 30 classes.\n",
            "Epoch 1/10\n",
            "20/20 [==============================] - 71s 3s/step - loss: 0.0377 - accuracy: 0.9926 - val_loss: 0.1788 - val_accuracy: 0.9509 - lr: 1.0000e-04\n",
            "Epoch 2/10\n",
            "20/20 [==============================] - 63s 3s/step - loss: 0.0349 - accuracy: 0.9951 - val_loss: 0.1758 - val_accuracy: 0.9574 - lr: 1.0000e-04\n",
            "Epoch 3/10\n",
            "20/20 [==============================] - 65s 3s/step - loss: 0.0219 - accuracy: 0.9967 - val_loss: 0.1766 - val_accuracy: 0.9509 - lr: 1.0000e-04\n",
            "Epoch 4/10\n",
            "20/20 [==============================] - 65s 3s/step - loss: 0.0223 - accuracy: 0.9959 - val_loss: 0.1985 - val_accuracy: 0.9493 - lr: 1.0000e-04\n",
            "Epoch 5/10\n",
            "20/20 [==============================] - ETA: 0s - loss: 0.0178 - accuracy: 0.9967\n",
            "Epoch 5: ReduceLROnPlateau reducing learning rate to 1.0000000474974514e-05.\n",
            "20/20 [==============================] - 65s 3s/step - loss: 0.0178 - accuracy: 0.9967 - val_loss: 0.2168 - val_accuracy: 0.9362 - lr: 1.0000e-04\n",
            "Epoch 6/10\n",
            "20/20 [==============================] - 65s 3s/step - loss: 0.0199 - accuracy: 0.9984 - val_loss: 0.2114 - val_accuracy: 0.9313 - lr: 1.0000e-05\n",
            "Epoch 7/10\n",
            "20/20 [==============================] - 65s 3s/step - loss: 0.0394 - accuracy: 0.9935 - val_loss: 0.2055 - val_accuracy: 0.9411 - lr: 1.0000e-05\n",
            "Epoch 8/10\n",
            "20/20 [==============================] - ETA: 0s - loss: 0.0202 - accuracy: 0.9967\n",
            "Epoch 8: ReduceLROnPlateau reducing learning rate to 1e-05.\n",
            "20/20 [==============================] - 64s 3s/step - loss: 0.0202 - accuracy: 0.9967 - val_loss: 0.2004 - val_accuracy: 0.9378 - lr: 1.0000e-05\n",
            "Epoch 9/10\n",
            "20/20 [==============================] - 65s 3s/step - loss: 0.0174 - accuracy: 0.9967 - val_loss: 0.1910 - val_accuracy: 0.9427 - lr: 1.0000e-05\n",
            "Epoch 10/10\n",
            "20/20 [==============================] - 69s 3s/step - loss: 0.0181 - accuracy: 0.9992 - val_loss: 0.1869 - val_accuracy: 0.9427 - lr: 1.0000e-05\n",
            "10/10 [==============================] - 5s 459ms/step - loss: 0.1869 - accuracy: 0.9427\n"
          ]
        }
      ]
    },
    {
      "cell_type": "code",
      "source": [
        "from sklearn.metrics import classification_report, roc_curve, roc_auc_score\n",
        "import pandas as pd\n",
        "import plotly.graph_objects as go\n",
        "import plotly.express as px\n",
        "import matplotlib.pyplot as plt"
      ],
      "metadata": {
        "id": "jJurHyH7k6Ny"
      },
      "execution_count": 159,
      "outputs": []
    },
    {
      "cell_type": "code",
      "source": [
        "plt.title(\"Loss\", fontdict={'fontsize':18})\n",
        "plt.plot(history.history['loss'],label='train')\n",
        "plt.plot(history.history['val_loss'],label='test')\n",
        "plt.legend()\n",
        "plt.show()"
      ],
      "metadata": {
        "id": "TOQlD_ZTko2y",
        "colab": {
          "base_uri": "https://localhost:8080/",
          "height": 285
        },
        "outputId": "b4678efe-5026-4368-d6d2-997d3e75586e"
      },
      "execution_count": 160,
      "outputs": [
        {
          "output_type": "display_data",
          "data": {
            "text/plain": [
              "<Figure size 432x288 with 1 Axes>"
            ],
            "image/png": "[encoded data removed]"
          },
          "metadata": {
            "needs_background": "light"
          }
        }
      ]
    },
    {
      "cell_type": "code",
      "source": [
        "plt.title(\"Accuracy\", fontdict={'fontsize':18})\n",
        "plt.plot(history.history['accuracy'],label='train')\n",
        "plt.plot(history.history['val_accuracy'],label='test')\n",
        "plt.legend()\n",
        "plt.show()"
      ],
      "metadata": {
        "id": "7pwYMz2Bkyt5",
        "colab": {
          "base_uri": "https://localhost:8080/",
          "height": 285
        },
        "outputId": "e05db59f-8b05-4e4a-ae8e-8f42210f92ce"
      },
      "execution_count": 161,
      "outputs": [
        {
          "output_type": "display_data",
          "data": {
            "text/plain": [
              "<Figure size 432x288 with 1 Axes>"
            ],
            "image/png": "[encoded data removed]"
          },
          "metadata": {
            "needs_background": "light"
          }
        }
      ]
    },
    {
      "cell_type": "code",
      "source": [
        "Y_train = []\n",
        "X_train = []\n",
        "for data in train_generator:\n",
        "    X_train.extend(data[0].numpy())\n",
        "    Y_train.extend(data[1].numpy())\n",
        "Y_train = np.array(Y_train)\n",
        "X_train = np.array(X_train)"
      ],
      "metadata": {
        "id": "93F3DoWUk7Oa"
      },
      "execution_count": 162,
      "outputs": []
    },
    {
      "cell_type": "code",
      "source": [
        "y_train_pred_prob = ensemble_model.predict(X_train)\n",
        "y_train_pred = [np.argmax(i) for i in y_train_pred_prob]"
      ],
      "metadata": {
        "id": "IAbUM7JblMA6",
        "colab": {
          "base_uri": "https://localhost:8080/"
        },
        "outputId": "a62a892e-cafb-4b16-becf-23361f223e76"
      },
      "execution_count": 163,
      "outputs": [
        {
          "output_type": "stream",
          "name": "stdout",
          "text": [
            "39/39 [==============================] - 11s 197ms/step\n"
          ]
        }
      ]
    },
    {
      "cell_type": "code",
      "source": [
        "y_train_pred_prob.shape"
      ],
      "metadata": {
        "id": "ubgm_cWxlUrD",
        "colab": {
          "base_uri": "https://localhost:8080/"
        },
        "outputId": "da8eefe3-881d-4311-edc4-ce3963791b77"
      },
      "execution_count": 164,
      "outputs": [
        {
          "output_type": "execute_result",
          "data": {
            "text/plain": [
              "(1224, 30)"
            ]
          },
          "metadata": {},
          "execution_count": 164
        }
      ]
    },
    {
      "cell_type": "code",
      "source": [
        "#function to plot roc-auc curve\n",
        "def roc_auc_curve(y_scores, y_true):\n",
        "    # One hot encode the labels in order to plot them\n",
        "    y_onehot = pd.get_dummies(y_true, columns=classLabels)\n",
        "\n",
        "    # Create an empty figure, and iteratively add new lines\n",
        "    # every time we compute a new class\n",
        "    fig = go.Figure()\n",
        "    fig.add_shape(\n",
        "        type='line', line=dict(dash='dash'),\n",
        "        x0=0, x1=1, y0=0, y1=1\n",
        "    )\n",
        "\n",
        "    for i in range(y_scores.shape[1]):\n",
        "        y_true = y_onehot.iloc[:, i]\n",
        "        y_score = y_scores[:, i]\n",
        "\n",
        "        fpr, tpr, _ = roc_curve(y_true, y_score)\n",
        "        auc_score = roc_auc_score(y_true, y_score)\n",
        "\n",
        "        name = f\"{classLabels[i]} (AUC={auc_score:.2f})\"\n",
        "        fig.add_trace(go.Scatter(x=fpr, y=tpr, name=name, mode='lines'))\n",
        "\n",
        "    fig.update_layout(\n",
        "        title=\"ROC Curve\",\n",
        "        xaxis_title='False Positive Rate',\n",
        "        yaxis_title='True Positive Rate',\n",
        "        yaxis=dict(scaleanchor=\"x\", scaleratio=1),\n",
        "        xaxis=dict(constrain='domain'),\n",
        "        width=900, height=800\n",
        "    )\n",
        "    \n",
        "    return fig"
      ],
      "metadata": {
        "id": "A5Ywk5jrlVYi"
      },
      "execution_count": 165,
      "outputs": []
    },
    {
      "cell_type": "code",
      "source": [
        "import seaborn as sb"
      ],
      "metadata": {
        "id": "YlYX57A4lj1J"
      },
      "execution_count": 166,
      "outputs": []
    },
    {
      "cell_type": "code",
      "source": [
        "plt.figure(figsize=(25,7))\n",
        "sb.heatmap(tf.math.confusion_matrix(labels=Y_train,predictions=y_train_pred),annot=True,fmt='.1f', cmap='hot_r')\n",
        "plt.xlabel('Predicted Values')\n",
        "plt.ylabel('Actual Values')\n",
        "plt.title('Confusion Matrix (Training)')\n",
        "plt.tight_layout()\n",
        "plt.show()"
      ],
      "metadata": {
        "id": "sZZQfWeDl9wq",
        "colab": {
          "base_uri": "https://localhost:8080/",
          "height": 490
        },
        "outputId": "c7246d2c-b4b3-44fb-ffa0-6e1abe9d7ea6"
      },
      "execution_count": 167,
      "outputs": [
        {
          "output_type": "display_data",
          "data": {
            "text/plain": [
              "<Figure size 1800x504 with 2 Axes>"
            ],
            "image/png": "[encoded data removed]"
          },
          "metadata": {
            "needs_background": "light"
          }
        }
      ]
    },
    {
      "cell_type": "code",
      "source": [
        "print(\"Classification Report for Training\")\n",
        "print(classification_report(Y_train, y_train_pred))"
      ],
      "metadata": {
        "id": "iLpnqOcGmEks",
        "colab": {
          "base_uri": "https://localhost:8080/"
        },
        "outputId": "6fdce0d2-d30a-4158-ef05-1f96cde81229"
      },
      "execution_count": 168,
      "outputs": [
        {
          "output_type": "stream",
          "name": "stdout",
          "text": [
            "Classification Report for Training\n",
            "              precision    recall  f1-score   support\n",
            "\n",
            "           0       1.00      0.97      0.99        34\n",
            "           1       1.00      0.91      0.95        81\n",
            "           2       0.97      1.00      0.99        37\n",
            "           3       0.80      1.00      0.89        40\n",
            "           4       0.99      1.00      0.99        69\n",
            "           5       1.00      0.78      0.88        23\n",
            "           6       1.00      1.00      1.00        49\n",
            "           7       0.97      0.97      0.97        38\n",
            "           8       0.92      1.00      0.96        33\n",
            "           9       1.00      0.79      0.88        42\n",
            "          10       1.00      0.97      0.98        29\n",
            "          11       1.00      0.96      0.98        47\n",
            "          12       0.71      1.00      0.83        42\n",
            "          13       1.00      1.00      1.00        64\n",
            "          14       1.00      0.96      0.98        52\n",
            "          15       1.00      1.00      1.00        37\n",
            "          16       0.93      0.95      0.94        40\n",
            "          17       1.00      0.61      0.76        41\n",
            "          18       0.84      1.00      0.92        27\n",
            "          19       1.00      1.00      1.00        35\n",
            "          20       1.00      0.75      0.86        32\n",
            "          21       0.97      1.00      0.98        32\n",
            "          22       0.98      1.00      0.99        40\n",
            "          23       0.80      1.00      0.89        44\n",
            "          24       0.98      1.00      0.99        52\n",
            "          25       1.00      0.97      0.99        39\n",
            "          26       1.00      1.00      1.00        26\n",
            "          27       0.97      1.00      0.99        37\n",
            "          28       0.97      0.97      0.97        38\n",
            "          29       1.00      0.96      0.98        24\n",
            "\n",
            "    accuracy                           0.95      1224\n",
            "   macro avg       0.96      0.95      0.95      1224\n",
            "weighted avg       0.96      0.95      0.95      1224\n",
            "\n"
          ]
        }
      ]
    },
    {
      "cell_type": "code",
      "source": [
        "roc_auc_curve(y_train_pred_prob, Y_train)\n",
        "X_test = []\n",
        "y_test = []\n",
        "for data in validation_generator:\n",
        "    X_test.extend(data[0].numpy())\n",
        "    y_test.extend(data[1].numpy())\n",
        "X_test = np.array(X_test)\n",
        "y_test = np.array(y_test)"
      ],
      "metadata": {
        "id": "mu3MhzQnmKR5"
      },
      "execution_count": 169,
      "outputs": []
    },
    {
      "cell_type": "code",
      "source": [
        "y_test_pred_prob = ensemble_model.predict(X_test)\n",
        "y_test_pred = [np.argmax(i) for i in y_test_pred_prob]"
      ],
      "metadata": {
        "id": "peCIJs3KmT5a",
        "colab": {
          "base_uri": "https://localhost:8080/"
        },
        "outputId": "444a7f8e-68ec-4046-ce42-0694a4fec5c1"
      },
      "execution_count": 170,
      "outputs": [
        {
          "output_type": "stream",
          "name": "stdout",
          "text": [
            "20/20 [==============================] - 4s 196ms/step\n"
          ]
        }
      ]
    },
    {
      "cell_type": "code",
      "source": [
        "np.unique(y_test)"
      ],
      "metadata": {
        "id": "an7a0Ymplmh5",
        "colab": {
          "base_uri": "https://localhost:8080/"
        },
        "outputId": "af0c52f7-ff27-4b45-8553-5293311ca134"
      },
      "execution_count": 171,
      "outputs": [
        {
          "output_type": "execute_result",
          "data": {
            "text/plain": [
              "array([ 0,  1,  2,  3,  4,  5,  6,  7,  8,  9, 10, 11, 12, 13, 14, 15, 16,\n",
              "       17, 18, 19, 20, 21, 22, 23, 24, 25, 26, 27, 28, 29], dtype=int32)"
            ]
          },
          "metadata": {},
          "execution_count": 171
        }
      ]
    },
    {
      "cell_type": "code",
      "source": [
        "plt.figure(figsize=(25,7))\n",
        "sb.heatmap(tf.math.confusion_matrix(labels=y_test,predictions=y_test_pred),annot=True,fmt='.1f', cmap='hot_r')\n",
        "plt.xlabel('Predicted Values')\n",
        "plt.ylabel('Actual Values')\n",
        "plt.title('Confusion Matrix')\n",
        "plt.tight_layout()\n",
        "plt.show()"
      ],
      "metadata": {
        "id": "AxCwvhHVk-vY",
        "colab": {
          "base_uri": "https://localhost:8080/",
          "height": 490
        },
        "outputId": "245e97da-a0f5-4a16-da0f-ef1207f460f3"
      },
      "execution_count": 172,
      "outputs": [
        {
          "output_type": "display_data",
          "data": {
            "text/plain": [
              "<Figure size 1800x504 with 2 Axes>"
            ],
            "image/png": "[encoded data removed]"
          },
          "metadata": {
            "needs_background": "light"
          }
        }
      ]
    },
    {
      "cell_type": "code",
      "source": [
        "print(\"Classification Report for Test\")\n",
        "print(classification_report(y_test, y_test_pred))"
      ],
      "metadata": {
        "id": "LFm0u6zSmaGj",
        "colab": {
          "base_uri": "https://localhost:8080/"
        },
        "outputId": "528fc8d5-a52b-4e21-a879-b65ebdbf3f90"
      },
      "execution_count": 173,
      "outputs": [
        {
          "output_type": "stream",
          "name": "stdout",
          "text": [
            "Classification Report for Test\n",
            "              precision    recall  f1-score   support\n",
            "\n",
            "           0       1.00      1.00      1.00        16\n",
            "           1       1.00      0.93      0.96        41\n",
            "           2       1.00      1.00      1.00        19\n",
            "           3       0.83      1.00      0.91        20\n",
            "           4       1.00      1.00      1.00        34\n",
            "           5       1.00      0.64      0.78        11\n",
            "           6       0.96      1.00      0.98        25\n",
            "           7       1.00      1.00      1.00        19\n",
            "           8       0.88      0.82      0.85        17\n",
            "           9       1.00      0.86      0.92        21\n",
            "          10       1.00      1.00      1.00        14\n",
            "          11       1.00      0.88      0.93        24\n",
            "          12       0.67      1.00      0.80        20\n",
            "          13       1.00      1.00      1.00        33\n",
            "          14       0.96      0.92      0.94        25\n",
            "          15       1.00      1.00      1.00        19\n",
            "          16       1.00      0.90      0.95        20\n",
            "          17       1.00      0.52      0.69        21\n",
            "          18       0.81      1.00      0.90        13\n",
            "          19       0.94      1.00      0.97        17\n",
            "          20       1.00      0.88      0.93        16\n",
            "          21       0.89      1.00      0.94        16\n",
            "          22       0.91      1.00      0.95        21\n",
            "          23       0.78      1.00      0.88        21\n",
            "          24       0.90      1.00      0.95        27\n",
            "          25       1.00      1.00      1.00        19\n",
            "          26       1.00      1.00      1.00        13\n",
            "          27       1.00      1.00      1.00        19\n",
            "          28       1.00      1.00      1.00        18\n",
            "          29       1.00      0.75      0.86        12\n",
            "\n",
            "    accuracy                           0.94       611\n",
            "   macro avg       0.95      0.94      0.94       611\n",
            "weighted avg       0.95      0.94      0.94       611\n",
            "\n"
          ]
        }
      ]
    },
    {
      "cell_type": "code",
      "source": [
        "roc_auc_curve(y_test_pred_prob, y_test)"
      ],
      "metadata": {
        "id": "LGL2Ta5xmf5r",
        "colab": {
          "base_uri": "https://localhost:8080/",
          "height": 817
        },
        "outputId": "3595cd10-5eca-46ef-f270-1f22cbc2898d"
      },
      "execution_count": 174,
      "outputs": [
        {
          "output_type": "display_data",
          "data": {
            "text/html": [
              "<html>\n",
              "<head><meta charset=\"utf-8\" /></head>\n",
              "<body>\n",
              "    <div>            <script src=\"https://cdnjs.cloudflare.com/ajax/libs/mathjax/2.7.5/MathJax.js?config=TeX-AMS-MML_SVG\"></script><script type=\"text/javascript\">if (window.MathJax) {MathJax.Hub.Config({SVG: {font: \"STIX-Web\"}});}</script>                <script type=\"text/javascript\">window.PlotlyConfig = {MathJaxConfig: 'local'};</script>\n",
              "        <script src=\"https://cdn.plot.ly/plotly-2.8.3.min.js\"></script>                <div id=\"4c31d90c-5ae4-420b-8f39-3a7b91ebe625\" class=\"plotly-graph-div\" style=\"height:800px; width:900px;\"></div>            <script type=\"text/javascript\">                                    window.PLOTLYENV=window.PLOTLYENV || {};                                    if (document.getElementById(\"4c31d90c-5ae4-420b-8f39-3a7b91ebe625\")) {                    Plotly.newPlot(                        \"4c31d90c-5ae4-420b-8f39-3a7b91ebe625\",                        [{\"mode\":\"lines\",\"name\":\"Alpinia Galanga (Rasna) (AUC=1.00)\",\"x\":[0.0,0.0,0.0,1.0],\"y\":[0.0,0.0625,1.0,1.0],\"type\":\"scatter\"},{\"mode\":\"lines\",\"name\":\"Amaranthus Viridis (Arive-Dantu) (AUC=1.00)\",\"x\":[0.0,0.0,0.0,0.0017543859649122807,0.0017543859649122807,0.14210526315789473,0.14210526315789473,1.0],\"y\":[0.0,0.024390243902439025,0.926829268292683,0.926829268292683,0.975609756097561,0.975609756097561,1.0,1.0],\"type\":\"scatter\"},{\"mode\":\"lines\",\"name\":\"Artocarpus Heterophyllus (Jackfruit) (AUC=1.00)\",\"x\":[0.0,0.0,0.0,1.0],\"y\":[0.0,0.21052631578947367,1.0,1.0],\"type\":\"scatter\"},{\"mode\":\"lines\",\"name\":\"Azadirachta Indica (Neem) (AUC=1.00)\",\"x\":[0.0,0.0,0.0,0.0,1.0],\"y\":[0.0,0.6,0.7,1.0,1.0],\"type\":\"scatter\"},{\"mode\":\"lines\",\"name\":\"Basella Alba (Basale) (AUC=1.00)\",\"x\":[0.0,0.0,0.0,0.0,0.0,0.0,0.0,1.0],\"y\":[0.0,0.35294117647058826,0.5294117647058824,0.5882352941176471,0.6176470588235294,0.6764705882352942,1.0,1.0],\"type\":\"scatter\"},{\"mode\":\"lines\",\"name\":\"Brassica Juncea (Indian Mustard) (AUC=1.00)\",\"x\":[0.0,0.0,0.0,0.0016666666666666668,0.0016666666666666668,1.0],\"y\":[0.0,0.09090909090909091,0.9090909090909091,0.9090909090909091,1.0,1.0],\"type\":\"scatter\"},{\"mode\":\"lines\",\"name\":\"Carissa Carandas (Karanda) (AUC=1.00)\",\"x\":[0.0,0.0,0.0,0.0,0.0,0.0,1.0],\"y\":[0.0,0.12,0.28,0.32,0.4,1.0,1.0],\"type\":\"scatter\"},{\"mode\":\"lines\",\"name\":\"Citrus Limon (Lemon) (AUC=1.00)\",\"x\":[0.0,0.0,0.0,1.0],\"y\":[0.0,0.21052631578947367,1.0,1.0],\"type\":\"scatter\"},{\"mode\":\"lines\",\"name\":\"Ficus Auriculata (Roxburgh fig) (AUC=1.00)\",\"x\":[0.0,0.0,0.0,0.0016835016835016834,0.0016835016835016834,0.005050505050505051,0.005050505050505051,0.008417508417508417,0.008417508417508417,0.016835016835016835,0.016835016835016835,1.0],\"y\":[0.0,0.058823529411764705,0.7058823529411765,0.7058823529411765,0.8235294117647058,0.8235294117647058,0.8823529411764706,0.8823529411764706,0.9411764705882353,0.9411764705882353,1.0,1.0],\"type\":\"scatter\"},{\"mode\":\"lines\",\"name\":\"Ficus Religiosa (Peepal Tree) (AUC=1.00)\",\"x\":[0.0,0.0,0.0,0.001694915254237288,0.001694915254237288,1.0],\"y\":[0.0,0.047619047619047616,0.9047619047619048,0.9047619047619048,1.0,1.0],\"type\":\"scatter\"},{\"mode\":\"lines\",\"name\":\"Hibiscus Rosa-sinensis (AUC=1.00)\",\"x\":[0.0,0.0,0.0,1.0],\"y\":[0.0,0.07142857142857142,1.0,1.0],\"type\":\"scatter\"},{\"mode\":\"lines\",\"name\":\"Jasminum (Jasmine) (AUC=1.00)\",\"x\":[0.0,0.0,0.0,1.0],\"y\":[0.0,0.041666666666666664,1.0,1.0],\"type\":\"scatter\"},{\"mode\":\"lines\",\"name\":\"Mangifera Indica (Mango) (AUC=1.00)\",\"x\":[0.0,0.0,0.0,0.0,0.00338409475465313,0.00338409475465313,1.0],\"y\":[0.0,0.4,0.6,0.95,0.95,1.0,1.0],\"type\":\"scatter\"},{\"mode\":\"lines\",\"name\":\"Mentha (Mint) (AUC=1.00)\",\"x\":[0.0,0.0,0.0,1.0],\"y\":[0.0,0.030303030303030304,1.0,1.0],\"type\":\"scatter\"},{\"mode\":\"lines\",\"name\":\"Moringa Oleifera (Drumstick) (AUC=1.00)\",\"x\":[0.0,0.0,0.0,0.0017064846416382253,0.0017064846416382253,1.0],\"y\":[0.0,0.04,0.88,0.88,1.0,1.0],\"type\":\"scatter\"},{\"mode\":\"lines\",\"name\":\"Muntingia Calabura (Jamaica Cherry-Gasagase) (AUC=1.00)\",\"x\":[0.0,0.0,0.0,1.0],\"y\":[0.0,0.8947368421052632,1.0,1.0],\"type\":\"scatter\"},{\"mode\":\"lines\",\"name\":\"Murraya Koenigii (Curry) (AUC=1.00)\",\"x\":[0.0,0.0,0.0,0.001692047377326565,0.001692047377326565,0.01692047377326565,0.01692047377326565,1.0],\"y\":[0.0,0.05,0.9,0.9,0.95,0.95,1.0,1.0],\"type\":\"scatter\"},{\"mode\":\"lines\",\"name\":\"Nerium Oleander (Oleander) (AUC=1.00)\",\"x\":[0.0,0.0,0.0,0.001694915254237288,0.001694915254237288,0.030508474576271188,0.030508474576271188,0.03728813559322034,0.03728813559322034,1.0],\"y\":[0.0,0.047619047619047616,0.8095238095238095,0.8095238095238095,0.9047619047619048,0.9047619047619048,0.9523809523809523,0.9523809523809523,1.0,1.0],\"type\":\"scatter\"},{\"mode\":\"lines\",\"name\":\"Nyctanthes Arbor-tristis (Parijata) (AUC=1.00)\",\"x\":[0.0,0.0,0.0,0.0016722408026755853,0.0016722408026755853,1.0],\"y\":[0.0,0.6153846153846154,0.9230769230769231,0.9230769230769231,1.0,1.0],\"type\":\"scatter\"},{\"mode\":\"lines\",\"name\":\"Ocimum Tenuiflorum (Tulsi) (AUC=1.00)\",\"x\":[0.0,0.0,0.0,0.0,0.0,1.0],\"y\":[0.0,0.17647058823529413,0.29411764705882354,0.5294117647058824,1.0,1.0],\"type\":\"scatter\"},{\"mode\":\"lines\",\"name\":\"Piper Betle (Betel) (AUC=1.00)\",\"x\":[0.0,0.0,0.0,0.018487394957983194,0.018487394957983194,1.0],\"y\":[0.0,0.0625,0.9375,0.9375,1.0,1.0],\"type\":\"scatter\"},{\"mode\":\"lines\",\"name\":\"Plectranthus Amboinicus (Mexican Mint) (AUC=1.00)\",\"x\":[0.0,0.0,0.0,0.0,0.0,0.0,1.0],\"y\":[0.0,0.1875,0.3125,0.5625,0.6875,1.0,1.0],\"type\":\"scatter\"},{\"mode\":\"lines\",\"name\":\"Pongamia Pinnata (Indian Beech) (AUC=1.00)\",\"x\":[0.0,0.0,0.0,1.0],\"y\":[0.0,0.8571428571428571,1.0,1.0],\"type\":\"scatter\"},{\"mode\":\"lines\",\"name\":\"Psidium Guajava (Guava) (AUC=1.00)\",\"x\":[0.0,0.0,1.0],\"y\":[0.0,1.0,1.0],\"type\":\"scatter\"},{\"mode\":\"lines\",\"name\":\"Punica Granatum (Pomegranate) (AUC=1.00)\",\"x\":[0.0,0.0,0.0,1.0],\"y\":[0.0,0.07407407407407407,1.0,1.0],\"type\":\"scatter\"},{\"mode\":\"lines\",\"name\":\"Santalum Album (Sandalwood) (AUC=1.00)\",\"x\":[0.0,0.0,0.0,1.0],\"y\":[0.0,0.05263157894736842,1.0,1.0],\"type\":\"scatter\"},{\"mode\":\"lines\",\"name\":\"Syzygium Cumini (Jamun) (AUC=1.00)\",\"x\":[0.0,0.0,0.0,1.0],\"y\":[0.0,0.07692307692307693,1.0,1.0],\"type\":\"scatter\"},{\"mode\":\"lines\",\"name\":\"Syzygium Jambos (Rose Apple) (AUC=1.00)\",\"x\":[0.0,0.0,0.0,0.0,0.0,0.0,1.0],\"y\":[0.0,0.05263157894736842,0.15789473684210525,0.2631578947368421,0.3684210526315789,1.0,1.0],\"type\":\"scatter\"},{\"mode\":\"lines\",\"name\":\"Tabernaemontana Divaricata (Crape Jasmine) (AUC=1.00)\",\"x\":[0.0,0.0,0.0,0.0,0.0,1.0],\"y\":[0.0,0.05555555555555555,0.1111111111111111,0.2222222222222222,1.0,1.0],\"type\":\"scatter\"},{\"mode\":\"lines\",\"name\":\"Trigonella Foenum-graecum (Fenugreek) (AUC=1.00)\",\"x\":[0.0,0.0,0.0,1.0],\"y\":[0.0,0.08333333333333333,1.0,1.0],\"type\":\"scatter\"}],                        {\"template\":{\"data\":{\"bar\":[{\"error_x\":{\"color\":\"#2a3f5f\"},\"error_y\":{\"color\":\"#2a3f5f\"},\"marker\":{\"line\":{\"color\":\"#E5ECF6\",\"width\":0.5},\"pattern\":{\"fillmode\":\"overlay\",\"size\":10,\"solidity\":0.2}},\"type\":\"bar\"}],\"barpolar\":[{\"marker\":{\"line\":{\"color\":\"#E5ECF6\",\"width\":0.5},\"pattern\":{\"fillmode\":\"overlay\",\"size\":10,\"solidity\":0.2}},\"type\":\"barpolar\"}],\"carpet\":[{\"aaxis\":{\"endlinecolor\":\"#2a3f5f\",\"gridcolor\":\"white\",\"linecolor\":\"white\",\"minorgridcolor\":\"white\",\"startlinecolor\":\"#2a3f5f\"},\"baxis\":{\"endlinecolor\":\"#2a3f5f\",\"gridcolor\":\"white\",\"linecolor\":\"white\",\"minorgridcolor\":\"white\",\"startlinecolor\":\"#2a3f5f\"},\"type\":\"carpet\"}],\"choropleth\":[{\"colorbar\":{\"outlinewidth\":0,\"ticks\":\"\"},\"type\":\"choropleth\"}],\"contour\":[{\"colorbar\":{\"outlinewidth\":0,\"ticks\":\"\"},\"colorscale\":[[0.0,\"#0d0887\"],[0.1111111111111111,\"#46039f\"],[0.2222222222222222,\"#7201a8\"],[0.3333333333333333,\"#9c179e\"],[0.4444444444444444,\"#bd3786\"],[0.5555555555555556,\"#d8576b\"],[0.6666666666666666,\"#ed7953\"],[0.7777777777777778,\"#fb9f3a\"],[0.8888888888888888,\"#fdca26\"],[1.0,\"#f0f921\"]],\"type\":\"contour\"}],\"contourcarpet\":[{\"colorbar\":{\"outlinewidth\":0,\"ticks\":\"\"},\"type\":\"contourcarpet\"}],\"heatmap\":[{\"colorbar\":{\"outlinewidth\":0,\"ticks\":\"\"},\"colorscale\":[[0.0,\"#0d0887\"],[0.1111111111111111,\"#46039f\"],[0.2222222222222222,\"#7201a8\"],[0.3333333333333333,\"#9c179e\"],[0.4444444444444444,\"#bd3786\"],[0.5555555555555556,\"#d8576b\"],[0.6666666666666666,\"#ed7953\"],[0.7777777777777778,\"#fb9f3a\"],[0.8888888888888888,\"#fdca26\"],[1.0,\"#f0f921\"]],\"type\":\"heatmap\"}],\"heatmapgl\":[{\"colorbar\":{\"outlinewidth\":0,\"ticks\":\"\"},\"colorscale\":[[0.0,\"#0d0887\"],[0.1111111111111111,\"#46039f\"],[0.2222222222222222,\"#7201a8\"],[0.3333333333333333,\"#9c179e\"],[0.4444444444444444,\"#bd3786\"],[0.5555555555555556,\"#d8576b\"],[0.6666666666666666,\"#ed7953\"],[0.7777777777777778,\"#fb9f3a\"],[0.8888888888888888,\"#fdca26\"],[1.0,\"#f0f921\"]],\"type\":\"heatmapgl\"}],\"histogram\":[{\"marker\":{\"pattern\":{\"fillmode\":\"overlay\",\"size\":10,\"solidity\":0.2}},\"type\":\"histogram\"}],\"histogram2d\":[{\"colorbar\":{\"outlinewidth\":0,\"ticks\":\"\"},\"colorscale\":[[0.0,\"#0d0887\"],[0.1111111111111111,\"#46039f\"],[0.2222222222222222,\"#7201a8\"],[0.3333333333333333,\"#9c179e\"],[0.4444444444444444,\"#bd3786\"],[0.5555555555555556,\"#d8576b\"],[0.6666666666666666,\"#ed7953\"],[0.7777777777777778,\"#fb9f3a\"],[0.8888888888888888,\"#fdca26\"],[1.0,\"#f0f921\"]],\"type\":\"histogram2d\"}],\"histogram2dcontour\":[{\"colorbar\":{\"outlinewidth\":0,\"ticks\":\"\"},\"colorscale\":[[0.0,\"#0d0887\"],[0.1111111111111111,\"#46039f\"],[0.2222222222222222,\"#7201a8\"],[0.3333333333333333,\"#9c179e\"],[0.4444444444444444,\"#bd3786\"],[0.5555555555555556,\"#d8576b\"],[0.6666666666666666,\"#ed7953\"],[0.7777777777777778,\"#fb9f3a\"],[0.8888888888888888,\"#fdca26\"],[1.0,\"#f0f921\"]],\"type\":\"histogram2dcontour\"}],\"mesh3d\":[{\"colorbar\":{\"outlinewidth\":0,\"ticks\":\"\"},\"type\":\"mesh3d\"}],\"parcoords\":[{\"line\":{\"colorbar\":{\"outlinewidth\":0,\"ticks\":\"\"}},\"type\":\"parcoords\"}],\"pie\":[{\"automargin\":true,\"type\":\"pie\"}],\"scatter\":[{\"marker\":{\"colorbar\":{\"outlinewidth\":0,\"ticks\":\"\"}},\"type\":\"scatter\"}],\"scatter3d\":[{\"line\":{\"colorbar\":{\"outlinewidth\":0,\"ticks\":\"\"}},\"marker\":{\"colorbar\":{\"outlinewidth\":0,\"ticks\":\"\"}},\"type\":\"scatter3d\"}],\"scattercarpet\":[{\"marker\":{\"colorbar\":{\"outlinewidth\":0,\"ticks\":\"\"}},\"type\":\"scattercarpet\"}],\"scattergeo\":[{\"marker\":{\"colorbar\":{\"outlinewidth\":0,\"ticks\":\"\"}},\"type\":\"scattergeo\"}],\"scattergl\":[{\"marker\":{\"colorbar\":{\"outlinewidth\":0,\"ticks\":\"\"}},\"type\":\"scattergl\"}],\"scattermapbox\":[{\"marker\":{\"colorbar\":{\"outlinewidth\":0,\"ticks\":\"\"}},\"type\":\"scattermapbox\"}],\"scatterpolar\":[{\"marker\":{\"colorbar\":{\"outlinewidth\":0,\"ticks\":\"\"}},\"type\":\"scatterpolar\"}],\"scatterpolargl\":[{\"marker\":{\"colorbar\":{\"outlinewidth\":0,\"ticks\":\"\"}},\"type\":\"scatterpolargl\"}],\"scatterternary\":[{\"marker\":{\"colorbar\":{\"outlinewidth\":0,\"ticks\":\"\"}},\"type\":\"scatterternary\"}],\"surface\":[{\"colorbar\":{\"outlinewidth\":0,\"ticks\":\"\"},\"colorscale\":[[0.0,\"#0d0887\"],[0.1111111111111111,\"#46039f\"],[0.2222222222222222,\"#7201a8\"],[0.3333333333333333,\"#9c179e\"],[0.4444444444444444,\"#bd3786\"],[0.5555555555555556,\"#d8576b\"],[0.6666666666666666,\"#ed7953\"],[0.7777777777777778,\"#fb9f3a\"],[0.8888888888888888,\"#fdca26\"],[1.0,\"#f0f921\"]],\"type\":\"surface\"}],\"table\":[{\"cells\":{\"fill\":{\"color\":\"#EBF0F8\"},\"line\":{\"color\":\"white\"}},\"header\":{\"fill\":{\"color\":\"#C8D4E3\"},\"line\":{\"color\":\"white\"}},\"type\":\"table\"}]},\"layout\":{\"annotationdefaults\":{\"arrowcolor\":\"#2a3f5f\",\"arrowhead\":0,\"arrowwidth\":1},\"autotypenumbers\":\"strict\",\"coloraxis\":{\"colorbar\":{\"outlinewidth\":0,\"ticks\":\"\"}},\"colorscale\":{\"diverging\":[[0,\"#8e0152\"],[0.1,\"#c51b7d\"],[0.2,\"#de77ae\"],[0.3,\"#f1b6da\"],[0.4,\"#fde0ef\"],[0.5,\"#f7f7f7\"],[0.6,\"#e6f5d0\"],[0.7,\"#b8e186\"],[0.8,\"#7fbc41\"],[0.9,\"#4d9221\"],[1,\"#276419\"]],\"sequential\":[[0.0,\"#0d0887\"],[0.1111111111111111,\"#46039f\"],[0.2222222222222222,\"#7201a8\"],[0.3333333333333333,\"#9c179e\"],[0.4444444444444444,\"#bd3786\"],[0.5555555555555556,\"#d8576b\"],[0.6666666666666666,\"#ed7953\"],[0.7777777777777778,\"#fb9f3a\"],[0.8888888888888888,\"#fdca26\"],[1.0,\"#f0f921\"]],\"sequentialminus\":[[0.0,\"#0d0887\"],[0.1111111111111111,\"#46039f\"],[0.2222222222222222,\"#7201a8\"],[0.3333333333333333,\"#9c179e\"],[0.4444444444444444,\"#bd3786\"],[0.5555555555555556,\"#d8576b\"],[0.6666666666666666,\"#ed7953\"],[0.7777777777777778,\"#fb9f3a\"],[0.8888888888888888,\"#fdca26\"],[1.0,\"#f0f921\"]]},\"colorway\":[\"#636efa\",\"#EF553B\",\"#00cc96\",\"#ab63fa\",\"#FFA15A\",\"#19d3f3\",\"#FF6692\",\"#B6E880\",\"#FF97FF\",\"#FECB52\"],\"font\":{\"color\":\"#2a3f5f\"},\"geo\":{\"bgcolor\":\"white\",\"lakecolor\":\"white\",\"landcolor\":\"#E5ECF6\",\"showlakes\":true,\"showland\":true,\"subunitcolor\":\"white\"},\"hoverlabel\":{\"align\":\"left\"},\"hovermode\":\"closest\",\"mapbox\":{\"style\":\"light\"},\"paper_bgcolor\":\"white\",\"plot_bgcolor\":\"#E5ECF6\",\"polar\":{\"angularaxis\":{\"gridcolor\":\"white\",\"linecolor\":\"white\",\"ticks\":\"\"},\"bgcolor\":\"#E5ECF6\",\"radialaxis\":{\"gridcolor\":\"white\",\"linecolor\":\"white\",\"ticks\":\"\"}},\"scene\":{\"xaxis\":{\"backgroundcolor\":\"#E5ECF6\",\"gridcolor\":\"white\",\"gridwidth\":2,\"linecolor\":\"white\",\"showbackground\":true,\"ticks\":\"\",\"zerolinecolor\":\"white\"},\"yaxis\":{\"backgroundcolor\":\"#E5ECF6\",\"gridcolor\":\"white\",\"gridwidth\":2,\"linecolor\":\"white\",\"showbackground\":true,\"ticks\":\"\",\"zerolinecolor\":\"white\"},\"zaxis\":{\"backgroundcolor\":\"#E5ECF6\",\"gridcolor\":\"white\",\"gridwidth\":2,\"linecolor\":\"white\",\"showbackground\":true,\"ticks\":\"\",\"zerolinecolor\":\"white\"}},\"shapedefaults\":{\"line\":{\"color\":\"#2a3f5f\"}},\"ternary\":{\"aaxis\":{\"gridcolor\":\"white\",\"linecolor\":\"white\",\"ticks\":\"\"},\"baxis\":{\"gridcolor\":\"white\",\"linecolor\":\"white\",\"ticks\":\"\"},\"bgcolor\":\"#E5ECF6\",\"caxis\":{\"gridcolor\":\"white\",\"linecolor\":\"white\",\"ticks\":\"\"}},\"title\":{\"x\":0.05},\"xaxis\":{\"automargin\":true,\"gridcolor\":\"white\",\"linecolor\":\"white\",\"ticks\":\"\",\"title\":{\"standoff\":15},\"zerolinecolor\":\"white\",\"zerolinewidth\":2},\"yaxis\":{\"automargin\":true,\"gridcolor\":\"white\",\"linecolor\":\"white\",\"ticks\":\"\",\"title\":{\"standoff\":15},\"zerolinecolor\":\"white\",\"zerolinewidth\":2}}},\"shapes\":[{\"line\":{\"dash\":\"dash\"},\"type\":\"line\",\"x0\":0,\"x1\":1,\"y0\":0,\"y1\":1}],\"yaxis\":{\"title\":{\"text\":\"True Positive Rate\"},\"scaleanchor\":\"x\",\"scaleratio\":1},\"xaxis\":{\"title\":{\"text\":\"False Positive Rate\"},\"constrain\":\"domain\"},\"title\":{\"text\":\"ROC Curve\"},\"width\":900,\"height\":800},                        {\"responsive\": true}                    ).then(function(){\n",
              "                            \n",
              "var gd = document.getElementById('4c31d90c-5ae4-420b-8f39-3a7b91ebe625');\n",
              "var x = new MutationObserver(function (mutations, observer) {{\n",
              "        var display = window.getComputedStyle(gd).display;\n",
              "        if (!display || display === 'none') {{\n",
              "            console.log([gd, 'removed!']);\n",
              "            Plotly.purge(gd);\n",
              "            observer.disconnect();\n",
              "        }}\n",
              "}});\n",
              "\n",
              "// Listen for the removal of the full notebook cells\n",
              "var notebookContainer = gd.closest('#notebook-container');\n",
              "if (notebookContainer) {{\n",
              "    x.observe(notebookContainer, {childList: true});\n",
              "}}\n",
              "\n",
              "// Listen for the clearing of the current output cell\n",
              "var outputEl = gd.closest('.output');\n",
              "if (outputEl) {{\n",
              "    x.observe(outputEl, {childList: true});\n",
              "}}\n",
              "\n",
              "                        })                };                            </script>        </div>\n",
              "</body>\n",
              "</html>"
            ]
          },
          "metadata": {}
        }
      ]
    },
    {
      "cell_type": "code",
      "source": [
        "from tensorflow.keras.models import save_model\n"
      ],
      "metadata": {
        "id": "AymS4krnmhuC"
      },
      "execution_count": 175,
      "outputs": []
    },
    {
      "cell_type": "code",
      "source": [
        "#MODEL_FILENAMEs=root_path+\"model_5fold_Xception03.h5\"\n",
        "#model.save(MODEL_FILENAMEs)"
      ],
      "metadata": {
        "id": "Bp4G0LZqm0Sq"
      },
      "execution_count": 176,
      "outputs": []
    },
    {
      "cell_type": "code",
      "source": [
        "MODEL_FILENAMEs=root_path+\"model_3fold_ensemble_1603_325.h5\"\n",
        "ensemble_model.save(MODEL_FILENAMEs)"
      ],
      "metadata": {
        "colab": {
          "base_uri": "https://localhost:8080/"
        },
        "id": "kJi_fTcE_QH6",
        "outputId": "934b7f67-43e7-43bc-9d2f-5d371a80fa93"
      },
      "execution_count": 177,
      "outputs": [
        {
          "output_type": "stream",
          "name": "stderr",
          "text": [
            "WARNING:tensorflow:Found duplicated `Variable`s in Model's `weights`. This is usually caused by `Variable`s being shared by Layers in the Model. These `Variable`s will be treated as separate `Variable`s when the Model is restored. To avoid this, please save with `save_format=\"tf\"`.\n"
          ]
        }
      ]
    }
  ]
}