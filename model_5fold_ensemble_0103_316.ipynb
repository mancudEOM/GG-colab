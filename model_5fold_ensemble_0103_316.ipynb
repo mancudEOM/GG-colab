{
  "nbformat": 4,
  "nbformat_minor": 0,
  "metadata": {
    "colab": {
      "provenance": [],
      "mount_file_id": "1dgz0pDnuhyZ-piIp1X72Xi4zwPvBkb2h",
      "authorship_tag": "ABX9TyMMw6k0FgRiqJLztj4USCen",
      "include_colab_link": true
    },
    "kernelspec": {
      "name": "python3",
      "display_name": "Python 3"
    },
    "language_info": {
      "name": "python"
    },
    "gpuClass": "standard",
    "accelerator": "GPU"
  },
  "cells": [
    {
      "cell_type": "markdown",
      "metadata": {
        "id": "view-in-github",
        "colab_type": "text"
      },
      "source": [
        "<a href=\"https://colab.research.google.com/github/mancudEOM/GG-colab/blob/main/model_5fold_ensemble_0103_316.ipynb\" target=\"_parent\"><img src=\"https://colab.research.google.com/assets/colab-badge.svg\" alt=\"Open In Colab\"/></a>"
      ]
    },
    {
      "cell_type": "code",
      "execution_count": 51,
      "metadata": {
        "id": "re2cPhu8Glvf",
        "colab": {
          "base_uri": "https://localhost:8080/"
        },
        "outputId": "c3298af4-b85f-4375-eb84-c9f14f5b6705"
      },
      "outputs": [
        {
          "output_type": "stream",
          "name": "stdout",
          "text": [
            "Drive already mounted at /content/drive; to attempt to forcibly remount, call drive.mount(\"/content/drive\", force_remount=True).\n"
          ]
        }
      ],
      "source": [
        "  from google.colab import drive\n",
        "  drive.mount('/content/drive')\n",
        "\n"
      ]
    },
    {
      "cell_type": "code",
      "source": [
        "  !ls\n"
      ],
      "metadata": {
        "id": "16aNt0njGqgR",
        "colab": {
          "base_uri": "https://localhost:8080/"
        },
        "outputId": "a0c47465-0668-4811-ac60-5bf39b94cd94"
      },
      "execution_count": 52,
      "outputs": [
        {
          "output_type": "stream",
          "name": "stdout",
          "text": [
            "drive  sample_data\n"
          ]
        }
      ]
    },
    {
      "cell_type": "code",
      "source": [
        "  import sys\n",
        "  root_path = '/content/drive/My Drive/Segmented Medicinal Leaf Images/' # This is the path to where in google drive the code is stored!\n",
        "  sys.path.append(root_path)"
      ],
      "metadata": {
        "id": "6kpNIXuzGskg"
      },
      "execution_count": 53,
      "outputs": []
    },
    {
      "cell_type": "markdown",
      "source": [
        "# THÊM TẤT CẢ CÁC THƯ VIỆN CẦN THIẾT"
      ],
      "metadata": {
        "id": "qMNSUzIxL7JZ"
      }
    },
    {
      "cell_type": "code",
      "source": [
        "import numpy as np\n",
        "from sklearn.metrics import accuracy_score, f1_score, precision_score, confusion_matrix\n",
        "from sklearn.model_selection import StratifiedKFold\n",
        "from PIL import Image\n",
        "import random\n",
        "import tensorflow as tf\n",
        "from tensorflow.keras.models import Sequential\n",
        "from keras.preprocessing.image import ImageDataGenerator\n",
        "from tensorflow.keras.preprocessing.image import ImageDataGenerator\n",
        "from tensorflow.keras.layers import Dense, Dropout, Flatten, Conv2D, MaxPooling2D\n",
        "\n",
        "from tensorflow.compat.v1 import ConfigProto\n",
        "from tensorflow.compat.v1 import InteractiveSession\n",
        "import warnings\n",
        "import os\n",
        "import shutil\n",
        "from PIL import ImageFile\n",
        "warnings.simplefilter('error', Image.DecompressionBombWarning)\n",
        "ImageFile.LOAD_TRUNCATED_IMAGES = True\n",
        "Image.MAX_IMAGE_PIXELS = 1000000000\n",
        "config = ConfigProto()\n",
        "config.gpu_options.allow_growth = True\n",
        "session = InteractiveSession(config=config)"
      ],
      "metadata": {
        "id": "NJq2Vm2hHTWR",
        "colab": {
          "base_uri": "https://localhost:8080/"
        },
        "outputId": "3faa58fd-4439-46c1-ae30-04e3a4cbaea8"
      },
      "execution_count": 54,
      "outputs": [
        {
          "output_type": "stream",
          "name": "stderr",
          "text": [
            "/usr/local/lib/python3.8/dist-packages/tensorflow/python/client/session.py:1769: UserWarning:\n",
            "\n",
            "An interactive session is already active. This can cause out-of-memory errors in some cases. You must explicitly call `InteractiveSession.close()` to release resources held by the other session(s).\n",
            "\n"
          ]
        }
      ]
    },
    {
      "cell_type": "markdown",
      "source": [
        "# Khởi tạo các biến cần thiết"
      ],
      "metadata": {
        "id": "QYpc-VdEMGBS"
      }
    },
    {
      "cell_type": "code",
      "source": [
        "datasetFolderName=root_path+'dataset'\n",
        "MODEL_FILENAME=root_path+\"model_cv.h5\"\n",
        "sourceFiles=[]\n",
        "classLabels=['Alpinia Galanga (Rasna)','Amaranthus Viridis (Arive-Dantu)','Artocarpus Heterophyllus (Jackfruit)',\n",
        "'Azadirachta Indica (Neem)','Basella Alba (Basale)','Brassica Juncea (Indian Mustard)',\n",
        "'Carissa Carandas (Karanda)','Citrus Limon (Lemon)','Ficus Auriculata (Roxburgh fig)',\n",
        "'Ficus Religiosa (Peepal Tree)','Hibiscus Rosa-sinensis','Jasminum (Jasmine)',\n",
        "'Mangifera Indica (Mango)','Mentha (Mint)','Moringa Oleifera (Drumstick)',\n",
        "'Muntingia Calabura (Jamaica Cherry-Gasagase)','Murraya Koenigii (Curry)','Nerium Oleander (Oleander)',\n",
        "'Nyctanthes Arbor-tristis (Parijata)','Ocimum Tenuiflorum (Tulsi)','Piper Betle (Betel)',\n",
        "'Plectranthus Amboinicus (Mexican Mint)','Pongamia Pinnata (Indian Beech)','Psidium Guajava (Guava)',\n",
        "'Punica Granatum (Pomegranate)','Santalum Album (Sandalwood)','Syzygium Cumini (Jamun)',\n",
        "'Syzygium Jambos (Rose Apple)','Tabernaemontana Divaricata (Crape Jasmine)','Trigonella Foenum-graecum (Fenugreek)']\n",
        "X=[]\n",
        "Y=[]\n",
        "\n",
        "img_rows, img_cols =  224, 224 \n",
        "# input image dimensions\n",
        "#img_rows, img_cols =  224, 224 # input image dimensions\n",
        "train_path=datasetFolderName+'/train/'\n",
        "validation_path=datasetFolderName+'/validation/'\n",
        "test_path=datasetFolderName+'/test/'"
      ],
      "metadata": {
        "id": "iCy2O5d9Jxq6"
      },
      "execution_count": 55,
      "outputs": []
    },
    {
      "cell_type": "markdown",
      "source": [
        "# KFOLD train-test-validation"
      ],
      "metadata": {
        "id": "LyAnSQTbMblZ"
      }
    },
    {
      "cell_type": "code",
      "source": [
        "def transferBetweenFolders(source, dest, splitRate): \n",
        "    global sourceFiles\n",
        "    sourceFiles=os.listdir(source)\n",
        "    if(len(sourceFiles)!=0):\n",
        "        transferFileNumbers=int(len(sourceFiles)*splitRate)\n",
        "        transferIndex=random.sample(range(0, len(sourceFiles)), transferFileNumbers)\n",
        "        for eachIndex in transferIndex:\n",
        "            shutil.move(source+str(sourceFiles[eachIndex]), dest+str(sourceFiles[eachIndex]))\n",
        "    else:\n",
        "        print(\"No file moved. Source empty!\")\n",
        "        \n",
        "def transferAllClassBetweenFolders(source, dest, splitRate):\n",
        "    for label in classLabels:\n",
        "        transferBetweenFolders(datasetFolderName+'/'+source+'/'+label+'/', \n",
        "                               datasetFolderName+'/'+dest+'/'+label+'/', \n",
        "                               splitRate)"
      ],
      "metadata": {
        "id": "RgfHPIHbJ4rR"
      },
      "execution_count": 56,
      "outputs": []
    },
    {
      "cell_type": "code",
      "source": [
        "transferAllClassBetweenFolders('test', 'train', 1.0)"
      ],
      "metadata": {
        "id": "stSX_AiNKleb",
        "colab": {
          "base_uri": "https://localhost:8080/"
        },
        "outputId": "c6c5052e-2dfa-4ab4-8f9e-54c6e8d5ea6d"
      },
      "execution_count": 57,
      "outputs": [
        {
          "output_type": "stream",
          "name": "stdout",
          "text": [
            "No file moved. Source empty!\n",
            "No file moved. Source empty!\n",
            "No file moved. Source empty!\n",
            "No file moved. Source empty!\n",
            "No file moved. Source empty!\n",
            "No file moved. Source empty!\n",
            "No file moved. Source empty!\n",
            "No file moved. Source empty!\n",
            "No file moved. Source empty!\n",
            "No file moved. Source empty!\n",
            "No file moved. Source empty!\n",
            "No file moved. Source empty!\n",
            "No file moved. Source empty!\n",
            "No file moved. Source empty!\n",
            "No file moved. Source empty!\n",
            "No file moved. Source empty!\n",
            "No file moved. Source empty!\n",
            "No file moved. Source empty!\n",
            "No file moved. Source empty!\n",
            "No file moved. Source empty!\n",
            "No file moved. Source empty!\n",
            "No file moved. Source empty!\n",
            "No file moved. Source empty!\n",
            "No file moved. Source empty!\n",
            "No file moved. Source empty!\n",
            "No file moved. Source empty!\n",
            "No file moved. Source empty!\n",
            "No file moved. Source empty!\n",
            "No file moved. Source empty!\n",
            "No file moved. Source empty!\n"
          ]
        }
      ]
    },
    {
      "cell_type": "code",
      "source": [
        "transferAllClassBetweenFolders('validation', 'train', 1.0)"
      ],
      "metadata": {
        "id": "Z6o8gWE-N-rq"
      },
      "execution_count": 58,
      "outputs": []
    },
    {
      "cell_type": "code",
      "source": [
        "#transferAllClassBetweenFolders('train', 'test', 0.20)"
      ],
      "metadata": {
        "id": "arE4ro1JKqIh"
      },
      "execution_count": 59,
      "outputs": []
    },
    {
      "cell_type": "code",
      "source": [
        "def prepareNameWithLabels(folderName):\n",
        "    sourceFiles=os.listdir(datasetFolderName+'/train/'+folderName)\n",
        "    for val in sourceFiles:\n",
        "        X.append(val)\n",
        "        for i in range(len(classLabels)):\n",
        "          if(folderName==classLabels[i]):\n",
        "              Y.append(i)"
      ],
      "metadata": {
        "id": "73VhRSA2K0fp"
      },
      "execution_count": 60,
      "outputs": []
    },
    {
      "cell_type": "code",
      "source": [
        "# Organize file names and class labels in X and Y variables\n",
        "for i in range(len(classLabels)):\n",
        "  prepareNameWithLabels(classLabels[i])"
      ],
      "metadata": {
        "id": "u6pP6P3YK2Ub"
      },
      "execution_count": 61,
      "outputs": []
    },
    {
      "cell_type": "code",
      "source": [
        "X=np.asarray(X)\n",
        "Y=np.asarray(Y)"
      ],
      "metadata": {
        "id": "WZHmT5JgK3xa"
      },
      "execution_count": 62,
      "outputs": []
    },
    {
      "cell_type": "code",
      "source": [
        "print(X)\n",
        "print(Y)"
      ],
      "metadata": {
        "id": "MzTCDvyoM28y",
        "colab": {
          "base_uri": "https://localhost:8080/"
        },
        "outputId": "6735b279-c20d-4ee4-9971-b7dbf15d7d0d"
      },
      "execution_count": 63,
      "outputs": [
        {
          "output_type": "stream",
          "name": "stdout",
          "text": [
            "['AG-S-034.jpg' 'AG-S-025.jpg' 'AG-S-020.jpg' ... 'TF-S-036.jpg'\n",
            " 'TF-S-028.jpg' 'TF-S-010.jpg']\n",
            "[ 0  0  0 ... 29 29 29]\n"
          ]
        }
      ]
    },
    {
      "cell_type": "code",
      "source": [
        "batch_size = 64\n",
        "IMG_SIZE = (224, 224, 3)\n",
        "number_of_class_labels = len(classLabels)"
      ],
      "metadata": {
        "id": "WtnpSQSxX-67"
      },
      "execution_count": 64,
      "outputs": []
    },
    {
      "cell_type": "code",
      "source": [
        "import tensorflow.keras as keras"
      ],
      "metadata": {
        "id": "OKucCyffZ5cD"
      },
      "execution_count": 65,
      "outputs": []
    },
    {
      "cell_type": "code",
      "source": [
        "# Create a data augmentation stage with horizontal flipping, rotations, zooms\n",
        "data_augmentation = keras.Sequential(\n",
        "    [\n",
        "        keras.layers.Rescaling(1./ 255),\n",
        "        keras.layers.RandomFlip(),\n",
        "        keras.layers.RandomRotation(0.2),\n",
        "        keras.layers.RandomZoom(0.2,0.3)\n",
        "    ]\n",
        ")"
      ],
      "metadata": {
        "id": "zWFE6eJxZvCD"
      },
      "execution_count": 66,
      "outputs": []
    },
    {
      "cell_type": "code",
      "source": [
        "#pre_trained_layers = keras.applications.ResNet50V2(weights=\"imagenet\", include_top=False,\n",
        "#           input_tensor=keras.Input(shape=IMG_SIZE))"
      ],
      "metadata": {
        "id": "A929RzhDZ7wR"
      },
      "execution_count": 67,
      "outputs": []
    },
    {
      "cell_type": "code",
      "source": [
        "#pre_trained_layers = tf.keras.applications.MobileNetV2(weights=\"imagenet\", include_top=False,\n",
        "#            input_tensor=keras.Input(shape=IMG_SIZE))"
      ],
      "metadata": {
        "id": "MRoc6m_k7kpj"
      },
      "execution_count": 68,
      "outputs": []
    },
    {
      "cell_type": "code",
      "source": [
        "\n",
        "#pre_trained_layers = keras.applications.Xception(weights=\"imagenet\", include_top=False,\n",
        "#         input_tensor=keras.Input(shape=IMG_SIZE))"
      ],
      "metadata": {
        "id": "wbD80LCePblH"
      },
      "execution_count": 69,
      "outputs": []
    },
    {
      "cell_type": "code",
      "source": [
        "#pre_trained_layers = tf.keras.applications.InceptionV3(weights=\"imagenet\", include_top=False,\n",
        "#           input_tensor=keras.Input(shape=IMG_SIZE))"
      ],
      "metadata": {
        "id": "kFkcL4A1JffX"
      },
      "execution_count": 70,
      "outputs": []
    },
    {
      "cell_type": "code",
      "source": [
        "#pre_trained_layers.summary()"
      ],
      "metadata": {
        "id": "V-K3rsDLaLWL"
      },
      "execution_count": 71,
      "outputs": []
    },
    {
      "cell_type": "code",
      "source": [
        "\n",
        "from tensorflow.keras.models import Model, load_model\n",
        "from tensorflow.keras.layers import Input, Average\n",
        "from keras.models import Model\n",
        "from keras.layers import Input, Dense\n",
        "import tensorflow as tf"
      ],
      "metadata": {
        "id": "q-xZEOqCLWIb"
      },
      "execution_count": 72,
      "outputs": []
    },
    {
      "cell_type": "code",
      "source": [
        "class WeightedAverageLayer(tf.keras.layers.Layer):\n",
        "    def __init__(self, w1, w2, w3, **kwargs):\n",
        "        super(WeightedAverageLayer, self).__init__(**kwargs)\n",
        "        self.w1 = w1\n",
        "        self.w2 = w2\n",
        "        self.w3 = w3\n",
        "\n",
        "    def call(self, inputs):\n",
        "        return self.w1 * inputs[0] + self.w2 * inputs[1] + self.w3 * inputs[2]"
      ],
      "metadata": {
        "id": "GTVtq8kOc-6p"
      },
      "execution_count": 73,
      "outputs": []
    },
    {
      "cell_type": "code",
      "source": [
        "# Disable scientific notation for clarity\n",
        "np.set_printoptions(suppress=True)\n",
        "# Load the model\n",
        "model_1 =load_model(root_path+\"model_5fold_InceptionV3_02.h5\", \n",
        "                    compile=False)\n",
        "model_1 = Model(inputs=model_1.inputs,\n",
        "                outputs=model_1.outputs,\n",
        "                name='model_5fold_InceptionV3_02')\n",
        "model_2 = load_model(root_path+\"model_5fold_ResNet50V2_02.h5\", \n",
        "                     compile=False)\n",
        "model_2 = Model(inputs=model_1.inputs,\n",
        "                outputs=model_1.outputs,\n",
        "                name='model_5fold_ResNet50V2_02')\n",
        "model_3 = load_model(root_path+\"model_5fold_Xception03.h5\", \n",
        "                     compile=False)\n",
        "model_3 = Model(inputs=model_1.inputs,\n",
        "                outputs=model_1.outputs,\n",
        "                name='model_5fold_Xception03')\n",
        "models = [model_1, model_2, model_3]\n",
        "model_input = Input(shape=(224, 224, 3))\n",
        "model_outputs = [model(model_input) for model in models]\n",
        "#ensemble_output = Average()(model_outputs)\n",
        "ensemble_output = WeightedAverageLayer(0.3, 0.1, 0.6)(model_outputs)\n",
        "ensemble_model= Model(inputs=model_input, outputs=ensemble_output, name='ensemble')\n",
        " "
      ],
      "metadata": {
        "id": "R2Oq0Kl4IUFm",
        "colab": {
          "base_uri": "https://localhost:8080/"
        },
        "outputId": "204b4c5b-90ee-4671-c418-eb700d50e041"
      },
      "execution_count": 74,
      "outputs": [
        {
          "output_type": "stream",
          "name": "stderr",
          "text": [
            "WARNING:tensorflow:Using a while_loop for converting RngReadAndSkip cause there is no registered converter for this op.\n",
            "WARNING:tensorflow:Using a while_loop for converting Bitcast cause there is no registered converter for this op.\n",
            "WARNING:tensorflow:Using a while_loop for converting Bitcast cause there is no registered converter for this op.\n",
            "WARNING:tensorflow:Using a while_loop for converting StatelessRandomUniformV2 cause there is no registered converter for this op.\n",
            "WARNING:tensorflow:Using a while_loop for converting ImageProjectiveTransformV3 cause there is no registered converter for this op.\n",
            "WARNING:tensorflow:Using a while_loop for converting RngReadAndSkip cause there is no registered converter for this op.\n",
            "WARNING:tensorflow:Using a while_loop for converting Bitcast cause there is no registered converter for this op.\n",
            "WARNING:tensorflow:Using a while_loop for converting Bitcast cause there is no registered converter for this op.\n",
            "WARNING:tensorflow:Using a while_loop for converting StatelessRandomUniformV2 cause there is no registered converter for this op.\n",
            "WARNING:tensorflow:Using a while_loop for converting RngReadAndSkip cause there is no registered converter for this op.\n",
            "WARNING:tensorflow:Using a while_loop for converting Bitcast cause there is no registered converter for this op.\n",
            "WARNING:tensorflow:Using a while_loop for converting Bitcast cause there is no registered converter for this op.\n",
            "WARNING:tensorflow:Using a while_loop for converting StatelessRandomUniformV2 cause there is no registered converter for this op.\n",
            "WARNING:tensorflow:Using a while_loop for converting ImageProjectiveTransformV3 cause there is no registered converter for this op.\n",
            "WARNING:tensorflow:Using a while_loop for converting RngReadAndSkip cause there is no registered converter for this op.\n",
            "WARNING:tensorflow:Using a while_loop for converting Bitcast cause there is no registered converter for this op.\n",
            "WARNING:tensorflow:Using a while_loop for converting Bitcast cause there is no registered converter for this op.\n",
            "WARNING:tensorflow:Using a while_loop for converting StatelessRandomUniformV2 cause there is no registered converter for this op.\n",
            "WARNING:tensorflow:Using a while_loop for converting ImageProjectiveTransformV3 cause there is no registered converter for this op.\n",
            "WARNING:tensorflow:Using a while_loop for converting RngReadAndSkip cause there is no registered converter for this op.\n",
            "WARNING:tensorflow:Using a while_loop for converting Bitcast cause there is no registered converter for this op.\n",
            "WARNING:tensorflow:Using a while_loop for converting Bitcast cause there is no registered converter for this op.\n",
            "WARNING:tensorflow:Using a while_loop for converting StatelessRandomUniformV2 cause there is no registered converter for this op.\n",
            "WARNING:tensorflow:Using a while_loop for converting RngReadAndSkip cause there is no registered converter for this op.\n",
            "WARNING:tensorflow:Using a while_loop for converting Bitcast cause there is no registered converter for this op.\n",
            "WARNING:tensorflow:Using a while_loop for converting Bitcast cause there is no registered converter for this op.\n",
            "WARNING:tensorflow:Using a while_loop for converting StatelessRandomUniformV2 cause there is no registered converter for this op.\n",
            "WARNING:tensorflow:Using a while_loop for converting ImageProjectiveTransformV3 cause there is no registered converter for this op.\n",
            "WARNING:tensorflow:Using a while_loop for converting RngReadAndSkip cause there is no registered converter for this op.\n",
            "WARNING:tensorflow:Using a while_loop for converting Bitcast cause there is no registered converter for this op.\n",
            "WARNING:tensorflow:Using a while_loop for converting Bitcast cause there is no registered converter for this op.\n",
            "WARNING:tensorflow:Using a while_loop for converting StatelessRandomUniformV2 cause there is no registered converter for this op.\n",
            "WARNING:tensorflow:Using a while_loop for converting ImageProjectiveTransformV3 cause there is no registered converter for this op.\n",
            "WARNING:tensorflow:Using a while_loop for converting RngReadAndSkip cause there is no registered converter for this op.\n",
            "WARNING:tensorflow:Using a while_loop for converting Bitcast cause there is no registered converter for this op.\n",
            "WARNING:tensorflow:Using a while_loop for converting Bitcast cause there is no registered converter for this op.\n",
            "WARNING:tensorflow:Using a while_loop for converting StatelessRandomUniformV2 cause there is no registered converter for this op.\n",
            "WARNING:tensorflow:Using a while_loop for converting RngReadAndSkip cause there is no registered converter for this op.\n",
            "WARNING:tensorflow:Using a while_loop for converting Bitcast cause there is no registered converter for this op.\n",
            "WARNING:tensorflow:Using a while_loop for converting Bitcast cause there is no registered converter for this op.\n",
            "WARNING:tensorflow:Using a while_loop for converting StatelessRandomUniformV2 cause there is no registered converter for this op.\n",
            "WARNING:tensorflow:Using a while_loop for converting ImageProjectiveTransformV3 cause there is no registered converter for this op.\n",
            "WARNING:tensorflow:Using a while_loop for converting RngReadAndSkip cause there is no registered converter for this op.\n",
            "WARNING:tensorflow:Using a while_loop for converting Bitcast cause there is no registered converter for this op.\n",
            "WARNING:tensorflow:Using a while_loop for converting Bitcast cause there is no registered converter for this op.\n",
            "WARNING:tensorflow:Using a while_loop for converting StatelessRandomUniformV2 cause there is no registered converter for this op.\n",
            "WARNING:tensorflow:Using a while_loop for converting ImageProjectiveTransformV3 cause there is no registered converter for this op.\n",
            "WARNING:tensorflow:Using a while_loop for converting RngReadAndSkip cause there is no registered converter for this op.\n",
            "WARNING:tensorflow:Using a while_loop for converting Bitcast cause there is no registered converter for this op.\n",
            "WARNING:tensorflow:Using a while_loop for converting Bitcast cause there is no registered converter for this op.\n",
            "WARNING:tensorflow:Using a while_loop for converting StatelessRandomUniformV2 cause there is no registered converter for this op.\n",
            "WARNING:tensorflow:Using a while_loop for converting RngReadAndSkip cause there is no registered converter for this op.\n",
            "WARNING:tensorflow:Using a while_loop for converting Bitcast cause there is no registered converter for this op.\n",
            "WARNING:tensorflow:Using a while_loop for converting Bitcast cause there is no registered converter for this op.\n",
            "WARNING:tensorflow:Using a while_loop for converting StatelessRandomUniformV2 cause there is no registered converter for this op.\n",
            "WARNING:tensorflow:Using a while_loop for converting ImageProjectiveTransformV3 cause there is no registered converter for this op.\n",
            "WARNING:tensorflow:Using a while_loop for converting RngReadAndSkip cause there is no registered converter for this op.\n",
            "WARNING:tensorflow:Using a while_loop for converting Bitcast cause there is no registered converter for this op.\n",
            "WARNING:tensorflow:Using a while_loop for converting Bitcast cause there is no registered converter for this op.\n",
            "WARNING:tensorflow:Using a while_loop for converting StatelessRandomUniformV2 cause there is no registered converter for this op.\n",
            "WARNING:tensorflow:Using a while_loop for converting ImageProjectiveTransformV3 cause there is no registered converter for this op.\n",
            "WARNING:tensorflow:Using a while_loop for converting RngReadAndSkip cause there is no registered converter for this op.\n",
            "WARNING:tensorflow:Using a while_loop for converting Bitcast cause there is no registered converter for this op.\n",
            "WARNING:tensorflow:Using a while_loop for converting Bitcast cause there is no registered converter for this op.\n",
            "WARNING:tensorflow:Using a while_loop for converting StatelessRandomUniformV2 cause there is no registered converter for this op.\n",
            "WARNING:tensorflow:Using a while_loop for converting RngReadAndSkip cause there is no registered converter for this op.\n",
            "WARNING:tensorflow:Using a while_loop for converting Bitcast cause there is no registered converter for this op.\n",
            "WARNING:tensorflow:Using a while_loop for converting Bitcast cause there is no registered converter for this op.\n",
            "WARNING:tensorflow:Using a while_loop for converting StatelessRandomUniformV2 cause there is no registered converter for this op.\n",
            "WARNING:tensorflow:Using a while_loop for converting ImageProjectiveTransformV3 cause there is no registered converter for this op.\n",
            "WARNING:tensorflow:Using a while_loop for converting RngReadAndSkip cause there is no registered converter for this op.\n",
            "WARNING:tensorflow:Using a while_loop for converting Bitcast cause there is no registered converter for this op.\n",
            "WARNING:tensorflow:Using a while_loop for converting Bitcast cause there is no registered converter for this op.\n",
            "WARNING:tensorflow:Using a while_loop for converting StatelessRandomUniformV2 cause there is no registered converter for this op.\n",
            "WARNING:tensorflow:Using a while_loop for converting ImageProjectiveTransformV3 cause there is no registered converter for this op.\n",
            "WARNING:tensorflow:Using a while_loop for converting RngReadAndSkip cause there is no registered converter for this op.\n",
            "WARNING:tensorflow:Using a while_loop for converting Bitcast cause there is no registered converter for this op.\n",
            "WARNING:tensorflow:Using a while_loop for converting Bitcast cause there is no registered converter for this op.\n",
            "WARNING:tensorflow:Using a while_loop for converting StatelessRandomUniformV2 cause there is no registered converter for this op.\n",
            "WARNING:tensorflow:Using a while_loop for converting RngReadAndSkip cause there is no registered converter for this op.\n",
            "WARNING:tensorflow:Using a while_loop for converting Bitcast cause there is no registered converter for this op.\n",
            "WARNING:tensorflow:Using a while_loop for converting Bitcast cause there is no registered converter for this op.\n",
            "WARNING:tensorflow:Using a while_loop for converting StatelessRandomUniformV2 cause there is no registered converter for this op.\n",
            "WARNING:tensorflow:Using a while_loop for converting ImageProjectiveTransformV3 cause there is no registered converter for this op.\n",
            "WARNING:tensorflow:Using a while_loop for converting RngReadAndSkip cause there is no registered converter for this op.\n",
            "WARNING:tensorflow:Using a while_loop for converting Bitcast cause there is no registered converter for this op.\n",
            "WARNING:tensorflow:Using a while_loop for converting Bitcast cause there is no registered converter for this op.\n",
            "WARNING:tensorflow:Using a while_loop for converting StatelessRandomUniformV2 cause there is no registered converter for this op.\n",
            "WARNING:tensorflow:Using a while_loop for converting ImageProjectiveTransformV3 cause there is no registered converter for this op.\n",
            "WARNING:tensorflow:Using a while_loop for converting RngReadAndSkip cause there is no registered converter for this op.\n",
            "WARNING:tensorflow:Using a while_loop for converting Bitcast cause there is no registered converter for this op.\n",
            "WARNING:tensorflow:Using a while_loop for converting Bitcast cause there is no registered converter for this op.\n",
            "WARNING:tensorflow:Using a while_loop for converting StatelessRandomUniformV2 cause there is no registered converter for this op.\n",
            "WARNING:tensorflow:Using a while_loop for converting RngReadAndSkip cause there is no registered converter for this op.\n",
            "WARNING:tensorflow:Using a while_loop for converting Bitcast cause there is no registered converter for this op.\n",
            "WARNING:tensorflow:Using a while_loop for converting Bitcast cause there is no registered converter for this op.\n",
            "WARNING:tensorflow:Using a while_loop for converting StatelessRandomUniformV2 cause there is no registered converter for this op.\n",
            "WARNING:tensorflow:Using a while_loop for converting ImageProjectiveTransformV3 cause there is no registered converter for this op.\n",
            "WARNING:tensorflow:Using a while_loop for converting RngReadAndSkip cause there is no registered converter for this op.\n",
            "WARNING:tensorflow:Using a while_loop for converting Bitcast cause there is no registered converter for this op.\n",
            "WARNING:tensorflow:Using a while_loop for converting Bitcast cause there is no registered converter for this op.\n",
            "WARNING:tensorflow:Using a while_loop for converting StatelessRandomUniformV2 cause there is no registered converter for this op.\n",
            "WARNING:tensorflow:Using a while_loop for converting ImageProjectiveTransformV3 cause there is no registered converter for this op.\n",
            "WARNING:tensorflow:Using a while_loop for converting RngReadAndSkip cause there is no registered converter for this op.\n",
            "WARNING:tensorflow:Using a while_loop for converting Bitcast cause there is no registered converter for this op.\n",
            "WARNING:tensorflow:Using a while_loop for converting Bitcast cause there is no registered converter for this op.\n",
            "WARNING:tensorflow:Using a while_loop for converting StatelessRandomUniformV2 cause there is no registered converter for this op.\n",
            "WARNING:tensorflow:Using a while_loop for converting RngReadAndSkip cause there is no registered converter for this op.\n",
            "WARNING:tensorflow:Using a while_loop for converting Bitcast cause there is no registered converter for this op.\n",
            "WARNING:tensorflow:Using a while_loop for converting Bitcast cause there is no registered converter for this op.\n",
            "WARNING:tensorflow:Using a while_loop for converting StatelessRandomUniformV2 cause there is no registered converter for this op.\n",
            "WARNING:tensorflow:Using a while_loop for converting ImageProjectiveTransformV3 cause there is no registered converter for this op.\n",
            "WARNING:tensorflow:Using a while_loop for converting RngReadAndSkip cause there is no registered converter for this op.\n",
            "WARNING:tensorflow:Using a while_loop for converting Bitcast cause there is no registered converter for this op.\n",
            "WARNING:tensorflow:Using a while_loop for converting Bitcast cause there is no registered converter for this op.\n",
            "WARNING:tensorflow:Using a while_loop for converting StatelessRandomUniformV2 cause there is no registered converter for this op.\n",
            "WARNING:tensorflow:Using a while_loop for converting ImageProjectiveTransformV3 cause there is no registered converter for this op.\n",
            "WARNING:tensorflow:Using a while_loop for converting RngReadAndSkip cause there is no registered converter for this op.\n",
            "WARNING:tensorflow:Using a while_loop for converting Bitcast cause there is no registered converter for this op.\n",
            "WARNING:tensorflow:Using a while_loop for converting Bitcast cause there is no registered converter for this op.\n",
            "WARNING:tensorflow:Using a while_loop for converting StatelessRandomUniformV2 cause there is no registered converter for this op.\n",
            "WARNING:tensorflow:Using a while_loop for converting RngReadAndSkip cause there is no registered converter for this op.\n",
            "WARNING:tensorflow:Using a while_loop for converting Bitcast cause there is no registered converter for this op.\n",
            "WARNING:tensorflow:Using a while_loop for converting Bitcast cause there is no registered converter for this op.\n",
            "WARNING:tensorflow:Using a while_loop for converting StatelessRandomUniformV2 cause there is no registered converter for this op.\n",
            "WARNING:tensorflow:Using a while_loop for converting ImageProjectiveTransformV3 cause there is no registered converter for this op.\n"
          ]
        }
      ]
    },
    {
      "cell_type": "code",
      "source": [
        "\n",
        "#Creating custom model\n",
        "\n",
        "    "
      ],
      "metadata": {
        "id": "MU_j6dypcPwp"
      },
      "execution_count": 75,
      "outputs": []
    },
    {
      "cell_type": "code",
      "source": [
        "EPOCHS = 10\n",
        "LR = 1e-3\n",
        "ensemble_model.compile(optimizer=keras.optimizers.Adam(learning_rate=LR),\n",
        "              loss=tf.keras.losses.SparseCategoricalCrossentropy(),\n",
        "              metrics=['accuracy'])"
      ],
      "metadata": {
        "id": "41gFu9xKb0CU"
      },
      "execution_count": 76,
      "outputs": []
    },
    {
      "cell_type": "code",
      "source": [
        "#printing summary of custom model\n",
        "#ensemble_model.build((1,224,224,3))\n",
        "#ensemble_model.summary()"
      ],
      "metadata": {
        "id": "XCFHANKAcmVS"
      },
      "execution_count": 77,
      "outputs": []
    },
    {
      "cell_type": "code",
      "source": [
        "from tensorflow.keras.callbacks import ReduceLROnPlateau"
      ],
      "metadata": {
        "id": "AMvex2WIc1hi"
      },
      "execution_count": 78,
      "outputs": []
    },
    {
      "cell_type": "code",
      "source": [
        "# Callback -> Reduce Learning Rate on Plateau\n",
        "callback = ReduceLROnPlateau(monitor='val_loss', factor=0.1, patience=3, verbose=1, mode='auto',\n",
        "                             min_delta=0.0001, cooldown=0, min_lr=0.00001)"
      ],
      "metadata": {
        "id": "LM1NDxA1cnxB"
      },
      "execution_count": 79,
      "outputs": []
    },
    {
      "cell_type": "code",
      "source": [
        "skf = StratifiedKFold(n_splits=5, shuffle=True)\n",
        "skf.get_n_splits(X, Y)\n",
        "fold_num = 0\n",
        "for train_index, val_index in skf.split(X, Y):\n",
        "    # First cut all images from validation to train (if any exists)\n",
        "    transferAllClassBetweenFolders('validation', 'train', 1.0)\n",
        "    fold_num += 1\n",
        "    print(\"Results for fold\", fold_num)\n",
        "    X_train, X_val = X[train_index], X[val_index]\n",
        "    Y_train, Y_val = Y[train_index], Y[val_index]\n",
        "    # Move validation images of this fold from train folder to the validation folder\n",
        "    for each_index in range(len(X_val)):\n",
        "        class_label = ''\n",
        "        for i in range(len(classLabels)):\n",
        "            if(Y_val[each_index] == i):\n",
        "                class_label = classLabels[i]\n",
        "        # Then, copy the validation images to the validation folder\n",
        "        shutil.move(os.path.join(datasetFolderName, 'train', class_label, X_val[each_index]),\n",
        "                    os.path.join(datasetFolderName, 'validation', class_label, X_val[each_index]))\n",
        "\n",
        "   \n",
        "\n",
        "    # Start ImageClassification Model\n",
        "    #creating train data set\n",
        "    \n",
        "    train_generator = tf.keras.utils.image_dataset_from_directory(\n",
        "        train_path,\n",
        "        image_size=(IMG_SIZE[0], IMG_SIZE[1]),\n",
        "        batch_size=batch_size,        \n",
        "        )\n",
        "\n",
        "    validation_generator = tf.keras.utils.image_dataset_from_directory(\n",
        "        validation_path,\n",
        "        image_size=(IMG_SIZE[0], IMG_SIZE[1]),\n",
        "        batch_size=batch_size,\n",
        "        \n",
        "          # only data, no labels\n",
        "        shuffle=False\n",
        "        ) \n",
        "    \n",
        "    history = ensemble_model.fit(train_generator, epochs=EPOCHS, validation_data=validation_generator, callbacks=callback)\n",
        "    ensemble_model.evaluate(validation_generator)"
      ],
      "metadata": {
        "id": "h6-FwHIUaRPh",
        "colab": {
          "base_uri": "https://localhost:8080/"
        },
        "outputId": "95468627-c530-4492-8301-c119882d3fd4"
      },
      "execution_count": 80,
      "outputs": [
        {
          "output_type": "stream",
          "name": "stdout",
          "text": [
            "No file moved. Source empty!\n",
            "No file moved. Source empty!\n",
            "No file moved. Source empty!\n",
            "No file moved. Source empty!\n",
            "No file moved. Source empty!\n",
            "No file moved. Source empty!\n",
            "No file moved. Source empty!\n",
            "No file moved. Source empty!\n",
            "No file moved. Source empty!\n",
            "No file moved. Source empty!\n",
            "No file moved. Source empty!\n",
            "No file moved. Source empty!\n",
            "No file moved. Source empty!\n",
            "No file moved. Source empty!\n",
            "No file moved. Source empty!\n",
            "No file moved. Source empty!\n",
            "No file moved. Source empty!\n",
            "No file moved. Source empty!\n",
            "No file moved. Source empty!\n",
            "No file moved. Source empty!\n",
            "No file moved. Source empty!\n",
            "No file moved. Source empty!\n",
            "No file moved. Source empty!\n",
            "No file moved. Source empty!\n",
            "No file moved. Source empty!\n",
            "No file moved. Source empty!\n",
            "No file moved. Source empty!\n",
            "No file moved. Source empty!\n",
            "No file moved. Source empty!\n",
            "No file moved. Source empty!\n",
            "Results for fold 1\n",
            "Found 1468 files belonging to 30 classes.\n",
            "Found 367 files belonging to 30 classes.\n",
            "Epoch 1/10\n"
          ]
        },
        {
          "output_type": "stream",
          "name": "stderr",
          "text": [
            "WARNING:tensorflow:Using a while_loop for converting RngReadAndSkip cause there is no registered converter for this op.\n",
            "WARNING:tensorflow:Using a while_loop for converting Bitcast cause there is no registered converter for this op.\n",
            "WARNING:tensorflow:Using a while_loop for converting Bitcast cause there is no registered converter for this op.\n",
            "WARNING:tensorflow:Using a while_loop for converting StatelessRandomUniformV2 cause there is no registered converter for this op.\n",
            "WARNING:tensorflow:Using a while_loop for converting ImageProjectiveTransformV3 cause there is no registered converter for this op.\n",
            "WARNING:tensorflow:Using a while_loop for converting RngReadAndSkip cause there is no registered converter for this op.\n",
            "WARNING:tensorflow:Using a while_loop for converting Bitcast cause there is no registered converter for this op.\n",
            "WARNING:tensorflow:Using a while_loop for converting Bitcast cause there is no registered converter for this op.\n",
            "WARNING:tensorflow:Using a while_loop for converting StatelessRandomUniformV2 cause there is no registered converter for this op.\n",
            "WARNING:tensorflow:Using a while_loop for converting RngReadAndSkip cause there is no registered converter for this op.\n",
            "WARNING:tensorflow:Using a while_loop for converting Bitcast cause there is no registered converter for this op.\n",
            "WARNING:tensorflow:Using a while_loop for converting Bitcast cause there is no registered converter for this op.\n",
            "WARNING:tensorflow:Using a while_loop for converting StatelessRandomUniformV2 cause there is no registered converter for this op.\n",
            "WARNING:tensorflow:Using a while_loop for converting ImageProjectiveTransformV3 cause there is no registered converter for this op.\n",
            "WARNING:tensorflow:Using a while_loop for converting RngReadAndSkip cause there is no registered converter for this op.\n",
            "WARNING:tensorflow:Using a while_loop for converting Bitcast cause there is no registered converter for this op.\n",
            "WARNING:tensorflow:Using a while_loop for converting Bitcast cause there is no registered converter for this op.\n",
            "WARNING:tensorflow:Using a while_loop for converting StatelessRandomUniformV2 cause there is no registered converter for this op.\n",
            "WARNING:tensorflow:Using a while_loop for converting ImageProjectiveTransformV3 cause there is no registered converter for this op.\n",
            "WARNING:tensorflow:Using a while_loop for converting RngReadAndSkip cause there is no registered converter for this op.\n",
            "WARNING:tensorflow:Using a while_loop for converting Bitcast cause there is no registered converter for this op.\n",
            "WARNING:tensorflow:Using a while_loop for converting Bitcast cause there is no registered converter for this op.\n",
            "WARNING:tensorflow:Using a while_loop for converting StatelessRandomUniformV2 cause there is no registered converter for this op.\n",
            "WARNING:tensorflow:Using a while_loop for converting RngReadAndSkip cause there is no registered converter for this op.\n",
            "WARNING:tensorflow:Using a while_loop for converting Bitcast cause there is no registered converter for this op.\n",
            "WARNING:tensorflow:Using a while_loop for converting Bitcast cause there is no registered converter for this op.\n",
            "WARNING:tensorflow:Using a while_loop for converting StatelessRandomUniformV2 cause there is no registered converter for this op.\n",
            "WARNING:tensorflow:Using a while_loop for converting ImageProjectiveTransformV3 cause there is no registered converter for this op.\n",
            "WARNING:tensorflow:Using a while_loop for converting RngReadAndSkip cause there is no registered converter for this op.\n",
            "WARNING:tensorflow:Using a while_loop for converting Bitcast cause there is no registered converter for this op.\n",
            "WARNING:tensorflow:Using a while_loop for converting Bitcast cause there is no registered converter for this op.\n",
            "WARNING:tensorflow:Using a while_loop for converting StatelessRandomUniformV2 cause there is no registered converter for this op.\n",
            "WARNING:tensorflow:Using a while_loop for converting ImageProjectiveTransformV3 cause there is no registered converter for this op.\n",
            "WARNING:tensorflow:Using a while_loop for converting RngReadAndSkip cause there is no registered converter for this op.\n",
            "WARNING:tensorflow:Using a while_loop for converting Bitcast cause there is no registered converter for this op.\n",
            "WARNING:tensorflow:Using a while_loop for converting Bitcast cause there is no registered converter for this op.\n",
            "WARNING:tensorflow:Using a while_loop for converting StatelessRandomUniformV2 cause there is no registered converter for this op.\n",
            "WARNING:tensorflow:Using a while_loop for converting RngReadAndSkip cause there is no registered converter for this op.\n",
            "WARNING:tensorflow:Using a while_loop for converting Bitcast cause there is no registered converter for this op.\n",
            "WARNING:tensorflow:Using a while_loop for converting Bitcast cause there is no registered converter for this op.\n",
            "WARNING:tensorflow:Using a while_loop for converting StatelessRandomUniformV2 cause there is no registered converter for this op.\n",
            "WARNING:tensorflow:Using a while_loop for converting ImageProjectiveTransformV3 cause there is no registered converter for this op.\n",
            "WARNING:tensorflow:Using a while_loop for converting RngReadAndSkip cause there is no registered converter for this op.\n",
            "WARNING:tensorflow:Using a while_loop for converting Bitcast cause there is no registered converter for this op.\n",
            "WARNING:tensorflow:Using a while_loop for converting Bitcast cause there is no registered converter for this op.\n",
            "WARNING:tensorflow:Using a while_loop for converting StatelessRandomUniformV2 cause there is no registered converter for this op.\n",
            "WARNING:tensorflow:Using a while_loop for converting ImageProjectiveTransformV3 cause there is no registered converter for this op.\n",
            "WARNING:tensorflow:Using a while_loop for converting RngReadAndSkip cause there is no registered converter for this op.\n",
            "WARNING:tensorflow:Using a while_loop for converting Bitcast cause there is no registered converter for this op.\n",
            "WARNING:tensorflow:Using a while_loop for converting Bitcast cause there is no registered converter for this op.\n",
            "WARNING:tensorflow:Using a while_loop for converting StatelessRandomUniformV2 cause there is no registered converter for this op.\n",
            "WARNING:tensorflow:Using a while_loop for converting RngReadAndSkip cause there is no registered converter for this op.\n",
            "WARNING:tensorflow:Using a while_loop for converting Bitcast cause there is no registered converter for this op.\n",
            "WARNING:tensorflow:Using a while_loop for converting Bitcast cause there is no registered converter for this op.\n",
            "WARNING:tensorflow:Using a while_loop for converting StatelessRandomUniformV2 cause there is no registered converter for this op.\n",
            "WARNING:tensorflow:Using a while_loop for converting ImageProjectiveTransformV3 cause there is no registered converter for this op.\n",
            "WARNING:tensorflow:Using a while_loop for converting RngReadAndSkip cause there is no registered converter for this op.\n",
            "WARNING:tensorflow:Using a while_loop for converting Bitcast cause there is no registered converter for this op.\n",
            "WARNING:tensorflow:Using a while_loop for converting Bitcast cause there is no registered converter for this op.\n",
            "WARNING:tensorflow:Using a while_loop for converting StatelessRandomUniformV2 cause there is no registered converter for this op.\n",
            "WARNING:tensorflow:Using a while_loop for converting ImageProjectiveTransformV3 cause there is no registered converter for this op.\n",
            "WARNING:tensorflow:Using a while_loop for converting RngReadAndSkip cause there is no registered converter for this op.\n",
            "WARNING:tensorflow:Using a while_loop for converting Bitcast cause there is no registered converter for this op.\n",
            "WARNING:tensorflow:Using a while_loop for converting Bitcast cause there is no registered converter for this op.\n",
            "WARNING:tensorflow:Using a while_loop for converting StatelessRandomUniformV2 cause there is no registered converter for this op.\n",
            "WARNING:tensorflow:Using a while_loop for converting RngReadAndSkip cause there is no registered converter for this op.\n",
            "WARNING:tensorflow:Using a while_loop for converting Bitcast cause there is no registered converter for this op.\n",
            "WARNING:tensorflow:Using a while_loop for converting Bitcast cause there is no registered converter for this op.\n",
            "WARNING:tensorflow:Using a while_loop for converting StatelessRandomUniformV2 cause there is no registered converter for this op.\n",
            "WARNING:tensorflow:Using a while_loop for converting ImageProjectiveTransformV3 cause there is no registered converter for this op.\n",
            "WARNING:tensorflow:Using a while_loop for converting RngReadAndSkip cause there is no registered converter for this op.\n",
            "WARNING:tensorflow:Using a while_loop for converting Bitcast cause there is no registered converter for this op.\n",
            "WARNING:tensorflow:Using a while_loop for converting Bitcast cause there is no registered converter for this op.\n",
            "WARNING:tensorflow:Using a while_loop for converting StatelessRandomUniformV2 cause there is no registered converter for this op.\n",
            "WARNING:tensorflow:Using a while_loop for converting ImageProjectiveTransformV3 cause there is no registered converter for this op.\n",
            "WARNING:tensorflow:Using a while_loop for converting RngReadAndSkip cause there is no registered converter for this op.\n",
            "WARNING:tensorflow:Using a while_loop for converting Bitcast cause there is no registered converter for this op.\n",
            "WARNING:tensorflow:Using a while_loop for converting Bitcast cause there is no registered converter for this op.\n",
            "WARNING:tensorflow:Using a while_loop for converting StatelessRandomUniformV2 cause there is no registered converter for this op.\n",
            "WARNING:tensorflow:Using a while_loop for converting RngReadAndSkip cause there is no registered converter for this op.\n",
            "WARNING:tensorflow:Using a while_loop for converting Bitcast cause there is no registered converter for this op.\n",
            "WARNING:tensorflow:Using a while_loop for converting Bitcast cause there is no registered converter for this op.\n",
            "WARNING:tensorflow:Using a while_loop for converting StatelessRandomUniformV2 cause there is no registered converter for this op.\n",
            "WARNING:tensorflow:Using a while_loop for converting ImageProjectiveTransformV3 cause there is no registered converter for this op.\n"
          ]
        },
        {
          "output_type": "stream",
          "name": "stdout",
          "text": [
            "23/23 [==============================] - 145s 3s/step - loss: 0.3653 - accuracy: 0.8685 - val_loss: 7.2551 - val_accuracy: 0.2398 - lr: 0.0010\n",
            "Epoch 2/10\n",
            "23/23 [==============================] - 78s 3s/step - loss: 0.1980 - accuracy: 0.9312 - val_loss: 4.8454 - val_accuracy: 0.4714 - lr: 0.0010\n",
            "Epoch 3/10\n",
            "23/23 [==============================] - 79s 3s/step - loss: 0.2812 - accuracy: 0.9053 - val_loss: 4.2810 - val_accuracy: 0.4387 - lr: 0.0010\n",
            "Epoch 4/10\n",
            "23/23 [==============================] - 80s 3s/step - loss: 0.1516 - accuracy: 0.9510 - val_loss: 3.3709 - val_accuracy: 0.5640 - lr: 0.0010\n",
            "Epoch 5/10\n",
            "23/23 [==============================] - 76s 3s/step - loss: 0.1227 - accuracy: 0.9584 - val_loss: 0.7899 - val_accuracy: 0.8147 - lr: 0.0010\n",
            "Epoch 6/10\n",
            "23/23 [==============================] - 79s 3s/step - loss: 0.0801 - accuracy: 0.9755 - val_loss: 1.8107 - val_accuracy: 0.6812 - lr: 0.0010\n",
            "Epoch 7/10\n",
            "23/23 [==============================] - 79s 3s/step - loss: 0.0517 - accuracy: 0.9809 - val_loss: 1.7061 - val_accuracy: 0.7166 - lr: 0.0010\n",
            "Epoch 8/10\n",
            "23/23 [==============================] - ETA: 0s - loss: 0.0713 - accuracy: 0.9762\n",
            "Epoch 8: ReduceLROnPlateau reducing learning rate to 0.00010000000474974513.\n",
            "23/23 [==============================] - 77s 3s/step - loss: 0.0713 - accuracy: 0.9762 - val_loss: 6.1386 - val_accuracy: 0.3760 - lr: 0.0010\n",
            "Epoch 9/10\n",
            "23/23 [==============================] - 78s 3s/step - loss: 0.0532 - accuracy: 0.9877 - val_loss: 0.5155 - val_accuracy: 0.8638 - lr: 1.0000e-04\n",
            "Epoch 10/10\n",
            "23/23 [==============================] - 79s 3s/step - loss: 0.0352 - accuracy: 0.9857 - val_loss: 0.1127 - val_accuracy: 0.9619 - lr: 1.0000e-04\n",
            "6/6 [==============================] - 3s 468ms/step - loss: 0.1127 - accuracy: 0.9619\n",
            "Results for fold 2\n",
            "Found 1468 files belonging to 30 classes.\n",
            "Found 367 files belonging to 30 classes.\n",
            "Epoch 1/10\n",
            "23/23 [==============================] - 80s 3s/step - loss: 0.0385 - accuracy: 0.9864 - val_loss: 0.0452 - val_accuracy: 0.9864 - lr: 1.0000e-04\n",
            "Epoch 2/10\n",
            "23/23 [==============================] - 79s 3s/step - loss: 0.0259 - accuracy: 0.9898 - val_loss: 0.0370 - val_accuracy: 0.9864 - lr: 1.0000e-04\n",
            "Epoch 3/10\n",
            "23/23 [==============================] - 79s 3s/step - loss: 0.0195 - accuracy: 0.9952 - val_loss: 0.0339 - val_accuracy: 0.9918 - lr: 1.0000e-04\n",
            "Epoch 4/10\n",
            "23/23 [==============================] - 79s 3s/step - loss: 0.0134 - accuracy: 0.9946 - val_loss: 0.0287 - val_accuracy: 0.9918 - lr: 1.0000e-04\n",
            "Epoch 5/10\n",
            "23/23 [==============================] - 80s 3s/step - loss: 0.0134 - accuracy: 0.9966 - val_loss: 0.0281 - val_accuracy: 0.9918 - lr: 1.0000e-04\n",
            "Epoch 6/10\n",
            "23/23 [==============================] - 80s 3s/step - loss: 0.0108 - accuracy: 0.9993 - val_loss: 0.0383 - val_accuracy: 0.9891 - lr: 1.0000e-04\n",
            "Epoch 7/10\n",
            "23/23 [==============================] - 78s 3s/step - loss: 0.0096 - accuracy: 0.9993 - val_loss: 0.0317 - val_accuracy: 0.9891 - lr: 1.0000e-04\n",
            "Epoch 8/10\n",
            "23/23 [==============================] - 80s 3s/step - loss: 0.0081 - accuracy: 0.9986 - val_loss: 0.0269 - val_accuracy: 0.9918 - lr: 1.0000e-04\n",
            "Epoch 9/10\n",
            "23/23 [==============================] - 80s 3s/step - loss: 0.0076 - accuracy: 0.9966 - val_loss: 0.0258 - val_accuracy: 0.9891 - lr: 1.0000e-04\n",
            "Epoch 10/10\n",
            "23/23 [==============================] - 79s 3s/step - loss: 0.0177 - accuracy: 0.9959 - val_loss: 0.0286 - val_accuracy: 0.9891 - lr: 1.0000e-04\n",
            "6/6 [==============================] - 3s 459ms/step - loss: 0.0286 - accuracy: 0.9891\n",
            "Results for fold 3\n",
            "Found 1468 files belonging to 30 classes.\n",
            "Found 367 files belonging to 30 classes.\n",
            "Epoch 1/10\n",
            "23/23 [==============================] - 79s 3s/step - loss: 0.0068 - accuracy: 0.9986 - val_loss: 0.0194 - val_accuracy: 0.9918 - lr: 1.0000e-04\n",
            "Epoch 2/10\n",
            "23/23 [==============================] - 77s 3s/step - loss: 0.0091 - accuracy: 0.9973 - val_loss: 0.0335 - val_accuracy: 0.9864 - lr: 1.0000e-04\n",
            "Epoch 3/10\n",
            "23/23 [==============================] - 78s 3s/step - loss: 0.0111 - accuracy: 0.9959 - val_loss: 0.0525 - val_accuracy: 0.9782 - lr: 1.0000e-04\n",
            "Epoch 4/10\n",
            "23/23 [==============================] - ETA: 0s - loss: 0.0069 - accuracy: 0.9986\n",
            "Epoch 4: ReduceLROnPlateau reducing learning rate to 1.0000000474974514e-05.\n",
            "23/23 [==============================] - 80s 3s/step - loss: 0.0069 - accuracy: 0.9986 - val_loss: 0.0315 - val_accuracy: 0.9864 - lr: 1.0000e-04\n",
            "Epoch 5/10\n",
            "23/23 [==============================] - 79s 3s/step - loss: 0.0077 - accuracy: 0.9980 - val_loss: 0.0357 - val_accuracy: 0.9864 - lr: 1.0000e-05\n",
            "Epoch 6/10\n",
            "23/23 [==============================] - 79s 3s/step - loss: 0.0051 - accuracy: 1.0000 - val_loss: 0.0371 - val_accuracy: 0.9864 - lr: 1.0000e-05\n",
            "Epoch 7/10\n",
            "23/23 [==============================] - ETA: 0s - loss: 0.0064 - accuracy: 0.9986\n",
            "Epoch 7: ReduceLROnPlateau reducing learning rate to 1e-05.\n",
            "23/23 [==============================] - 81s 3s/step - loss: 0.0064 - accuracy: 0.9986 - val_loss: 0.0366 - val_accuracy: 0.9864 - lr: 1.0000e-05\n",
            "Epoch 8/10\n",
            "23/23 [==============================] - 77s 3s/step - loss: 0.0057 - accuracy: 0.9986 - val_loss: 0.0347 - val_accuracy: 0.9864 - lr: 1.0000e-05\n",
            "Epoch 9/10\n",
            "23/23 [==============================] - 79s 3s/step - loss: 0.0042 - accuracy: 1.0000 - val_loss: 0.0336 - val_accuracy: 0.9864 - lr: 1.0000e-05\n",
            "Epoch 10/10\n",
            "23/23 [==============================] - 79s 3s/step - loss: 0.0065 - accuracy: 0.9980 - val_loss: 0.0355 - val_accuracy: 0.9864 - lr: 1.0000e-05\n",
            "6/6 [==============================] - 3s 481ms/step - loss: 0.0355 - accuracy: 0.9864\n",
            "Results for fold 4\n",
            "Found 1468 files belonging to 30 classes.\n",
            "Found 367 files belonging to 30 classes.\n",
            "Epoch 1/10\n",
            "23/23 [==============================] - 79s 3s/step - loss: 0.0050 - accuracy: 0.9986 - val_loss: 0.0347 - val_accuracy: 0.9891 - lr: 1.0000e-05\n",
            "Epoch 2/10\n",
            "23/23 [==============================] - 77s 3s/step - loss: 0.0099 - accuracy: 0.9973 - val_loss: 0.0369 - val_accuracy: 0.9891 - lr: 1.0000e-05\n",
            "Epoch 3/10\n",
            "23/23 [==============================] - 79s 3s/step - loss: 0.0083 - accuracy: 0.9959 - val_loss: 0.0370 - val_accuracy: 0.9891 - lr: 1.0000e-05\n",
            "Epoch 4/10\n",
            "23/23 [==============================] - 78s 3s/step - loss: 0.0058 - accuracy: 0.9986 - val_loss: 0.0352 - val_accuracy: 0.9891 - lr: 1.0000e-05\n",
            "Epoch 5/10\n",
            "23/23 [==============================] - 80s 3s/step - loss: 0.0050 - accuracy: 0.9986 - val_loss: 0.0350 - val_accuracy: 0.9918 - lr: 1.0000e-05\n",
            "Epoch 6/10\n",
            "23/23 [==============================] - 79s 3s/step - loss: 0.0047 - accuracy: 0.9993 - val_loss: 0.0349 - val_accuracy: 0.9918 - lr: 1.0000e-05\n",
            "Epoch 7/10\n",
            "23/23 [==============================] - 78s 3s/step - loss: 0.0070 - accuracy: 0.9973 - val_loss: 0.0344 - val_accuracy: 0.9918 - lr: 1.0000e-05\n",
            "Epoch 8/10\n",
            "23/23 [==============================] - 78s 3s/step - loss: 0.0049 - accuracy: 0.9980 - val_loss: 0.0343 - val_accuracy: 0.9918 - lr: 1.0000e-05\n",
            "Epoch 9/10\n",
            "23/23 [==============================] - 78s 3s/step - loss: 0.0041 - accuracy: 0.9993 - val_loss: 0.0352 - val_accuracy: 0.9918 - lr: 1.0000e-05\n",
            "Epoch 10/10\n",
            "23/23 [==============================] - 78s 3s/step - loss: 0.0030 - accuracy: 1.0000 - val_loss: 0.0332 - val_accuracy: 0.9946 - lr: 1.0000e-05\n",
            "6/6 [==============================] - 3s 457ms/step - loss: 0.0332 - accuracy: 0.9946\n",
            "Results for fold 5\n",
            "Found 1468 files belonging to 30 classes.\n",
            "Found 367 files belonging to 30 classes.\n",
            "Epoch 1/10\n",
            "23/23 [==============================] - 78s 3s/step - loss: 0.0051 - accuracy: 0.9993 - val_loss: 0.0041 - val_accuracy: 1.0000 - lr: 1.0000e-05\n",
            "Epoch 2/10\n",
            "23/23 [==============================] - 78s 3s/step - loss: 0.0035 - accuracy: 0.9993 - val_loss: 0.0042 - val_accuracy: 1.0000 - lr: 1.0000e-05\n",
            "Epoch 3/10\n",
            "23/23 [==============================] - 77s 3s/step - loss: 0.0052 - accuracy: 0.9980 - val_loss: 0.0057 - val_accuracy: 1.0000 - lr: 1.0000e-05\n",
            "Epoch 4/10\n",
            "23/23 [==============================] - 80s 3s/step - loss: 0.0049 - accuracy: 0.9986 - val_loss: 0.0056 - val_accuracy: 1.0000 - lr: 1.0000e-05\n",
            "Epoch 5/10\n",
            "23/23 [==============================] - 77s 3s/step - loss: 0.0044 - accuracy: 0.9993 - val_loss: 0.0049 - val_accuracy: 1.0000 - lr: 1.0000e-05\n",
            "Epoch 6/10\n",
            "23/23 [==============================] - 78s 3s/step - loss: 0.0032 - accuracy: 1.0000 - val_loss: 0.0055 - val_accuracy: 1.0000 - lr: 1.0000e-05\n",
            "Epoch 7/10\n",
            "23/23 [==============================] - 81s 3s/step - loss: 0.0036 - accuracy: 1.0000 - val_loss: 0.0050 - val_accuracy: 1.0000 - lr: 1.0000e-05\n",
            "Epoch 8/10\n",
            "23/23 [==============================] - 76s 3s/step - loss: 0.0041 - accuracy: 0.9993 - val_loss: 0.0047 - val_accuracy: 1.0000 - lr: 1.0000e-05\n",
            "Epoch 9/10\n",
            "23/23 [==============================] - 79s 3s/step - loss: 0.0029 - accuracy: 1.0000 - val_loss: 0.0045 - val_accuracy: 1.0000 - lr: 1.0000e-05\n",
            "Epoch 10/10\n",
            "23/23 [==============================] - 79s 3s/step - loss: 0.0050 - accuracy: 0.9980 - val_loss: 0.0052 - val_accuracy: 1.0000 - lr: 1.0000e-05\n",
            "6/6 [==============================] - 3s 455ms/step - loss: 0.0052 - accuracy: 1.0000\n"
          ]
        }
      ]
    },
    {
      "cell_type": "code",
      "source": [
        "from sklearn.metrics import classification_report, roc_curve, roc_auc_score\n",
        "import pandas as pd\n",
        "import plotly.graph_objects as go\n",
        "import plotly.express as px\n",
        "import matplotlib.pyplot as plt"
      ],
      "metadata": {
        "id": "jJurHyH7k6Ny"
      },
      "execution_count": 81,
      "outputs": []
    },
    {
      "cell_type": "code",
      "source": [
        "plt.title(\"Loss\", fontdict={'fontsize':18})\n",
        "plt.plot(history.history['loss'],label='train')\n",
        "plt.plot(history.history['val_loss'],label='test')\n",
        "plt.legend()\n",
        "plt.show()"
      ],
      "metadata": {
        "id": "TOQlD_ZTko2y",
        "colab": {
          "base_uri": "https://localhost:8080/",
          "height": 285
        },
        "outputId": "d114ffe9-05be-4d16-cbb1-52f788b3d228"
      },
      "execution_count": 82,
      "outputs": [
        {
          "output_type": "display_data",
          "data": {
            "text/plain": [
              "<Figure size 432x288 with 1 Axes>"
            ],
            "image/png": "[encoded data removed]"
          },
          "metadata": {
            "needs_background": "light"
          }
        }
      ]
    },
    {
      "cell_type": "code",
      "source": [
        "plt.title(\"Accuracy\", fontdict={'fontsize':18})\n",
        "plt.plot(history.history['accuracy'],label='train')\n",
        "plt.plot(history.history['val_accuracy'],label='test')\n",
        "plt.legend()\n",
        "plt.show()"
      ],
      "metadata": {
        "id": "7pwYMz2Bkyt5",
        "colab": {
          "base_uri": "https://localhost:8080/",
          "height": 285
        },
        "outputId": "6a4f2805-170d-433b-fb36-49dce4faaeb5"
      },
      "execution_count": 83,
      "outputs": [
        {
          "output_type": "display_data",
          "data": {
            "text/plain": [
              "<Figure size 432x288 with 1 Axes>"
            ],
            "image/png": "[encoded data removed]"
          },
          "metadata": {
            "needs_background": "light"
          }
        }
      ]
    },
    {
      "cell_type": "code",
      "source": [
        "Y_train = []\n",
        "X_train = []\n",
        "for data in train_generator:\n",
        "    X_train.extend(data[0].numpy())\n",
        "    Y_train.extend(data[1].numpy())\n",
        "Y_train = np.array(Y_train)\n",
        "X_train = np.array(X_train)"
      ],
      "metadata": {
        "id": "93F3DoWUk7Oa"
      },
      "execution_count": 84,
      "outputs": []
    },
    {
      "cell_type": "code",
      "source": [
        "y_train_pred_prob = ensemble_model.predict(X_train)\n",
        "y_train_pred = [np.argmax(i) for i in y_train_pred_prob]"
      ],
      "metadata": {
        "id": "IAbUM7JblMA6",
        "colab": {
          "base_uri": "https://localhost:8080/"
        },
        "outputId": "f0e292ea-52dd-4a0a-b702-23a0da19a5ee"
      },
      "execution_count": 85,
      "outputs": [
        {
          "output_type": "stream",
          "name": "stdout",
          "text": [
            "46/46 [==============================] - 13s 208ms/step\n"
          ]
        }
      ]
    },
    {
      "cell_type": "code",
      "source": [
        "y_train_pred_prob.shape"
      ],
      "metadata": {
        "id": "ubgm_cWxlUrD",
        "colab": {
          "base_uri": "https://localhost:8080/"
        },
        "outputId": "307d4cf3-272d-4282-cd70-262a34fb8afb"
      },
      "execution_count": 86,
      "outputs": [
        {
          "output_type": "execute_result",
          "data": {
            "text/plain": [
              "(1468, 30)"
            ]
          },
          "metadata": {},
          "execution_count": 86
        }
      ]
    },
    {
      "cell_type": "code",
      "source": [
        "#function to plot roc-auc curve\n",
        "def roc_auc_curve(y_scores, y_true):\n",
        "    # One hot encode the labels in order to plot them\n",
        "    y_onehot = pd.get_dummies(y_true, columns=classLabels)\n",
        "\n",
        "    # Create an empty figure, and iteratively add new lines\n",
        "    # every time we compute a new class\n",
        "    fig = go.Figure()\n",
        "    fig.add_shape(\n",
        "        type='line', line=dict(dash='dash'),\n",
        "        x0=0, x1=1, y0=0, y1=1\n",
        "    )\n",
        "\n",
        "    for i in range(y_scores.shape[1]):\n",
        "        y_true = y_onehot.iloc[:, i]\n",
        "        y_score = y_scores[:, i]\n",
        "\n",
        "        fpr, tpr, _ = roc_curve(y_true, y_score)\n",
        "        auc_score = roc_auc_score(y_true, y_score)\n",
        "\n",
        "        name = f\"{classLabels[i]} (AUC={auc_score:.2f})\"\n",
        "        fig.add_trace(go.Scatter(x=fpr, y=tpr, name=name, mode='lines'))\n",
        "\n",
        "    fig.update_layout(\n",
        "        title=\"ROC Curve\",\n",
        "        xaxis_title='False Positive Rate',\n",
        "        yaxis_title='True Positive Rate',\n",
        "        yaxis=dict(scaleanchor=\"x\", scaleratio=1),\n",
        "        xaxis=dict(constrain='domain'),\n",
        "        width=900, height=800\n",
        "    )\n",
        "    \n",
        "    return fig"
      ],
      "metadata": {
        "id": "A5Ywk5jrlVYi"
      },
      "execution_count": 87,
      "outputs": []
    },
    {
      "cell_type": "code",
      "source": [
        "import seaborn as sb"
      ],
      "metadata": {
        "id": "YlYX57A4lj1J"
      },
      "execution_count": 88,
      "outputs": []
    },
    {
      "cell_type": "code",
      "source": [
        "plt.figure(figsize=(25,7))\n",
        "sb.heatmap(tf.math.confusion_matrix(labels=Y_train,predictions=y_train_pred),annot=True,fmt='.1f', cmap='hot_r')\n",
        "plt.xlabel('Predicted Values')\n",
        "plt.ylabel('Actual Values')\n",
        "plt.title('Confusion Matrix (Training)')\n",
        "plt.tight_layout()\n",
        "plt.show()"
      ],
      "metadata": {
        "id": "sZZQfWeDl9wq",
        "colab": {
          "base_uri": "https://localhost:8080/",
          "height": 513
        },
        "outputId": "aa5ae145-7c39-4394-a0e1-52a701b4ebaf"
      },
      "execution_count": 89,
      "outputs": [
        {
          "output_type": "display_data",
          "data": {
            "text/plain": [
              "<Figure size 1800x504 with 2 Axes>"
            ],
            "image/png": "[encoded data removed]"
          },
          "metadata": {
            "needs_background": "light"
          }
        }
      ]
    },
    {
      "cell_type": "code",
      "source": [
        "print(\"Classification Report for Training\")\n",
        "print(classification_report(Y_train, y_train_pred))"
      ],
      "metadata": {
        "id": "iLpnqOcGmEks",
        "colab": {
          "base_uri": "https://localhost:8080/"
        },
        "outputId": "dfb2eb99-5abe-442e-d1db-2dd75c810162"
      },
      "execution_count": 90,
      "outputs": [
        {
          "output_type": "stream",
          "name": "stdout",
          "text": [
            "Classification Report for Training\n",
            "              precision    recall  f1-score   support\n",
            "\n",
            "           0       1.00      1.00      1.00        40\n",
            "           1       1.00      0.98      0.99        98\n",
            "           2       1.00      1.00      1.00        45\n",
            "           3       1.00      1.00      1.00        48\n",
            "           4       1.00      0.99      0.99        82\n",
            "           5       1.00      1.00      1.00        27\n",
            "           6       1.00      1.00      1.00        60\n",
            "           7       1.00      1.00      1.00        45\n",
            "           8       1.00      1.00      1.00        40\n",
            "           9       1.00      1.00      1.00        51\n",
            "          10       1.00      1.00      1.00        34\n",
            "          11       0.98      1.00      0.99        57\n",
            "          12       0.91      1.00      0.95        49\n",
            "          13       1.00      1.00      1.00        78\n",
            "          14       0.98      1.00      0.99        62\n",
            "          15       0.98      1.00      0.99        44\n",
            "          16       1.00      1.00      1.00        48\n",
            "          17       1.00      0.98      0.99        50\n",
            "          18       1.00      1.00      1.00        32\n",
            "          19       1.00      1.00      1.00        42\n",
            "          20       1.00      1.00      1.00        38\n",
            "          21       1.00      0.97      0.99        38\n",
            "          22       1.00      1.00      1.00        49\n",
            "          23       0.95      1.00      0.97        52\n",
            "          24       1.00      1.00      1.00        63\n",
            "          25       1.00      1.00      1.00        47\n",
            "          26       1.00      1.00      1.00        31\n",
            "          27       1.00      1.00      1.00        45\n",
            "          28       1.00      1.00      1.00        45\n",
            "          29       1.00      0.79      0.88        28\n",
            "\n",
            "    accuracy                           0.99      1468\n",
            "   macro avg       0.99      0.99      0.99      1468\n",
            "weighted avg       0.99      0.99      0.99      1468\n",
            "\n"
          ]
        }
      ]
    },
    {
      "cell_type": "code",
      "source": [
        "roc_auc_curve(y_train_pred_prob, Y_train)\n",
        "X_test = []\n",
        "y_test = []\n",
        "for data in validation_generator:\n",
        "    X_test.extend(data[0].numpy())\n",
        "    y_test.extend(data[1].numpy())\n",
        "X_test = np.array(X_test)\n",
        "y_test = np.array(y_test)"
      ],
      "metadata": {
        "id": "mu3MhzQnmKR5"
      },
      "execution_count": 91,
      "outputs": []
    },
    {
      "cell_type": "code",
      "source": [
        "y_test_pred_prob = ensemble_model.predict(X_test)\n",
        "y_test_pred = [np.argmax(i) for i in y_test_pred_prob]"
      ],
      "metadata": {
        "id": "peCIJs3KmT5a",
        "colab": {
          "base_uri": "https://localhost:8080/"
        },
        "outputId": "ebf1a9d6-3684-4b65-aefa-ab26927398a2"
      },
      "execution_count": 92,
      "outputs": [
        {
          "output_type": "stream",
          "name": "stdout",
          "text": [
            "12/12 [==============================] - 2s 208ms/step\n"
          ]
        }
      ]
    },
    {
      "cell_type": "code",
      "source": [
        "np.unique(y_test)"
      ],
      "metadata": {
        "id": "an7a0Ymplmh5",
        "colab": {
          "base_uri": "https://localhost:8080/"
        },
        "outputId": "8ca88216-a4b3-4c25-e85b-491b4315ac0b"
      },
      "execution_count": 93,
      "outputs": [
        {
          "output_type": "execute_result",
          "data": {
            "text/plain": [
              "array([ 0,  1,  2,  3,  4,  5,  6,  7,  8,  9, 10, 11, 12, 13, 14, 15, 16,\n",
              "       17, 18, 19, 20, 21, 22, 23, 24, 25, 26, 27, 28, 29], dtype=int32)"
            ]
          },
          "metadata": {},
          "execution_count": 93
        }
      ]
    },
    {
      "cell_type": "code",
      "source": [
        "plt.figure(figsize=(25,7))\n",
        "sb.heatmap(tf.math.confusion_matrix(labels=y_test,predictions=y_test_pred),annot=True,fmt='.1f', cmap='hot_r')\n",
        "plt.xlabel('Predicted Values')\n",
        "plt.ylabel('Actual Values')\n",
        "plt.title('Confusion Matrix')\n",
        "plt.tight_layout()\n",
        "plt.show()"
      ],
      "metadata": {
        "id": "AxCwvhHVk-vY",
        "colab": {
          "base_uri": "https://localhost:8080/",
          "height": 513
        },
        "outputId": "a6be1938-5c48-48e4-819d-e791b1e3c46c"
      },
      "execution_count": 94,
      "outputs": [
        {
          "output_type": "display_data",
          "data": {
            "text/plain": [
              "<Figure size 1800x504 with 2 Axes>"
            ],
            "image/png": "[encoded data removed]"
          },
          "metadata": {
            "needs_background": "light"
          }
        }
      ]
    },
    {
      "cell_type": "code",
      "source": [
        "print(\"Classification Report for Test\")\n",
        "print(classification_report(y_test, y_test_pred))"
      ],
      "metadata": {
        "id": "LFm0u6zSmaGj",
        "colab": {
          "base_uri": "https://localhost:8080/"
        },
        "outputId": "f20ff1e3-7ccb-4578-9b8f-84b5226c08d4"
      },
      "execution_count": 95,
      "outputs": [
        {
          "output_type": "stream",
          "name": "stdout",
          "text": [
            "Classification Report for Test\n",
            "              precision    recall  f1-score   support\n",
            "\n",
            "           0       1.00      1.00      1.00        10\n",
            "           1       1.00      1.00      1.00        24\n",
            "           2       1.00      1.00      1.00        11\n",
            "           3       1.00      1.00      1.00        12\n",
            "           4       1.00      1.00      1.00        21\n",
            "           5       1.00      1.00      1.00         7\n",
            "           6       1.00      1.00      1.00        14\n",
            "           7       1.00      1.00      1.00        12\n",
            "           8       1.00      1.00      1.00        10\n",
            "           9       1.00      1.00      1.00        12\n",
            "          10       1.00      1.00      1.00         9\n",
            "          11       1.00      1.00      1.00        14\n",
            "          12       1.00      1.00      1.00        13\n",
            "          13       1.00      1.00      1.00        19\n",
            "          14       1.00      1.00      1.00        15\n",
            "          15       1.00      1.00      1.00        12\n",
            "          16       1.00      1.00      1.00        12\n",
            "          17       1.00      1.00      1.00        12\n",
            "          18       1.00      1.00      1.00         8\n",
            "          19       1.00      1.00      1.00        10\n",
            "          20       1.00      1.00      1.00        10\n",
            "          21       1.00      1.00      1.00        10\n",
            "          22       1.00      1.00      1.00        12\n",
            "          23       1.00      1.00      1.00        13\n",
            "          24       1.00      1.00      1.00        16\n",
            "          25       1.00      1.00      1.00        11\n",
            "          26       1.00      1.00      1.00         8\n",
            "          27       1.00      1.00      1.00        11\n",
            "          28       1.00      1.00      1.00        11\n",
            "          29       1.00      1.00      1.00         8\n",
            "\n",
            "    accuracy                           1.00       367\n",
            "   macro avg       1.00      1.00      1.00       367\n",
            "weighted avg       1.00      1.00      1.00       367\n",
            "\n"
          ]
        }
      ]
    },
    {
      "cell_type": "code",
      "source": [
        "roc_auc_curve(y_test_pred_prob, y_test)"
      ],
      "metadata": {
        "id": "LGL2Ta5xmf5r",
        "colab": {
          "base_uri": "https://localhost:8080/",
          "height": 817
        },
        "outputId": "d9495ca5-12ea-4250-e28c-1dff66801b68"
      },
      "execution_count": 96,
      "outputs": [
        {
          "output_type": "display_data",
          "data": {
            "text/html": [
              "<html>\n",
              "<head><meta charset=\"utf-8\" /></head>\n",
              "<body>\n",
              "    <div>            <script src=\"https://cdnjs.cloudflare.com/ajax/libs/mathjax/2.7.5/MathJax.js?config=TeX-AMS-MML_SVG\"></script><script type=\"text/javascript\">if (window.MathJax) {MathJax.Hub.Config({SVG: {font: \"STIX-Web\"}});}</script>                <script type=\"text/javascript\">window.PlotlyConfig = {MathJaxConfig: 'local'};</script>\n",
              "        <script src=\"https://cdn.plot.ly/plotly-2.8.3.min.js\"></script>                <div id=\"0763ce33-a5e6-4b07-8bf9-47c6682f8ac5\" class=\"plotly-graph-div\" style=\"height:800px; width:900px;\"></div>            <script type=\"text/javascript\">                                    window.PLOTLYENV=window.PLOTLYENV || {};                                    if (document.getElementById(\"0763ce33-a5e6-4b07-8bf9-47c6682f8ac5\")) {                    Plotly.newPlot(                        \"0763ce33-a5e6-4b07-8bf9-47c6682f8ac5\",                        [{\"mode\":\"lines\",\"name\":\"Alpinia Galanga (Rasna) (AUC=1.00)\",\"x\":[0.0,0.0,0.0,1.0],\"y\":[0.0,0.1,1.0,1.0],\"type\":\"scatter\"},{\"mode\":\"lines\",\"name\":\"Amaranthus Viridis (Arive-Dantu) (AUC=1.00)\",\"x\":[0.0,0.0,0.0,1.0],\"y\":[0.0,0.5416666666666666,1.0,1.0],\"type\":\"scatter\"},{\"mode\":\"lines\",\"name\":\"Artocarpus Heterophyllus (Jackfruit) (AUC=1.00)\",\"x\":[0.0,0.0,0.0,1.0],\"y\":[0.0,0.09090909090909091,1.0,1.0],\"type\":\"scatter\"},{\"mode\":\"lines\",\"name\":\"Azadirachta Indica (Neem) (AUC=1.00)\",\"x\":[0.0,0.0,0.0,1.0],\"y\":[0.0,0.8333333333333334,1.0,1.0],\"type\":\"scatter\"},{\"mode\":\"lines\",\"name\":\"Basella Alba (Basale) (AUC=1.00)\",\"x\":[0.0,0.0,0.0,0.0,0.0,0.0,0.0,1.0],\"y\":[0.0,0.047619047619047616,0.38095238095238093,0.47619047619047616,0.5238095238095238,0.6190476190476191,1.0,1.0],\"type\":\"scatter\"},{\"mode\":\"lines\",\"name\":\"Brassica Juncea (Indian Mustard) (AUC=1.00)\",\"x\":[0.0,0.0,0.0,1.0],\"y\":[0.0,0.2857142857142857,1.0,1.0],\"type\":\"scatter\"},{\"mode\":\"lines\",\"name\":\"Carissa Carandas (Karanda) (AUC=1.00)\",\"x\":[0.0,0.0,0.0,1.0],\"y\":[0.0,0.07142857142857142,1.0,1.0],\"type\":\"scatter\"},{\"mode\":\"lines\",\"name\":\"Citrus Limon (Lemon) (AUC=1.00)\",\"x\":[0.0,0.0,0.0,1.0],\"y\":[0.0,0.25,1.0,1.0],\"type\":\"scatter\"},{\"mode\":\"lines\",\"name\":\"Ficus Auriculata (Roxburgh fig) (AUC=1.00)\",\"x\":[0.0,0.0,0.0,1.0],\"y\":[0.0,0.9,1.0,1.0],\"type\":\"scatter\"},{\"mode\":\"lines\",\"name\":\"Ficus Religiosa (Peepal Tree) (AUC=1.00)\",\"x\":[0.0,0.0,0.0,1.0],\"y\":[0.0,0.9166666666666666,1.0,1.0],\"type\":\"scatter\"},{\"mode\":\"lines\",\"name\":\"Hibiscus Rosa-sinensis (AUC=1.00)\",\"x\":[0.0,0.0,0.0,1.0],\"y\":[0.0,0.1111111111111111,1.0,1.0],\"type\":\"scatter\"},{\"mode\":\"lines\",\"name\":\"Jasminum (Jasmine) (AUC=1.00)\",\"x\":[0.0,0.0,0.0,0.0,0.0,1.0],\"y\":[0.0,0.07142857142857142,0.14285714285714285,0.42857142857142855,1.0,1.0],\"type\":\"scatter\"},{\"mode\":\"lines\",\"name\":\"Mangifera Indica (Mango) (AUC=1.00)\",\"x\":[0.0,0.0,0.0,0.0,1.0],\"y\":[0.0,0.07692307692307693,0.6153846153846154,1.0,1.0],\"type\":\"scatter\"},{\"mode\":\"lines\",\"name\":\"Mentha (Mint) (AUC=1.00)\",\"x\":[0.0,0.0,0.0,0.0,0.0,1.0],\"y\":[0.0,0.05263157894736842,0.47368421052631576,0.5789473684210527,1.0,1.0],\"type\":\"scatter\"},{\"mode\":\"lines\",\"name\":\"Moringa Oleifera (Drumstick) (AUC=1.00)\",\"x\":[0.0,0.0,0.0,1.0],\"y\":[0.0,0.06666666666666667,1.0,1.0],\"type\":\"scatter\"},{\"mode\":\"lines\",\"name\":\"Muntingia Calabura (Jamaica Cherry-Gasagase) (AUC=1.00)\",\"x\":[0.0,0.0,0.0,1.0],\"y\":[0.0,0.9166666666666666,1.0,1.0],\"type\":\"scatter\"},{\"mode\":\"lines\",\"name\":\"Murraya Koenigii (Curry) (AUC=1.00)\",\"x\":[0.0,0.0,0.0,1.0],\"y\":[0.0,0.08333333333333333,1.0,1.0],\"type\":\"scatter\"},{\"mode\":\"lines\",\"name\":\"Nerium Oleander (Oleander) (AUC=1.00)\",\"x\":[0.0,0.0,0.0,1.0],\"y\":[0.0,0.08333333333333333,1.0,1.0],\"type\":\"scatter\"},{\"mode\":\"lines\",\"name\":\"Nyctanthes Arbor-tristis (Parijata) (AUC=1.00)\",\"x\":[0.0,0.0,1.0],\"y\":[0.0,1.0,1.0],\"type\":\"scatter\"},{\"mode\":\"lines\",\"name\":\"Ocimum Tenuiflorum (Tulsi) (AUC=1.00)\",\"x\":[0.0,0.0,0.0,1.0],\"y\":[0.0,0.1,1.0,1.0],\"type\":\"scatter\"},{\"mode\":\"lines\",\"name\":\"Piper Betle (Betel) (AUC=1.00)\",\"x\":[0.0,0.0,0.0,1.0],\"y\":[0.0,0.1,1.0,1.0],\"type\":\"scatter\"},{\"mode\":\"lines\",\"name\":\"Plectranthus Amboinicus (Mexican Mint) (AUC=1.00)\",\"x\":[0.0,0.0,0.0,1.0],\"y\":[0.0,0.5,1.0,1.0],\"type\":\"scatter\"},{\"mode\":\"lines\",\"name\":\"Pongamia Pinnata (Indian Beech) (AUC=1.00)\",\"x\":[0.0,0.0,0.0,1.0],\"y\":[0.0,0.16666666666666666,1.0,1.0],\"type\":\"scatter\"},{\"mode\":\"lines\",\"name\":\"Psidium Guajava (Guava) (AUC=1.00)\",\"x\":[0.0,0.0,1.0],\"y\":[0.0,1.0,1.0],\"type\":\"scatter\"},{\"mode\":\"lines\",\"name\":\"Punica Granatum (Pomegranate) (AUC=1.00)\",\"x\":[0.0,0.0,0.0,0.0,0.0,0.0,0.0,1.0],\"y\":[0.0,0.25,0.3125,0.4375,0.625,0.75,1.0,1.0],\"type\":\"scatter\"},{\"mode\":\"lines\",\"name\":\"Santalum Album (Sandalwood) (AUC=1.00)\",\"x\":[0.0,0.0,0.0,1.0],\"y\":[0.0,0.09090909090909091,1.0,1.0],\"type\":\"scatter\"},{\"mode\":\"lines\",\"name\":\"Syzygium Cumini (Jamun) (AUC=1.00)\",\"x\":[0.0,0.0,0.0,1.0],\"y\":[0.0,0.125,1.0,1.0],\"type\":\"scatter\"},{\"mode\":\"lines\",\"name\":\"Syzygium Jambos (Rose Apple) (AUC=1.00)\",\"x\":[0.0,0.0,0.0,1.0],\"y\":[0.0,0.09090909090909091,1.0,1.0],\"type\":\"scatter\"},{\"mode\":\"lines\",\"name\":\"Tabernaemontana Divaricata (Crape Jasmine) (AUC=1.00)\",\"x\":[0.0,0.0,0.0,1.0],\"y\":[0.0,0.09090909090909091,1.0,1.0],\"type\":\"scatter\"},{\"mode\":\"lines\",\"name\":\"Trigonella Foenum-graecum (Fenugreek) (AUC=1.00)\",\"x\":[0.0,0.0,0.0,1.0],\"y\":[0.0,0.125,1.0,1.0],\"type\":\"scatter\"}],                        {\"template\":{\"data\":{\"bar\":[{\"error_x\":{\"color\":\"#2a3f5f\"},\"error_y\":{\"color\":\"#2a3f5f\"},\"marker\":{\"line\":{\"color\":\"#E5ECF6\",\"width\":0.5},\"pattern\":{\"fillmode\":\"overlay\",\"size\":10,\"solidity\":0.2}},\"type\":\"bar\"}],\"barpolar\":[{\"marker\":{\"line\":{\"color\":\"#E5ECF6\",\"width\":0.5},\"pattern\":{\"fillmode\":\"overlay\",\"size\":10,\"solidity\":0.2}},\"type\":\"barpolar\"}],\"carpet\":[{\"aaxis\":{\"endlinecolor\":\"#2a3f5f\",\"gridcolor\":\"white\",\"linecolor\":\"white\",\"minorgridcolor\":\"white\",\"startlinecolor\":\"#2a3f5f\"},\"baxis\":{\"endlinecolor\":\"#2a3f5f\",\"gridcolor\":\"white\",\"linecolor\":\"white\",\"minorgridcolor\":\"white\",\"startlinecolor\":\"#2a3f5f\"},\"type\":\"carpet\"}],\"choropleth\":[{\"colorbar\":{\"outlinewidth\":0,\"ticks\":\"\"},\"type\":\"choropleth\"}],\"contour\":[{\"colorbar\":{\"outlinewidth\":0,\"ticks\":\"\"},\"colorscale\":[[0.0,\"#0d0887\"],[0.1111111111111111,\"#46039f\"],[0.2222222222222222,\"#7201a8\"],[0.3333333333333333,\"#9c179e\"],[0.4444444444444444,\"#bd3786\"],[0.5555555555555556,\"#d8576b\"],[0.6666666666666666,\"#ed7953\"],[0.7777777777777778,\"#fb9f3a\"],[0.8888888888888888,\"#fdca26\"],[1.0,\"#f0f921\"]],\"type\":\"contour\"}],\"contourcarpet\":[{\"colorbar\":{\"outlinewidth\":0,\"ticks\":\"\"},\"type\":\"contourcarpet\"}],\"heatmap\":[{\"colorbar\":{\"outlinewidth\":0,\"ticks\":\"\"},\"colorscale\":[[0.0,\"#0d0887\"],[0.1111111111111111,\"#46039f\"],[0.2222222222222222,\"#7201a8\"],[0.3333333333333333,\"#9c179e\"],[0.4444444444444444,\"#bd3786\"],[0.5555555555555556,\"#d8576b\"],[0.6666666666666666,\"#ed7953\"],[0.7777777777777778,\"#fb9f3a\"],[0.8888888888888888,\"#fdca26\"],[1.0,\"#f0f921\"]],\"type\":\"heatmap\"}],\"heatmapgl\":[{\"colorbar\":{\"outlinewidth\":0,\"ticks\":\"\"},\"colorscale\":[[0.0,\"#0d0887\"],[0.1111111111111111,\"#46039f\"],[0.2222222222222222,\"#7201a8\"],[0.3333333333333333,\"#9c179e\"],[0.4444444444444444,\"#bd3786\"],[0.5555555555555556,\"#d8576b\"],[0.6666666666666666,\"#ed7953\"],[0.7777777777777778,\"#fb9f3a\"],[0.8888888888888888,\"#fdca26\"],[1.0,\"#f0f921\"]],\"type\":\"heatmapgl\"}],\"histogram\":[{\"marker\":{\"pattern\":{\"fillmode\":\"overlay\",\"size\":10,\"solidity\":0.2}},\"type\":\"histogram\"}],\"histogram2d\":[{\"colorbar\":{\"outlinewidth\":0,\"ticks\":\"\"},\"colorscale\":[[0.0,\"#0d0887\"],[0.1111111111111111,\"#46039f\"],[0.2222222222222222,\"#7201a8\"],[0.3333333333333333,\"#9c179e\"],[0.4444444444444444,\"#bd3786\"],[0.5555555555555556,\"#d8576b\"],[0.6666666666666666,\"#ed7953\"],[0.7777777777777778,\"#fb9f3a\"],[0.8888888888888888,\"#fdca26\"],[1.0,\"#f0f921\"]],\"type\":\"histogram2d\"}],\"histogram2dcontour\":[{\"colorbar\":{\"outlinewidth\":0,\"ticks\":\"\"},\"colorscale\":[[0.0,\"#0d0887\"],[0.1111111111111111,\"#46039f\"],[0.2222222222222222,\"#7201a8\"],[0.3333333333333333,\"#9c179e\"],[0.4444444444444444,\"#bd3786\"],[0.5555555555555556,\"#d8576b\"],[0.6666666666666666,\"#ed7953\"],[0.7777777777777778,\"#fb9f3a\"],[0.8888888888888888,\"#fdca26\"],[1.0,\"#f0f921\"]],\"type\":\"histogram2dcontour\"}],\"mesh3d\":[{\"colorbar\":{\"outlinewidth\":0,\"ticks\":\"\"},\"type\":\"mesh3d\"}],\"parcoords\":[{\"line\":{\"colorbar\":{\"outlinewidth\":0,\"ticks\":\"\"}},\"type\":\"parcoords\"}],\"pie\":[{\"automargin\":true,\"type\":\"pie\"}],\"scatter\":[{\"marker\":{\"colorbar\":{\"outlinewidth\":0,\"ticks\":\"\"}},\"type\":\"scatter\"}],\"scatter3d\":[{\"line\":{\"colorbar\":{\"outlinewidth\":0,\"ticks\":\"\"}},\"marker\":{\"colorbar\":{\"outlinewidth\":0,\"ticks\":\"\"}},\"type\":\"scatter3d\"}],\"scattercarpet\":[{\"marker\":{\"colorbar\":{\"outlinewidth\":0,\"ticks\":\"\"}},\"type\":\"scattercarpet\"}],\"scattergeo\":[{\"marker\":{\"colorbar\":{\"outlinewidth\":0,\"ticks\":\"\"}},\"type\":\"scattergeo\"}],\"scattergl\":[{\"marker\":{\"colorbar\":{\"outlinewidth\":0,\"ticks\":\"\"}},\"type\":\"scattergl\"}],\"scattermapbox\":[{\"marker\":{\"colorbar\":{\"outlinewidth\":0,\"ticks\":\"\"}},\"type\":\"scattermapbox\"}],\"scatterpolar\":[{\"marker\":{\"colorbar\":{\"outlinewidth\":0,\"ticks\":\"\"}},\"type\":\"scatterpolar\"}],\"scatterpolargl\":[{\"marker\":{\"colorbar\":{\"outlinewidth\":0,\"ticks\":\"\"}},\"type\":\"scatterpolargl\"}],\"scatterternary\":[{\"marker\":{\"colorbar\":{\"outlinewidth\":0,\"ticks\":\"\"}},\"type\":\"scatterternary\"}],\"surface\":[{\"colorbar\":{\"outlinewidth\":0,\"ticks\":\"\"},\"colorscale\":[[0.0,\"#0d0887\"],[0.1111111111111111,\"#46039f\"],[0.2222222222222222,\"#7201a8\"],[0.3333333333333333,\"#9c179e\"],[0.4444444444444444,\"#bd3786\"],[0.5555555555555556,\"#d8576b\"],[0.6666666666666666,\"#ed7953\"],[0.7777777777777778,\"#fb9f3a\"],[0.8888888888888888,\"#fdca26\"],[1.0,\"#f0f921\"]],\"type\":\"surface\"}],\"table\":[{\"cells\":{\"fill\":{\"color\":\"#EBF0F8\"},\"line\":{\"color\":\"white\"}},\"header\":{\"fill\":{\"color\":\"#C8D4E3\"},\"line\":{\"color\":\"white\"}},\"type\":\"table\"}]},\"layout\":{\"annotationdefaults\":{\"arrowcolor\":\"#2a3f5f\",\"arrowhead\":0,\"arrowwidth\":1},\"autotypenumbers\":\"strict\",\"coloraxis\":{\"colorbar\":{\"outlinewidth\":0,\"ticks\":\"\"}},\"colorscale\":{\"diverging\":[[0,\"#8e0152\"],[0.1,\"#c51b7d\"],[0.2,\"#de77ae\"],[0.3,\"#f1b6da\"],[0.4,\"#fde0ef\"],[0.5,\"#f7f7f7\"],[0.6,\"#e6f5d0\"],[0.7,\"#b8e186\"],[0.8,\"#7fbc41\"],[0.9,\"#4d9221\"],[1,\"#276419\"]],\"sequential\":[[0.0,\"#0d0887\"],[0.1111111111111111,\"#46039f\"],[0.2222222222222222,\"#7201a8\"],[0.3333333333333333,\"#9c179e\"],[0.4444444444444444,\"#bd3786\"],[0.5555555555555556,\"#d8576b\"],[0.6666666666666666,\"#ed7953\"],[0.7777777777777778,\"#fb9f3a\"],[0.8888888888888888,\"#fdca26\"],[1.0,\"#f0f921\"]],\"sequentialminus\":[[0.0,\"#0d0887\"],[0.1111111111111111,\"#46039f\"],[0.2222222222222222,\"#7201a8\"],[0.3333333333333333,\"#9c179e\"],[0.4444444444444444,\"#bd3786\"],[0.5555555555555556,\"#d8576b\"],[0.6666666666666666,\"#ed7953\"],[0.7777777777777778,\"#fb9f3a\"],[0.8888888888888888,\"#fdca26\"],[1.0,\"#f0f921\"]]},\"colorway\":[\"#636efa\",\"#EF553B\",\"#00cc96\",\"#ab63fa\",\"#FFA15A\",\"#19d3f3\",\"#FF6692\",\"#B6E880\",\"#FF97FF\",\"#FECB52\"],\"font\":{\"color\":\"#2a3f5f\"},\"geo\":{\"bgcolor\":\"white\",\"lakecolor\":\"white\",\"landcolor\":\"#E5ECF6\",\"showlakes\":true,\"showland\":true,\"subunitcolor\":\"white\"},\"hoverlabel\":{\"align\":\"left\"},\"hovermode\":\"closest\",\"mapbox\":{\"style\":\"light\"},\"paper_bgcolor\":\"white\",\"plot_bgcolor\":\"#E5ECF6\",\"polar\":{\"angularaxis\":{\"gridcolor\":\"white\",\"linecolor\":\"white\",\"ticks\":\"\"},\"bgcolor\":\"#E5ECF6\",\"radialaxis\":{\"gridcolor\":\"white\",\"linecolor\":\"white\",\"ticks\":\"\"}},\"scene\":{\"xaxis\":{\"backgroundcolor\":\"#E5ECF6\",\"gridcolor\":\"white\",\"gridwidth\":2,\"linecolor\":\"white\",\"showbackground\":true,\"ticks\":\"\",\"zerolinecolor\":\"white\"},\"yaxis\":{\"backgroundcolor\":\"#E5ECF6\",\"gridcolor\":\"white\",\"gridwidth\":2,\"linecolor\":\"white\",\"showbackground\":true,\"ticks\":\"\",\"zerolinecolor\":\"white\"},\"zaxis\":{\"backgroundcolor\":\"#E5ECF6\",\"gridcolor\":\"white\",\"gridwidth\":2,\"linecolor\":\"white\",\"showbackground\":true,\"ticks\":\"\",\"zerolinecolor\":\"white\"}},\"shapedefaults\":{\"line\":{\"color\":\"#2a3f5f\"}},\"ternary\":{\"aaxis\":{\"gridcolor\":\"white\",\"linecolor\":\"white\",\"ticks\":\"\"},\"baxis\":{\"gridcolor\":\"white\",\"linecolor\":\"white\",\"ticks\":\"\"},\"bgcolor\":\"#E5ECF6\",\"caxis\":{\"gridcolor\":\"white\",\"linecolor\":\"white\",\"ticks\":\"\"}},\"title\":{\"x\":0.05},\"xaxis\":{\"automargin\":true,\"gridcolor\":\"white\",\"linecolor\":\"white\",\"ticks\":\"\",\"title\":{\"standoff\":15},\"zerolinecolor\":\"white\",\"zerolinewidth\":2},\"yaxis\":{\"automargin\":true,\"gridcolor\":\"white\",\"linecolor\":\"white\",\"ticks\":\"\",\"title\":{\"standoff\":15},\"zerolinecolor\":\"white\",\"zerolinewidth\":2}}},\"shapes\":[{\"line\":{\"dash\":\"dash\"},\"type\":\"line\",\"x0\":0,\"x1\":1,\"y0\":0,\"y1\":1}],\"yaxis\":{\"title\":{\"text\":\"True Positive Rate\"},\"scaleanchor\":\"x\",\"scaleratio\":1},\"xaxis\":{\"title\":{\"text\":\"False Positive Rate\"},\"constrain\":\"domain\"},\"title\":{\"text\":\"ROC Curve\"},\"width\":900,\"height\":800},                        {\"responsive\": true}                    ).then(function(){\n",
              "                            \n",
              "var gd = document.getElementById('0763ce33-a5e6-4b07-8bf9-47c6682f8ac5');\n",
              "var x = new MutationObserver(function (mutations, observer) {{\n",
              "        var display = window.getComputedStyle(gd).display;\n",
              "        if (!display || display === 'none') {{\n",
              "            console.log([gd, 'removed!']);\n",
              "            Plotly.purge(gd);\n",
              "            observer.disconnect();\n",
              "        }}\n",
              "}});\n",
              "\n",
              "// Listen for the removal of the full notebook cells\n",
              "var notebookContainer = gd.closest('#notebook-container');\n",
              "if (notebookContainer) {{\n",
              "    x.observe(notebookContainer, {childList: true});\n",
              "}}\n",
              "\n",
              "// Listen for the clearing of the current output cell\n",
              "var outputEl = gd.closest('.output');\n",
              "if (outputEl) {{\n",
              "    x.observe(outputEl, {childList: true});\n",
              "}}\n",
              "\n",
              "                        })                };                            </script>        </div>\n",
              "</body>\n",
              "</html>"
            ]
          },
          "metadata": {}
        }
      ]
    },
    {
      "cell_type": "code",
      "source": [
        "from tensorflow.keras.models import save_model\n"
      ],
      "metadata": {
        "id": "AymS4krnmhuC"
      },
      "execution_count": 97,
      "outputs": []
    },
    {
      "cell_type": "code",
      "source": [
        "#MODEL_FILENAMEs=root_path+\"model_5fold_Xception03.h5\"\n",
        "#model.save(MODEL_FILENAMEs)"
      ],
      "metadata": {
        "id": "Bp4G0LZqm0Sq"
      },
      "execution_count": 98,
      "outputs": []
    },
    {
      "cell_type": "code",
      "source": [
        "MODEL_FILENAMEs=root_path+\"model_5fold_ensemble_0103_316.h5\"\n",
        "ensemble_model.save(MODEL_FILENAMEs)"
      ],
      "metadata": {
        "id": "_QvPqbFBMiHS",
        "colab": {
          "base_uri": "https://localhost:8080/"
        },
        "outputId": "3cfa8500-54e6-479b-9102-92e223c2dff0"
      },
      "execution_count": 99,
      "outputs": [
        {
          "output_type": "stream",
          "name": "stderr",
          "text": [
            "WARNING:tensorflow:Found duplicated `Variable`s in Model's `weights`. This is usually caused by `Variable`s being shared by Layers in the Model. These `Variable`s will be treated as separate `Variable`s when the Model is restored. To avoid this, please save with `save_format=\"tf\"`.\n"
          ]
        }
      ]
    },
    {
      "cell_type": "code",
      "source": [
        "MODEL_FILENAMEs=root_path+\"model_5fold_ensemble_0103_316.hdf5\"\n",
        "ensemble_model.save(MODEL_FILENAMEs)"
      ],
      "metadata": {
        "id": "vSoeO7QSCYG2",
        "colab": {
          "base_uri": "https://localhost:8080/"
        },
        "outputId": "96157bc3-e657-47b0-d036-fb1b9d9d26ef"
      },
      "execution_count": 100,
      "outputs": [
        {
          "output_type": "stream",
          "name": "stderr",
          "text": [
            "WARNING:tensorflow:Found duplicated `Variable`s in Model's `weights`. This is usually caused by `Variable`s being shared by Layers in the Model. These `Variable`s will be treated as separate `Variable`s when the Model is restored. To avoid this, please save with `save_format=\"tf\"`.\n"
          ]
        }
      ]
    }
  ]
}